{
  "nbformat": 4,
  "nbformat_minor": 0,
  "metadata": {
    "colab": {
      "name": "Copy of Lesson_five.ipynb",
      "provenance": [],
      "collapsed_sections": [],
      "toc_visible": true,
      "include_colab_link": true
    },
    "kernelspec": {
      "name": "python3",
      "display_name": "Python 3"
    }
  },
  "cells": [
    {
      "cell_type": "markdown",
      "metadata": {
        "id": "view-in-github",
        "colab_type": "text"
      },
      "source": [
        "<a href=\"https://colab.research.google.com/github/unt-iialab/UNT-INFO5717-Fall2019/blob/master/Lesson_five-chen.ipynb\" target=\"_parent\"><img src=\"https://colab.research.google.com/assets/colab-badge.svg\" alt=\"Open In Colab\"/></a>"
      ]
    },
    {
      "cell_type": "markdown",
      "metadata": {
        "id": "PUSnKn-cFzQT",
        "colab_type": "text"
      },
      "source": [
        "# Lesson 5 - Data Structures: List, Tuples, Dictionaries, and sets"
      ]
    },
    {
      "cell_type": "markdown",
      "metadata": {
        "id": "yO728Wm0GIHU",
        "colab_type": "text"
      },
      "source": [
        "# 1. Lists\n",
        "\n",
        "Lists can be thought of the most general version of a sequence in Python. In this section we will learn about:\n",
        "\n",
        "1.   Creating lists\n",
        "2.   Indexing and Slicing Lists\n",
        "3.   Basic List Methods\n",
        "4.   Nesting Lists\n",
        "5.   Introduction to List Comprehensions"
      ]
    },
    {
      "cell_type": "markdown",
      "metadata": {
        "id": "YaRodLpSHRJV",
        "colab_type": "text"
      },
      "source": [
        "# 1.1 Creating lists\n",
        "\n",
        "Lists are constructed with brackets [] and commas separating every element in the list.\n",
        "\n",
        "Let's go ahead and see how we can construct lists!"
      ]
    },
    {
      "cell_type": "code",
      "metadata": {
        "id": "LUgdbH6aHTK4",
        "colab_type": "code",
        "outputId": "f9c64488-997a-40cf-b16c-79ab66fc7266",
        "colab": {
          "base_uri": "https://localhost:8080/",
          "height": 35
        }
      },
      "source": [
        "# Assign a list to an variable named my_list\n",
        "my_list = [1,2,3]\n",
        "print(my_list)"
      ],
      "execution_count": 0,
      "outputs": [
        {
          "output_type": "stream",
          "text": [
            "[1, 2, 3]\n"
          ],
          "name": "stdout"
        }
      ]
    },
    {
      "cell_type": "markdown",
      "metadata": {
        "id": "ePSYsGNmHbhh",
        "colab_type": "text"
      },
      "source": [
        "We just created a list of integers, but lists can actually hold different object types. For example:\n",
        "\n"
      ]
    },
    {
      "cell_type": "code",
      "metadata": {
        "id": "xot68pI9HdK-",
        "colab_type": "code",
        "outputId": "8b30ad97-7a7e-405a-9cc0-0ecc8a52294f",
        "colab": {
          "base_uri": "https://localhost:8080/",
          "height": 35
        }
      },
      "source": [
        "my_list = ['A string',23,100.232,'o']\n",
        "print(my_list)"
      ],
      "execution_count": 0,
      "outputs": [
        {
          "output_type": "stream",
          "text": [
            "['A string', 23, 100.232, 'o']\n"
          ],
          "name": "stdout"
        }
      ]
    },
    {
      "cell_type": "markdown",
      "metadata": {
        "id": "TDOFVa4uHoTp",
        "colab_type": "text"
      },
      "source": [
        "Just like strings, the len() function will tell you how many items are in the sequence of the list.\n"
      ]
    },
    {
      "cell_type": "code",
      "metadata": {
        "id": "MV8DuO-nHpXe",
        "colab_type": "code",
        "outputId": "cf66418b-69d3-45e0-fab6-c689b115e17c",
        "colab": {
          "base_uri": "https://localhost:8080/",
          "height": 35
        }
      },
      "source": [
        "len(my_list)"
      ],
      "execution_count": 0,
      "outputs": [
        {
          "output_type": "execute_result",
          "data": {
            "text/plain": [
              "4"
            ]
          },
          "metadata": {
            "tags": []
          },
          "execution_count": 6
        }
      ]
    },
    {
      "cell_type": "markdown",
      "metadata": {
        "id": "Occq_oOlH4Rg",
        "colab_type": "text"
      },
      "source": [
        "# 1.2 Indexing and Slicing\n",
        "Indexing and slicing work just like in strings. Let's make a new list to remind ourselves of how this works:\n"
      ]
    },
    {
      "cell_type": "code",
      "metadata": {
        "id": "O49sae6kIAuJ",
        "colab_type": "code",
        "outputId": "b42b69af-5477-417d-a943-d91b9047e795",
        "colab": {
          "base_uri": "https://localhost:8080/",
          "height": 34
        }
      },
      "source": [
        "my_list = ['one','two','three',4,5]\n",
        "# Grab element at index 0\n",
        "my_list[0]"
      ],
      "execution_count": 0,
      "outputs": [
        {
          "output_type": "execute_result",
          "data": {
            "text/plain": [
              "'one'"
            ]
          },
          "metadata": {
            "tags": []
          },
          "execution_count": 2
        }
      ]
    },
    {
      "cell_type": "code",
      "metadata": {
        "id": "Pxv9uPk9IH1Z",
        "colab_type": "code",
        "outputId": "37566dfe-e8fd-4cef-df20-9dcf517ec188",
        "colab": {
          "base_uri": "https://localhost:8080/",
          "height": 34
        }
      },
      "source": [
        "# Grab index 1 and everything past it\n",
        "my_list[1:]"
      ],
      "execution_count": 0,
      "outputs": [
        {
          "output_type": "execute_result",
          "data": {
            "text/plain": [
              "['two', 'three', 4, 5]"
            ]
          },
          "metadata": {
            "tags": []
          },
          "execution_count": 3
        }
      ]
    },
    {
      "cell_type": "code",
      "metadata": {
        "id": "kCARuLFTILJZ",
        "colab_type": "code",
        "outputId": "413eef5c-1f7b-4ee4-c8c5-4dc12aebce51",
        "colab": {
          "base_uri": "https://localhost:8080/",
          "height": 35
        }
      },
      "source": [
        "# Grab everything UP TO index 3\n",
        "my_list[:3]"
      ],
      "execution_count": 0,
      "outputs": [
        {
          "output_type": "execute_result",
          "data": {
            "text/plain": [
              "['one', 'two', 'three']"
            ]
          },
          "metadata": {
            "tags": []
          },
          "execution_count": 9
        }
      ]
    },
    {
      "cell_type": "markdown",
      "metadata": {
        "id": "tt6G3b2OIhof",
        "colab_type": "text"
      },
      "source": [
        "We can also use + to concatenate lists, just like we did for strings."
      ]
    },
    {
      "cell_type": "code",
      "metadata": {
        "id": "Z9rnlCi8IlDS",
        "colab_type": "code",
        "outputId": "d0b5ff16-8ba3-4ae6-9b0e-bb3536bda64e",
        "colab": {
          "base_uri": "https://localhost:8080/",
          "height": 34
        }
      },
      "source": [
        "my_list + ['new item']"
      ],
      "execution_count": 0,
      "outputs": [
        {
          "output_type": "execute_result",
          "data": {
            "text/plain": [
              "['one', 'two', 'three', 4, 5, 'new item']"
            ]
          },
          "metadata": {
            "tags": []
          },
          "execution_count": 4
        }
      ]
    },
    {
      "cell_type": "markdown",
      "metadata": {
        "id": "9uaX5dtMIo8u",
        "colab_type": "text"
      },
      "source": [
        "Note: This doesn't actually change the original list!"
      ]
    },
    {
      "cell_type": "code",
      "metadata": {
        "id": "UOSozyQDIqNA",
        "colab_type": "code",
        "outputId": "8957a16c-2ecd-48be-876e-b954a0bff2fa",
        "colab": {
          "base_uri": "https://localhost:8080/",
          "height": 34
        }
      },
      "source": [
        "my_list"
      ],
      "execution_count": 0,
      "outputs": [
        {
          "output_type": "execute_result",
          "data": {
            "text/plain": [
              "['one', 'two', 'three', 4, 5]"
            ]
          },
          "metadata": {
            "tags": []
          },
          "execution_count": 5
        }
      ]
    },
    {
      "cell_type": "markdown",
      "metadata": {
        "id": "ULYczsYqIvcH",
        "colab_type": "text"
      },
      "source": [
        "You would have to reassign the list to make the change permanent."
      ]
    },
    {
      "cell_type": "code",
      "metadata": {
        "id": "pS2vpCaMIwmk",
        "colab_type": "code",
        "outputId": "e71fc173-adce-4a08-e8e7-03626da9fca8",
        "colab": {
          "base_uri": "https://localhost:8080/",
          "height": 34
        }
      },
      "source": [
        "# Reassign\n",
        "my_list = my_list + ['add new item permanently']\n",
        "print(my_list)"
      ],
      "execution_count": 0,
      "outputs": [
        {
          "output_type": "stream",
          "text": [
            "['one', 'two', 'three', 4, 5, 'add new item permanently']\n"
          ],
          "name": "stdout"
        }
      ]
    },
    {
      "cell_type": "markdown",
      "metadata": {
        "id": "g4PnCyALI34C",
        "colab_type": "text"
      },
      "source": [
        "We can also use the * for a duplication method similar to strings:"
      ]
    },
    {
      "cell_type": "code",
      "metadata": {
        "id": "cyzBfhh2I6wA",
        "colab_type": "code",
        "outputId": "a48005a0-dacf-40af-943b-a8260497afd1",
        "colab": {
          "base_uri": "https://localhost:8080/",
          "height": 221
        }
      },
      "source": [
        "# Make the list double\n",
        "my_list * 2"
      ],
      "execution_count": 0,
      "outputs": [
        {
          "output_type": "execute_result",
          "data": {
            "text/plain": [
              "['one',\n",
              " 'two',\n",
              " 'three',\n",
              " 4,\n",
              " 5,\n",
              " 'add new item permanently',\n",
              " 'one',\n",
              " 'two',\n",
              " 'three',\n",
              " 4,\n",
              " 5,\n",
              " 'add new item permanently']"
            ]
          },
          "metadata": {
            "tags": []
          },
          "execution_count": 7
        }
      ]
    },
    {
      "cell_type": "code",
      "metadata": {
        "id": "8zve7AZnJFvr",
        "colab_type": "code",
        "outputId": "0d37732e-6ab9-45d9-e276-41779ab25e5a",
        "colab": {
          "base_uri": "https://localhost:8080/",
          "height": 34
        }
      },
      "source": [
        "# Doubling not permanent\n",
        "my_list"
      ],
      "execution_count": 0,
      "outputs": [
        {
          "output_type": "execute_result",
          "data": {
            "text/plain": [
              "['one', 'two', 'three', 4, 5, 'add new item permanently']"
            ]
          },
          "metadata": {
            "tags": []
          },
          "execution_count": 8
        }
      ]
    },
    {
      "cell_type": "markdown",
      "metadata": {
        "id": "0fmbXn9bJL92",
        "colab_type": "text"
      },
      "source": [
        "# 1.3 Basic List Methods\n",
        "If you are familiar with another programming language, you might start to draw parallels between arrays in another language and lists in Python. Lists in Python however, tend to be more flexible than arrays in other languages for a two good reasons: they have no fixed size (meaning we don't have to specify how big a list will be), and they have no fixed type constraint (like we've seen above).\n",
        "\n",
        "Let's go ahead and explore some more special methods for lists:"
      ]
    },
    {
      "cell_type": "code",
      "metadata": {
        "id": "yd1xbE56JSiH",
        "colab_type": "code",
        "colab": {}
      },
      "source": [
        "# Create a new list\n",
        "list1 = [1,2,3]"
      ],
      "execution_count": 0,
      "outputs": []
    },
    {
      "cell_type": "markdown",
      "metadata": {
        "id": "Lc2AeSh2JXqP",
        "colab_type": "text"
      },
      "source": [
        "Use the append method to permanently add an item to the end of a list:"
      ]
    },
    {
      "cell_type": "code",
      "metadata": {
        "id": "n_AF24O0JafV",
        "colab_type": "code",
        "outputId": "a347a5ee-09a2-4dee-8e96-0ca7be07df8d",
        "colab": {
          "base_uri": "https://localhost:8080/",
          "height": 34
        }
      },
      "source": [
        "# Append\n",
        "list1.append('append me!')\n",
        "print(list1)"
      ],
      "execution_count": 0,
      "outputs": [
        {
          "output_type": "stream",
          "text": [
            "[1, 2, 3, 'append me!']\n"
          ],
          "name": "stdout"
        }
      ]
    },
    {
      "cell_type": "markdown",
      "metadata": {
        "id": "zlsF5F55JiPl",
        "colab_type": "text"
      },
      "source": [
        "Use pop to \"pop off\" an item from the list. By default pop takes off the last index, but you can also specify which index to pop off. Let's see an example:"
      ]
    },
    {
      "cell_type": "code",
      "metadata": {
        "id": "yxVIic2KJlFu",
        "colab_type": "code",
        "outputId": "b8eb77f8-48b8-4ede-8276-dc110caf35bc",
        "colab": {
          "base_uri": "https://localhost:8080/",
          "height": 34
        }
      },
      "source": [
        "# Pop off the 0 indexed item\n",
        "list1.pop(0)\n",
        "print(list1)"
      ],
      "execution_count": 0,
      "outputs": [
        {
          "output_type": "stream",
          "text": [
            "[2, 3, 'append me!']\n"
          ],
          "name": "stdout"
        }
      ]
    },
    {
      "cell_type": "code",
      "metadata": {
        "id": "OPVDJrfIJupo",
        "colab_type": "code",
        "outputId": "59fc332e-cb6a-45fb-c1a3-78bbaddcc0e3",
        "colab": {
          "base_uri": "https://localhost:8080/",
          "height": 51
        }
      },
      "source": [
        "# Assign the popped element, remember default popped index is -1\n",
        "popped_item = list1.pop()\n",
        "print(popped_item)\n",
        "print(list1)"
      ],
      "execution_count": 0,
      "outputs": [
        {
          "output_type": "stream",
          "text": [
            "append me!\n",
            "[2, 3]\n"
          ],
          "name": "stdout"
        }
      ]
    },
    {
      "cell_type": "markdown",
      "metadata": {
        "id": "f1DwAhkAJ6sN",
        "colab_type": "text"
      },
      "source": [
        "It should also be noted that lists indexing will return an error if there is no element at that index. For example:"
      ]
    },
    {
      "cell_type": "code",
      "metadata": {
        "id": "Ap2maoQ0J75w",
        "colab_type": "code",
        "outputId": "bda9e172-9eef-4000-f9f7-4f9ab8f04905",
        "colab": {
          "base_uri": "https://localhost:8080/",
          "height": 164
        }
      },
      "source": [
        "list1[100]"
      ],
      "execution_count": 0,
      "outputs": [
        {
          "output_type": "error",
          "ename": "IndexError",
          "evalue": "ignored",
          "traceback": [
            "\u001b[0;31m---------------------------------------------------------------------------\u001b[0m",
            "\u001b[0;31mIndexError\u001b[0m                                Traceback (most recent call last)",
            "\u001b[0;32m<ipython-input-13-af6d2015fa1f>\u001b[0m in \u001b[0;36m<module>\u001b[0;34m()\u001b[0m\n\u001b[0;32m----> 1\u001b[0;31m \u001b[0mlist1\u001b[0m\u001b[0;34m[\u001b[0m\u001b[0;36m100\u001b[0m\u001b[0;34m]\u001b[0m\u001b[0;34m\u001b[0m\u001b[0;34m\u001b[0m\u001b[0m\n\u001b[0m",
            "\u001b[0;31mIndexError\u001b[0m: list index out of range"
          ]
        }
      ]
    },
    {
      "cell_type": "code",
      "metadata": {
        "id": "l2Oh2q-cKIOT",
        "colab_type": "code",
        "outputId": "9ad2479e-0552-4b0e-d83b-a00945a8e190",
        "colab": {
          "base_uri": "https://localhost:8080/",
          "height": 34
        }
      },
      "source": [
        "new_list = ['a','e','x','b','c']\n",
        "\n",
        "# Use reverse to reverse order (this is permanent!)\n",
        "new_list.reverse()\n",
        "print(new_list)"
      ],
      "execution_count": 0,
      "outputs": [
        {
          "output_type": "stream",
          "text": [
            "['c', 'b', 'x', 'e', 'a']\n"
          ],
          "name": "stdout"
        }
      ]
    },
    {
      "cell_type": "code",
      "metadata": {
        "id": "ODqbSMEmKPUN",
        "colab_type": "code",
        "outputId": "09afe9b6-fed8-4ef7-912d-b9bf5180df94",
        "colab": {
          "base_uri": "https://localhost:8080/",
          "height": 34
        }
      },
      "source": [
        "# Use sort to sort the list (in this case alphabetical order, but for numbers it will go ascending)\n",
        "new_list.sort()\n",
        "print(new_list)"
      ],
      "execution_count": 0,
      "outputs": [
        {
          "output_type": "stream",
          "text": [
            "['a', 'b', 'c', 'e', 'x']\n"
          ],
          "name": "stdout"
        }
      ]
    },
    {
      "cell_type": "markdown",
      "metadata": {
        "id": "XZUbLCd6KXHB",
        "colab_type": "text"
      },
      "source": [
        "# 1.4 Nesting Lists\n",
        "A great feature of of Python data structures is that they support nesting. This means we can have data structures within data structures. For example: A list inside a list.\n",
        "\n",
        "Let's see how this works!"
      ]
    },
    {
      "cell_type": "code",
      "metadata": {
        "id": "Y1HmrCqpKck5",
        "colab_type": "code",
        "outputId": "775b8cfa-897a-415e-9049-7976dd2f9d62",
        "colab": {
          "base_uri": "https://localhost:8080/",
          "height": 34
        }
      },
      "source": [
        "# Let's make three lists\n",
        "lst_1=[1,2,3]\n",
        "lst_2=[4,5,6]\n",
        "lst_3=[7,8,9]\n",
        "\n",
        "# Make a list of lists to form a matrix\n",
        "matrix = [lst_1,lst_2,lst_3]\n",
        "\n",
        "print(matrix)"
      ],
      "execution_count": 0,
      "outputs": [
        {
          "output_type": "stream",
          "text": [
            "[[1, 2, 3], [4, 5, 6], [7, 8, 9]]\n"
          ],
          "name": "stdout"
        }
      ]
    },
    {
      "cell_type": "markdown",
      "metadata": {
        "id": "clAJMSgGKjNg",
        "colab_type": "text"
      },
      "source": [
        "We can again use indexing to grab elements, but now there are two levels for the index. The items in the matrix object, and then the items inside that list!"
      ]
    },
    {
      "cell_type": "code",
      "metadata": {
        "id": "G1syfVItKkHH",
        "colab_type": "code",
        "outputId": "6df3fa80-f83b-4109-9441-17d8d232f919",
        "colab": {
          "base_uri": "https://localhost:8080/",
          "height": 34
        }
      },
      "source": [
        "# Grab first item in matrix object\n",
        "matrix[0]"
      ],
      "execution_count": 0,
      "outputs": [
        {
          "output_type": "execute_result",
          "data": {
            "text/plain": [
              "[1, 2, 3]"
            ]
          },
          "metadata": {
            "tags": []
          },
          "execution_count": 17
        }
      ]
    },
    {
      "cell_type": "code",
      "metadata": {
        "id": "66z8a0ybKm77",
        "colab_type": "code",
        "outputId": "edbf526e-8757-4a54-8724-848ba4c297a7",
        "colab": {
          "base_uri": "https://localhost:8080/",
          "height": 35
        }
      },
      "source": [
        "# Grab first item of the first item in the matrix object\n",
        "matrix[0][0]"
      ],
      "execution_count": 0,
      "outputs": [
        {
          "output_type": "execute_result",
          "data": {
            "text/plain": [
              "1"
            ]
          },
          "metadata": {
            "tags": []
          },
          "execution_count": 26
        }
      ]
    },
    {
      "cell_type": "markdown",
      "metadata": {
        "id": "J2b-7vc2Kqct",
        "colab_type": "text"
      },
      "source": [
        "# 1.5 List Comprehensions\n",
        "\n",
        "Python has an advanced feature called list comprehensions. They allow for quick construction of lists. To fully understand list comprehensions we need to understand for loops. Here are a few examples!"
      ]
    },
    {
      "cell_type": "code",
      "metadata": {
        "id": "BKv9IqxKKz-T",
        "colab_type": "code",
        "outputId": "6b31ca45-2d21-4d4b-cf77-c966f508fd68",
        "colab": {
          "base_uri": "https://localhost:8080/",
          "height": 35
        }
      },
      "source": [
        "# Build a list comprehension by deconstructing a for loop within a []\n",
        "first_col = [row[0] for row in matrix]\n",
        "print(first_col)"
      ],
      "execution_count": 0,
      "outputs": [
        {
          "output_type": "stream",
          "text": [
            "[1, 4, 7]\n"
          ],
          "name": "stdout"
        }
      ]
    },
    {
      "cell_type": "markdown",
      "metadata": {
        "id": "KeRAIlZ3K9yf",
        "colab_type": "text"
      },
      "source": [
        "For more advanced methods and features of lists in Python, check the **Python library**."
      ]
    },
    {
      "cell_type": "markdown",
      "metadata": {
        "id": "yzOvzZHyLESu",
        "colab_type": "text"
      },
      "source": [
        "# 2. Tuples\n",
        "In Python tuples are very similar to lists, however, unlike lists they are immutable meaning they can not be changed. You would use tuples to present things that shouldn't be changed, such as days of the week, or dates on a calendar.\n",
        "\n",
        "In this section, we will get a brief overview of the following:\n",
        "\n",
        "\n",
        "\n",
        "1.   Constructing Tuples\n",
        "2.   Basic Tuple Methods\n",
        "3.   Immutability\n",
        "4.   When to Use Tuples\n",
        "\n",
        "\n",
        "You'll have an intuition of how to use tuples based on what you've learned about lists. We can treat them very similarly with the major distinction being that tuples are immutable."
      ]
    },
    {
      "cell_type": "markdown",
      "metadata": {
        "id": "2RKRqVv-L91T",
        "colab_type": "text"
      },
      "source": [
        "# 2.1 Constructing Tuples\n",
        "\n",
        "The construction of a tuples use () with elements separated by commas. For example:"
      ]
    },
    {
      "cell_type": "code",
      "metadata": {
        "id": "Aif7Va77MCRK",
        "colab_type": "code",
        "colab": {}
      },
      "source": [
        "# Create a tuple\n",
        "t = (1,2,3)"
      ],
      "execution_count": 0,
      "outputs": []
    },
    {
      "cell_type": "code",
      "metadata": {
        "id": "HLTVIJiQMHkr",
        "colab_type": "code",
        "outputId": "88e9db0c-5cb7-4a54-bef6-e5f03206503a",
        "colab": {
          "base_uri": "https://localhost:8080/",
          "height": 35
        }
      },
      "source": [
        "# Check len just like a list\n",
        "len(t)"
      ],
      "execution_count": 0,
      "outputs": [
        {
          "output_type": "execute_result",
          "data": {
            "text/plain": [
              "3"
            ]
          },
          "metadata": {
            "tags": []
          },
          "execution_count": 31
        }
      ]
    },
    {
      "cell_type": "code",
      "metadata": {
        "id": "dIhXHoZcMNSR",
        "colab_type": "code",
        "outputId": "9e69a518-248c-4bec-92cd-e284b45dbda4",
        "colab": {
          "base_uri": "https://localhost:8080/",
          "height": 34
        }
      },
      "source": [
        "\n",
        "# Can also mix object types\n",
        "t = ('one',2)\n",
        "print(t)"
      ],
      "execution_count": 1,
      "outputs": [
        {
          "output_type": "stream",
          "text": [
            "('one', 2)\n"
          ],
          "name": "stdout"
        }
      ]
    },
    {
      "cell_type": "code",
      "metadata": {
        "id": "eKuqdTSWMVwO",
        "colab_type": "code",
        "outputId": "00683c75-5f45-4a02-bf43-d5bccb0ad1d1",
        "colab": {
          "base_uri": "https://localhost:8080/",
          "height": 34
        }
      },
      "source": [
        "# Use indexing just like we did in lists\n",
        "t[0]"
      ],
      "execution_count": 2,
      "outputs": [
        {
          "output_type": "execute_result",
          "data": {
            "text/plain": [
              "'one'"
            ]
          },
          "metadata": {
            "tags": []
          },
          "execution_count": 2
        }
      ]
    },
    {
      "cell_type": "code",
      "metadata": {
        "id": "qb9X8kndMY3M",
        "colab_type": "code",
        "outputId": "176df552-9769-440f-b188-7f7e43376b48",
        "colab": {
          "base_uri": "https://localhost:8080/",
          "height": 34
        }
      },
      "source": [
        "# Slicing just like a list\n",
        "t[-1]"
      ],
      "execution_count": 3,
      "outputs": [
        {
          "output_type": "execute_result",
          "data": {
            "text/plain": [
              "2"
            ]
          },
          "metadata": {
            "tags": []
          },
          "execution_count": 3
        }
      ]
    },
    {
      "cell_type": "markdown",
      "metadata": {
        "id": "ET8KQXplMePk",
        "colab_type": "text"
      },
      "source": [
        "# 2.2 Basic Tuple Methods\n",
        "\n",
        "Tuples have built-in methods, but not as many as lists do. Let's look at two of them:\n"
      ]
    },
    {
      "cell_type": "code",
      "metadata": {
        "id": "H72LSz1FMj1-",
        "colab_type": "code",
        "outputId": "33dde98c-b7e2-4c71-ab33-030b8c2ef540",
        "colab": {
          "base_uri": "https://localhost:8080/",
          "height": 34
        }
      },
      "source": [
        "# Use .index to enter a value and return the index of the value if found, if not found, return 0\n",
        "t.index('one')"
      ],
      "execution_count": 4,
      "outputs": [
        {
          "output_type": "execute_result",
          "data": {
            "text/plain": [
              "0"
            ]
          },
          "metadata": {
            "tags": []
          },
          "execution_count": 4
        }
      ]
    },
    {
      "cell_type": "code",
      "metadata": {
        "id": "KYrsRPwxMpnG",
        "colab_type": "code",
        "outputId": "a7e26757-ed9d-4301-8503-99a1588a60aa",
        "colab": {
          "base_uri": "https://localhost:8080/",
          "height": 35
        }
      },
      "source": [
        "# Use .count to count the number of times a value appears\n",
        "t.count('one')"
      ],
      "execution_count": 0,
      "outputs": [
        {
          "output_type": "execute_result",
          "data": {
            "text/plain": [
              "1"
            ]
          },
          "metadata": {
            "tags": []
          },
          "execution_count": 37
        }
      ]
    },
    {
      "cell_type": "markdown",
      "metadata": {
        "id": "FsiqknxSMsJk",
        "colab_type": "text"
      },
      "source": [
        "# 2.3 Immutability\n",
        "\n",
        "It can't be stressed enough that tuples are immutable. To drive that point home:"
      ]
    },
    {
      "cell_type": "code",
      "metadata": {
        "id": "chcZtpM3MxGx",
        "colab_type": "code",
        "outputId": "7ad9a940-d19c-4bc0-98f6-cefe530e002a",
        "colab": {
          "base_uri": "https://localhost:8080/",
          "height": 166
        }
      },
      "source": [
        "t[0]= 'change'\n"
      ],
      "execution_count": 0,
      "outputs": [
        {
          "output_type": "error",
          "ename": "TypeError",
          "evalue": "ignored",
          "traceback": [
            "\u001b[0;31m---------------------------------------------------------------------------\u001b[0m",
            "\u001b[0;31mTypeError\u001b[0m                                 Traceback (most recent call last)",
            "\u001b[0;32m<ipython-input-38-1257c0aa9edd>\u001b[0m in \u001b[0;36m<module>\u001b[0;34m()\u001b[0m\n\u001b[0;32m----> 1\u001b[0;31m \u001b[0mt\u001b[0m\u001b[0;34m[\u001b[0m\u001b[0;36m0\u001b[0m\u001b[0;34m]\u001b[0m\u001b[0;34m=\u001b[0m \u001b[0;34m'change'\u001b[0m\u001b[0;34m\u001b[0m\u001b[0;34m\u001b[0m\u001b[0m\n\u001b[0m",
            "\u001b[0;31mTypeError\u001b[0m: 'tuple' object does not support item assignment"
          ]
        }
      ]
    },
    {
      "cell_type": "code",
      "metadata": {
        "id": "Jb0zquHzM1F4",
        "colab_type": "code",
        "outputId": "6ce65f9f-20ce-48c7-9c5c-4f7adbd21d88",
        "colab": {
          "base_uri": "https://localhost:8080/",
          "height": 166
        }
      },
      "source": [
        "t.append('nope')"
      ],
      "execution_count": 0,
      "outputs": [
        {
          "output_type": "error",
          "ename": "AttributeError",
          "evalue": "ignored",
          "traceback": [
            "\u001b[0;31m---------------------------------------------------------------------------\u001b[0m",
            "\u001b[0;31mAttributeError\u001b[0m                            Traceback (most recent call last)",
            "\u001b[0;32m<ipython-input-39-b75f5b09ac19>\u001b[0m in \u001b[0;36m<module>\u001b[0;34m()\u001b[0m\n\u001b[0;32m----> 1\u001b[0;31m \u001b[0mt\u001b[0m\u001b[0;34m.\u001b[0m\u001b[0mappend\u001b[0m\u001b[0;34m(\u001b[0m\u001b[0;34m'nope'\u001b[0m\u001b[0;34m)\u001b[0m\u001b[0;34m\u001b[0m\u001b[0;34m\u001b[0m\u001b[0m\n\u001b[0m",
            "\u001b[0;31mAttributeError\u001b[0m: 'tuple' object has no attribute 'append'"
          ]
        }
      ]
    },
    {
      "cell_type": "markdown",
      "metadata": {
        "id": "vEYuvdCGM2mL",
        "colab_type": "text"
      },
      "source": [
        "# 2.4 When to use Tuples\n",
        "\n",
        "You may be wondering, \"Why bother using tuples when they have fewer available methods?\" To be honest, tuples are not used as often as lists in programming, but are used when immutability is necessary. If in your program you are passing around an object and need to make sure it does not get changed, then a tuple becomes your solution. It provides a convenient source of data integrity.\n",
        "\n",
        "You should now be able to create and use tuples in your programming as well as have an understanding of their immutability."
      ]
    },
    {
      "cell_type": "markdown",
      "metadata": {
        "id": "ePWiEVuZNEl6",
        "colab_type": "text"
      },
      "source": [
        "# 3. Dictionaries\n",
        "\n",
        "**If you're familiar with other languages you can think of these Dictionaries as hash tables.**\n",
        "\n",
        "This section will serve as a brief introduction to dictionaries and consist of:\n",
        "\n",
        "\n",
        "\n",
        "1.   Constructing a Dictionary\n",
        "2.   Nesting Dictionaries\n",
        "3.   Basic Dictionary Methods\n",
        "4.   Advanced Dictionaries\n",
        "\n",
        "So what are mappings? Mappings are a collection of objects that are stored by a key, unlike a sequence that stored objects by their relative position. This is an important distinction, since mappings won't retain order since they have objects defined by a key.\n",
        "\n",
        "A Python dictionary consists of a key and then an associated value. That value can be almost any Python object.\n",
        "\n",
        "\n",
        "\n"
      ]
    },
    {
      "cell_type": "markdown",
      "metadata": {
        "id": "-e9xCcqgNont",
        "colab_type": "text"
      },
      "source": [
        "# 3.1 Constructing a Dictionary"
      ]
    },
    {
      "cell_type": "code",
      "metadata": {
        "id": "NtsUG8I1Nt9V",
        "colab_type": "code",
        "colab": {}
      },
      "source": [
        "# Make a dictionary with {} and : to signify a key and a value\n",
        "my_dict = {'key1':'value1','key2':'value2'}"
      ],
      "execution_count": 0,
      "outputs": []
    },
    {
      "cell_type": "code",
      "metadata": {
        "id": "j4_NgFCaNxqK",
        "colab_type": "code",
        "outputId": "7ab7a02c-36d4-4cbc-c223-cd299bfd20c1",
        "colab": {
          "base_uri": "https://localhost:8080/",
          "height": 35
        }
      },
      "source": [
        "# Call values by their key\n",
        "my_dict['key2']"
      ],
      "execution_count": 0,
      "outputs": [
        {
          "output_type": "execute_result",
          "data": {
            "text/plain": [
              "'value2'"
            ]
          },
          "metadata": {
            "tags": []
          },
          "execution_count": 41
        }
      ]
    },
    {
      "cell_type": "markdown",
      "metadata": {
        "id": "mWrX7ltsN1gv",
        "colab_type": "text"
      },
      "source": [
        "Its important to note that dictionaries are very flexible in the data types they can hold. For example:"
      ]
    },
    {
      "cell_type": "code",
      "metadata": {
        "id": "qKDe1HaUN2m0",
        "colab_type": "code",
        "colab": {}
      },
      "source": [
        "my_dict = {'key1':123,'key2':[12,23,33],'key3':['item0','item1','item2']}"
      ],
      "execution_count": 0,
      "outputs": []
    },
    {
      "cell_type": "code",
      "metadata": {
        "id": "d5zcZjGAN9RU",
        "colab_type": "code",
        "outputId": "cf9d81de-bbfb-4d8c-e68d-e7e83360745f",
        "colab": {
          "base_uri": "https://localhost:8080/",
          "height": 35
        }
      },
      "source": [
        "# Let's call items from the dictionary\n",
        "my_dict['key3']"
      ],
      "execution_count": 0,
      "outputs": [
        {
          "output_type": "execute_result",
          "data": {
            "text/plain": [
              "['item0', 'item1', 'item2']"
            ]
          },
          "metadata": {
            "tags": []
          },
          "execution_count": 44
        }
      ]
    },
    {
      "cell_type": "code",
      "metadata": {
        "id": "_FTa5JXMOB2D",
        "colab_type": "code",
        "outputId": "cf2051eb-8edb-4231-d663-f89ed4c21a9d",
        "colab": {
          "base_uri": "https://localhost:8080/",
          "height": 35
        }
      },
      "source": [
        "# Can call an index on that value\n",
        "my_dict['key3'][0]"
      ],
      "execution_count": 0,
      "outputs": [
        {
          "output_type": "execute_result",
          "data": {
            "text/plain": [
              "'item0'"
            ]
          },
          "metadata": {
            "tags": []
          },
          "execution_count": 45
        }
      ]
    },
    {
      "cell_type": "code",
      "metadata": {
        "id": "d76ZfetFOE3L",
        "colab_type": "code",
        "outputId": "08e47b7d-8d96-40c1-9adb-db17361dec69",
        "colab": {
          "base_uri": "https://localhost:8080/",
          "height": 35
        }
      },
      "source": [
        "# Can then even call methods on that value\n",
        "my_dict['key3'][0].upper()"
      ],
      "execution_count": 0,
      "outputs": [
        {
          "output_type": "execute_result",
          "data": {
            "text/plain": [
              "'ITEM0'"
            ]
          },
          "metadata": {
            "tags": []
          },
          "execution_count": 46
        }
      ]
    },
    {
      "cell_type": "markdown",
      "metadata": {
        "id": "Kxe0G0fEOHvm",
        "colab_type": "text"
      },
      "source": [
        "We can affect the values of a key as well. For instance:\n"
      ]
    },
    {
      "cell_type": "code",
      "metadata": {
        "id": "PMzQaqMJOIzS",
        "colab_type": "code",
        "outputId": "270c5dea-a6ed-482a-9ee1-1ad921c5639b",
        "colab": {
          "base_uri": "https://localhost:8080/",
          "height": 35
        }
      },
      "source": [
        "# Subtract 123 from the value\n",
        "my_dict['key1'] = my_dict['key1'] - 123\n",
        "print(my_dict['key1'])\n",
        "\n",
        "# I have run this code for several times, every time it will subtract 123, that's why it is -984 now!"
      ],
      "execution_count": 0,
      "outputs": [
        {
          "output_type": "stream",
          "text": [
            "-984\n"
          ],
          "name": "stdout"
        }
      ]
    },
    {
      "cell_type": "markdown",
      "metadata": {
        "id": "M89G_S4CPuiD",
        "colab_type": "text"
      },
      "source": [
        "A quick note, Python has a built-in method of doing a self subtraction or addition (or multiplication or division). We could have also used += or -= for the above statement. For example:\n"
      ]
    },
    {
      "cell_type": "code",
      "metadata": {
        "id": "Fkd6VGEEPsTV",
        "colab_type": "code",
        "outputId": "880edd70-1cad-4c0b-b9a9-d8a9618615c4",
        "colab": {
          "base_uri": "https://localhost:8080/",
          "height": 35
        }
      },
      "source": [
        "# Set the object equal to itself minus 123 \n",
        "my_dict['key1'] -= 123\n",
        "my_dict['key1']"
      ],
      "execution_count": 0,
      "outputs": [
        {
          "output_type": "execute_result",
          "data": {
            "text/plain": [
              "-1107"
            ]
          },
          "metadata": {
            "tags": []
          },
          "execution_count": 68
        }
      ]
    },
    {
      "cell_type": "markdown",
      "metadata": {
        "id": "vYy_aBovP09Q",
        "colab_type": "text"
      },
      "source": [
        "We can also create keys by assignment. For instance if we started off with an empty dictionary, we could continually add to it:"
      ]
    },
    {
      "cell_type": "code",
      "metadata": {
        "id": "lw0aKFgCP3y6",
        "colab_type": "code",
        "colab": {}
      },
      "source": [
        "# Create a new dictionary\n",
        "d = {}"
      ],
      "execution_count": 0,
      "outputs": []
    },
    {
      "cell_type": "code",
      "metadata": {
        "id": "yIVxtKzKP7FZ",
        "colab_type": "code",
        "colab": {}
      },
      "source": [
        "# Create a new key through assignment\n",
        "d['animal'] = 'Dog'\n",
        "\n",
        "# Can do this with any object\n",
        "d['answer'] = 42"
      ],
      "execution_count": 0,
      "outputs": []
    },
    {
      "cell_type": "code",
      "metadata": {
        "id": "_-n5YR79P_oN",
        "colab_type": "code",
        "outputId": "5add7ec7-2580-46eb-a37d-be305aa8d6d4",
        "colab": {
          "base_uri": "https://localhost:8080/",
          "height": 35
        }
      },
      "source": [
        "print(d)"
      ],
      "execution_count": 0,
      "outputs": [
        {
          "output_type": "stream",
          "text": [
            "{'animal': 'Dog', 'answer': 42}\n"
          ],
          "name": "stdout"
        }
      ]
    },
    {
      "cell_type": "markdown",
      "metadata": {
        "id": "W8jKp-vYQH-l",
        "colab_type": "text"
      },
      "source": [
        "# 3.2 Nesting with Dictionaries\n",
        "\n",
        "Hopefully you're starting to see how powerful Python is with its flexibility of nesting objects and calling methods on them. Let's see a dictionary nested inside a dictionary:"
      ]
    },
    {
      "cell_type": "code",
      "metadata": {
        "id": "mE_Xavy1QeCJ",
        "colab_type": "code",
        "colab": {}
      },
      "source": [
        "# Dictionary nested inside a dictionary nested inside a dictionary\n",
        "d = {'key1':{'nestkey':{'subnestkey':'value'}}}"
      ],
      "execution_count": 0,
      "outputs": []
    },
    {
      "cell_type": "markdown",
      "metadata": {
        "id": "573rcJlJQiMm",
        "colab_type": "text"
      },
      "source": [
        "That's a quite the inception of dictionaries! Let's see how we can grab that value:\n",
        "\n"
      ]
    },
    {
      "cell_type": "code",
      "metadata": {
        "id": "_YzpnLAxQgqm",
        "colab_type": "code",
        "outputId": "c93dd5a6-0010-4bcf-f700-69373748047d",
        "colab": {
          "base_uri": "https://localhost:8080/",
          "height": 35
        }
      },
      "source": [
        "# Keep calling the keys\n",
        "d['key1']['nestkey']['subnestkey']"
      ],
      "execution_count": 0,
      "outputs": [
        {
          "output_type": "execute_result",
          "data": {
            "text/plain": [
              "'value'"
            ]
          },
          "metadata": {
            "tags": []
          },
          "execution_count": 75
        }
      ]
    },
    {
      "cell_type": "markdown",
      "metadata": {
        "id": "M_mSRrGxQqRi",
        "colab_type": "text"
      },
      "source": [
        "# 3.3 A few Dictionary Methods\n",
        "\n",
        "There are a few methods we can call on a dictionary. Let's get a quick introduction to a few of them:"
      ]
    },
    {
      "cell_type": "code",
      "metadata": {
        "id": "sRj8Xa9uQxk3",
        "colab_type": "code",
        "colab": {}
      },
      "source": [
        "# Create a typical dictionary\n",
        "d = {'key1':1,'key2':2,'key3':3}"
      ],
      "execution_count": 0,
      "outputs": []
    },
    {
      "cell_type": "code",
      "metadata": {
        "id": "VZSrAnYMQ2pa",
        "colab_type": "code",
        "outputId": "3a07e242-e53f-4375-af6c-0dced3367754",
        "colab": {
          "base_uri": "https://localhost:8080/",
          "height": 35
        }
      },
      "source": [
        "# Method to return a list of all keys \n",
        "d.keys()"
      ],
      "execution_count": 0,
      "outputs": [
        {
          "output_type": "execute_result",
          "data": {
            "text/plain": [
              "dict_keys(['key1', 'key2', 'key3'])"
            ]
          },
          "metadata": {
            "tags": []
          },
          "execution_count": 77
        }
      ]
    },
    {
      "cell_type": "code",
      "metadata": {
        "id": "u-E9ZhzaQ5nW",
        "colab_type": "code",
        "outputId": "8b065083-b531-4be8-f22f-88879f6c2cc8",
        "colab": {
          "base_uri": "https://localhost:8080/",
          "height": 35
        }
      },
      "source": [
        "# Method to grab all values\n",
        "d.values()"
      ],
      "execution_count": 0,
      "outputs": [
        {
          "output_type": "execute_result",
          "data": {
            "text/plain": [
              "dict_values([1, 2, 3])"
            ]
          },
          "metadata": {
            "tags": []
          },
          "execution_count": 78
        }
      ]
    },
    {
      "cell_type": "code",
      "metadata": {
        "id": "fVNea293Q9SW",
        "colab_type": "code",
        "outputId": "f3c1c841-0c8f-48a7-c86c-d3cd5e53422d",
        "colab": {
          "base_uri": "https://localhost:8080/",
          "height": 35
        }
      },
      "source": [
        "# Method to return tuples of all items  (we'll learn about tuples soon)\n",
        "d.items()"
      ],
      "execution_count": 0,
      "outputs": [
        {
          "output_type": "execute_result",
          "data": {
            "text/plain": [
              "dict_items([('key1', 1), ('key2', 2), ('key3', 3)])"
            ]
          },
          "metadata": {
            "tags": []
          },
          "execution_count": 79
        }
      ]
    },
    {
      "cell_type": "markdown",
      "metadata": {
        "id": "0dax84HFWosD",
        "colab_type": "text"
      },
      "source": [
        "# 3.4 Advanced Dictionaries\n"
      ]
    },
    {
      "cell_type": "markdown",
      "metadata": {
        "id": "l2enMDa6WyUx",
        "colab_type": "text"
      },
      "source": [
        "**Dictionary Comprehensions:**\n",
        "\n",
        "Just like List Comprehensions, Dictionary Data Types also support their own version of comprehension for quick creation. It is not as commonly used as List Comprehensions, but the syntax is:\n"
      ]
    },
    {
      "cell_type": "code",
      "metadata": {
        "id": "4zFfR2uAW5_j",
        "colab_type": "code",
        "outputId": "e6c5637e-ec33-4fd5-ee39-402588eb9c1d",
        "colab": {
          "base_uri": "https://localhost:8080/",
          "height": 35
        }
      },
      "source": [
        "{x:x**2 for x in range(10)}"
      ],
      "execution_count": 0,
      "outputs": [
        {
          "output_type": "execute_result",
          "data": {
            "text/plain": [
              "{0: 0, 1: 1, 2: 4, 3: 9, 4: 16, 5: 25, 6: 36, 7: 49, 8: 64, 9: 81}"
            ]
          },
          "metadata": {
            "tags": []
          },
          "execution_count": 117
        }
      ]
    },
    {
      "cell_type": "markdown",
      "metadata": {
        "id": "DKK8mOZtW8za",
        "colab_type": "text"
      },
      "source": [
        "One of the reasons it is not as common is the difficulty in structuring key names that are not based off the values."
      ]
    },
    {
      "cell_type": "markdown",
      "metadata": {
        "id": "RionHeziW_gj",
        "colab_type": "text"
      },
      "source": [
        "\n",
        "**Iteration over keys, values, and items:** \n",
        "\n",
        "Dictionaries can be iterated over using the keys(), values() and items() methods. For example:\n",
        "\n"
      ]
    },
    {
      "cell_type": "code",
      "metadata": {
        "id": "ED0GB3HMXMDm",
        "colab_type": "code",
        "outputId": "730d116a-1159-44de-c56a-5d20bf8a327b",
        "colab": {
          "base_uri": "https://localhost:8080/",
          "height": 51
        }
      },
      "source": [
        "d = {'k1':1,'k2':2}\n",
        "for k in d.keys():\n",
        "    print(k)"
      ],
      "execution_count": 6,
      "outputs": [
        {
          "output_type": "stream",
          "text": [
            "k1\n",
            "k2\n"
          ],
          "name": "stdout"
        }
      ]
    },
    {
      "cell_type": "code",
      "metadata": {
        "id": "_i0O4aiCXUZs",
        "colab_type": "code",
        "outputId": "4a11123d-a966-4432-a2ba-42a58842f8c4",
        "colab": {
          "base_uri": "https://localhost:8080/",
          "height": 51
        }
      },
      "source": [
        "for v in d.values():\n",
        "    print(v)"
      ],
      "execution_count": 7,
      "outputs": [
        {
          "output_type": "stream",
          "text": [
            "1\n",
            "2\n"
          ],
          "name": "stdout"
        }
      ]
    },
    {
      "cell_type": "code",
      "metadata": {
        "id": "Dyma4UxmXW3E",
        "colab_type": "code",
        "outputId": "aa7c327a-cfd1-4f4a-e433-c2483481bf7c",
        "colab": {
          "base_uri": "https://localhost:8080/",
          "height": 51
        }
      },
      "source": [
        "for item in d.items():\n",
        "    print(item)"
      ],
      "execution_count": 8,
      "outputs": [
        {
          "output_type": "stream",
          "text": [
            "('k1', 1)\n",
            "('k2', 2)\n"
          ],
          "name": "stdout"
        }
      ]
    },
    {
      "cell_type": "markdown",
      "metadata": {
        "id": "FrIX4XvLXbtQ",
        "colab_type": "text"
      },
      "source": [
        "**Viewing keys, values and items:**\n",
        "\n",
        "By themselves the keys(), values() and items() methods return a dictionary view object. This is not a separate list of items. Instead, the view is always tied to the original dictionary."
      ]
    },
    {
      "cell_type": "code",
      "metadata": {
        "id": "1OPgRNK8Xgm-",
        "colab_type": "code",
        "outputId": "f40d556f-f9e7-4d4e-ad32-cd2397d087ea",
        "colab": {
          "base_uri": "https://localhost:8080/",
          "height": 34
        }
      },
      "source": [
        "key_view = d.keys()\n",
        "\n",
        "key_view"
      ],
      "execution_count": 9,
      "outputs": [
        {
          "output_type": "execute_result",
          "data": {
            "text/plain": [
              "dict_keys(['k1', 'k2'])"
            ]
          },
          "metadata": {
            "tags": []
          },
          "execution_count": 9
        }
      ]
    },
    {
      "cell_type": "code",
      "metadata": {
        "id": "UBFCjONNXpAj",
        "colab_type": "code",
        "outputId": "62b707d1-770f-477e-d7ad-3217110b5dac",
        "colab": {
          "base_uri": "https://localhost:8080/",
          "height": 35
        }
      },
      "source": [
        "d['k3'] = 3\n",
        "\n",
        "d"
      ],
      "execution_count": 0,
      "outputs": [
        {
          "output_type": "execute_result",
          "data": {
            "text/plain": [
              "{'k1': 1, 'k2': 2, 'k3': 3}"
            ]
          },
          "metadata": {
            "tags": []
          },
          "execution_count": 122
        }
      ]
    },
    {
      "cell_type": "code",
      "metadata": {
        "id": "qHYAO0kzXtdR",
        "colab_type": "code",
        "outputId": "661ed4e1-9050-4bc2-f07d-99ff7912565b",
        "colab": {
          "base_uri": "https://localhost:8080/",
          "height": 35
        }
      },
      "source": [
        "key_view"
      ],
      "execution_count": 0,
      "outputs": [
        {
          "output_type": "execute_result",
          "data": {
            "text/plain": [
              "dict_keys(['k1', 'k2', 'k3'])"
            ]
          },
          "metadata": {
            "tags": []
          },
          "execution_count": 123
        }
      ]
    },
    {
      "cell_type": "markdown",
      "metadata": {
        "id": "HoSAiYcKRPIg",
        "colab_type": "text"
      },
      "source": [
        "# 4. Sets\n",
        "\n",
        "Sets are an unordered collection of unique elements. We can construct them by using the set() function. Let's go ahead and make a set to see how it works"
      ]
    },
    {
      "cell_type": "code",
      "metadata": {
        "id": "B66_7PF7RWQj",
        "colab_type": "code",
        "colab": {}
      },
      "source": [
        "x = set()"
      ],
      "execution_count": 0,
      "outputs": []
    },
    {
      "cell_type": "code",
      "metadata": {
        "id": "-Ne0J08WRZTE",
        "colab_type": "code",
        "outputId": "ffdac777-1686-456f-f452-97d2fcb2c6dd",
        "colab": {
          "base_uri": "https://localhost:8080/",
          "height": 35
        }
      },
      "source": [
        "# We add to sets with the add() method\n",
        "x.add(1)\n",
        "\n",
        "print(x)"
      ],
      "execution_count": 0,
      "outputs": [
        {
          "output_type": "stream",
          "text": [
            "{1}\n"
          ],
          "name": "stdout"
        }
      ]
    },
    {
      "cell_type": "markdown",
      "metadata": {
        "id": "o3eYEFVkRlSu",
        "colab_type": "text"
      },
      "source": [
        "**add:**\n",
        "\n",
        "Note the curly brackets. This does not indicate a dictionary! Although you can draw analogies as a set being a dictionary with only keys.\n",
        "\n",
        "We know that a set has only unique entries. So what happens when we try to add something that is already in a set?"
      ]
    },
    {
      "cell_type": "code",
      "metadata": {
        "id": "RMEeDOS0RjdG",
        "colab_type": "code",
        "outputId": "608d635f-44b8-48f7-8f4a-93f2b0345517",
        "colab": {
          "base_uri": "https://localhost:8080/",
          "height": 35
        }
      },
      "source": [
        "# Add a different element\n",
        "x.add(2)\n",
        "print(x)"
      ],
      "execution_count": 0,
      "outputs": [
        {
          "output_type": "stream",
          "text": [
            "{1, 2}\n"
          ],
          "name": "stdout"
        }
      ]
    },
    {
      "cell_type": "code",
      "metadata": {
        "id": "uRI3CbLFRvWx",
        "colab_type": "code",
        "outputId": "d5ae280d-954f-42ee-a5c0-b462fd7fa3e1",
        "colab": {
          "base_uri": "https://localhost:8080/",
          "height": 35
        }
      },
      "source": [
        "# Try to add the same element\n",
        "x.add(1)\n",
        "print(x)"
      ],
      "execution_count": 0,
      "outputs": [
        {
          "output_type": "stream",
          "text": [
            "{1, 2}\n"
          ],
          "name": "stdout"
        }
      ]
    },
    {
      "cell_type": "markdown",
      "metadata": {
        "id": "wZoRLqTcRz5z",
        "colab_type": "text"
      },
      "source": [
        "Notice how it won't place another 1 there. That's because a set is only concerned with unique elements! We can cast a list with multiple repeat elements to a set to get the unique elements. For example:"
      ]
    },
    {
      "cell_type": "code",
      "metadata": {
        "id": "ocjzxMFdR1dD",
        "colab_type": "code",
        "colab": {}
      },
      "source": [
        "# Create a list with repeats\n",
        "list1 = [1,1,2,2,3,4,5,6,1,1]"
      ],
      "execution_count": 0,
      "outputs": []
    },
    {
      "cell_type": "code",
      "metadata": {
        "id": "6NAyXo0iR62w",
        "colab_type": "code",
        "outputId": "e68fd5ef-0188-43dd-9397-0853c91ac3c1",
        "colab": {
          "base_uri": "https://localhost:8080/",
          "height": 35
        }
      },
      "source": [
        "# Cast as set to get unique values\n",
        "set(list1)"
      ],
      "execution_count": 0,
      "outputs": [
        {
          "output_type": "execute_result",
          "data": {
            "text/plain": [
              "{1, 2, 3, 4, 5, 6}"
            ]
          },
          "metadata": {
            "tags": []
          },
          "execution_count": 88
        }
      ]
    },
    {
      "cell_type": "markdown",
      "metadata": {
        "id": "xRQDmmy_SW_I",
        "colab_type": "text"
      },
      "source": [
        "**clear:** removes all elements from the set"
      ]
    },
    {
      "cell_type": "code",
      "metadata": {
        "id": "SPjj8F9gSf-d",
        "colab_type": "code",
        "outputId": "ffce5401-26e5-4599-ea3f-907d06c963cc",
        "colab": {
          "base_uri": "https://localhost:8080/",
          "height": 35
        }
      },
      "source": [
        "x.clear()\n",
        "print(x)"
      ],
      "execution_count": 0,
      "outputs": [
        {
          "output_type": "stream",
          "text": [
            "set()\n"
          ],
          "name": "stdout"
        }
      ]
    },
    {
      "cell_type": "markdown",
      "metadata": {
        "id": "Ya7EvMqGSqxY",
        "colab_type": "text"
      },
      "source": [
        "**copy:** returns a copy of the set. Note it is a copy, so changes to the original don't effect the copy."
      ]
    },
    {
      "cell_type": "code",
      "metadata": {
        "id": "F5SH5DjMSvKA",
        "colab_type": "code",
        "outputId": "88a3e1e8-bb47-4a66-d5b3-282fbd9ba452",
        "colab": {
          "base_uri": "https://localhost:8080/",
          "height": 52
        }
      },
      "source": [
        "s = {1,2,3}\n",
        "sc = s.copy()\n",
        "print(sc)\n",
        "\n",
        "s.add(4)\n",
        "print(s)"
      ],
      "execution_count": 0,
      "outputs": [
        {
          "output_type": "stream",
          "text": [
            "{1, 2, 3}\n",
            "{1, 2, 3, 4}\n"
          ],
          "name": "stdout"
        }
      ]
    },
    {
      "cell_type": "markdown",
      "metadata": {
        "id": "Mc9XS5aFS8vI",
        "colab_type": "text"
      },
      "source": [
        "**difference:** difference returns the difference of two or more sets. \n",
        "\n",
        "The syntax is: set1.difference(set2)\n",
        "\n",
        "For example:"
      ]
    },
    {
      "cell_type": "code",
      "metadata": {
        "id": "GiTdCkBxTCjm",
        "colab_type": "code",
        "outputId": "f462dc67-7e41-4494-ecab-88b8ed20c64c",
        "colab": {
          "base_uri": "https://localhost:8080/",
          "height": 35
        }
      },
      "source": [
        "s.difference(sc)\n"
      ],
      "execution_count": 0,
      "outputs": [
        {
          "output_type": "execute_result",
          "data": {
            "text/plain": [
              "{4}"
            ]
          },
          "metadata": {
            "tags": []
          },
          "execution_count": 96
        }
      ]
    },
    {
      "cell_type": "markdown",
      "metadata": {
        "id": "OP7MFEE9Tl1u",
        "colab_type": "text"
      },
      "source": [
        "\n",
        "**difference_update:**\n",
        "\n",
        "difference_update syntax is: set1.difference_update(set2)\n",
        "\n",
        "the method returns set1 after removing elements found in set2"
      ]
    },
    {
      "cell_type": "code",
      "metadata": {
        "id": "adGpRUq9TwVy",
        "colab_type": "code",
        "outputId": "f55e342b-69ba-499e-f581-c441a84e8538",
        "colab": {
          "base_uri": "https://localhost:8080/",
          "height": 35
        }
      },
      "source": [
        "s1 = {1,2,3}\n",
        "s2 = {1,4,5}\n",
        "s1.difference_update(s2)\n",
        "print(s1)"
      ],
      "execution_count": 0,
      "outputs": [
        {
          "output_type": "stream",
          "text": [
            "{2, 3}\n"
          ],
          "name": "stdout"
        }
      ]
    },
    {
      "cell_type": "markdown",
      "metadata": {
        "id": "UHvkCowrUL0w",
        "colab_type": "text"
      },
      "source": [
        "**discard:** Removes an element from a set if it is a member. If the element is not a member, do nothing."
      ]
    },
    {
      "cell_type": "code",
      "metadata": {
        "id": "LXSZ5XM_UQw0",
        "colab_type": "code",
        "outputId": "a8189147-0ec6-404b-e55a-a539206f1c80",
        "colab": {
          "base_uri": "https://localhost:8080/",
          "height": 35
        }
      },
      "source": [
        "s"
      ],
      "execution_count": 0,
      "outputs": [
        {
          "output_type": "execute_result",
          "data": {
            "text/plain": [
              "{1, 2, 3, 4}"
            ]
          },
          "metadata": {
            "tags": []
          },
          "execution_count": 98
        }
      ]
    },
    {
      "cell_type": "code",
      "metadata": {
        "id": "bDkUhRrZUVbf",
        "colab_type": "code",
        "outputId": "e018e490-2235-4fb9-d6e9-9b7393511a2a",
        "colab": {
          "base_uri": "https://localhost:8080/",
          "height": 35
        }
      },
      "source": [
        "s.discard(2)\n",
        "print(s)"
      ],
      "execution_count": 0,
      "outputs": [
        {
          "output_type": "stream",
          "text": [
            "{1, 3, 4}\n"
          ],
          "name": "stdout"
        }
      ]
    },
    {
      "cell_type": "markdown",
      "metadata": {
        "id": "nXlO4ejvUgo7",
        "colab_type": "text"
      },
      "source": [
        "**intersection and intersection_update:** Returns the intersection of two or more sets as a new set.(i.e. elements that are common to all of the sets.)"
      ]
    },
    {
      "cell_type": "code",
      "metadata": {
        "id": "noYcoxxkUnPC",
        "colab_type": "code",
        "outputId": "c4ab3a95-dc25-4af1-d23e-069e37964668",
        "colab": {
          "base_uri": "https://localhost:8080/",
          "height": 35
        }
      },
      "source": [
        "s1 = {1,2,3}\n",
        "s2 = {1,2,4}\n",
        "s1.intersection(s2)\n",
        "\n",
        "print(s1)"
      ],
      "execution_count": 0,
      "outputs": [
        {
          "output_type": "stream",
          "text": [
            "{1, 2, 3}\n"
          ],
          "name": "stdout"
        }
      ]
    },
    {
      "cell_type": "markdown",
      "metadata": {
        "id": "r0aVcm11UuKE",
        "colab_type": "text"
      },
      "source": [
        "intersection_update will update a set with the intersection of itself and another."
      ]
    },
    {
      "cell_type": "code",
      "metadata": {
        "id": "3CUbCuHSUxDE",
        "colab_type": "code",
        "outputId": "3a787db4-c961-4eb1-cbb1-4883c663a4a3",
        "colab": {
          "base_uri": "https://localhost:8080/",
          "height": 35
        }
      },
      "source": [
        "s1.intersection_update(s2)\n",
        "print(s1)"
      ],
      "execution_count": 0,
      "outputs": [
        {
          "output_type": "stream",
          "text": [
            "{1, 2}\n"
          ],
          "name": "stdout"
        }
      ]
    },
    {
      "cell_type": "markdown",
      "metadata": {
        "id": "7oHoohKgU-fX",
        "colab_type": "text"
      },
      "source": [
        "**isdisjoint:** This method will return True if two sets have a null intersection."
      ]
    },
    {
      "cell_type": "code",
      "metadata": {
        "id": "3chPufLXVDq2",
        "colab_type": "code",
        "colab": {}
      },
      "source": [
        "s1 = {1,2}\n",
        "s2 = {1,2,4}\n",
        "s3 = {5}"
      ],
      "execution_count": 0,
      "outputs": []
    },
    {
      "cell_type": "code",
      "metadata": {
        "id": "0N1rfHGxVJP7",
        "colab_type": "code",
        "outputId": "bec3cc1f-9f6f-4980-880b-4c724b8ecb6c",
        "colab": {
          "base_uri": "https://localhost:8080/",
          "height": 35
        }
      },
      "source": [
        "s1.isdisjoint(s2)"
      ],
      "execution_count": 0,
      "outputs": [
        {
          "output_type": "execute_result",
          "data": {
            "text/plain": [
              "False"
            ]
          },
          "metadata": {
            "tags": []
          },
          "execution_count": 105
        }
      ]
    },
    {
      "cell_type": "code",
      "metadata": {
        "id": "W2iHuUTCVKxM",
        "colab_type": "code",
        "outputId": "e3dbc207-474a-4dcd-81cd-35d846f15e98",
        "colab": {
          "base_uri": "https://localhost:8080/",
          "height": 35
        }
      },
      "source": [
        "s1.isdisjoint(s3)"
      ],
      "execution_count": 0,
      "outputs": [
        {
          "output_type": "execute_result",
          "data": {
            "text/plain": [
              "True"
            ]
          },
          "metadata": {
            "tags": []
          },
          "execution_count": 106
        }
      ]
    },
    {
      "cell_type": "markdown",
      "metadata": {
        "id": "FxFG76uWVP-d",
        "colab_type": "text"
      },
      "source": [
        "**issubset:** This method reports whether another set contains this set."
      ]
    },
    {
      "cell_type": "code",
      "metadata": {
        "id": "KgumsIRcVTKI",
        "colab_type": "code",
        "outputId": "83631fb2-abda-49e2-9711-d038de8fc468",
        "colab": {
          "base_uri": "https://localhost:8080/",
          "height": 35
        }
      },
      "source": [
        "s1"
      ],
      "execution_count": 0,
      "outputs": [
        {
          "output_type": "execute_result",
          "data": {
            "text/plain": [
              "{1, 2}"
            ]
          },
          "metadata": {
            "tags": []
          },
          "execution_count": 107
        }
      ]
    },
    {
      "cell_type": "code",
      "metadata": {
        "id": "QrelSydUVWxo",
        "colab_type": "code",
        "outputId": "bf108a8b-c84d-4070-ddf6-6b6048dacbdb",
        "colab": {
          "base_uri": "https://localhost:8080/",
          "height": 35
        }
      },
      "source": [
        "s2"
      ],
      "execution_count": 0,
      "outputs": [
        {
          "output_type": "execute_result",
          "data": {
            "text/plain": [
              "{1, 2, 4}"
            ]
          },
          "metadata": {
            "tags": []
          },
          "execution_count": 108
        }
      ]
    },
    {
      "cell_type": "code",
      "metadata": {
        "id": "QcC3wqX5VZLv",
        "colab_type": "code",
        "outputId": "a670f3b7-58a3-4e83-e855-b5ea6c6787c7",
        "colab": {
          "base_uri": "https://localhost:8080/",
          "height": 35
        }
      },
      "source": [
        "s1.issubset(s2)"
      ],
      "execution_count": 0,
      "outputs": [
        {
          "output_type": "execute_result",
          "data": {
            "text/plain": [
              "True"
            ]
          },
          "metadata": {
            "tags": []
          },
          "execution_count": 109
        }
      ]
    },
    {
      "cell_type": "markdown",
      "metadata": {
        "id": "ClvTUw1aVdIa",
        "colab_type": "text"
      },
      "source": [
        "**issuperset:** This method will report whether this set contains another set."
      ]
    },
    {
      "cell_type": "code",
      "metadata": {
        "id": "Bb3AQ1B5Vfak",
        "colab_type": "code",
        "outputId": "6b64115f-2351-4d27-a93b-5e277ef26fa6",
        "colab": {
          "base_uri": "https://localhost:8080/",
          "height": 35
        }
      },
      "source": [
        "s2.issuperset(s1)"
      ],
      "execution_count": 0,
      "outputs": [
        {
          "output_type": "execute_result",
          "data": {
            "text/plain": [
              "True"
            ]
          },
          "metadata": {
            "tags": []
          },
          "execution_count": 110
        }
      ]
    },
    {
      "cell_type": "code",
      "metadata": {
        "id": "eb8lxQaBVjMB",
        "colab_type": "code",
        "outputId": "b22ec2c8-28bd-424a-e5be-7fc359093f0a",
        "colab": {
          "base_uri": "https://localhost:8080/",
          "height": 35
        }
      },
      "source": [
        "s1.issuperset(s2)"
      ],
      "execution_count": 0,
      "outputs": [
        {
          "output_type": "execute_result",
          "data": {
            "text/plain": [
              "False"
            ]
          },
          "metadata": {
            "tags": []
          },
          "execution_count": 111
        }
      ]
    },
    {
      "cell_type": "markdown",
      "metadata": {
        "id": "ZdN2ALecVm26",
        "colab_type": "text"
      },
      "source": [
        "**symmetric_difference and symmetric_update:** Return the symmetric difference of two sets as a new set.(i.e. all elements that are in exactly one of the sets.)"
      ]
    },
    {
      "cell_type": "code",
      "metadata": {
        "id": "5ZDXC5CnVqFY",
        "colab_type": "code",
        "outputId": "c051d48a-7d29-4db4-d82c-e3cc2b262253",
        "colab": {
          "base_uri": "https://localhost:8080/",
          "height": 35
        }
      },
      "source": [
        "s1"
      ],
      "execution_count": 0,
      "outputs": [
        {
          "output_type": "execute_result",
          "data": {
            "text/plain": [
              "{1, 2}"
            ]
          },
          "metadata": {
            "tags": []
          },
          "execution_count": 112
        }
      ]
    },
    {
      "cell_type": "code",
      "metadata": {
        "id": "tUQegtZAVuM1",
        "colab_type": "code",
        "outputId": "895ca39f-6b06-4bc5-a685-431f50d66c00",
        "colab": {
          "base_uri": "https://localhost:8080/",
          "height": 35
        }
      },
      "source": [
        "s2"
      ],
      "execution_count": 0,
      "outputs": [
        {
          "output_type": "execute_result",
          "data": {
            "text/plain": [
              "{1, 2, 4}"
            ]
          },
          "metadata": {
            "tags": []
          },
          "execution_count": 113
        }
      ]
    },
    {
      "cell_type": "code",
      "metadata": {
        "id": "9zc2taWmVwpu",
        "colab_type": "code",
        "outputId": "41a6fa46-5c72-4ee3-c11e-3cded0e789d5",
        "colab": {
          "base_uri": "https://localhost:8080/",
          "height": 35
        }
      },
      "source": [
        "s1.symmetric_difference(s2)"
      ],
      "execution_count": 0,
      "outputs": [
        {
          "output_type": "execute_result",
          "data": {
            "text/plain": [
              "{4}"
            ]
          },
          "metadata": {
            "tags": []
          },
          "execution_count": 114
        }
      ]
    },
    {
      "cell_type": "markdown",
      "metadata": {
        "id": "AGQho_lQV1KY",
        "colab_type": "text"
      },
      "source": [
        "**union:** Returns the union of two sets (i.e. all elements that are in either set.)"
      ]
    },
    {
      "cell_type": "code",
      "metadata": {
        "id": "AD25pnABV5XG",
        "colab_type": "code",
        "outputId": "307a1150-8b7b-4c99-8909-d2248ef7c936",
        "colab": {
          "base_uri": "https://localhost:8080/",
          "height": 35
        }
      },
      "source": [
        "s1.union(s2)"
      ],
      "execution_count": 0,
      "outputs": [
        {
          "output_type": "execute_result",
          "data": {
            "text/plain": [
              "{1, 2, 4}"
            ]
          },
          "metadata": {
            "tags": []
          },
          "execution_count": 115
        }
      ]
    },
    {
      "cell_type": "markdown",
      "metadata": {
        "id": "7iLJGtDPWAAa",
        "colab_type": "text"
      },
      "source": [
        "**update:** Update a set with the union of itself and others."
      ]
    },
    {
      "cell_type": "code",
      "metadata": {
        "id": "2DvUiIjmWEKK",
        "colab_type": "code",
        "outputId": "b952217c-cce6-4a87-9157-59f8120a0e24",
        "colab": {
          "base_uri": "https://localhost:8080/",
          "height": 35
        }
      },
      "source": [
        "s1.update(s2)\n",
        "print(s1)"
      ],
      "execution_count": 0,
      "outputs": [
        {
          "output_type": "stream",
          "text": [
            "{1, 2, 4}\n"
          ],
          "name": "stdout"
        }
      ]
    },
    {
      "cell_type": "markdown",
      "metadata": {
        "id": "D9rBSHCZWLA6",
        "colab_type": "text"
      },
      "source": [
        "**This data structure is extremely useful and is underutilized by beginners, so try to keep it in mind!**"
      ]
    },
    {
      "cell_type": "markdown",
      "metadata": {
        "id": "lkGmmSPOYGQo",
        "colab_type": "text"
      },
      "source": [
        "# 5. Exercises "
      ]
    },
    {
      "cell_type": "markdown",
      "metadata": {
        "id": "Zu78X7EWZYLI",
        "colab_type": "text"
      },
      "source": [
        "# Exercise 10.1: \n",
        "Write a function called nested_sum that takes a nested list of integers and add up the elements from all of the nested lists.\n"
      ]
    },
    {
      "cell_type": "code",
      "metadata": {
        "id": "GG_ucVf9Zf_o",
        "colab_type": "code",
        "colab": {}
      },
      "source": [
        "def nested_sum(nestedList):\n",
        "        '''\n",
        "        nestedList: list composed of nested lists containing int.\n",
        "        Returns the sum of all the int in the nested list\n",
        "        '''\n",
        "        newList = []\n",
        "        #Helper function to flatten the list\n",
        "        def flatlist(nestedList):\n",
        "                '''\n",
        "                Returns a flat list\n",
        "                '''\n",
        "                for i in range(len(nestedList)):\n",
        "                        if type(nestedList[i]) == int:\n",
        "                                newList.append(nestedList[i])\n",
        "                        else:\n",
        "                                flatlist(nestedList[i])\n",
        "                return newList\n",
        "\n",
        "        flatlist(nestedList)\n",
        "        print (sum(newList))"
      ],
      "execution_count": 0,
      "outputs": []
    },
    {
      "cell_type": "code",
      "metadata": {
        "id": "-vlBNn7cZ3hw",
        "colab_type": "code",
        "outputId": "274559c3-5b14-4e4b-97f8-28eeed1ca73f",
        "colab": {
          "base_uri": "https://localhost:8080/",
          "height": 35
        }
      },
      "source": [
        "nestedList = [[1, 2, 3], [4, 5, 6], [7, 8, 9]]\n",
        "nested_sum(nestedList)"
      ],
      "execution_count": 0,
      "outputs": [
        {
          "output_type": "stream",
          "text": [
            "45\n"
          ],
          "name": "stdout"
        }
      ]
    },
    {
      "cell_type": "markdown",
      "metadata": {
        "id": "DNFLHFcvZ9xt",
        "colab_type": "text"
      },
      "source": [
        "# Exercise 10.3:\n",
        "\n",
        "Write a function that takes a list of numbers and returns the cumulative sum.\n",
        "\n",
        "\n"
      ]
    },
    {
      "cell_type": "code",
      "metadata": {
        "id": "PVCKVf27abHy",
        "colab_type": "code",
        "colab": {}
      },
      "source": [
        "def cumulative(list):\n",
        "    cumulative_sum = 0\n",
        "    new_list = []\n",
        "    for i in list:\n",
        "        cumulative_sum += i\n",
        "        new_list.append(cumulative_sum)\n",
        "    return new_list"
      ],
      "execution_count": 0,
      "outputs": []
    },
    {
      "cell_type": "code",
      "metadata": {
        "id": "2PwC-oSPaczr",
        "colab_type": "code",
        "outputId": "9dadde09-0d29-4f75-8311-345dcb3d5e5b",
        "colab": {
          "base_uri": "https://localhost:8080/",
          "height": 34
        }
      },
      "source": [
        "list = [1,2,3,4]\n",
        "\n",
        "cumulative(list)"
      ],
      "execution_count": 16,
      "outputs": [
        {
          "output_type": "execute_result",
          "data": {
            "text/plain": [
              "[1, 3, 6, 10]"
            ]
          },
          "metadata": {
            "tags": []
          },
          "execution_count": 16
        }
      ]
    },
    {
      "cell_type": "markdown",
      "metadata": {
        "id": "M1cCSRukarYK",
        "colab_type": "text"
      },
      "source": [
        "# Exercise 11.1:\n",
        "\n",
        "Write a function that reads the words in original_papers.txt and stores them as keys in a dictionary. It doesn’t matter what the values are. Then you can use the in operator as a fast way to check whether a string is in the dictionary."
      ]
    },
    {
      "cell_type": "code",
      "metadata": {
        "id": "Q5zvZt8wbqAF",
        "colab_type": "code",
        "colab": {}
      },
      "source": [
        "fin = open('original_papers.txt')\n",
        "englishdict = dict()\n",
        "\n",
        "\n",
        "def create_diction():\n",
        "    counter = 0\n",
        "    dictionairy = dict()\n",
        "    for line in fin:\n",
        "        word = line.strip()\n",
        "        dictionairy[word] = counter\n",
        "        counter += 1\n",
        "    return dictionairy"
      ],
      "execution_count": 0,
      "outputs": []
    },
    {
      "cell_type": "code",
      "metadata": {
        "id": "9q8eX50ebu79",
        "colab_type": "code",
        "outputId": "666f7823-70bb-4810-ad0e-8fa385f02157",
        "colab": {
          "base_uri": "https://localhost:8080/",
          "height": 191
        }
      },
      "source": [
        "create_diction()"
      ],
      "execution_count": 0,
      "outputs": [
        {
          "output_type": "execute_result",
          "data": {
            "text/plain": [
              "{'A general evaluation measure for document organization tasks': 0,\n",
              " 'ChatNoir a search engine for the ClueWeb09 corpus': 2,\n",
              " \"ERD'14 entity recognition and disambiguation challenge\": 1,\n",
              " 'Entity query feature expansion using knowledge base links': 6,\n",
              " 'Extending average precision to graded relevance judgments': 5,\n",
              " 'Learning to personalize query auto-completion': 3,\n",
              " 'On building a reusable Twitter corpus': 4,\n",
              " 'System effectiveness, user models, and user utility a conceptual framework for investigation': 7,\n",
              " 'Time-sensitive query auto-completion': 8,\n",
              " 'Toward whole-session relevance exploring intrinsic diversity in web search': 9}"
            ]
          },
          "metadata": {
            "tags": []
          },
          "execution_count": 134
        }
      ]
    }
  ]
}
