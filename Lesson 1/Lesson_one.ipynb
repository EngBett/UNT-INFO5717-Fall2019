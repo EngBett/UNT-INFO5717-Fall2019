{
  "nbformat": 4,
  "nbformat_minor": 0,
  "metadata": {
    "colab": {
      "name": "Lesson.ipynb",
      "version": "0.3.2",
      "provenance": [],
      "include_colab_link": true
    },
    "kernelspec": {
      "name": "python3",
      "display_name": "Python 3"
    }
  },
  "cells": [
    {
      "cell_type": "markdown",
      "metadata": {
        "id": "view-in-github",
        "colab_type": "text"
      },
      "source": [
        "<a href=\"https://colab.research.google.com/github/unt-iialab/UNT-INFO5717-Fall2019/blob/master/Lesson%201/Lesson_one.ipynb\" target=\"_parent\"><img src=\"https://colab.research.google.com/assets/colab-badge.svg\" alt=\"Open In Colab\"/></a>"
      ]
    },
    {
      "cell_type": "markdown",
      "metadata": {
        "id": "A0g9R2GyHG4Y",
        "colab_type": "text"
      },
      "source": [
        "This file introduce some examples for python beginners "
      ]
    },
    {
      "cell_type": "code",
      "metadata": {
        "id": "kWTO_vU9HbeO",
        "colab_type": "code",
        "outputId": "275d386a-53f7-441c-a0b8-bd976f29455b",
        "colab": {
          "base_uri": "https://localhost:8080/",
          "height": 35
        }
      },
      "source": [
        "# This program prints Hello, world!\n",
        "print('Hello, world!')"
      ],
      "execution_count": 0,
      "outputs": [
        {
          "output_type": "stream",
          "text": [
            "Hello, world!\n"
          ],
          "name": "stdout"
        }
      ]
    },
    {
      "cell_type": "code",
      "metadata": {
        "id": "n9XeMLSLJDns",
        "colab_type": "code",
        "outputId": "6cfb9a18-6353-4489-ce04-192ade246683",
        "colab": {
          "base_uri": "https://localhost:8080/",
          "height": 35
        }
      },
      "source": [
        "# This program adds two numbers\n",
        "num1 = 1.5\n",
        "num2 = 6.3\n",
        "# Add two numbers\n",
        "sum = float(num1) + float(num2)\n",
        "# Display the sum\n",
        "print('The sum of {0} and {1} is {2}'.format(num1, num2, sum))"
      ],
      "execution_count": 0,
      "outputs": [
        {
          "output_type": "stream",
          "text": [
            "The sum of 1.5 and 6.3 is 7.8\n"
          ],
          "name": "stdout"
        }
      ]
    },
    {
      "cell_type": "code",
      "metadata": {
        "id": "tmbQR9MhKKV_",
        "colab_type": "code",
        "outputId": "adb9c185-1f56-43e7-d5dc-8582a4ada3eb",
        "colab": {
          "base_uri": "https://localhost:8080/",
          "height": 69
        }
      },
      "source": [
        "# Store input numbers\n",
        "num1 = input('Enter first number: ')\n",
        "num2 = input('Enter second number: ')\n",
        "# Add two numbers\n",
        "sum = float(num1) + float(num2)\n",
        "# Display the sum\n",
        "print('The sum of {0} and {1} is {2}'.format(num1, num2, sum))"
      ],
      "execution_count": 0,
      "outputs": [
        {
          "output_type": "stream",
          "text": [
            "Enter first number: 8.5\n",
            "Enter second number: 12.2\n",
            "The sum of 8.5 and 12.2 is 20.7\n"
          ],
          "name": "stdout"
        }
      ]
    },
    {
      "cell_type": "code",
      "metadata": {
        "id": "sir7NkfFW9j5",
        "colab_type": "code",
        "colab": {
          "base_uri": "https://localhost:8080/",
          "height": 34
        },
        "outputId": "c7e105eb-7682-4973-dddd-9dfee8a9b852"
      },
      "source": [
        "# Python Program to calculate the square root\n",
        "\n",
        "# Note: change this value for a different result\n",
        "num = 8 \n",
        "\n",
        "# uncomment to take the input from the user\n",
        "#num = float(input('Enter a number: '))\n",
        "num_sqrt = num ** 0.5\n",
        "print('The square root of %0.3f is %0.3f'%(num ,num_sqrt))"
      ],
      "execution_count": 1,
      "outputs": [
        {
          "output_type": "stream",
          "text": [
            "The square root of 8.000 is 2.828\n"
          ],
          "name": "stdout"
        }
      ]
    },
    {
      "cell_type": "code",
      "metadata": {
        "id": "uJZ9XaKuXr6f",
        "colab_type": "code",
        "colab": {
          "base_uri": "https://localhost:8080/",
          "height": 34
        },
        "outputId": "162489db-7ba6-40fd-a66c-ab4895853b62"
      },
      "source": [
        "# Python Program to find the area of triangle\n",
        "\n",
        "a = 5\n",
        "b = 6\n",
        "c = 7\n",
        "\n",
        "# Uncomment below to take inputs from the user\n",
        "# a = float(input('Enter first side: '))\n",
        "# b = float(input('Enter second side: '))\n",
        "# c = float(input('Enter third side: '))\n",
        "\n",
        "# calculate the semi-perimeter\n",
        "s = (a + b + c) / 2\n",
        "\n",
        "# calculate the area\n",
        "area = (s*(s-a)*(s-b)*(s-c)) ** 0.5\n",
        "print('The area of the triangle is %0.2f' %area)"
      ],
      "execution_count": 2,
      "outputs": [
        {
          "output_type": "stream",
          "text": [
            "The area of the triangle is 14.70\n"
          ],
          "name": "stdout"
        }
      ]
    },
    {
      "cell_type": "code",
      "metadata": {
        "id": "1NvTNFhjYPe2",
        "colab_type": "code",
        "colab": {
          "base_uri": "https://localhost:8080/",
          "height": 34
        },
        "outputId": "eeeffd39-08ad-40f5-9214-2bd41de98ec7"
      },
      "source": [
        "# Program to generate a random number between 0 and 9\n",
        "\n",
        "# import the random module\n",
        "import random\n",
        "\n",
        "print(random.randint(0,9))"
      ],
      "execution_count": 3,
      "outputs": [
        {
          "output_type": "stream",
          "text": [
            "1\n"
          ],
          "name": "stdout"
        }
      ]
    }
  ]
}