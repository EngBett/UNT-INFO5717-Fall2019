{
  "nbformat": 4,
  "nbformat_minor": 0,
  "metadata": {
    "colab": {
      "name": "Lesson.ipynb",
      "version": "0.3.2",
      "provenance": [],
      "include_colab_link": true
    },
    "kernelspec": {
      "name": "python3",
      "display_name": "Python 3"
    }
  },
  "cells": [
    {
      "cell_type": "markdown",
      "metadata": {
        "id": "view-in-github",
        "colab_type": "text"
      },
      "source": [
        "<a href=\"https://colab.research.google.com/github/unt-iialab/UNT-INFO5717-Fall2019/blob/master/Lesson%201/Lesson_one.ipynb\" target=\"_parent\"><img src=\"https://colab.research.google.com/assets/colab-badge.svg\" alt=\"Open In Colab\"/></a>"
      ]
    },
    {
      "cell_type": "markdown",
      "metadata": {
        "id": "A0g9R2GyHG4Y",
        "colab_type": "text"
      },
      "source": [
        "This file introduce some examples for python beginners "
      ]
    },
    {
      "cell_type": "code",
      "metadata": {
        "id": "kWTO_vU9HbeO",
        "colab_type": "code",
        "outputId": "275d386a-53f7-441c-a0b8-bd976f29455b",
        "colab": {
          "base_uri": "https://localhost:8080/",
          "height": 35
        }
      },
      "source": [
        "# This program prints Hello, world!\n",
        "print('Hello, world!')"
      ],
      "execution_count": 0,
      "outputs": [
        {
          "output_type": "stream",
          "text": [
            "Hello, world!\n"
          ],
          "name": "stdout"
        }
      ]
    },
    {
      "cell_type": "code",
      "metadata": {
        "id": "n9XeMLSLJDns",
        "colab_type": "code",
        "outputId": "6cfb9a18-6353-4489-ce04-192ade246683",
        "colab": {
          "base_uri": "https://localhost:8080/",
          "height": 35
        }
      },
      "source": [
        "# This program adds two numbers\n",
        "num1 = 1.5\n",
        "num2 = 6.3\n",
        "# Add two numbers\n",
        "sum = float(num1) + float(num2)\n",
        "# Display the sum\n",
        "print('The sum of {0} and {1} is {2}'.format(num1, num2, sum))"
      ],
      "execution_count": 0,
      "outputs": [
        {
          "output_type": "stream",
          "text": [
            "The sum of 1.5 and 6.3 is 7.8\n"
          ],
          "name": "stdout"
        }
      ]
    },
    {
      "cell_type": "code",
      "metadata": {
        "id": "tmbQR9MhKKV_",
        "colab_type": "code",
        "outputId": "adb9c185-1f56-43e7-d5dc-8582a4ada3eb",
        "colab": {
          "base_uri": "https://localhost:8080/",
          "height": 69
        }
      },
      "source": [
        "# Store input numbers\n",
        "num1 = input('Enter first number: ')\n",
        "num2 = input('Enter second number: ')\n",
        "# Add two numbers\n",
        "sum = float(num1) + float(num2)\n",
        "# Display the sum\n",
        "print('The sum of {0} and {1} is {2}'.format(num1, num2, sum))"
      ],
      "execution_count": 0,
      "outputs": [
        {
          "output_type": "stream",
          "text": [
            "Enter first number: 8.5\n",
            "Enter second number: 12.2\n",
            "The sum of 8.5 and 12.2 is 20.7\n"
          ],
          "name": "stdout"
        }
      ]
    },
    {
      "cell_type": "code",
      "metadata": {
        "id": "sir7NkfFW9j5",
        "colab_type": "code",
        "colab": {
          "base_uri": "https://localhost:8080/",
          "height": 34
        },
        "outputId": "c7e105eb-7682-4973-dddd-9dfee8a9b852"
      },
      "source": [
        "# Python Program to calculate the square root\n",
        "\n",
        "# Note: change this value for a different result\n",
        "num = 8 \n",
        "\n",
        "# uncomment to take the input from the user\n",
        "#num = float(input('Enter a number: '))\n",
        "num_sqrt = num ** 0.5\n",
        "print('The square root of %0.3f is %0.3f'%(num ,num_sqrt))"
      ],
      "execution_count": 1,
      "outputs": [
        {
          "output_type": "stream",
          "text": [
            "The square root of 8.000 is 2.828\n"
          ],
          "name": "stdout"
        }
      ]
    },
    {
      "cell_type": "code",
      "metadata": {
        "id": "uJZ9XaKuXr6f",
        "colab_type": "code",
        "colab": {
          "base_uri": "https://localhost:8080/",
          "height": 34
        },
        "outputId": "162489db-7ba6-40fd-a66c-ab4895853b62"
      },
      "source": [
        "# Python Program to find the area of triangle\n",
        "\n",
        "a = 5\n",
        "b = 6\n",
        "c = 7\n",
        "\n",
        "# Uncomment below to take inputs from the user\n",
        "# a = float(input('Enter first side: '))\n",
        "# b = float(input('Enter second side: '))\n",
        "# c = float(input('Enter third side: '))\n",
        "\n",
        "# calculate the semi-perimeter\n",
        "s = (a + b + c) / 2\n",
        "\n",
        "# calculate the area\n",
        "area = (s*(s-a)*(s-b)*(s-c)) ** 0.5\n",
        "print('The area of the triangle is %0.2f' %area)"
      ],
      "execution_count": 2,
      "outputs": [
        {
          "output_type": "stream",
          "text": [
            "The area of the triangle is 14.70\n"
          ],
          "name": "stdout"
        }
      ]
    },
    {
      "cell_type": "code",
      "metadata": {
        "id": "1NvTNFhjYPe2",
        "colab_type": "code",
        "colab": {
          "base_uri": "https://localhost:8080/",
          "height": 34
        },
        "outputId": "d532879b-d3ef-4b26-887d-83203c5bc84f"
      },
      "source": [
        "# Program to generate a random number between 0 and 9\n",
        "\n",
        "# import the random module\n",
        "import random\n",
        "\n",
        "print(random.randint(0,9))"
      ],
      "execution_count": 4,
      "outputs": [
        {
          "output_type": "stream",
          "text": [
            "2\n"
          ],
          "name": "stdout"
        }
      ]
    },
    {
      "cell_type": "code",
      "metadata": {
        "id": "teu8YGMkYk9e",
        "colab_type": "code",
        "colab": {
          "base_uri": "https://localhost:8080/",
          "height": 34
        },
        "outputId": "2335f467-d865-4a2a-84bc-d37c713feff9"
      },
      "source": [
        "# Python program to check if the input year is a leap year or not\n",
        "\n",
        "year = 2000\n",
        "\n",
        "# To get year (integer input) from the user\n",
        "# year = int(input(\"Enter a year: \"))\n",
        "\n",
        "if (year % 4) == 0:\n",
        "   if (year % 100) == 0:\n",
        "       if (year % 400) == 0:\n",
        "           print(\"{0} is a leap year\".format(year))\n",
        "       else:\n",
        "           print(\"{0} is not a leap year\".format(year))\n",
        "   else:\n",
        "       print(\"{0} is a leap year\".format(year))\n",
        "else:\n",
        "   print(\"{0} is not a leap year\".format(year))"
      ],
      "execution_count": 5,
      "outputs": [
        {
          "output_type": "stream",
          "text": [
            "2000 is a leap year\n"
          ],
          "name": "stdout"
        }
      ]
    },
    {
      "cell_type": "code",
      "metadata": {
        "id": "Wl_gpYZSbFn9",
        "colab_type": "code",
        "colab": {
          "base_uri": "https://localhost:8080/",
          "height": 34
        },
        "outputId": "6608f25f-f5a5-47cb-a4fa-222c09d48542"
      },
      "source": [
        "# Write a Python program to count the occurrences of each word in a given sentence.\n",
        "\n",
        "\n",
        "# Define a function to count words, the input variable is a sentence\n",
        "def word_count(str):\n",
        "    counts = dict()\n",
        "    words = str.split()\n",
        "\n",
        "    for word in words:\n",
        "        if word in counts:\n",
        "            counts[word] += 1\n",
        "        else:\n",
        "            counts[word] = 1\n",
        "\n",
        "    return counts\n",
        "  \n",
        "\n",
        "# Use the function defined above\n",
        "print( word_count('the quick brown fox jumps over the lazy dog.'))"
      ],
      "execution_count": 13,
      "outputs": [
        {
          "output_type": "stream",
          "text": [
            "{'the': 2, 'quick': 1, 'brown': 1, 'fox': 1, 'jumps': 1, 'over': 1, 'lazy': 1, 'dog.': 1}\n"
          ],
          "name": "stdout"
        }
      ]
    },
    {
      "cell_type": "code",
      "metadata": {
        "id": "Z0eKTz93Yo3X",
        "colab_type": "code",
        "colab": {
          "base_uri": "https://localhost:8080/",
          "height": 298
        },
        "outputId": "0a662545-8169-4eaa-a292-caa0368c44a7"
      },
      "source": [
        "import matplotlib.pyplot as plt\n",
        "import matplotlib.tri as tri\n",
        "import numpy as np\n",
        "\n",
        "# First create the x and y coordinates of the points.\n",
        "n_angles = 36\n",
        "n_radii = 8\n",
        "min_radius = 0.25\n",
        "radii = np.linspace(min_radius, 0.95, n_radii)\n",
        "\n",
        "angles = np.linspace(0, 2 * np.pi, n_angles, endpoint=False)\n",
        "angles = np.repeat(angles[..., np.newaxis], n_radii, axis=1)\n",
        "angles[:, 1::2] += np.pi / n_angles\n",
        "\n",
        "x = (radii * np.cos(angles)).flatten()\n",
        "y = (radii * np.sin(angles)).flatten()\n",
        "z = (np.cos(radii) * np.cos(3 * angles)).flatten()\n",
        "\n",
        "# Create the Triangulation; no triangles so Delaunay triangulation created.\n",
        "triang = tri.Triangulation(x, y)\n",
        "\n",
        "# Mask off unwanted triangles.\n",
        "triang.set_mask(np.hypot(x[triang.triangles].mean(axis=1),\n",
        "                         y[triang.triangles].mean(axis=1))\n",
        "                < min_radius)\n",
        "\n",
        "# visualize the data above\n",
        "fig1, ax1 = plt.subplots()\n",
        "ax1.set_aspect('equal')\n",
        "tpc = ax1.tripcolor(triang, z, shading='flat')\n",
        "fig1.colorbar(tpc)\n",
        "ax1.set_title('tripcolor of Delaunay triangulation, flat shading')\n"
      ],
      "execution_count": 11,
      "outputs": [
        {
          "output_type": "execute_result",
          "data": {
            "text/plain": [
              "Text(0.5, 1.0, 'tripcolor of Delaunay triangulation, flat shading')"
            ]
          },
          "metadata": {
            "tags": []
          },
          "execution_count": 11
        },
        {
          "output_type": "display_data",
          "data": {
            "image/png": "[encoded data removed]",
            "text/plain": [
              "<Figure size 432x288 with 2 Axes>"
            ]
          },
          "metadata": {
            "tags": []
          }
        }
      ]
    }
  ]
}