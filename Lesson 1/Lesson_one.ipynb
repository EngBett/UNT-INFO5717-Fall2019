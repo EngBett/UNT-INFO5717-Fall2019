{
  "nbformat": 4,
  "nbformat_minor": 0,
  "metadata": {
    "colab": {
      "name": "Lesson.ipynb",
      "version": "0.3.2",
      "provenance": [],
      "include_colab_link": true
    },
    "kernelspec": {
      "name": "python3",
      "display_name": "Python 3"
    }
  },
  "cells": [
    {
      "cell_type": "markdown",
      "metadata": {
        "id": "view-in-github",
        "colab_type": "text"
      },
      "source": [
        "<a href=\"https://colab.research.google.com/github/unt-iialab/UNT-INFO5717-Fall2019/blob/master/Lesson.ipynb\" target=\"_parent\"><img src=\"https://colab.research.google.com/assets/colab-badge.svg\" alt=\"Open In Colab\"/></a>"
      ]
    },
    {
      "cell_type": "markdown",
      "metadata": {
        "id": "A0g9R2GyHG4Y",
        "colab_type": "text"
      },
      "source": [
        "This file introduce some examples for python beginners "
      ]
    },
    {
      "cell_type": "code",
      "metadata": {
        "id": "kWTO_vU9HbeO",
        "colab_type": "code",
        "outputId": "275d386a-53f7-441c-a0b8-bd976f29455b",
        "colab": {
          "base_uri": "https://localhost:8080/",
          "height": 35
        }
      },
      "source": [
        "# This program prints Hello, world!\n",
        "print('Hello, world!')"
      ],
      "execution_count": 0,
      "outputs": [
        {
          "output_type": "stream",
          "text": [
            "Hello, world!\n"
          ],
          "name": "stdout"
        }
      ]
    }
  ]
}
