{
  "nbformat": 4,
  "nbformat_minor": 0,
  "metadata": {
    "colab": {
      "name": "assign-two-code.ipynb",
      "provenance": [],
      "toc_visible": true,
      "include_colab_link": true
    },
    "kernelspec": {
      "name": "python3",
      "display_name": "Python 3"
    }
  },
  "cells": [
    {
      "cell_type": "markdown",
      "metadata": {
        "id": "view-in-github",
        "colab_type": "text"
      },
      "source": [
        "<a href=\"https://colab.research.google.com/github/unt-iialab/UNT-INFO5717-Fall2019/blob/master/Assignment%20answers/assign_two_code.ipynb\" target=\"_parent\"><img src=\"https://colab.research.google.com/assets/colab-badge.svg\" alt=\"Open In Colab\"/></a>"
      ]
    },
    {
      "cell_type": "markdown",
      "metadata": {
        "id": "frh7MSL_qfFG",
        "colab_type": "text"
      },
      "source": [
        "# Reference answer for assignment two"
      ]
    },
    {
      "cell_type": "markdown",
      "metadata": {
        "id": "nB3Bokluqlrg",
        "colab_type": "text"
      },
      "source": [
        "**Question 1. (15 points).** The formula that describes the volume V of a sphere with radius r is the following:\n",
        "\n",
        "                                    V=4/3* π* r^3\n",
        "                                    \n",
        "Write a program in the “<LastName>_assognment-two-code.ipynb” file to calculate the value of V when r is in the range of 1– 10. Output the result in the following format:\n",
        "  \n",
        "\tr\tV\n",
        "\t1\t…\n",
        "\t2\t…\n",
        "\t3\t…"
      ]
    },
    {
      "cell_type": "code",
      "metadata": {
        "id": "0459HIdtqcSl",
        "colab_type": "code",
        "colab": {
          "base_uri": "https://localhost:8080/",
          "height": 204
        },
        "outputId": "72088c47-b9b2-4e90-ae6e-e9bda83e9ffb"
      },
      "source": [
        "import math\n",
        "# Definiion of volume equation\n",
        "def volume(radius):\n",
        "    return (4/3)*math.pi*(radius**3)\n",
        "\n",
        "print(\"r\\t V\")\n",
        "r=1\n",
        "# Loop to print volume for radius range 1-10\n",
        "while r <= 10:\n",
        "    print(r,\"\\t\",round(volume(r),4))\n",
        "    r += 1"
      ],
      "execution_count": 1,
      "outputs": [
        {
          "output_type": "stream",
          "text": [
            "r\t V\n",
            "1 \t 4.1888\n",
            "2 \t 33.5103\n",
            "3 \t 113.0973\n",
            "4 \t 268.0826\n",
            "5 \t 523.5988\n",
            "6 \t 904.7787\n",
            "7 \t 1436.755\n",
            "8 \t 2144.6606\n",
            "9 \t 3053.6281\n",
            "10 \t 4188.7902\n"
          ],
          "name": "stdout"
        }
      ]
    },
    {
      "cell_type": "markdown",
      "metadata": {
        "id": "06brfL4wtD8j",
        "colab_type": "text"
      },
      "source": [
        "**Question 2. (30 points).** Python files reading and writing. Download the “Assignment 2 data collection.zip” to your local and un-zip it. Write a program in the “\\<LastName>_assognment-two-code.ipynb” file to finish the following task:\n",
        "\n",
        "(1)\t(10 pts) Write a program to read all the txt files and save the sentences in all the files into one csv file with two columns, the first column is sentence id (txt file name+sentence line number), the second column is the sentence text content.\n",
        "\n",
        "(2)\t(10 pts) Remove all the numbers, special characters, punctuation from the sentences, save the processed sentences into a new column in the same csv file. \n",
        "\n",
        "(3)\t(10 pts) Ask the user to enter a word, return all the sentences that include this word, three kinds of information should be returned: sentence id, sentence text content, the count that user input word appear in the sentence.\n"
      ]
    },
    {
      "cell_type": "markdown",
      "metadata": {
        "id": "kDjEn8_zujyr",
        "colab_type": "text"
      },
      "source": [
        "**Question 2-1:**"
      ]
    },
    {
      "cell_type": "code",
      "metadata": {
        "id": "SweBWdRjtQ6o",
        "colab_type": "code",
        "colab": {}
      },
      "source": [
        "import csv\n",
        "# Create and open the CSV file for output\n",
        "with open(\"output.csv\",\"w\") as output_file:\n",
        "    line_output = csv.writer(output_file,delimiter=',')\n",
        "    i = 1\n",
        "    while i <= 100: # Loop to open and read all 100 files\n",
        "        input_file_name = \"Assign-two-data-collection//\"+\"ARTHROTEC.\"+str(i)+\".txt\" # File name changes with index value\n",
        "        output_line_name = \"ARTHROTEC.\"+str(i)\n",
        "        input_file = open(input_file_name).read() # Open and read each input file\n",
        "        sentences = input_file.split('\\n') # Split the file into separate lines\n",
        "        for x in sentences: # Loop to remove empty lines\n",
        "            if x == '':\n",
        "                sentences.remove(x) # remove empty lines\n",
        "        for x in sentences: # Loop to add each line to output file\n",
        "            sentence_id = output_line_name+\" - line \"+str(sentences.index(x)+1) # Create a string for sentence id\n",
        "#             print(sentence_id)\n",
        "            line_output.writerow([sentence_id,x]) # write sentence id and sentence into output file\n",
        "        i += 1 # increment index to move on to the next file"
      ],
      "execution_count": 0,
      "outputs": []
    },
    {
      "cell_type": "markdown",
      "metadata": {
        "id": "8SY2Yxmtuqq6",
        "colab_type": "text"
      },
      "source": [
        "**Question 2-2:**"
      ]
    },
    {
      "cell_type": "code",
      "metadata": {
        "id": "FOs_IAkMth7D",
        "colab_type": "code",
        "colab": {}
      },
      "source": [
        "import csv\n",
        "import re\n",
        "temp_data = [] # Temporary list to store read data\n",
        "# Open output file for reading\n",
        "with open(\"output.csv\",'r') as input_file:\n",
        "    file_reader = csv.reader(input_file) # Create file reading variable\n",
        "    for row in file_reader: # Loop to read each row from the file\n",
        "        clean_line = re.sub(r\"[^a-zA-Z\\s\\']\",\"\",row[1]) # Remove all numbers and special characters from sentence\n",
        "        clean_line = re.sub(\"\\s\\s\",\" \",clean_line) # Replace all double spaces with one space\n",
        "        row.append(clean_line) # Append the cleaned sentence to third column of each row\n",
        "        temp_data.append(row) # Add each row to the temporary list\n",
        "# Open output file for writing\n",
        "with open(\"output.csv\",\"w\") as output_file:\n",
        "    file_writer = csv.writer(output_file,delimiter=',') # Create file writing variable\n",
        "    file_writer.writerows(temp_data) # Add all temporary data to the file"
      ],
      "execution_count": 0,
      "outputs": []
    },
    {
      "cell_type": "markdown",
      "metadata": {
        "id": "Yz-mo59uwqPJ",
        "colab_type": "text"
      },
      "source": [
        "**Question 2-3**"
      ]
    },
    {
      "cell_type": "code",
      "metadata": {
        "id": "vL46xYDIu1nB",
        "colab_type": "code",
        "colab": {
          "base_uri": "https://localhost:8080/",
          "height": 139
        },
        "outputId": "5b36e368-256e-434c-ca73-9a825806fc9b"
      },
      "source": [
        "import csv\n",
        "import re\n",
        "user_input = input(\"Enter a word: \") # Ask the user for word input\n",
        "with open(\"output.csv\",'r') as input_file:\n",
        "    file_reader = csv.reader(input_file) # Create file reading variable\n",
        "    for row in file_reader: # Loop to read each row from the file\n",
        "        search_term = \" \"+user_input+\" \"\n",
        "        if search_term in row[2]:\n",
        "            found_words = re.findall(search_term,row[2])\n",
        "            print(row[0],row[1],len(found_words))"
      ],
      "execution_count": 14,
      "outputs": [
        {
          "output_type": "stream",
          "text": [
            "Enter a word: help\n",
            "ARTHROTEC.4 - line 5 It did help with the pain I experience with the pinched nerve, but it is not worth it to me to continue. 1\n",
            "ARTHROTEC.27 - line 7 Nor sure why my doctor thought it would help my endo pain. 1\n",
            "ARTHROTEC.30 - line 1 I have been on Arthrotec for a year and a half and have been very pleased that it does help deal with my back pain. 1\n",
            "ARTHROTEC.35 - line 1 While this medicine did help with my pain, the side affects out-weigh the benefits. 1\n",
            "ARTHROTEC.39 - line 2 Natural cures are better; apple cidar vinegar can effectively cure arthritis and headaches; vitamin C crystals can help pain at high doses; the Gerson diet with no salt can cure migrains, Fibro etc see doctoryourself.com and 'just say no to drugs' (Nancy Reagan). 1\n"
          ],
          "name": "stdout"
        }
      ]
    },
    {
      "cell_type": "code",
      "metadata": {
        "id": "EBgTONGZwwNV",
        "colab_type": "code",
        "colab": {}
      },
      "source": [
        ""
      ],
      "execution_count": 0,
      "outputs": []
    }
  ]
}