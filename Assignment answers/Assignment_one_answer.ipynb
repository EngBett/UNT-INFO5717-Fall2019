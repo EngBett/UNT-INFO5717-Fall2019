{
  "nbformat": 4,
  "nbformat_minor": 0,
  "metadata": {
    "colab": {
      "name": "Assignment_one_answer.ipynb",
      "provenance": [],
      "collapsed_sections": [],
      "include_colab_link": true
    },
    "kernelspec": {
      "name": "python3",
      "display_name": "Python 3"
    }
  },
  "cells": [
    {
      "cell_type": "markdown",
      "metadata": {
        "id": "view-in-github",
        "colab_type": "text"
      },
      "source": [
        "<a href=\"https://colab.research.google.com/github/unt-iialab/UNT-INFO5717-Fall2019/blob/master/Assignment%20answers/Assignment_one_answer.ipynb\" target=\"_parent\"><img src=\"https://colab.research.google.com/assets/colab-badge.svg\" alt=\"Open In Colab\"/></a>"
      ]
    },
    {
      "cell_type": "markdown",
      "metadata": {
        "id": "XTiOQPtyRzBF",
        "colab_type": "text"
      },
      "source": [
        "# Assignment one answer\n",
        "\n",
        "For refering (python 3 version), you may have other solutions"
      ]
    },
    {
      "cell_type": "markdown",
      "metadata": {
        "id": "5ya0NLj2SB9p",
        "colab_type": "text"
      },
      "source": [
        "# Question 2 \n",
        "\n",
        "(10 points). Which of the following statements contain only valid built-in functions in **Python 3**? If the statement is valid, explain what it does. If it is not valid, explain why not."
      ]
    },
    {
      "cell_type": "markdown",
      "metadata": {
        "id": "sJBx3-gjSXKy",
        "colab_type": "text"
      },
      "source": [
        "**Question 2-(1):** \"A\".isupper()\n",
        "\n",
        "This statement is valid. This method will return true if all the characters in the string are uppercase. Here the string A is uppercase and hence returns true"
      ]
    },
    {
      "cell_type": "markdown",
      "metadata": {
        "id": "jEoueblCS3LZ",
        "colab_type": "text"
      },
      "source": [
        "**Question 2-(2):** print \"This is my Python class\"\n",
        "\n",
        "This statement is not valid as the parenthesis are missing in the print function. This statement is valid in Python 2.7.x but not in Python 3.5.x as the parenthesis are compulsory in Python 3.5.x"
      ]
    },
    {
      "cell_type": "markdown",
      "metadata": {
        "id": "BRCowD9HTKy9",
        "colab_type": "text"
      },
      "source": [
        "**Question 2-(3):**\tx == 1 AND y > x\n",
        "\n",
        "This statement is not valid as ‘AND’ should be written in lowercase. Python is case sensitive"
      ]
    },
    {
      "cell_type": "markdown",
      "metadata": {
        "id": "1J9MHFRdTbxl",
        "colab_type": "text"
      },
      "source": [
        "**Question 2-(4):** return t[1:]\n",
        "\n",
        "This is a valid statement. It returns all the list items expect the first item in the list"
      ]
    },
    {
      "cell_type": "markdown",
      "metadata": {
        "id": "tiMdGtDmTmcg",
        "colab_type": "text"
      },
      "source": [
        "**Question 2-(5):** if \"fruit\" in \"apple\":\n",
        "\n",
        "This is a valid statement. It checks if ‘fruit’ is present as substring in the string ‘apple’ and checks the rest of the code. It will not execute other statements in the block as ‘fruit’ is not present as a substring in ‘apple’"
      ]
    },
    {
      "cell_type": "markdown",
      "metadata": {
        "id": "1X9ImWMCT6oz",
        "colab_type": "text"
      },
      "source": [
        "**Question 2-(6):**\n",
        "\n",
        "with open(\"myfile.txt\", \"r\") as f:\n",
        "\n",
        " \t    text = f.read().decode(\"UTF-8\")\n",
        "\n",
        "\n",
        "This is not a valid statement because ‘decode’ is not a defined attribute of a string. This statement is valid in Python 2.7.x but not in Python 3.5.x\n"
      ]
    },
    {
      "cell_type": "markdown",
      "metadata": {
        "id": "t6BQ0mVOUI5F",
        "colab_type": "text"
      },
      "source": [
        "**Question 2-(7):** foo == None\n",
        "\n",
        "This is a valid statement. It checks if the stored value in the variable ‘foo’ is equal to None or not. It returns true if it equal to None or else it returns false"
      ]
    },
    {
      "cell_type": "markdown",
      "metadata": {
        "id": "y2DPmqe1UVzA",
        "colab_type": "text"
      },
      "source": [
        "**Question 2-(8):** \n",
        "\n",
        "name = \"My name is Brenda\"  \n",
        "\n",
        "\tname[0] = \"A\"\n",
        "\n",
        "This is not a valid statement because ‘name’ is assigned to a string and strings are immutable. The string object does not support item assignments\n"
      ]
    },
    {
      "cell_type": "markdown",
      "metadata": {
        "id": "li3-zBDmUuLw",
        "colab_type": "text"
      },
      "source": [
        "**Question 2-(9):**\n",
        "\n",
        "x = 3\n",
        "\n",
        "x**3\n",
        "\n",
        "This is a valid statement. It returns the value of 3 to the power of 3 i.e., 27"
      ]
    },
    {
      "cell_type": "markdown",
      "metadata": {
        "id": "1cyIGKRyU5Wh",
        "colab_type": "text"
      },
      "source": [
        "**Question 2-(10):** 20%7\n",
        "\n",
        "This is a valid statement. It returns the remainder of 20/7 i.e., 6"
      ]
    },
    {
      "cell_type": "markdown",
      "metadata": {
        "id": "Ou6Pj5upbWLm",
        "colab_type": "text"
      },
      "source": [
        "# Question 3\n",
        "\n",
        "(15 points). Write a Python program to generate 12 random numbers between 1 and 100. Sort the list of numbers in ascending order and print it out. Sort the list of numbers in descending order and print it out. Calculate the average for the group and print it out."
      ]
    },
    {
      "cell_type": "code",
      "metadata": {
        "id": "9-scJf0lbkOt",
        "colab_type": "code",
        "outputId": "279fa84a-4e86-430e-da16-6885dcd8442b",
        "colab": {
          "base_uri": "https://localhost:8080/",
          "height": 104
        }
      },
      "source": [
        "#necessary import for generating random numbers\n",
        "import random\n",
        "import numpy\n",
        "\n",
        "random_numbers_list = random.sample(range(1, 100), 12)\n",
        "print (\"Generating 12 random numbers between 1 and 100:\")\n",
        "\n",
        "print (random_numbers_list)\n",
        "ascending_order=[]\n",
        "descending_order=[]\n",
        "\n",
        "ascending_numbers = sorted(random_numbers_list) \n",
        "descending_numbers = sorted(random_numbers_list, reverse=True)\n",
        "for item in ascending_numbers:\n",
        "  ascending_order.append(item)\n",
        "for item in descending_numbers:\n",
        "  descending_order.append(item)\n",
        "\n",
        "print(\"Numbers in ascending order \", ascending_order)\n",
        "print(\"Numbers in descending order \", descending_order)\n",
        "\n",
        "#numpy has a great built-in function that calculates the average\n",
        "avg = numpy.mean(random_numbers_list)\n",
        "print (\"Average of numbers \", avg)"
      ],
      "execution_count": 0,
      "outputs": [
        {
          "output_type": "stream",
          "text": [
            "Generating 12 random numbers between 1 and 100:\n",
            "[90, 89, 25, 22, 41, 17, 93, 96, 37, 40, 82, 75]\n",
            "Numbers in ascending order  [17, 22, 25, 37, 40, 41, 75, 82, 89, 90, 93, 96]\n",
            "Numbers in descending order  [96, 93, 90, 89, 82, 75, 41, 40, 37, 25, 22, 17]\n",
            "Average of numbers  58.916666666666664\n"
          ],
          "name": "stdout"
        }
      ]
    },
    {
      "cell_type": "markdown",
      "metadata": {
        "id": "VldVy6S2d8gy",
        "colab_type": "text"
      },
      "source": [
        "# Question 4 \n",
        "\n",
        "(25 points). Write a program that will do the following string formatting tasks:\n",
        "\n",
        "(1)\tAsk the user to enter two sentences\n",
        "\n",
        "(2)\tMake each sentence into a list. Each element in the list should correspond to a word in the sentence. For example, if the sentence is \"Alas! Am I alive? This is my first python program\", the program should print out ['Alas!', 'Am', 'I', 'alive?', 'This', 'is', 'my', 'first', 'python', 'program'] or ['Alas, '!', 'Am', 'I', 'alive, '?', 'This', 'is', 'my', 'first', 'python', 'program']\n",
        "\n",
        "(3)\tCompare the two sentences. Print out a list of words that occur in both sentences. \n",
        "\n",
        "(4)\tRemove any punctuation from the sentence and print it back out. It should remove at least the following characters, but it can remove more: period(“.”), comma (“,”), semicolon (“;”), and colon (“:”)\n",
        "\n",
        "(5)\tCount the number of vowels in the sentences. Print out each vowel and the number of times it appears in the sentences, such as:  a:2, e:1, i:0, etc.\n"
      ]
    },
    {
      "cell_type": "code",
      "metadata": {
        "id": "w0fnz-DOecr4",
        "colab_type": "code",
        "outputId": "c72ead7e-20d1-4366-a8d9-55a73bd353bd",
        "colab": {
          "base_uri": "https://localhost:8080/",
          "height": 401
        }
      },
      "source": [
        "import string\t\t\t\n",
        "import math\t\t\t\t\n",
        "import collections\t\t\n",
        "\n",
        "#Have the user enter a random sentence\n",
        "user_input=input(\"Enter a sentence: \")\t\n",
        "user_input1=input(\"Enter another sentence: \")\n",
        "\n",
        "print(\"You entered first sentence: \", user_input)\n",
        "print(\"You entered second sentence: \", user_input1)\n",
        "\n",
        "#splitting the sentence and storing it into a list\n",
        "sentence_list = user_input.split()\n",
        "print(\"The first sentence you entered, formatted as a list is: \", sentence_list)\n",
        "sentence_list1 = user_input1.split()\n",
        "print(\"The second sentence you entered, formatted as a list is: \", sentence_list1)\n",
        "\n",
        "common_words = set(sentence_list) & set(sentence_list1)\n",
        "print(\"The common words are: \", common_words)\n",
        "\n",
        "#The string.punctuation module contains the most common punctuation marks in English\n",
        "mark=set(string.punctuation)\n",
        "#For each item in the list check if is is a punctuation and print the letter and discard the punctuation\t\n",
        "\n",
        "def punctuation(x):\n",
        "  sentence_no_punctuation = \" \"\n",
        "  for letter in x:\n",
        "\t  if letter not in mark:\n",
        "\t\t  sentence_no_punctuation=sentence_no_punctuation + letter\n",
        "  print(\"The sentence you entered without punctuation is: \", sentence_no_punctuation)\n",
        "punctuation(user_input)\n",
        "\n",
        "punctuation(user_input1)\n",
        "\n",
        "vowels=\"aeiou\"\n",
        "print(\"First sentence vowels:\")\n",
        "def vowel(x):\n",
        "  for x in vowels:\n",
        "    print (x,\":\", user_input.lower().count(x))\n",
        "vowel(user_input)\n",
        "print(\"Second sentence vowels:\")\n",
        "vowel(user_input1) \n"
      ],
      "execution_count": 0,
      "outputs": [
        {
          "output_type": "stream",
          "text": [
            "Enter a sentence: All the parts of this question are worth\n",
            "Enter another sentence: Sort the list of numbers in descending order and print it out. Calculate the average for the group and print it out\n",
            "You entered first sentence:  All the parts of this question are worth\n",
            "You entered second sentence:  Sort the list of numbers in descending order and print it out. Calculate the average for the group and print it out\n",
            "The first sentence you entered, formatted as a list is:  ['All', 'the', 'parts', 'of', 'this', 'question', 'are', 'worth']\n",
            "The second sentence you entered, formatted as a list is:  ['Sort', 'the', 'list', 'of', 'numbers', 'in', 'descending', 'order', 'and', 'print', 'it', 'out.', 'Calculate', 'the', 'average', 'for', 'the', 'group', 'and', 'print', 'it', 'out']\n",
            "The common words are:  {'the', 'of'}\n",
            "The sentence you entered without punctuation is:   All the parts of this question are worth\n",
            "The sentence you entered without punctuation is:   Sort the list of numbers in descending order and print it out Calculate the average for the group and print it out\n",
            "First sentence vowels:\n",
            "a : 3\n",
            "e : 3\n",
            "i : 2\n",
            "o : 3\n",
            "u : 1\n",
            "Second sentence vowels:\n",
            "a : 3\n",
            "e : 3\n",
            "i : 2\n",
            "o : 3\n",
            "u : 1\n"
          ],
          "name": "stdout"
        }
      ]
    }
  ]
}