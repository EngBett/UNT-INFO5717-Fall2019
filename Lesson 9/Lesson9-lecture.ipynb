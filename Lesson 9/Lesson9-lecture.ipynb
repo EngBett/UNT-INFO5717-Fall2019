{
 "cells": [
  {
   "cell_type": "markdown",
   "metadata": {},
   "source": [
    "# 1. Getting Started with MySQL Python Connector"
   ]
  },
  {
   "cell_type": "markdown",
   "metadata": {},
   "source": [
    "#### 1.1 Introduction to MySQL Python connector\n",
    "To access the MySQL database from Python, you need a database driver. MySQL Connector/Python is a standardized database driver provided by MySQL."
   ]
  },
  {
   "cell_type": "code",
   "execution_count": 4,
   "metadata": {},
   "outputs": [
    {
     "data": {
      "image/png": "[encoded data removed]",
      "text/plain": [
       "<IPython.core.display.Image object>"
      ]
     },
     "execution_count": 4,
     "metadata": {},
     "output_type": "execute_result"
    }
   ],
   "source": [
    "from IPython.display import Image\n",
    "Image('http://www.mysqltutorial.org/wp-content/uploads/2019/09/Python-MySQL.png')"
   ]
  },
  {
   "cell_type": "markdown",
   "metadata": {},
   "source": [
    "#### 1.2 Installing MySQL Connector/Python\n",
    "Prerequisites, before installing MySQL Connector/Python, you need:\n",
    "\n",
    "- Root or Administrator privileges in order to perform the installation.\n",
    "- Python installed on your system\n",
    "\n",
    "The pip command allows you to install MySQL Python connector on any Operating system including Windows, macOS, Linux, and Unix, there are kinds of MySQL Python connectors:\n",
    "\n",
    "- pip install mysql-connector-python\n",
    "- pip install PyMySQL"
   ]
  },
  {
   "cell_type": "markdown",
   "metadata": {},
   "source": [
    "#### 1.3 Verifying MySQL Connector/Python installation\n",
    "To verify the installation, you use the following steps:\n",
    "-Open Python command line\n",
    "-Type the following code"
   ]
  },
  {
   "cell_type": "code",
   "execution_count": null,
   "metadata": {},
   "outputs": [],
   "source": [
    "# For mysql connector\n",
    "\n",
    ">>> import mysql.connector\n",
    ">>> mysql.connector.connect(host='localhost',database='mysql',user='root',password='your pass')\n",
    "\n",
    "# Result\n",
    "\n",
    "<mysql.connector.connection.MySQLConnection object at 0x0187AE50>"
   ]
  },
  {
   "cell_type": "code",
   "execution_count": null,
   "metadata": {},
   "outputs": [],
   "source": [
    "# For PyMySQL\n",
    "\n",
    ">>> import pymysql\n",
    ">>> pymysql.connect(host='localhost',database='mysql',user='root',password='your pass')\n",
    "\n",
    "# Result\n",
    "\n",
    "<pymysql.connections.Connection object at 0x00000233D5575BA8>"
   ]
  },
  {
   "cell_type": "markdown",
   "metadata": {},
   "source": [
    "# 2. Python Database operation "
   ]
  },
  {
   "cell_type": "markdown",
   "metadata": {},
   "source": [
    "#### 2.1 Create A MySQL Database Using Python And PyMySQL\n",
    "- A database in MySQL is created with CREATE DATABASE SQL Statement.\n",
    "- CREATE DATABASE is part of Data Definition Statements.\n",
    "- A database in MySQL can contain zero to many tables. For each table created inside a MySQL Database a corresponding file is created under the MySQL data directory, which acts as the data storage for that specific table.\n",
    "- A MySQL database can be created programmatically using Python and the client API PyMySQL, which is fully implemented using Python"
   ]
  },
  {
   "cell_type": "code",
   "execution_count": 5,
   "metadata": {},
   "outputs": [
    {
     "name": "stdout",
     "output_type": "stream",
     "text": [
      "{'Database': 'information_schema'}\n",
      "{'Database': 'ai'}\n",
      "{'Database': 'citationrecommendation'}\n",
      "{'Database': 'dataintegration'}\n",
      "{'Database': 'diversity_value'}\n",
      "{'Database': 'gettingstarted'}\n",
      "{'Database': 'iia'}\n",
      "{'Database': 'info5717'}\n",
      "{'Database': 'integration'}\n",
      "{'Database': 'learning_tech'}\n",
      "{'Database': 'mysql'}\n",
      "{'Database': 'performance_schema'}\n",
      "{'Database': 'sakila'}\n",
      "{'Database': 'sience_direct'}\n",
      "{'Database': 'sigir_diversity'}\n",
      "{'Database': 'sys'}\n",
      "{'Database': 'test_db'}\n",
      "{'Database': 'world'}\n"
     ]
    }
   ],
   "source": [
    "# Example: Creat a database\n",
    "\n",
    "# import the mysql client for python\n",
    "\n",
    "import pymysql\n",
    "\n",
    "# Create a connection object\n",
    "# Create a connection object using PyMySQL module by specifying the:\n",
    "    # Database server\n",
    "    # Database user\n",
    "    # Password\n",
    "    # Database Name\n",
    "    # Encoding\n",
    "\n",
    "databaseServerIP = \"localhost\"  # IP address of the MySQL database server\n",
    "databaseUserName = \"root\"       # User name of the database server\n",
    "databaseUserPassword = \"admin\"           # Password for the database user\n",
    "newDatabaseName = \"INFO5717\" # Name of the database that is to be created\n",
    "charSet = \"utf8mb4\"     # Character set\n",
    "cusrorType = pymysql.cursors.DictCursor\n",
    "\n",
    "connectionInstance   = pymysql.connect(host=databaseServerIP, user=databaseUserName, password=databaseUserPassword, charset=charSet,cursorclass=cusrorType)\n",
    "try:\n",
    "    # Create a cursor object\n",
    "    cursorInsatnce = connectionInstance.cursor()                                    \n",
    "    # SQL Statement to create a database\n",
    "    sqlStatement = \"CREATE DATABASE \"+newDatabaseName  \n",
    "    # Execute the create database SQL statment through the cursor instance\n",
    "    cursorInsatnce.execute(sqlStatement)\n",
    "    # SQL query string\n",
    "    sqlQuery = \"SHOW DATABASES\"\n",
    "    # Execute the sqlQuery\n",
    "    cursorInsatnce.execute(sqlQuery)\n",
    "    #Fetch all the rows\n",
    "    databaseList = cursorInsatnce.fetchall()\n",
    "    for datatbase in databaseList:\n",
    "        print(datatbase)\n",
    "except Exception as e:\n",
    "    print(\"Exeception occured:{}\".format(e))\n",
    "finally:\n",
    "    connectionInstance.close()"
   ]
  },
  {
   "cell_type": "markdown",
   "metadata": {},
   "source": [
    "#### 2.2 Create A Table In MySQL Server Using Python With PyMySQL\n",
    "- Import the PyMySQL module into the python program\n",
    "- Create a connection object using PyMySQL module by specifying the database information\n",
    "- Create a cursor object and pass the valid SQL\n",
    "- Create table statement as the parameter to the execute method of the cursor object\n",
    "- Verify that the table is listed under the database"
   ]
  },
  {
   "cell_type": "code",
   "execution_count": 8,
   "metadata": {},
   "outputs": [
    {
     "name": "stdout",
     "output_type": "stream",
     "text": [
      "Exeception occured:(1050, \"Table 'employee' already exists\")\n"
     ]
    }
   ],
   "source": [
    "# Example: Create a table\n",
    "\n",
    "# import the mysql client for python\n",
    "\n",
    "import pymysql\n",
    "\n",
    "# Create a connection object\n",
    "# Create a connection object using PyMySQL module by specifying the:\n",
    "    # Database server\n",
    "    # Database user\n",
    "    # Password\n",
    "    # Database Name\n",
    "    # Encoding\n",
    "\n",
    "databaseServerIP = \"localhost\"  # IP address of the MySQL database server\n",
    "databaseUserName = \"root\"       # User name of the database server\n",
    "databaseUserPassword = \"admin\"           # Password for the database user\n",
    "newDatabaseName = \"INFO5717\" # Name of the database that is to be created\n",
    "charSet = \"utf8mb4\"     # Character set\n",
    "cusrorType = pymysql.cursors.DictCursor\n",
    "\n",
    "connectionInstance   = pymysql.connect(host=databaseServerIP, user=databaseUserName, password=databaseUserPassword,\n",
    "                                     db=newDatabaseName, charset=charSet,cursorclass=cusrorType)\n",
    "try:\n",
    "    # Create a cursor object\n",
    "    cursorInsatnce = connectionInstance.cursor() \n",
    "    # SQL query string\n",
    "    sqlQuery = \"CREATE TABLE Employee(id int, LastName varchar(32), FirstName varchar(32), DepartmentCode int)\"\n",
    "    # Execute the sqlQuery\n",
    "    cursorInsatnce.execute(sqlQuery)\n",
    "    # SQL query string\n",
    "    sqlQuery = \"Show tables\"   \n",
    "    # Execute the sqlQuery\n",
    "    cursorInsatnce.execute(sqlQuery)\n",
    "    #Fetch all the rows\n",
    "    rows = cursorInsatnce.fetchall()\n",
    "    for row in rows:\n",
    "        print(row)\n",
    "except Exception as e:\n",
    "    print(\"Exeception occured:{}\".format(e))\n",
    "finally:\n",
    "    connectionInstance.close()"
   ]
  },
  {
   "cell_type": "markdown",
   "metadata": {},
   "source": [
    "#### 2.3 Alter A Table Schema Using Python - PyMySQL\n",
    "- The ALTER statement in SQL is one of the Data Definition Language-DDL statements along with the CREATE, DROP, TRUNCATE, COMMIT and others.\n",
    "- The ALTER statement changes the structure or schema of a table by adding or removing one or more columns.\n",
    "- The ALTER statement can be used to change several other attributes of the tables such as the name of the table and name of the columns.\n",
    "- The ALTER also adds or removes one or more constraints and indexes as well.\n",
    "- A python program can execute an ALTER statement using the PyMySQL."
   ]
  },
  {
   "cell_type": "code",
   "execution_count": 10,
   "metadata": {},
   "outputs": [
    {
     "name": "stdout",
     "output_type": "stream",
     "text": [
      "Exeception occured:(1060, \"Duplicate column name 'employee_id'\")\n"
     ]
    }
   ],
   "source": [
    "# Example: Alter the database or table\n",
    "import pymysql\n",
    "\n",
    "databaseServerIP = \"localhost\"  # IP address of the MySQL database server\n",
    "databaseUserName = \"root\"       # User name of the database server\n",
    "databaseUserPassword = \"admin\"           # Password for the database user\n",
    "newDatabaseName = \"INFO5717\" # Name of the database that is to be created\n",
    "charSet = \"utf8mb4\"     # Character set\n",
    "cusrorType = pymysql.cursors.DictCursor\n",
    "\n",
    "connectionInstance   = pymysql.connect(host=databaseServerIP, user=databaseUserName, password=databaseUserPassword,\n",
    "                                     db=newDatabaseName, charset=charSet,cursorclass=cusrorType)\n",
    "try:\n",
    "    # Create a cursor object\n",
    "    cursorInsatnce = connectionInstance.cursor() \n",
    "    # SQL query string\n",
    "    # Alter the employee table by adding one more column\n",
    "    alterStatement = \"ALTER TABLE Employee ADD employee_id int(11);\"\n",
    "    # Execute the SQL ALTER statement\n",
    "    cursorInsatnce.execute(alterStatement)\n",
    "    # Verify the new schema by issuing a DESCRIBE statament\n",
    "    descibeStatement  = \"DESC Student\"\n",
    "    # Execute the SQL SELECT query\n",
    "    cursorInsatnce.execute(descibeStatement)\n",
    "    # Fetch the updated row\n",
    "    columns = cursorInsatnce.fetchall()\n",
    "    # Print the updated row...\n",
    "    for column in columns:\n",
    "        print(column)\n",
    "except Exception as e:\n",
    "    print(\"Exeception occured:{}\".format(e))\n",
    "finally:\n",
    "    connectionInstance.close()"
   ]
  },
  {
   "cell_type": "markdown",
   "metadata": {},
   "source": [
    "#### 2.4 Inserting Rows Into MySQL Database Table Using Python And PyMySQL\n",
    "The steps to insert a number of rows onto a MySQL database table are:\n",
    "- The previous steps are the same\n",
    "- The same way, an SQL INSERT statement can be executed and new rows can be inserted on to the database.\n",
    "- The database table can be queried and the rows from the tables can be printed on to the console."
   ]
  },
  {
   "cell_type": "code",
   "execution_count": 40,
   "metadata": {},
   "outputs": [
    {
     "name": "stdout",
     "output_type": "stream",
     "text": [
      "[{'id': 2, 'LastName': 'Haihua', 'FirstName': 'Chen', 'DepartmentCode': 20}, {'id': 5, 'LastName': 'Haihua', 'FirstName': 'Chen', 'DepartmentCode': 20}, {'id': 6, 'LastName': 'Haihua', 'FirstName': 'Chen', 'DepartmentCode': 20}]\n"
     ]
    }
   ],
   "source": [
    "# Example: Inserts a row into the table\n",
    "\n",
    "import pymysql\n",
    "\n",
    "databaseServerIP = \"localhost\"  # IP address of the MySQL database server\n",
    "databaseUserName = \"root\"       # User name of the database server\n",
    "databaseUserPassword = \"admin\"           # Password for the database user\n",
    "newDatabaseName = \"INFO5717\" # Name of the database that is to be created\n",
    "charSet = \"utf8mb4\"     # Character set\n",
    "cusrorType = pymysql.cursors.DictCursor\n",
    "\n",
    "connectionInstance   = pymysql.connect(host=databaseServerIP, user=databaseUserName, password=databaseUserPassword,\n",
    "                                     db=newDatabaseName, charset=charSet,cursorclass=cusrorType)\n",
    "try:\n",
    "    # Create a cursor object\n",
    "    cursorObject            = connectionInstance.cursor()                                     \n",
    "\n",
    "    # SQL string to create a MySQL table\n",
    "#     sqlCreateTableCommand   = \"CREATE TABLE STUDENT(id int(11) AUTO_INCREMENT PRIMARY KEY, LastName varchar(32), FirstName varchar(32), DepartmentCode int)\"\n",
    "\n",
    "    # Execute the sqlQuery\n",
    "#     cursorObject.execute(sqlCreateTableCommand)\n",
    "\n",
    "    # List the tables using SQL command\n",
    "    sqlShowTablesCommand    = \"show tables\"   \n",
    "\n",
    "    # Execute the SQL command\n",
    "    cursorObject.execute(sqlShowTablesCommand)\n",
    "    \n",
    "    # insert a single row\n",
    "    value = [6,\"Haihua\",\"Chen\",20]\n",
    "    cursorObject.execute(\"insert into STUDENT values(%s,%s,%s,%s)\", value)\n",
    "    connectionInstance.commit()\n",
    "    \n",
    "    # insert multiple rows\n",
    "    multi_insert_sql = \"INSERT INTO employee(id, \\\n",
    "    LastName, FirstName, DepartmentCode, employee_id) \\\n",
    "        VALUES (%s,%s,%s,%s,%s)\"\n",
    "    \n",
    "    val = ((6,\"Haihua\",\"Chen\",20, 2012220),\n",
    "       (3,\"Jiyuan\",\"Li\",30, 2012230),\n",
    "       (4,\"Yu\",\"Shi\",5, 2012240),\n",
    "       (10,\"Wen\",\"Zhao\",40, 2012250))\n",
    "\n",
    "    cursorObject.executemany(multi_insert_sql,val)\n",
    "    connectionInstance.commit()\n",
    "    \n",
    "    sqlQuery    = \"select * from STUDENT\"\n",
    "    cursorObject.execute(sqlQuery)\n",
    "    rows = cursorObject.fetchall()\n",
    "    print(rows)\n",
    "    \n",
    "except Exception as e:\n",
    "    print(\"Exeception occured:{}\".format(e))\n",
    "\n",
    "finally:\n",
    "    connectionInstance.close()"
   ]
  },
  {
   "cell_type": "markdown",
   "metadata": {},
   "source": [
    "#### 2.5 Querying A MySQL Table Using PyMySQL"
   ]
  },
  {
   "cell_type": "code",
   "execution_count": 1,
   "metadata": {},
   "outputs": [
    {
     "name": "stdout",
     "output_type": "stream",
     "text": [
      "problem, 1\n",
      "method, 2\n",
      "problem+method, 3\n",
      "method+problem, 4\n",
      "dataset, 5\n",
      "evaluation, 6\n",
      "tool, 7\n",
      "application, 8\n",
      "topic-irrelevant, 9\n"
     ]
    }
   ],
   "source": [
    "# Example: Search from a database table\n",
    "\n",
    "import codecs\n",
    "import pymysql\n",
    "\n",
    "conn = pymysql.connect(\n",
    "    user='root',\n",
    "    password='admin',\n",
    "    host='localhost',\n",
    "    database='citationrecommendation',\n",
    "    charset='utf8')\n",
    "\n",
    "cur=conn.cursor()\n",
    "query = (\"SELECT * FROM term_function\")\n",
    "cur.execute(query)\n",
    "for (term_function_name,term_function_id) in cur:\n",
    "    print (\"{}, {}\".format(term_function_name,term_function_id))\n",
    "\n",
    "cur.close()\n",
    "conn.close()"
   ]
  },
  {
   "cell_type": "markdown",
   "metadata": {},
   "source": [
    "#### 2.6 Update a MySQL Table Using Python And PyMySQL \n",
    "- The UPDATE statement updates one are more columns of data one or more rows.  In other words, the UPDATE statement replaces old values of one or more cells of data belonging to several rows with new values. The old values are discarded.\n",
    "- The rows updated are based on the WHERE clause specified in the UPDATE statement.\n",
    "- In case if autocommit is not enabled while creating the database connection, the changes made to the database table need to be explicitly committed."
   ]
  },
  {
   "cell_type": "code",
   "execution_count": 48,
   "metadata": {},
   "outputs": [
    {
     "name": "stdout",
     "output_type": "stream",
     "text": [
      "[{'id': 6, 'LastName': 'Haihua', 'FirstName': 'Chen', 'DepartmentCode': 102, 'employee_id': 2012220}]\n"
     ]
    }
   ],
   "source": [
    "# Example: Updata a table\n",
    "\n",
    "import pymysql\n",
    "\n",
    "databaseServerIP = \"localhost\"  # IP address of the MySQL database server\n",
    "databaseUserName = \"root\"       # User name of the database server\n",
    "databaseUserPassword = \"admin\"           # Password for the database user\n",
    "newDatabaseName = \"INFO5717\" # Name of the database that is to be created\n",
    "charSet = \"utf8mb4\"     # Character set\n",
    "cusrorType = pymysql.cursors.DictCursor\n",
    "\n",
    "connectionInstance   = pymysql.connect(host=databaseServerIP, user=databaseUserName, password=databaseUserPassword,\n",
    "                                     db=newDatabaseName, charset=charSet,cursorclass=cusrorType)\n",
    "try:\n",
    "    # Create a cursor object\n",
    "    cursorObject            = connectionInstance.cursor()  \n",
    "    updateStatement = \"UPDATE Employee set DepartmentCode = 102 where employee_id=2012220\"\n",
    "    # Execute the SQL UPDATE statement\n",
    "    cursorObject.execute(updateStatement)\n",
    "    connectionInstance.commit()\n",
    "    \n",
    "    # Select the updated row and print the updated column value\n",
    "    sqlSelectUpdated   = \"select * from Employee where employee_id=2012220\"\n",
    "\n",
    "    # Execute the SQL SELECT query\n",
    "    cursorObject.execute(sqlSelectUpdated)\n",
    "\n",
    "    # Fetch the updated row\n",
    "    updatedRow = cursorObject.fetchall()\n",
    "    # Print the updated row...\n",
    "    print(updatedRow)\n",
    "        \n",
    "except Exception as e:\n",
    "    print(\"Exeception occured:{}\".format(e))\n",
    "finally:\n",
    "    connectionInstance.close()"
   ]
  },
  {
   "cell_type": "markdown",
   "metadata": {},
   "source": [
    "#### 2.5 Deleting Rows From A MySQL Database Table Using Python And PyMySQL\n",
    "- Unless a filter using WHERE clause is specified the DELETE statement will delete all the rows from a specified table.\n",
    "- Defining a string containing the SQL command to delete a set of rows including the WHERE clause if required\n",
    "- Calling the execute() method on cursor by passing the DELETE SQL string as the parameter"
   ]
  },
  {
   "cell_type": "code",
   "execution_count": 49,
   "metadata": {},
   "outputs": [
    {
     "name": "stdout",
     "output_type": "stream",
     "text": [
      "{'id': 6, 'LastName': 'Haihua', 'FirstName': 'Chen', 'DepartmentCode': 102, 'employee_id': 2012220}\n",
      "{'id': 3, 'LastName': 'Jiyuan', 'FirstName': 'Li', 'DepartmentCode': 30, 'employee_id': 2012230}\n",
      "{'id': 10, 'LastName': 'Wen', 'FirstName': 'Zhao', 'DepartmentCode': 40, 'employee_id': 2012250}\n"
     ]
    }
   ],
   "source": [
    "# Example: Delete rows in a table\n",
    "\n",
    "import pymysql\n",
    "\n",
    "databaseServerIP = \"localhost\"  # IP address of the MySQL database server\n",
    "databaseUserName = \"root\"       # User name of the database server\n",
    "databaseUserPassword = \"admin\"           # Password for the database user\n",
    "newDatabaseName = \"INFO5717\" # Name of the database that is to be created\n",
    "charSet = \"utf8mb4\"     # Character set\n",
    "cusrorType = pymysql.cursors.DictCursor\n",
    "\n",
    "# The autocommit is made True while creating the database connection\n",
    "connectionInstance   = pymysql.connect(host=databaseServerIP, user=databaseUserName, password=databaseUserPassword,\n",
    "                                     db=newDatabaseName, charset=charSet,cursorclass=cusrorType, autocommit=True)\n",
    "\n",
    "try:\n",
    "    # Code for  creating cursor from database connection\n",
    "    cursorInstance            = connectionInstance.cursor()                                    \n",
    "\n",
    "    # SQL statement for deleting rows from a table matching a criteria\n",
    "    sqlDeleteRows   = \"Delete from employee where id= 4\"\n",
    "\n",
    "    # using the cursor delete a set of rows from the table\n",
    "    cursorInstance.execute(sqlDeleteRows)\n",
    "\n",
    "   \n",
    "    # Check if there are any existing items with expired status\n",
    "    sqlSelectRows   = \"select * from employee\"\n",
    "\n",
    "    # Execute the SQL query\n",
    "    cursorInstance.execute(sqlSelectRows)\n",
    "\n",
    "    #Fetch all the rows using cursor object\n",
    "    itemRows = cursorInstance.fetchall()\n",
    "\n",
    "    # print all the remaining rows after deleting the rows with id as 4\n",
    "    for item in itemRows:\n",
    "        print(item)   \n",
    "\n",
    "except Exception as ex:\n",
    "    print(\"Exception occured: %s\"%ex)   \n",
    "finally:\n",
    "    connectionInstance.close()\n"
   ]
  },
  {
   "cell_type": "markdown",
   "metadata": {},
   "source": [
    "# 3. Python Advanced Database operation "
   ]
  },
  {
   "cell_type": "markdown",
   "metadata": {},
   "source": [
    "#### 3.1 Rename Table In MySQL Using Python And PyMySQL\n",
    "- RENAME TABLE statement renames one or more tables present in a database.\n",
    "- RENAME TABLE can be used to move one table to another database in the MySQL Server."
   ]
  },
  {
   "cell_type": "code",
   "execution_count": 50,
   "metadata": {},
   "outputs": [
    {
     "name": "stdout",
     "output_type": "stream",
     "text": [
      "List of tables:\n",
      "{'Tables_in_info5717': 'employee'}\n",
      "{'Tables_in_info5717': 'lab_member'}\n"
     ]
    }
   ],
   "source": [
    "# Example: Rename a table from student to lab_member\n",
    "\n",
    "import pymysql\n",
    "\n",
    "databaseServerIP = \"localhost\"  # IP address of the MySQL database server\n",
    "databaseUserName = \"root\"       # User name of the database server\n",
    "databaseUserPassword = \"admin\"           # Password for the database user\n",
    "newDatabaseName = \"INFO5717\" # Name of the database that is to be created\n",
    "charSet = \"utf8mb4\"     # Character set\n",
    "cusrorType = pymysql.cursors.DictCursor\n",
    "\n",
    "# The autocommit is made True while creating the database connection\n",
    "connectionInstance   = pymysql.connect(host=databaseServerIP, user=databaseUserName, password=databaseUserPassword,\n",
    "                                     db=newDatabaseName, charset=charSet,cursorclass=cusrorType, autocommit=True)\n",
    "\n",
    "try:\n",
    "    # Create a cursor object\n",
    "\n",
    "    cursorObject            = connectionInstance.cursor()                                     \n",
    "\n",
    "    # SQL string to create a MySQL table\n",
    "    renameTableCommand   = \"RENAME TABLE STUDENT to LAB_MEMBER\"\n",
    "\n",
    "    # Execute the rename table SQL command\n",
    "    cursorObject.execute(renameTableCommand)\n",
    "\n",
    "    # List the tables using SQL command\n",
    "    showTablesCommand    = \"show tables\"   \n",
    "\n",
    "    # Execute the SQL command\n",
    "    cursorObject.execute(showTablesCommand)\n",
    "\n",
    "    #Fetch all the rows - from the command output\n",
    "    rows                = cursorObject.fetchall()\n",
    "\n",
    "    print(\"List of tables:\")\n",
    "    for row in rows:\n",
    "        print(row)\n",
    "\n",
    "except Exception as e:\n",
    "    print(\"Exception occured while renaming a database table:{}\".format(e))\n",
    "\n",
    "finally:\n",
    "    connectionInstance.close()"
   ]
  },
  {
   "cell_type": "markdown",
   "metadata": {},
   "source": [
    "#### 3.2 Create Indexes For MySQL InnoDB Table From Python (This is necessary)\n",
    "\n",
    "- In the RDBMS parlance a MySQL table implements the concept of “relation”.\n",
    "- While a table can grow to as many number of rows as the limits imposed by the RDBMS implementation, the time taken to query one or more rows from a table should be minimized to the maximum extent possible.\n",
    "- The performance of searching one or more rows from a table is dependent on several factors. They include, how the data is distributed among various disk blocks, how much of that data is cached in the main memory, whether the search is performed using an index, if an index is employed what kind of index is used and the characteristics of that index and so on.\n",
    "\n",
    "##### Example – A range query:\n",
    "select * from books where price  > 10 and price < 20\n",
    "\n",
    "- Without any supplementary mechanisms, executing the above range query involves searching all the blocks and finding the records which satisfies the condition price  > 10 and price < 20. The search time is O (N) or linear.\n",
    "- When an Index is used, the time taken to execute a query is greatly reduced to accessing only few blocks of data.\n",
    "\n",
    "##### MySQL InnoDB Indexes:\n",
    "MySQL InnoDB has two kinds of indexes. They are\n",
    "- Clustering Indexes and\n",
    "- Secondary Indexes\n",
    "\n",
    "##### Clustering Indexes:\n",
    "- A clustering index in MySQL serves as both table storage as well as an index on to the table. In other words, MySQL Clustering Index = Table Data + Index Data.\n",
    "- In some of the database management systems other than MySQL, the clustering index is also called as an Index-Organized Table (IOT).\n",
    "- A clustering index in MySQL is a B-Tree, where the nodes of the tree store the column values.\n",
    "- A clustering index in MySQL is built on the primary key of a MySQL table.\n",
    "- If a MySQL Table does not have a primary key defined on it, then a first unique index available is used as the clustering index.\n",
    "- If a table has no primary key and has no unique indexes defined on it then MySQL creates a clustering index based on a column rowid, which it generates internally and increases it monotonically with an integer value every time a new row is inserted.\n",
    "- There is only one clustering index for a table and the MySQL creates it automatically when a table is created.\n",
    "\n",
    "##### Secondary Indexes:\n",
    "- A secondary index in MySQL is an index built on a non-primary key column of the table. However a record of the secondary index will have the columns specified for the index and the primary-key field. This way the secondary index is a subset of the clustered index. Having the primary-key in each record of the secondary index is important as it helps identifying the row.\n",
    "- Before going ahead with creating various type of indexes on a MySQL table from a Python Program, an understanding of the RDBMS concepts like Super Key, Key, Candidate key, Primary Key and Alternate Key will help in choosing what kind of index is required for a given table and in designing the primary key.\n",
    "- While there is only one clustering index for a MySQL table, there could be several secondary indexes defined as imposed by the limits of the implementation.\n",
    "\n",
    "##### Creating indexes for MySQL InnoDB table using Python:\n",
    "- PyMySQL library is the Python MySQL client through which a Python program can connect to a MySQL server and perform the required database operation.\n",
    "- To create an index in a InnoDB Table first a database connection has to be obtained from a Python Program.\n",
    "- The connect() method of PyMySQL module accepts the IP address of the database and authentication credentials of the MySQL database server as parameters and returns a connection object to the server.\n",
    "- Using the connection object a Database cursor can be obtained through which any SQL command can be executed including the SQL commands that create clustering indexes and secondary indexes."
   ]
  },
  {
   "cell_type": "code",
   "execution_count": 54,
   "metadata": {},
   "outputs": [
    {
     "name": "stdout",
     "output_type": "stream",
     "text": [
      "[{'Table': 'books', 'Non_unique': 0, 'Key_name': 'PRIMARY', 'Seq_in_index': 1, 'Column_name': 'isbn', 'Collation': 'A', 'Cardinality': 0, 'Sub_part': None, 'Packed': None, 'Null': '', 'Index_type': 'BTREE', 'Comment': '', 'Index_comment': ''}, {'Table': 'books', 'Non_unique': 1, 'Key_name': 'index_author_lastname', 'Seq_in_index': 1, 'Column_name': 'author_last_name', 'Collation': 'A', 'Cardinality': 0, 'Sub_part': None, 'Packed': None, 'Null': 'YES', 'Index_type': 'BTREE', 'Comment': '', 'Index_comment': ''}]\n"
     ]
    }
   ],
   "source": [
    "# Example: Create an index for a mysql table\n",
    "\n",
    "import pymysql\n",
    "\n",
    "databaseServerIP = \"localhost\"  # IP address of the MySQL database server\n",
    "databaseUserName = \"root\"       # User name of the database server\n",
    "databaseUserPassword = \"admin\"           # Password for the database user\n",
    "newDatabaseName = \"INFO5717\" # Name of the database that is to be created\n",
    "charSet = \"utf8mb4\"     # Character set\n",
    "cusrorType = pymysql.cursors.DictCursor\n",
    "\n",
    "# The autocommit is made True while creating the database connection\n",
    "connectionInstance   = pymysql.connect(host=databaseServerIP, user=databaseUserName, password=databaseUserPassword,\n",
    "                                     db=newDatabaseName, charset=charSet,cursorclass=cusrorType, autocommit=True)\n",
    "\n",
    "try:\n",
    "    # Create a cursor object\n",
    "    dbCursor        = connectionInstance.cursor()                                   \n",
    "\n",
    "    # SQL Statement to create a table\n",
    "#     sqlCreateTable = \"\"\"create table books(isbn varchar(13) not NULL,\n",
    "#                                          title varchar(128),\n",
    "#                                          pages int,\n",
    "#                                          author_first_name varchar(32),\n",
    "#                                          author_last_name varchar(32),\n",
    "#                                          PRIMARY KEY (isbn))\"\"\"\n",
    "                                         \n",
    "    # Execute the sql - Create table statement\n",
    "    # MySQL automatically creates a Clustering index on the primary key\n",
    "#     dbCursor.execute(sqlCreateTable)\n",
    "\n",
    "    # SQL Statement to create a secondary index   \n",
    "    sqlCreateSecondaryIndex = \"\"\"CREATE INDEX index_author_lastname ON books\n",
    "                                 (author_last_name);\"\"\"\n",
    "\n",
    "    # Execute the sql - create secondary index\n",
    "\n",
    "    dbCursor.execute(sqlCreateSecondaryIndex)\n",
    "\n",
    "    # Now list the indexes on the table\n",
    "    sqlShowIndexes = \"show index from books\";\n",
    "\n",
    "    dbCursor.execute(sqlShowIndexes)\n",
    "    indexList = dbCursor.fetchall()\n",
    "\n",
    "    # Printing the list of indexes on the table books\n",
    "    print(indexList)\n",
    "    \n",
    "except Exception as e:\n",
    "    print(\"Exception occured:{}\".format(e))\n",
    "    \n",
    "finally:\n",
    "    connectionInstance.close()"
   ]
  },
  {
   "cell_type": "markdown",
   "metadata": {},
   "source": [
    "#### 3.3 Create A User In MySQL Using Python And PyMySQL\n",
    "\n",
    "- Every modern database management system comes with an exhaustive user management framework to safeguard the interests of various stakeholders of the data storage.\n",
    "- Managing users ensures data security and defines clear roles among the database users.\n",
    "- MySQL as well has a robust and exhaustive user management system to ensure secure access to the data.\n",
    "- A MySQL User can be created through the SQL statement CREATE USER.\n",
    "- The CREATE USER statement accepts several parameters including:\n",
    "    - User Name (appears after USER clause)\n",
    "    - Password (appears after the IDENTIFIED BY clause)\n",
    "    - Role (Appears after the default ROLE)\n",
    "    - Resource limit options\n",
    "    - SSL/TLS Options\n",
    "- By using the PyMySQL library a Python program can connect to a MySQL Server instance."
   ]
  },
  {
   "cell_type": "code",
   "execution_count": 55,
   "metadata": {},
   "outputs": [
    {
     "name": "stdout",
     "output_type": "stream",
     "text": [
      "List of users:\n",
      "{'host': 'localhost', 'user': 'analytics'}\n",
      "{'host': 'localhost', 'user': 'mysql.sys'}\n",
      "{'host': 'localhost', 'user': 'root'}\n",
      "{'host': 'localhost', 'user': 'testbed'}\n"
     ]
    }
   ],
   "source": [
    "# Example: create users in MySQL server\n",
    "\n",
    "import pymysql\n",
    "\n",
    "# Define a method to create a database connection\n",
    "def getDatabaseConnection(ipaddress, usr, passwd, charset, curtype):\n",
    "    sqlCon  = pymysql.connect(host=ipaddress, user=usr, password=passwd, charset=charset, cursorclass=curtype);\n",
    "    return sqlCon;\n",
    "\n",
    "# Define a method to create MySQL users\n",
    "def createUser(cursor, userName, password,\n",
    "               querynum=0, \n",
    "               updatenum=0, \n",
    "               connection_num=0):\n",
    "    try:\n",
    "        sqlCreateUser = \"CREATE USER '%s'@'localhost' IDENTIFIED BY '%s';\"%(userName, password);\n",
    "        cursor.execute(sqlCreateUser);\n",
    "    except Exception as Ex:\n",
    "        print(\"Error creating MySQL User: %s\"%(Ex));\n",
    "        \n",
    "# Connection parameters and access credentials\n",
    "databaseServerIP = \"localhost\"  # IP address of the MySQL database server\n",
    "databaseUserName = \"root\"       # User name of the database server\n",
    "databaseUserPassword = \"admin\"           # Password for the database user\n",
    "charSet = \"utf8mb4\"     # Character set\n",
    "cusrorType = pymysql.cursors.DictCursor    \n",
    "\n",
    "mySQLConnection = getDatabaseConnection(databaseServerIP, databaseUserName, databaseUserPassword, charSet, cusrorType);\n",
    "mySQLCursor     = mySQLConnection.cursor();\n",
    "\n",
    "createUser(mySQLCursor, \"analytics\",\"a$be@ter12\");\n",
    "createUser(mySQLCursor, \"testbed\", \"x@ye@iog43\"); \n",
    "\n",
    "mySqlListUsers = \"select host, user from mysql.user;\";\n",
    "mySQLCursor.execute(mySqlListUsers);\n",
    "\n",
    "# Fetch all the rows\n",
    "userList = mySQLCursor.fetchall();\n",
    "\n",
    "print(\"List of users:\");\n",
    "for user in userList:\n",
    "    print(user);"
   ]
  },
  {
   "cell_type": "markdown",
   "metadata": {},
   "source": [
    "#### 3.2 Deleting A MySQL User From A Python Program Using Pymysql\n",
    "- In MySQL, the SQL statement DROP USER deletes an user from the database management system.\n",
    "- The DROP USER will not delete other database objects like databases, tables, stored procedures that were created by the deleted user.\n",
    "- The example Python program, prints the list of users present in the MySQL server. It deletes one of the users and prints the list again. The list does not include the deleted user."
   ]
  },
  {
   "cell_type": "code",
   "execution_count": 61,
   "metadata": {},
   "outputs": [
    {
     "name": "stdout",
     "output_type": "stream",
     "text": [
      "List of users - Before deletion of an user:\n",
      "User List:\n",
      "{'host': 'localhost', 'user': 'analytics'}\n",
      "{'host': 'localhost', 'user': 'mysql.sys'}\n",
      "{'host': 'localhost', 'user': 'root'}\n",
      "{'host': 'localhost', 'user': 'testbed'}\n",
      "Deleting an User…\n",
      "List of users - After deletion of an user:\n",
      "User List:\n",
      "{'host': 'localhost', 'user': 'mysql.sys'}\n",
      "{'host': 'localhost', 'user': 'root'}\n",
      "{'host': 'localhost', 'user': 'testbed'}\n"
     ]
    }
   ],
   "source": [
    "# Example: Delete an user from MySQL server\n",
    "\n",
    "# Print the list of users\n",
    "def PrintUserList(sqlCursor):\n",
    "    sql_GetUser = \"select host, user from mysql.user;\";\n",
    "    sqlCursor.execute(sql_GetUser);\n",
    "    users= sqlCursor.fetchall();\n",
    "    print(\"User List:\");\n",
    "    for userName in users:\n",
    "        print(userName);\n",
    "        \n",
    "# Delete an User\n",
    "def DeleteUser(sqlCursor, userName):\n",
    "    sql_DeleteUser = \"DROP USER %s;\"%userName;\n",
    "    sqlCursor.execute(sql_DeleteUser);\n",
    "\n",
    "# Connection parameters and access credentials\n",
    "databaseServerIP = \"localhost\"  # IP address of the MySQL database server\n",
    "databaseUserName = \"root\"       # User name of the database server\n",
    "databaseUserPassword = \"admin\"           # Password for the database user\n",
    "charSet = \"utf8mb4\"     # Character set\n",
    "cusrorType = pymysql.cursors.DictCursor    \n",
    "\n",
    "mySQLConnection = getDatabaseConnection(databaseServerIP, databaseUserName, databaseUserPassword, charSet, cusrorType);\n",
    "mySQLCursor     = mySQLConnection.cursor();\n",
    "\n",
    "# Print the list of MySQL users - Before deleting\n",
    "\n",
    "print(\"List of users - Before deletion of an user:\");\n",
    "PrintUserList(mySQLCursor);\n",
    "\n",
    "# Delete an User\n",
    "userName = \"'analytics'@'localhost'\";\n",
    "print(\"Deleting an User…\");\n",
    "DeleteUser(mySQLCursor, userName);\n",
    "\n",
    "print(\"List of users - After deletion of an user:\");\n",
    "\n",
    "# Print the list of MySQL users - After deleting\n",
    "PrintUserList(mySQLCursor);"
   ]
  },
  {
   "cell_type": "markdown",
   "metadata": {},
   "source": [
    "# PyMySQL Document: https://pypi.org/project/PyMySQL/"
   ]
  }
 ],
 "metadata": {
  "kernelspec": {
   "display_name": "Python 3",
   "language": "python",
   "name": "python3"
  },
  "language_info": {
   "codemirror_mode": {
    "name": "ipython",
    "version": 3
   },
   "file_extension": ".py",
   "mimetype": "text/x-python",
   "name": "python",
   "nbconvert_exporter": "python",
   "pygments_lexer": "ipython3",
   "version": "3.7.3"
  }
 },
 "nbformat": 4,
 "nbformat_minor": 2
}
