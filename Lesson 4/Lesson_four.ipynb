{
  "nbformat": 4,
  "nbformat_minor": 0,
  "metadata": {
    "colab": {
      "name": "Lesson_four.ipynb",
      "version": "0.3.2",
      "provenance": [],
      "collapsed_sections": [],
      "toc_visible": true,
      "include_colab_link": true
    },
    "kernelspec": {
      "name": "python3",
      "display_name": "Python 3"
    }
  },
  "cells": [
    {
      "cell_type": "markdown",
      "metadata": {
        "id": "view-in-github",
        "colab_type": "text"
      },
      "source": [
        "<a href=\"https://colab.research.google.com/github/unt-iialab/UNT-INFO5717-Fall2019/blob/master/Lesson%204/Lesson_four.ipynb\" target=\"_parent\"><img src=\"https://colab.research.google.com/assets/colab-badge.svg\" alt=\"Open In Colab\"/></a>"
      ]
    },
    {
      "cell_type": "markdown",
      "metadata": {
        "id": "AwKbYo2HPEBw",
        "colab_type": "text"
      },
      "source": [
        "This file introduces the core content and gives some examples for Lesson 4"
      ]
    },
    {
      "cell_type": "markdown",
      "metadata": {
        "id": "wFnMoI8nPes_",
        "colab_type": "text"
      },
      "source": [
        "# 1. Python module and Python package"
      ]
    },
    {
      "cell_type": "markdown",
      "metadata": {
        "id": "Rv4RAdj4V-ms",
        "colab_type": "text"
      },
      "source": [
        "**Python Modules**\n",
        "\n",
        "\n",
        "*   A module is a file containing Python definitions and statements.\n",
        "*   A module can define functions, classes and variables.\n",
        "*   A module can also include runnable code.\n",
        "*   Grouping related code into a module makes the code easier to understand and use.\n",
        "\n",
        "**Python Packages**\n",
        "\n",
        "\n",
        "\n",
        "*   Packages are namespaces which contain multiple packages and modules themselves.\n",
        "*   They are simply directories, but with a twist.\n",
        "*   Each package in Python is a directory which MUST contain a special file called __init__.py.\n",
        "*   This file can be empty, and it indicates that the directory it contains is a Python package, so it can be imported the same way a module can be imported.\n",
        "*   Example: If we create a directory called foo, which marks the package name, we can then create a module inside that package called bar. We also must not forget to add the __init__.py file inside the foo directory.\n",
        "\n",
        "**What is difference between a Python module and Python package?**\n",
        "\n",
        "\n",
        "*   A module is a single file (or files) that are imported under one import and used. e.g., \n",
        "`import my_module`\n",
        "*   A package is a collection of modules in directories that give a package hierarchy. e.g., `from my_package.timing.danger.internets import function_of_love`\n",
        "\n",
        "\n",
        "Any Python file is a [module](https://docs.python.org/3/tutorial/modules.html), its name being the file's base name without the .py extension. A [package](https://docs.python.org/3/tutorial/modules.html#packages) is a collection of Python modules: while a module is a single Python file, a package is a directory of Python modules containing an additional __init__.py file, to distinguish a package from a directory that just happens to contain a bunch of Python scripts.\n",
        "\n",
        "\n",
        "\n",
        "\n",
        "\n"
      ]
    },
    {
      "cell_type": "markdown",
      "metadata": {
        "id": "-nYkSiuOdxx_",
        "colab_type": "text"
      },
      "source": [
        "1.1 Python modules\n",
        "\n",
        "**(1) Define a module mylib.py**\n",
        "\n",
        "\n",
        "```\n",
        "#!/usr/bin/env python\n",
        "# -*- coding: utf-8 -*-\n",
        "# Created by Haihua on 9/7/2019\n",
        "\n",
        "# Fibonacci numbers module\n",
        "# write Fibonacci series up to n\n",
        "def fib(n): \n",
        "    a, b = 0, 1\n",
        "    while a < n:\n",
        "        print(a, end=' ')\n",
        "        a, b = b, a+b\n",
        "    print()\n",
        "    \n",
        "# return Fibonacci series up to n\n",
        "def fib2(n):   \n",
        "    result = []\n",
        "    a, b = 0, 1\n",
        "    while a < n:\n",
        "        result.append(a)\n",
        "        a, b = b, a+b\n",
        "    return result\n",
        "```\n"
      ]
    },
    {
      "cell_type": "code",
      "metadata": {
        "id": "wEDWxFcwSncf",
        "colab_type": "code",
        "outputId": "4e017d9b-6cf5-4e18-bdb7-b36d3bdcde1f",
        "colab": {
          "resources": {
            "http://localhost:8080/nbextensions/google.colab/files.js": {
              "data": "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",
              "ok": true,
              "headers": [
                [
                  "content-type",
                  "application/javascript"
                ]
              ],
              "status": 200,
              "status_text": ""
            }
          },
          "base_uri": "https://localhost:8080/",
          "height": 241
        }
      },
      "source": [
        "# upload the file from local\n",
        "\n",
        "from google.colab import files\n",
        "src = list(files.upload().values())[0]\n",
        "open('mylib_lesson3_01.py','wb').write(src)\n"
      ],
      "execution_count": 13,
      "outputs": [
        {
          "output_type": "display_data",
          "data": {
            "text/html": [
              "\n",
              "     <input type=\"file\" id=\"files-8caf1a0f-4f6a-4d8c-a44a-c9a5881927e9\" name=\"files[]\" multiple disabled />\n",
              "     <output id=\"result-8caf1a0f-4f6a-4d8c-a44a-c9a5881927e9\">\n",
              "      Upload widget is only available when the cell has been executed in the\n",
              "      current browser session. Please rerun this cell to enable.\n",
              "      </output>\n",
              "      <script src=\"/nbextensions/google.colab/files.js\"></script> "
            ],
            "text/plain": [
              "<IPython.core.display.HTML object>"
            ]
          },
          "metadata": {
            "tags": []
          }
        },
        {
          "output_type": "error",
          "ename": "IndexError",
          "evalue": "ignored",
          "traceback": [
            "\u001b[0;31m---------------------------------------------------------------------------\u001b[0m",
            "\u001b[0;31mIndexError\u001b[0m                                Traceback (most recent call last)",
            "\u001b[0;32m<ipython-input-13-03b95e581034>\u001b[0m in \u001b[0;36m<module>\u001b[0;34m()\u001b[0m\n\u001b[1;32m      1\u001b[0m \u001b[0;34m\u001b[0m\u001b[0m\n\u001b[1;32m      2\u001b[0m \u001b[0;32mfrom\u001b[0m \u001b[0mgoogle\u001b[0m\u001b[0;34m.\u001b[0m\u001b[0mcolab\u001b[0m \u001b[0;32mimport\u001b[0m \u001b[0mfiles\u001b[0m\u001b[0;34m\u001b[0m\u001b[0;34m\u001b[0m\u001b[0m\n\u001b[0;32m----> 3\u001b[0;31m \u001b[0msrc\u001b[0m \u001b[0;34m=\u001b[0m \u001b[0mlist\u001b[0m\u001b[0;34m(\u001b[0m\u001b[0mfiles\u001b[0m\u001b[0;34m.\u001b[0m\u001b[0mupload\u001b[0m\u001b[0;34m(\u001b[0m\u001b[0;34m)\u001b[0m\u001b[0;34m.\u001b[0m\u001b[0mvalues\u001b[0m\u001b[0;34m(\u001b[0m\u001b[0;34m)\u001b[0m\u001b[0;34m)\u001b[0m\u001b[0;34m[\u001b[0m\u001b[0;36m0\u001b[0m\u001b[0;34m]\u001b[0m\u001b[0;34m\u001b[0m\u001b[0;34m\u001b[0m\u001b[0m\n\u001b[0m\u001b[1;32m      4\u001b[0m \u001b[0mopen\u001b[0m\u001b[0;34m(\u001b[0m\u001b[0;34m'mylib_lesson3_01.py'\u001b[0m\u001b[0;34m,\u001b[0m\u001b[0;34m'wb'\u001b[0m\u001b[0;34m)\u001b[0m\u001b[0;34m.\u001b[0m\u001b[0mwrite\u001b[0m\u001b[0;34m(\u001b[0m\u001b[0msrc\u001b[0m\u001b[0;34m)\u001b[0m\u001b[0;34m\u001b[0m\u001b[0;34m\u001b[0m\u001b[0m\n",
            "\u001b[0;31mIndexError\u001b[0m: list index out of range"
          ]
        }
      ]
    },
    {
      "cell_type": "markdown",
      "metadata": {
        "id": "mpJQ_wNNLBSe",
        "colab_type": "text"
      },
      "source": [
        "**(2) Use a Python module:**\n",
        "\n",
        "The import statement and The from import Statement\n"
      ]
    },
    {
      "cell_type": "code",
      "metadata": {
        "id": "hCnM1wnhUMns",
        "colab_type": "code",
        "colab": {}
      },
      "source": [
        "# import the module mylib with the following statement\n",
        "# This does not enter the names of the functions defined in mylib directly in the current symbol table; it only enters the module name mylib there. Using the module name you can access the functions in the module\n",
        "\n",
        "import mylib_lesson3_01\n",
        "mylib_lesson3_01.fib(1000)\n",
        "mylib_lesson3_01.__name__"
      ],
      "execution_count": 0,
      "outputs": []
    },
    {
      "cell_type": "code",
      "metadata": {
        "id": "CMKat-A9Hd2m",
        "colab_type": "code",
        "colab": {}
      },
      "source": [
        "# import a specific function in a module\n",
        "\n",
        "from mylib_lesson3_01 import fib, fib2\n",
        "fib(500)\n",
        "\n",
        "# import all the function in the module\n",
        "from mylib_lesson3_01 import *"
      ],
      "execution_count": 0,
      "outputs": []
    },
    {
      "cell_type": "markdown",
      "metadata": {
        "id": "MudVBqqsKEiC",
        "colab_type": "text"
      },
      "source": [
        "1.   **This imports all names** except those beginning with an underscore (_). In most cases Python programmers do not use this facility since it introduces an unknown set of names into the interpreter, possibly hiding some things you have already defined.\n",
        "2.   Note that in general the practice of importing * from a module or package is frowned upon, since it often causes poorly readable code. However, it is okay to use it to save typing in interactive sessions.\n",
        "\n"
      ]
    },
    {
      "cell_type": "code",
      "metadata": {
        "id": "dIE4HbECIn8k",
        "colab_type": "code",
        "colab": {}
      },
      "source": [
        "# If the module name is followed by as, then the name following as is bound directly to the imported module.\n",
        "\n",
        "import mylib_lesson3_01 as mylib01\n",
        "mylib01.fib(800)\n",
        "\n",
        "# This is effectively importing the module in the same way that import fibo will do, with the only difference of it being available as fib."
      ],
      "execution_count": 0,
      "outputs": []
    },
    {
      "cell_type": "code",
      "metadata": {
        "id": "xOwOR20eK87y",
        "colab_type": "code",
        "colab": {}
      },
      "source": [
        "# It can also be used when utilising from with similar effects:\n",
        "\n",
        "from mylib_lesson3_01 import fib as fibonacci\n",
        "fibonacci(3000) "
      ],
      "execution_count": 0,
      "outputs": []
    },
    {
      "cell_type": "markdown",
      "metadata": {
        "id": "KfzfOCUdMZok",
        "colab_type": "text"
      },
      "source": [
        "**(3) Built-In Modules**\n",
        "\n",
        "The dir() built-in function returns a sorted list of strings containing the names defined by a module. The list contains the names of all the modules, variables and functions that are defined in a module."
      ]
    },
    {
      "cell_type": "code",
      "metadata": {
        "id": "ibT5rcr4M0oG",
        "colab_type": "code",
        "colab": {}
      },
      "source": [
        "#  Import built-in module  random \n",
        "import random\n",
        "print (dir(random))\n",
        "\n",
        "import math\n",
        "print (dir(math))\n",
        "\n",
        "import builtins\n",
        "print(dir(builtins))"
      ],
      "execution_count": 0,
      "outputs": []
    },
    {
      "cell_type": "code",
      "metadata": {
        "id": "VI8bBa4sN9N9",
        "colab_type": "code",
        "colab": {}
      },
      "source": [
        "# Code Snippet illustrating python built-in modules:\n",
        "\n",
        "\n",
        "# importing built in module random \n",
        "import random \n",
        "\n",
        "# printing random integer between 0 and 5 \n",
        "print (random.randint(0, 5)) \n",
        "\n",
        "# print random floating point number between 0 and 1 \n",
        "print (random.random()) \n",
        "\n",
        "# random number between 0 and 100 \n",
        "print (random.random() * 100)\n",
        "\n",
        "List = [1, 4, True, 800, \"python\", 27, \"hello\"] \n",
        "\n",
        "# using choice function in random module for choosing \n",
        "# a random element from a set such as a list \n",
        "print (random.choice(List)) \n",
        "\n",
        "\n",
        "# importing built in module datetime \n",
        "import datetime \n",
        "from datetime import date \n",
        "import time \n",
        "\n",
        "# Returns the number of seconds since the \n",
        "# Unix Epoch, January 1st 1970 \n",
        "print (time.time()) \n",
        "\n",
        "# Converts a number of seconds to a date object \n",
        "print (date.fromtimestamp(454554)) \n",
        "\n",
        "\n",
        "# importing built-in module math \n",
        "import math \n",
        "\n",
        "# using square root(sqrt) function contained \n",
        "# in math module \n",
        "print (math.sqrt(25)) \n",
        "\n",
        "# using pi function contained in math module \n",
        "print (math.pi) \n",
        "\n",
        "# 2 radians = 114.59 degreees \n",
        "print (math.degrees(2)) \n",
        "\n",
        "# 60 degrees = 1.04 radians \n",
        "print (math.radians(60)) \n",
        "\n",
        "# Sine of 2 radians \n",
        "print (math.sin(2)) \n",
        "\n",
        "# Cosine of 0.5 radians \n",
        "print (math.cos(0.5)) \n",
        "\n",
        "# Tangent of 0.23 radians \n",
        "print (math.tan(0.23)) \n",
        "\n",
        "# 1 * 2 * 3 * 4 = 24 \n",
        "print (math.factorial(4)) \n",
        "\n"
      ],
      "execution_count": 0,
      "outputs": []
    },
    {
      "cell_type": "markdown",
      "metadata": {
        "id": "Hejtyr4JlVe7",
        "colab_type": "text"
      },
      "source": [
        "**Modules Listing**\n",
        "To find out the list of modules present in python, we can issue the command: help(“modules”) in Python interpreter shell."
      ]
    },
    {
      "cell_type": "markdown",
      "metadata": {
        "id": "jLrBYVTWo1jh",
        "colab_type": "text"
      },
      "source": [
        "**(4) Define Variables in Module**\n",
        "The module can contain functions, as already described, but also variables of all types (arrays, dictionaries, objects etc):\n",
        "\n",
        "```\n",
        "person1 = {\n",
        "  \"name\": \"John\",\n",
        "  \"age\": 36,\n",
        "  \"country\": \"Norway\"\n",
        "}\n",
        "```\n",
        "\n"
      ]
    },
    {
      "cell_type": "code",
      "metadata": {
        "id": "rpuKTZuIpJbK",
        "colab_type": "code",
        "colab": {}
      },
      "source": [
        "from google.colab import files\n",
        "src = list(files.upload().values())[0]\n",
        "open('mylib_lesson3_02.py','wb').write(src)"
      ],
      "execution_count": 0,
      "outputs": []
    },
    {
      "cell_type": "code",
      "metadata": {
        "id": "YLN5Tu0epbZN",
        "colab_type": "code",
        "colab": {}
      },
      "source": [
        "import mylib_lesson3_02\n",
        "\n",
        "a = mylib_lesson3_02.person1[\"age\"]\n",
        "print(a)"
      ],
      "execution_count": 0,
      "outputs": []
    },
    {
      "cell_type": "markdown",
      "metadata": {
        "id": "K90z7gO4ps-U",
        "colab_type": "text"
      },
      "source": [
        "1.2 Python Packages\n",
        "\n",
        "**(1) Find, install and publish Python packages with the Python Package Index** \n",
        "\n",
        "[Python package index](https://pypi.org/) "
      ]
    },
    {
      "cell_type": "markdown",
      "metadata": {
        "id": "5SISxS9Bq7p7",
        "colab_type": "text"
      },
      "source": [
        "**(2) How to install a python package?**\n",
        "\n",
        "in command:\n",
        "\n",
        "\n",
        "```\n",
        "pip install nltk(package name)\n",
        "```\n",
        "\n",
        "\n",
        "in Colab:\n",
        "\n",
        "\n",
        "```\n",
        "!pip install nltk(package name)\n",
        "```\n"
      ]
    },
    {
      "cell_type": "code",
      "metadata": {
        "id": "4fEWx_ccswhb",
        "colab_type": "code",
        "colab": {}
      },
      "source": [
        "pip install bert"
      ],
      "execution_count": 0,
      "outputs": []
    },
    {
      "cell_type": "code",
      "metadata": {
        "id": "vz0_gxzPleet",
        "colab_type": "code",
        "colab": {}
      },
      "source": [
        "# Package pre-installed in colab\n",
        "!pip freeze"
      ],
      "execution_count": 0,
      "outputs": []
    },
    {
      "cell_type": "markdown",
      "metadata": {
        "id": "ZsXaf6mPulBG",
        "colab_type": "text"
      },
      "source": [
        "(3) **The structure of Python packages ([from python documentation]**(https://docs.python.org/3/tutorial/modules.html#packages)):\n",
        "\n",
        "Packages can contain nested subpackages to arbitrary depth. For example, let’s make one more modification to the example package directory as follows:\n",
        "\n",
        "![alt text](https://files.realpython.com/media/pkg4.a830d6e144bf.png)\n",
        "\n",
        "\n",
        "The four modules (mod1.py, mod2.py, mod3.py and mod4.py) are defined as previously. But now, instead of being lumped together into the pkg directory, they are split out into two subpackage directories, sub_pkg1 and sub_pkg2.\n",
        "\n",
        "Importing still works the same as shown previously. Syntax is similar, but additional dot notation is used to separate package name from subpackage name:\n",
        "\n",
        "\n",
        "\n",
        "```\n",
        "import pkg.sub_pkg1.mod1\n",
        "\n",
        "from pkg.sub_pkg1 import mod2\n",
        "\n",
        "from pkg.sub_pkg2.mod3 import function_name\n",
        "\n",
        "# Rename a function\n",
        "from pkg.sub_pkg2.mod4 import qux as grault \n",
        "\n",
        "```\n",
        "\n",
        "**Remember, the usage of packages and modules are very similar!**"
      ]
    },
    {
      "cell_type": "markdown",
      "metadata": {
        "id": "E_H-85jp9dzt",
        "colab_type": "text"
      },
      "source": [
        "# 2. Python Advanced Recursion\n",
        "\n",
        "Problems (in life and also in computer science) can often seem big and scary. But if we keep chipping away at them, more often than not we can break them down into smaller chunks trivial enough to solve. This is the essence of thinking recursively!"
      ]
    },
    {
      "cell_type": "markdown",
      "metadata": {
        "id": "zkqRn7Na-f_Q",
        "colab_type": "text"
      },
      "source": [
        "![alt text](https://files.realpython.com/media/santa_claus_2.ecbf2686f1a1.png)"
      ]
    },
    {
      "cell_type": "code",
      "metadata": {
        "id": "jK-44aTH_z8a",
        "colab_type": "code",
        "colab": {}
      },
      "source": [
        "houses = [\"Eric's house\", \"Kenny's house\", \"Kyle's house\", \"Stan's house\"]\n",
        "\n",
        "def deliver_presents_iteratively():\n",
        "    for house in houses:\n",
        "        print(\"Delivering presents to\", house)\n",
        "deliver_presents_iteratively()"
      ],
      "execution_count": 0,
      "outputs": []
    },
    {
      "cell_type": "markdown",
      "metadata": {
        "id": "8BenhopACZM3",
        "colab_type": "text"
      },
      "source": [
        "![alt text](https://files.realpython.com/media/elves_7.8d1af1cd85c8.png)\n",
        "\n",
        "Assign titles and responsibilities to the elves based on the number of houses for which they are responsible:\n",
        "\n",
        "*   \\> 1 He is a manager and can appoint two elves and divide his work among them\n",
        "*   = 1 He is a worker and has to deliver the presents to the house assigned to him\n"
      ]
    },
    {
      "cell_type": "code",
      "metadata": {
        "id": "Gnah5OdSCbIs",
        "colab_type": "code",
        "colab": {}
      },
      "source": [
        "houses = [\"Eric's house\", \"Kenny's house\", \"Kyle's house\", \"Stan's house\"]\n",
        "\n",
        "# Each function call represents an elf doing his work \n",
        "def deliver_presents_recursively(houses):\n",
        "    # Worker elf doing his work\n",
        "    if len(houses) == 1:\n",
        "        house = houses[0]\n",
        "        print(\"Delivering presents to\", house)\n",
        "\n",
        "    # Manager elf doing his work\n",
        "    else:\n",
        "        mid = len(houses) // 2\n",
        "        first_half = houses[:mid]\n",
        "        second_half = houses[mid:]\n",
        "\n",
        "        # Divides his work among two elves\n",
        "        deliver_presents_recursively(first_half)\n",
        "        deliver_presents_recursively(second_half)\n",
        "deliver_presents_recursively(houses)"
      ],
      "execution_count": 0,
      "outputs": []
    },
    {
      "cell_type": "markdown",
      "metadata": {
        "id": "O2VNSTWTHN6w",
        "colab_type": "text"
      },
      "source": [
        "n! = n x (n−1)!\n",
        "\n",
        "n! = n x (n−1) x (n−2)!\n",
        "\n",
        "n! = n x (n−1) x (n−2) x (n−3)!\n",
        "\n",
        "⋅\n",
        "\n",
        "⋅\n",
        "\n",
        "n! = n x (n−1) x (n−2) x (n−3) ⋅⋅⋅⋅ x 3!\n",
        "\n",
        "n! = n x (n−1) x (n−2) x (n−3) ⋅⋅⋅⋅ x 3 x 2!\n",
        "\n",
        "n! = n x (n−1) x (n−2) x (n−3) ⋅⋅⋅⋅ x 3 x 2 x 1!\n",
        "\n",
        "![alt text](https://files.realpython.com/media/stack.9c4ba62929cf.gif)"
      ]
    },
    {
      "cell_type": "code",
      "metadata": {
        "id": "t8NINPX6HVzH",
        "colab_type": "code",
        "colab": {}
      },
      "source": [
        "def factorial_recursive(n):\n",
        "    # Base case: 1! = 1\n",
        "    if n == 1:\n",
        "        return 1\n",
        "\n",
        "    # Recursive case: n! = n * (n-1)!\n",
        "    else:\n",
        "        return n * factorial_recursive(n-1)\n",
        "      \n",
        "factorial_recursive(5)"
      ],
      "execution_count": 0,
      "outputs": []
    },
    {
      "cell_type": "markdown",
      "metadata": {
        "id": "mRF5RHQcHv6B",
        "colab_type": "text"
      },
      "source": [
        "![alt text](https://files.realpython.com/media/state_3.3e8a68c4fde5.png)\n",
        "\n",
        "\n",
        "(1,0)\n",
        "\n",
        "(2,1)\n",
        "\n",
        "(3,3)\n",
        "\n",
        "(4,6)\n",
        "\n",
        "(5,10)\n",
        "\n",
        "(6,15)\n",
        "\n",
        "(7,21)\n",
        "\n",
        "(8,28)\n",
        "\n",
        "(9,36)\n",
        "\n",
        "(10,45)\n",
        "\n",
        "(11,55)\n",
        "\n"
      ]
    },
    {
      "cell_type": "code",
      "metadata": {
        "id": "f-IQGK1BJUhf",
        "colab_type": "code",
        "colab": {}
      },
      "source": [
        "def sum_recursive(current_number, accumulated_sum):\n",
        "    # Base case\n",
        "    # Return the final state\n",
        "    if current_number == 11:\n",
        "        return accumulated_sum\n",
        "\n",
        "    # Recursive case\n",
        "    # Thread the state through the recursive call\n",
        "    else:\n",
        "        return sum_recursive(current_number + 1, accumulated_sum + current_number)\n",
        "\n",
        "sum_recursive(1, 0)"
      ],
      "execution_count": 0,
      "outputs": []
    },
    {
      "cell_type": "markdown",
      "metadata": {
        "id": "FhAFzAauX7bB",
        "colab_type": "text"
      },
      "source": [
        "## **Recursive Data Structures in Python**\n",
        "\n",
        "A data structure is recursive if it can be deﬁned in terms of a smaller version of itself. "
      ]
    },
    {
      "cell_type": "code",
      "metadata": {
        "id": "U7asLTcKXxZL",
        "colab_type": "code",
        "colab": {}
      },
      "source": [
        "# Return a new list that is the result of\n",
        "# adding element to the head (i.e. front) of input_list\n",
        "def attach_head(element, input_list):\n",
        "    return [element] + input_list\n",
        "  \n",
        "attach_head(1,                                                  # Will return [1, 46, -31, \"hello\"]\n",
        "            attach_head(46,                                     # Will return [46, -31, \"hello\"]\n",
        "                        attach_head(-31,                        # Will return [-31, \"hello\"]\n",
        "                                    attach_head(\"hello\", [])))) # Will return [\"hello\"]"
      ],
      "execution_count": 0,
      "outputs": []
    },
    {
      "cell_type": "markdown",
      "metadata": {
        "id": "FILLLYzjYdGJ",
        "colab_type": "text"
      },
      "source": [
        "\n",
        "\n",
        "1.   Starting with an empty list, you can generate any list by recursively applying the attach_head function.\n",
        "2.   Recursion can also be seen as self-referential function composition. We apply a function to an argument, then pass that result on as an argument to a second application of the same function, and so on. Repeatedly composing attach_head with itself is the same as attach_head calling itself repeatedly.\n",
        "\n",
        "![alt text](https://files.realpython.com/media/list.3df62a89243d.gif)\n",
        "\n"
      ]
    },
    {
      "cell_type": "code",
      "metadata": {
        "id": "7H-epojUZHZ_",
        "colab_type": "code",
        "colab": {
          "base_uri": "https://localhost:8080/",
          "height": 35
        },
        "outputId": "30bdf2bf-9307-48b9-f9ab-81219a894202"
      },
      "source": [
        "def list_sum_recursive(input_list):\n",
        "    # Base case\n",
        "    if input_list == []:\n",
        "        return 0\n",
        "\n",
        "    # Recursive case\n",
        "    # Decompose the original problem into simpler instances of the same problem\n",
        "    # by making use of the fact that the input is a recursive data structure\n",
        "    # and can be deﬁned in terms of a smaller version of itself\n",
        "    else:\n",
        "        head = input_list[0]\n",
        "        smaller_list = input_list[1:]\n",
        "        return head + list_sum_recursive(smaller_list)\n",
        "\n",
        "list_sum_recursive([1, 2, 3])"
      ],
      "execution_count": 14,
      "outputs": [
        {
          "output_type": "execute_result",
          "data": {
            "text/plain": [
              "6"
            ]
          },
          "metadata": {
            "tags": []
          },
          "execution_count": 14
        }
      ]
    }
  ]
}