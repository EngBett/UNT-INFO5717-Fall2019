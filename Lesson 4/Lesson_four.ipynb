{
  "nbformat": 4,
  "nbformat_minor": 0,
  "metadata": {
    "colab": {
      "name": "Lesson_four.ipynb",
      "provenance": [],
      "collapsed_sections": [],
      "toc_visible": true,
      "include_colab_link": true
    },
    "kernelspec": {
      "name": "python3",
      "display_name": "Python 3"
    }
  },
  "cells": [
    {
      "cell_type": "markdown",
      "metadata": {
        "id": "view-in-github",
        "colab_type": "text"
      },
      "source": [
        "<a href=\"https://colab.research.google.com/github/unt-iialab/UNT-INFO5717-Fall2019/blob/master/Lesson%204/Lesson_four.ipynb\" target=\"_parent\"><img src=\"https://colab.research.google.com/assets/colab-badge.svg\" alt=\"Open In Colab\"/></a>"
      ]
    },
    {
      "cell_type": "markdown",
      "metadata": {
        "id": "AwKbYo2HPEBw",
        "colab_type": "text"
      },
      "source": [
        "This file introduces the core content and gives some examples for Lesson 4"
      ]
    },
    {
      "cell_type": "markdown",
      "metadata": {
        "id": "wFnMoI8nPes_",
        "colab_type": "text"
      },
      "source": [
        "# 1. Python module and Python package"
      ]
    },
    {
      "cell_type": "markdown",
      "metadata": {
        "id": "Rv4RAdj4V-ms",
        "colab_type": "text"
      },
      "source": [
        "**Python Modules**\n",
        "\n",
        "\n",
        "*   A module is a file containing Python definitions and statements.\n",
        "*   A module can define functions, classes and variables.\n",
        "*   A module can also include runnable code.\n",
        "*   Grouping related code into a module makes the code easier to understand and use.\n",
        "\n",
        "**Python Packages**\n",
        "\n",
        "\n",
        "\n",
        "*   Packages are namespaces which contain multiple packages and modules themselves.\n",
        "*   They are simply directories, but with a twist.\n",
        "*   Each package in Python is a directory which MUST contain a special file called __init__.py.\n",
        "*   This file can be empty, and it indicates that the directory it contains is a Python package, so it can be imported the same way a module can be imported.\n",
        "*   Example: If we create a directory called foo, which marks the package name, we can then create a module inside that package called bar. We also must not forget to add the __init__.py file inside the foo directory.\n",
        "\n",
        "**What is difference between a Python module and Python package?**\n",
        "\n",
        "\n",
        "*   A module is a single file (or files) that are imported under one import and used. e.g., \n",
        "`import my_module`\n",
        "*   A package is a collection of modules in directories that give a package hierarchy. e.g., `from my_package.timing.danger.internets import function_of_love`\n",
        "\n",
        "\n",
        "Any Python file is a [module](https://docs.python.org/3/tutorial/modules.html), its name being the file's base name without the .py extension. A [package](https://docs.python.org/3/tutorial/modules.html#packages) is a collection of Python modules: while a module is a single Python file, a package is a directory of Python modules containing an additional __init__.py file, to distinguish a package from a directory that just happens to contain a bunch of Python scripts.\n",
        "\n",
        "\n",
        "\n",
        "\n",
        "\n"
      ]
    },
    {
      "cell_type": "markdown",
      "metadata": {
        "id": "-nYkSiuOdxx_",
        "colab_type": "text"
      },
      "source": [
        "1.1 Python modules\n",
        "\n",
        "**(1) Define a module mylib.py**\n",
        "\n",
        "\n",
        "```\n",
        "#!/usr/bin/env python\n",
        "# -*- coding: utf-8 -*-\n",
        "# Created by Haihua on 9/7/2019\n",
        "\n",
        "# Fibonacci numbers module\n",
        "# write Fibonacci series up to n\n",
        "def fib(n): \n",
        "    a, b = 0, 1\n",
        "    while a < n:\n",
        "        print(a, end=' ')\n",
        "        a, b = b, a+b\n",
        "    print()\n",
        "    \n",
        "# return Fibonacci series up to n\n",
        "def fib2(n):   \n",
        "    result = []\n",
        "    a, b = 0, 1\n",
        "    while a < n:\n",
        "        result.append(a)\n",
        "        a, b = b, a+b\n",
        "    return result\n",
        "```\n"
      ]
    },
    {
      "cell_type": "code",
      "metadata": {
        "id": "wEDWxFcwSncf",
        "colab_type": "code",
        "outputId": "4e017d9b-6cf5-4e18-bdb7-b36d3bdcde1f",
        "colab": {
          "resources": {
            "http://localhost:8080/nbextensions/google.colab/files.js": {
              "data": "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",
              "ok": true,
              "headers": [
                [
                  "content-type",
                  "application/javascript"
                ]
              ],
              "status": 200,
              "status_text": ""
            }
          },
          "base_uri": "https://localhost:8080/",
          "height": 241
        }
      },
      "source": [
        "# upload the file from local\n",
        "\n",
        "from google.colab import files\n",
        "src = list(files.upload().values())[0]\n",
        "open('mylib_lesson3_01.py','wb').write(src)\n"
      ],
      "execution_count": 0,
      "outputs": [
        {
          "output_type": "display_data",
          "data": {
            "text/html": [
              "\n",
              "     <input type=\"file\" id=\"files-8caf1a0f-4f6a-4d8c-a44a-c9a5881927e9\" name=\"files[]\" multiple disabled />\n",
              "     <output id=\"result-8caf1a0f-4f6a-4d8c-a44a-c9a5881927e9\">\n",
              "      Upload widget is only available when the cell has been executed in the\n",
              "      current browser session. Please rerun this cell to enable.\n",
              "      </output>\n",
              "      <script src=\"/nbextensions/google.colab/files.js\"></script> "
            ],
            "text/plain": [
              "<IPython.core.display.HTML object>"
            ]
          },
          "metadata": {
            "tags": []
          }
        },
        {
          "output_type": "error",
          "ename": "IndexError",
          "evalue": "ignored",
          "traceback": [
            "\u001b[0;31m---------------------------------------------------------------------------\u001b[0m",
            "\u001b[0;31mIndexError\u001b[0m                                Traceback (most recent call last)",
            "\u001b[0;32m<ipython-input-13-03b95e581034>\u001b[0m in \u001b[0;36m<module>\u001b[0;34m()\u001b[0m\n\u001b[1;32m      1\u001b[0m \u001b[0;34m\u001b[0m\u001b[0m\n\u001b[1;32m      2\u001b[0m \u001b[0;32mfrom\u001b[0m \u001b[0mgoogle\u001b[0m\u001b[0;34m.\u001b[0m\u001b[0mcolab\u001b[0m \u001b[0;32mimport\u001b[0m \u001b[0mfiles\u001b[0m\u001b[0;34m\u001b[0m\u001b[0;34m\u001b[0m\u001b[0m\n\u001b[0;32m----> 3\u001b[0;31m \u001b[0msrc\u001b[0m \u001b[0;34m=\u001b[0m \u001b[0mlist\u001b[0m\u001b[0;34m(\u001b[0m\u001b[0mfiles\u001b[0m\u001b[0;34m.\u001b[0m\u001b[0mupload\u001b[0m\u001b[0;34m(\u001b[0m\u001b[0;34m)\u001b[0m\u001b[0;34m.\u001b[0m\u001b[0mvalues\u001b[0m\u001b[0;34m(\u001b[0m\u001b[0;34m)\u001b[0m\u001b[0;34m)\u001b[0m\u001b[0;34m[\u001b[0m\u001b[0;36m0\u001b[0m\u001b[0;34m]\u001b[0m\u001b[0;34m\u001b[0m\u001b[0;34m\u001b[0m\u001b[0m\n\u001b[0m\u001b[1;32m      4\u001b[0m \u001b[0mopen\u001b[0m\u001b[0;34m(\u001b[0m\u001b[0;34m'mylib_lesson3_01.py'\u001b[0m\u001b[0;34m,\u001b[0m\u001b[0;34m'wb'\u001b[0m\u001b[0;34m)\u001b[0m\u001b[0;34m.\u001b[0m\u001b[0mwrite\u001b[0m\u001b[0;34m(\u001b[0m\u001b[0msrc\u001b[0m\u001b[0;34m)\u001b[0m\u001b[0;34m\u001b[0m\u001b[0;34m\u001b[0m\u001b[0m\n",
            "\u001b[0;31mIndexError\u001b[0m: list index out of range"
          ]
        }
      ]
    },
    {
      "cell_type": "markdown",
      "metadata": {
        "id": "mpJQ_wNNLBSe",
        "colab_type": "text"
      },
      "source": [
        "**(2) Use a Python module:**\n",
        "\n",
        "The import statement and The from import Statement\n"
      ]
    },
    {
      "cell_type": "code",
      "metadata": {
        "id": "hCnM1wnhUMns",
        "colab_type": "code",
        "colab": {}
      },
      "source": [
        "# import the module mylib with the following statement\n",
        "# This does not enter the names of the functions defined in mylib directly in the current symbol table; it only enters the module name mylib there. Using the module name you can access the functions in the module\n",
        "\n",
        "import mylib_lesson3_01\n",
        "mylib_lesson3_01.fib(1000)\n",
        "mylib_lesson3_01.__name__"
      ],
      "execution_count": 0,
      "outputs": []
    },
    {
      "cell_type": "code",
      "metadata": {
        "id": "CMKat-A9Hd2m",
        "colab_type": "code",
        "colab": {}
      },
      "source": [
        "# import a specific function in a module\n",
        "\n",
        "from mylib_lesson3_01 import fib, fib2\n",
        "fib(500)\n",
        "\n",
        "# import all the function in the module\n",
        "from mylib_lesson3_01 import *"
      ],
      "execution_count": 0,
      "outputs": []
    },
    {
      "cell_type": "markdown",
      "metadata": {
        "id": "MudVBqqsKEiC",
        "colab_type": "text"
      },
      "source": [
        "1.   **This imports all names** except those beginning with an underscore (_). In most cases Python programmers do not use this facility since it introduces an unknown set of names into the interpreter, possibly hiding some things you have already defined.\n",
        "2.   Note that in general the practice of importing * from a module or package is frowned upon, since it often causes poorly readable code. However, it is okay to use it to save typing in interactive sessions.\n",
        "\n"
      ]
    },
    {
      "cell_type": "code",
      "metadata": {
        "id": "dIE4HbECIn8k",
        "colab_type": "code",
        "colab": {}
      },
      "source": [
        "# If the module name is followed by as, then the name following as is bound directly to the imported module.\n",
        "\n",
        "import mylib_lesson3_01 as mylib01\n",
        "mylib01.fib(800)\n",
        "\n",
        "# This is effectively importing the module in the same way that import fibo will do, with the only difference of it being available as fib."
      ],
      "execution_count": 0,
      "outputs": []
    },
    {
      "cell_type": "code",
      "metadata": {
        "id": "xOwOR20eK87y",
        "colab_type": "code",
        "colab": {}
      },
      "source": [
        "# It can also be used when utilising from with similar effects:\n",
        "\n",
        "from mylib_lesson3_01 import fib as fibonacci\n",
        "fibonacci(3000) "
      ],
      "execution_count": 0,
      "outputs": []
    },
    {
      "cell_type": "markdown",
      "metadata": {
        "id": "KfzfOCUdMZok",
        "colab_type": "text"
      },
      "source": [
        "**(3) Built-In Modules**\n",
        "\n",
        "The dir() built-in function returns a sorted list of strings containing the names defined by a module. The list contains the names of all the modules, variables and functions that are defined in a module."
      ]
    },
    {
      "cell_type": "code",
      "metadata": {
        "id": "ibT5rcr4M0oG",
        "colab_type": "code",
        "colab": {}
      },
      "source": [
        "#  Import built-in module  random \n",
        "import random\n",
        "print (dir(random))\n",
        "\n",
        "import math\n",
        "print (dir(math))\n",
        "\n",
        "import builtins\n",
        "print(dir(builtins))"
      ],
      "execution_count": 0,
      "outputs": []
    },
    {
      "cell_type": "code",
      "metadata": {
        "id": "VI8bBa4sN9N9",
        "colab_type": "code",
        "colab": {}
      },
      "source": [
        "# Code Snippet illustrating python built-in modules:\n",
        "\n",
        "\n",
        "# importing built in module random \n",
        "import random \n",
        "\n",
        "# printing random integer between 0 and 5 \n",
        "print (random.randint(0, 5)) \n",
        "\n",
        "# print random floating point number between 0 and 1 \n",
        "print (random.random()) \n",
        "\n",
        "# random number between 0 and 100 \n",
        "print (random.random() * 100)\n",
        "\n",
        "List = [1, 4, True, 800, \"python\", 27, \"hello\"] \n",
        "\n",
        "# using choice function in random module for choosing \n",
        "# a random element from a set such as a list \n",
        "print (random.choice(List)) \n",
        "\n",
        "\n",
        "# importing built in module datetime \n",
        "import datetime \n",
        "from datetime import date \n",
        "import time \n",
        "\n",
        "# Returns the number of seconds since the \n",
        "# Unix Epoch, January 1st 1970 \n",
        "print (time.time()) \n",
        "\n",
        "# Converts a number of seconds to a date object \n",
        "print (date.fromtimestamp(454554)) \n",
        "\n",
        "\n",
        "# importing built-in module math \n",
        "import math \n",
        "\n",
        "# using square root(sqrt) function contained \n",
        "# in math module \n",
        "print (math.sqrt(25)) \n",
        "\n",
        "# using pi function contained in math module \n",
        "print (math.pi) \n",
        "\n",
        "# 2 radians = 114.59 degreees \n",
        "print (math.degrees(2)) \n",
        "\n",
        "# 60 degrees = 1.04 radians \n",
        "print (math.radians(60)) \n",
        "\n",
        "# Sine of 2 radians \n",
        "print (math.sin(2)) \n",
        "\n",
        "# Cosine of 0.5 radians \n",
        "print (math.cos(0.5)) \n",
        "\n",
        "# Tangent of 0.23 radians \n",
        "print (math.tan(0.23)) \n",
        "\n",
        "# 1 * 2 * 3 * 4 = 24 \n",
        "print (math.factorial(4)) \n",
        "\n"
      ],
      "execution_count": 0,
      "outputs": []
    },
    {
      "cell_type": "markdown",
      "metadata": {
        "id": "Hejtyr4JlVe7",
        "colab_type": "text"
      },
      "source": [
        "**Modules Listing**\n",
        "To find out the list of modules present in python, we can issue the command: help(“modules”) in Python interpreter shell."
      ]
    },
    {
      "cell_type": "markdown",
      "metadata": {
        "id": "jLrBYVTWo1jh",
        "colab_type": "text"
      },
      "source": [
        "**(4) Define Variables in Module**\n",
        "The module can contain functions, as already described, but also variables of all types (arrays, dictionaries, objects etc):\n",
        "\n",
        "```\n",
        "person1 = {\n",
        "  \"name\": \"John\",\n",
        "  \"age\": 36,\n",
        "  \"country\": \"Norway\"\n",
        "}\n",
        "```\n",
        "\n"
      ]
    },
    {
      "cell_type": "code",
      "metadata": {
        "id": "rpuKTZuIpJbK",
        "colab_type": "code",
        "colab": {}
      },
      "source": [
        "from google.colab import files\n",
        "src = list(files.upload().values())[0]\n",
        "open('mylib_lesson3_02.py','wb').write(src)"
      ],
      "execution_count": 0,
      "outputs": []
    },
    {
      "cell_type": "code",
      "metadata": {
        "id": "YLN5Tu0epbZN",
        "colab_type": "code",
        "colab": {}
      },
      "source": [
        "import mylib_lesson3_02\n",
        "\n",
        "a = mylib_lesson3_02.person1[\"age\"]\n",
        "print(a)"
      ],
      "execution_count": 0,
      "outputs": []
    },
    {
      "cell_type": "markdown",
      "metadata": {
        "id": "K90z7gO4ps-U",
        "colab_type": "text"
      },
      "source": [
        "1.2 Python Packages\n",
        "\n",
        "**(1) Find, install and publish Python packages with the Python Package Index** \n",
        "\n",
        "[Python package index](https://pypi.org/) "
      ]
    },
    {
      "cell_type": "markdown",
      "metadata": {
        "id": "5SISxS9Bq7p7",
        "colab_type": "text"
      },
      "source": [
        "**(2) How to install a python package?**\n",
        "\n",
        "in command:\n",
        "\n",
        "\n",
        "```\n",
        "pip install nltk(package name)\n",
        "```\n",
        "\n",
        "\n",
        "in Colab:\n",
        "\n",
        "\n",
        "```\n",
        "!pip install nltk(package name)\n",
        "```\n"
      ]
    },
    {
      "cell_type": "code",
      "metadata": {
        "id": "4fEWx_ccswhb",
        "colab_type": "code",
        "colab": {}
      },
      "source": [
        "pip install bert"
      ],
      "execution_count": 0,
      "outputs": []
    },
    {
      "cell_type": "code",
      "metadata": {
        "id": "vz0_gxzPleet",
        "colab_type": "code",
        "colab": {}
      },
      "source": [
        "# Package pre-installed in colab\n",
        "!pip freeze"
      ],
      "execution_count": 0,
      "outputs": []
    },
    {
      "cell_type": "markdown",
      "metadata": {
        "id": "ZsXaf6mPulBG",
        "colab_type": "text"
      },
      "source": [
        "(3) **The structure of Python packages ([from python documentation]**(https://docs.python.org/3/tutorial/modules.html#packages)):\n",
        "\n",
        "Packages can contain nested subpackages to arbitrary depth. For example, let’s make one more modification to the example package directory as follows:\n",
        "\n",
        "![alt text](https://files.realpython.com/media/pkg4.a830d6e144bf.png)\n",
        "\n",
        "\n",
        "The four modules (mod1.py, mod2.py, mod3.py and mod4.py) are defined as previously. But now, instead of being lumped together into the pkg directory, they are split out into two subpackage directories, sub_pkg1 and sub_pkg2.\n",
        "\n",
        "Importing still works the same as shown previously. Syntax is similar, but additional dot notation is used to separate package name from subpackage name:\n",
        "\n",
        "\n",
        "\n",
        "```\n",
        "import pkg.sub_pkg1.mod1\n",
        "\n",
        "from pkg.sub_pkg1 import mod2\n",
        "\n",
        "from pkg.sub_pkg2.mod3 import function_name\n",
        "\n",
        "# Rename a function\n",
        "from pkg.sub_pkg2.mod4 import qux as grault \n",
        "\n",
        "```\n",
        "\n",
        "**Remember, the usage of packages and modules are very similar!**"
      ]
    },
    {
      "cell_type": "markdown",
      "metadata": {
        "id": "E_H-85jp9dzt",
        "colab_type": "text"
      },
      "source": [
        "# 2. Python Advanced Recursion\n",
        "\n",
        "Problems (in life and also in computer science) can often seem big and scary. But if we keep chipping away at them, more often than not we can break them down into smaller chunks trivial enough to solve. This is the essence of thinking recursively!"
      ]
    },
    {
      "cell_type": "markdown",
      "metadata": {
        "id": "zkqRn7Na-f_Q",
        "colab_type": "text"
      },
      "source": [
        "![alt text](https://files.realpython.com/media/santa_claus_2.ecbf2686f1a1.png)"
      ]
    },
    {
      "cell_type": "code",
      "metadata": {
        "id": "jK-44aTH_z8a",
        "colab_type": "code",
        "colab": {}
      },
      "source": [
        "houses = [\"Eric's house\", \"Kenny's house\", \"Kyle's house\", \"Stan's house\"]\n",
        "\n",
        "def deliver_presents_iteratively():\n",
        "    for house in houses:\n",
        "        print(\"Delivering presents to\", house)\n",
        "deliver_presents_iteratively()"
      ],
      "execution_count": 0,
      "outputs": []
    },
    {
      "cell_type": "markdown",
      "metadata": {
        "id": "8BenhopACZM3",
        "colab_type": "text"
      },
      "source": [
        "![alt text](https://files.realpython.com/media/elves_7.8d1af1cd85c8.png)\n",
        "\n",
        "Assign titles and responsibilities to the elves based on the number of houses for which they are responsible:\n",
        "\n",
        "*   \\> 1 He is a manager and can appoint two elves and divide his work among them\n",
        "*   = 1 He is a worker and has to deliver the presents to the house assigned to him\n"
      ]
    },
    {
      "cell_type": "code",
      "metadata": {
        "id": "Gnah5OdSCbIs",
        "colab_type": "code",
        "colab": {}
      },
      "source": [
        "houses = [\"Eric's house\", \"Kenny's house\", \"Kyle's house\", \"Stan's house\"]\n",
        "\n",
        "# Each function call represents an elf doing his work \n",
        "def deliver_presents_recursively(houses):\n",
        "    # Worker elf doing his work\n",
        "    if len(houses) == 1:\n",
        "        house = houses[0]\n",
        "        print(\"Delivering presents to\", house)\n",
        "\n",
        "    # Manager elf doing his work\n",
        "    else:\n",
        "        mid = len(houses) // 2\n",
        "        first_half = houses[:mid]\n",
        "        second_half = houses[mid:]\n",
        "\n",
        "        # Divides his work among two elves\n",
        "        deliver_presents_recursively(first_half)\n",
        "        deliver_presents_recursively(second_half)\n",
        "deliver_presents_recursively(houses)"
      ],
      "execution_count": 0,
      "outputs": []
    },
    {
      "cell_type": "markdown",
      "metadata": {
        "id": "O2VNSTWTHN6w",
        "colab_type": "text"
      },
      "source": [
        "n! = n x (n−1)!\n",
        "\n",
        "n! = n x (n−1) x (n−2)!\n",
        "\n",
        "n! = n x (n−1) x (n−2) x (n−3)!\n",
        "\n",
        "⋅\n",
        "\n",
        "⋅\n",
        "\n",
        "n! = n x (n−1) x (n−2) x (n−3) ⋅⋅⋅⋅ x 3!\n",
        "\n",
        "n! = n x (n−1) x (n−2) x (n−3) ⋅⋅⋅⋅ x 3 x 2!\n",
        "\n",
        "n! = n x (n−1) x (n−2) x (n−3) ⋅⋅⋅⋅ x 3 x 2 x 1!\n",
        "\n",
        "![alt text](https://files.realpython.com/media/stack.9c4ba62929cf.gif)"
      ]
    },
    {
      "cell_type": "code",
      "metadata": {
        "id": "t8NINPX6HVzH",
        "colab_type": "code",
        "colab": {}
      },
      "source": [
        "def factorial_recursive(n):\n",
        "    # Base case: 1! = 1\n",
        "    if n == 1:\n",
        "        return 1\n",
        "\n",
        "    # Recursive case: n! = n * (n-1)!\n",
        "    else:\n",
        "        return n * factorial_recursive(n-1)\n",
        "      \n",
        "factorial_recursive(5)"
      ],
      "execution_count": 0,
      "outputs": []
    },
    {
      "cell_type": "markdown",
      "metadata": {
        "id": "mRF5RHQcHv6B",
        "colab_type": "text"
      },
      "source": [
        "![alt text](https://files.realpython.com/media/state_3.3e8a68c4fde5.png)\n",
        "\n",
        "\n",
        "(1,0)\n",
        "\n",
        "(2,1)\n",
        "\n",
        "(3,3)\n",
        "\n",
        "(4,6)\n",
        "\n",
        "(5,10)\n",
        "\n",
        "(6,15)\n",
        "\n",
        "(7,21)\n",
        "\n",
        "(8,28)\n",
        "\n",
        "(9,36)\n",
        "\n",
        "(10,45)\n",
        "\n",
        "(11,55)\n",
        "\n"
      ]
    },
    {
      "cell_type": "code",
      "metadata": {
        "id": "f-IQGK1BJUhf",
        "colab_type": "code",
        "colab": {}
      },
      "source": [
        "def sum_recursive(current_number, accumulated_sum):\n",
        "    # Base case\n",
        "    # Return the final state\n",
        "    if current_number == 11:\n",
        "        return accumulated_sum\n",
        "\n",
        "    # Recursive case\n",
        "    # Thread the state through the recursive call\n",
        "    else:\n",
        "        return sum_recursive(current_number + 1, accumulated_sum + current_number)\n",
        "\n",
        "sum_recursive(1, 0)"
      ],
      "execution_count": 0,
      "outputs": []
    },
    {
      "cell_type": "markdown",
      "metadata": {
        "id": "FhAFzAauX7bB",
        "colab_type": "text"
      },
      "source": [
        "## **Recursive Data Structures in Python**\n",
        "\n",
        "A data structure is recursive if it can be deﬁned in terms of a smaller version of itself. "
      ]
    },
    {
      "cell_type": "code",
      "metadata": {
        "id": "U7asLTcKXxZL",
        "colab_type": "code",
        "outputId": "c823507e-5dfa-46d5-df19-11f44898dc43",
        "colab": {
          "base_uri": "https://localhost:8080/",
          "height": 35
        }
      },
      "source": [
        "# Return a new list that is the result of\n",
        "# adding element to the head (i.e. front) of input_list\n",
        "def attach_head(element, input_list):\n",
        "    return [element] + input_list\n",
        "  \n",
        "attach_head(1,                                                  # Will return [1, 46, -31, \"hello\"]\n",
        "            attach_head(46,                                     # Will return [46, -31, \"hello\"]\n",
        "                        attach_head(-31,                        # Will return [-31, \"hello\"]\n",
        "                                    attach_head(\"hello\", [])))) # Will return [\"hello\"]"
      ],
      "execution_count": 0,
      "outputs": [
        {
          "output_type": "execute_result",
          "data": {
            "text/plain": [
              "[1, 46, -31, 'hello']"
            ]
          },
          "metadata": {
            "tags": []
          },
          "execution_count": 16
        }
      ]
    },
    {
      "cell_type": "markdown",
      "metadata": {
        "id": "FILLLYzjYdGJ",
        "colab_type": "text"
      },
      "source": [
        "\n",
        "\n",
        "1.   Starting with an empty list, you can generate any list by recursively applying the attach_head function.\n",
        "2.   Recursion can also be seen as self-referential function composition. We apply a function to an argument, then pass that result on as an argument to a second application of the same function, and so on. Repeatedly composing attach_head with itself is the same as attach_head calling itself repeatedly.\n",
        "\n",
        "![alt text](https://files.realpython.com/media/list.3df62a89243d.gif)\n",
        "\n"
      ]
    },
    {
      "cell_type": "code",
      "metadata": {
        "id": "7H-epojUZHZ_",
        "colab_type": "code",
        "outputId": "73512245-67eb-4de9-d382-27f7c6fd6e90",
        "colab": {
          "base_uri": "https://localhost:8080/",
          "height": 35
        }
      },
      "source": [
        "def list_sum_recursive(input_list):\n",
        "    # Base case\n",
        "    if input_list == []:\n",
        "        return 0\n",
        "\n",
        "    # Recursive case\n",
        "    # Decompose the original problem into simpler instances of the same problem\n",
        "    # by making use of the fact that the input is a recursive data structure\n",
        "    # and can be deﬁned in terms of a smaller version of itself\n",
        "    else:\n",
        "        head = input_list[0]\n",
        "        smaller_list = input_list[1:]\n",
        "        return head + list_sum_recursive(smaller_list)\n",
        "\n",
        "list_sum_recursive([1, 2, 3])"
      ],
      "execution_count": 0,
      "outputs": [
        {
          "output_type": "execute_result",
          "data": {
            "text/plain": [
              "6"
            ]
          },
          "metadata": {
            "tags": []
          },
          "execution_count": 15
        }
      ]
    },
    {
      "cell_type": "code",
      "metadata": {
        "id": "HXgYuJFkZyO4",
        "colab_type": "code",
        "outputId": "92bffca2-95e1-4716-f835-5a67e64a5731",
        "colab": {
          "base_uri": "https://localhost:8080/",
          "height": 295
        }
      },
      "source": [
        "def fibonacci_recursive(n):\n",
        "    print(\"Calculating F\", \"(\", n, \")\", sep=\"\", end=\", \" \"\\n\")\n",
        "\n",
        "    # Base case\n",
        "    if n == 0:\n",
        "        return 0\n",
        "    elif n == 1:\n",
        "        return 1\n",
        "\n",
        "    # Recursive case\n",
        "    else:\n",
        "        return fibonacci_recursive(n-1) + fibonacci_recursive(n-2)\n",
        "\n",
        "fibonacci_recursive(5)"
      ],
      "execution_count": 0,
      "outputs": [
        {
          "output_type": "stream",
          "text": [
            "Calculating F(5), \n",
            "Calculating F(4), \n",
            "Calculating F(3), \n",
            "Calculating F(2), \n",
            "Calculating F(1), \n",
            "Calculating F(0), \n",
            "Calculating F(1), \n",
            "Calculating F(2), \n",
            "Calculating F(1), \n",
            "Calculating F(0), \n",
            "Calculating F(3), \n",
            "Calculating F(2), \n",
            "Calculating F(1), \n",
            "Calculating F(0), \n",
            "Calculating F(1), \n"
          ],
          "name": "stdout"
        },
        {
          "output_type": "execute_result",
          "data": {
            "text/plain": [
              "5"
            ]
          },
          "metadata": {
            "tags": []
          },
          "execution_count": 20
        }
      ]
    },
    {
      "cell_type": "markdown",
      "metadata": {
        "id": "nYyB7OqoLmlq",
        "colab_type": "text"
      },
      "source": [
        "# 3. Python File I/O"
      ]
    },
    {
      "cell_type": "markdown",
      "metadata": {
        "id": "oBMoiFnfLvmQ",
        "colab_type": "text"
      },
      "source": [
        "**3.1 Glossary**\n",
        "\n",
        "\n",
        "**File:**\n",
        "\n",
        "A named location on disk to store related information. It is used to permanently store data in a non-volatile memory (e.g. hard disk).\n",
        "\n",
        "\n",
        "**Format operator:**\n",
        "\n",
        "An operator, %, that takes a format string and a tuple and generates a string that includes the elements of the tuple formatted as specified by the format string.\n",
        "\n",
        "\n",
        "**Format string:**\n",
        "\n",
        "A string, used with the format operator, that contains format sequences.\n",
        "\n",
        "\n",
        "**Format sequence:**\n",
        "\n",
        "A sequence of characters in a format string, like %d, that specifies how a value should be formatted.\n",
        "\n",
        "\n",
        "**Text file:**\n",
        "\n",
        "A sequence of characters stored in permanent storage like a hard drive.\n",
        "\n",
        "\n",
        "**Directory:**\n",
        "\n",
        "A named collection of files, also called a folder.\n",
        "\n",
        "\n",
        "**Path:**\n",
        "\n",
        "A string that identifies a file.\n",
        "\n",
        "\n",
        "**Relative path:**\n",
        "\n",
        "A path that starts from the current directory.\n",
        "\n",
        "\n",
        "**Absolute path:**\n",
        "\n",
        "A path that starts from the topmost directory in the file system.\n",
        "\n",
        "\n",
        "**Catch:**\n",
        "\n",
        "\n",
        "To prevent an exception from terminating a program using the try and except statements.\n",
        "database:\n",
        "\n",
        "\n",
        "A file whose contents are organized like a dictionary with keys that correspond to values.\n"
      ]
    },
    {
      "cell_type": "markdown",
      "metadata": {
        "id": "B4ZYWofgbPCN",
        "colab_type": "text"
      },
      "source": [
        "**Python File Modes**\n",
        "\n",
        ">Mode | Description\n",
        ">--- | ---\n",
        ">'r'| Open a file for reading. (default)\n",
        ">'w'| Open a file for writing. Creates a new file if it does not exist or truncates the file if it exists.\n",
        ">'x'|Open a file for exclusive creation. If the file already exists, the operation fails.\n",
        ">'a'|Open for appending at the end of the file without truncating it. Creates a new file if it does not exist.\n",
        "> 't'|Open in text mode. (default)\n",
        ">'b'|Open in binary mode.\n",
        ">'+'|Open a file for updating (reading and writing)"
      ]
    },
    {
      "cell_type": "markdown",
      "metadata": {
        "id": "QKytehKPDXfp",
        "colab_type": "text"
      },
      "source": [
        "**3.2** **Reading and writing**\n",
        "\n",
        "A text file is a sequence of characters stored on a permanent medium like a hard drive, flash memory, or CD-ROM. \n",
        "\n",
        "To **write** a file, you have to open it with mode 'w' as a second parameter:\n",
        "\n"
      ]
    },
    {
      "cell_type": "code",
      "metadata": {
        "id": "6Yb9F-GaD3jD",
        "colab_type": "code",
        "colab": {
          "base_uri": "https://localhost:8080/",
          "height": 35
        },
        "outputId": "c10dcc38-6eba-40c7-9b35-9219ff8eecb6"
      },
      "source": [
        "fout = open('output.txt', 'w')\n",
        "print(fout)"
      ],
      "execution_count": 20,
      "outputs": [
        {
          "output_type": "stream",
          "text": [
            "<_io.TextIOWrapper name='output.txt' mode='w' encoding='UTF-8'>\n"
          ],
          "name": "stdout"
        }
      ]
    },
    {
      "cell_type": "markdown",
      "metadata": {
        "id": "7ldD6ly4GTNI",
        "colab_type": "text"
      },
      "source": [
        "The write() method puts data into the file.\n",
        "\n",
        "f.write(string) writes the contents of string to the file, returning the number of characters written.\n"
      ]
    },
    {
      "cell_type": "code",
      "metadata": {
        "id": "keeoyfxEEKG9",
        "colab_type": "code",
        "colab": {
          "base_uri": "https://localhost:8080/",
          "height": 35
        },
        "outputId": "4723f838-059d-418c-8e75-7d1a2623e803"
      },
      "source": [
        "line1 = \"This here's the wattle,\\n\"\n",
        "fout.write(line1)"
      ],
      "execution_count": 21,
      "outputs": [
        {
          "output_type": "execute_result",
          "data": {
            "text/plain": [
              "24"
            ]
          },
          "metadata": {
            "tags": []
          },
          "execution_count": 21
        }
      ]
    },
    {
      "cell_type": "markdown",
      "metadata": {
        "id": "vnMSp1qqGpH9",
        "colab_type": "text"
      },
      "source": [
        "Again, the file object keeps track of where it is, so if you call write again, it adds the new data to the end."
      ]
    },
    {
      "cell_type": "code",
      "metadata": {
        "id": "3BBS-OtmEyfE",
        "colab_type": "code",
        "colab": {
          "base_uri": "https://localhost:8080/",
          "height": 35
        },
        "outputId": "af2047f3-aeb3-4e26-f017-7b54e29a98d4"
      },
      "source": [
        "# Again, the file object keeps track of where it is, so if you call write again, it adds the new data to the end.\n",
        "\n",
        "line2 = \"the emblem of our lands.\\n\"\n",
        "fout.write(line2)"
      ],
      "execution_count": 22,
      "outputs": [
        {
          "output_type": "execute_result",
          "data": {
            "text/plain": [
              "25"
            ]
          },
          "metadata": {
            "tags": []
          },
          "execution_count": 22
        }
      ]
    },
    {
      "cell_type": "markdown",
      "metadata": {
        "id": "-M2Qk4OAGrOt",
        "colab_type": "text"
      },
      "source": [
        "When you are done writing, you have to close the file.\n"
      ]
    },
    {
      "cell_type": "markdown",
      "metadata": {
        "id": "fywT2VBXgYNN",
        "colab_type": "text"
      },
      "source": [
        "To **read** a file in Python, we must open the file in reading mode."
      ]
    },
    {
      "cell_type": "code",
      "metadata": {
        "id": "kI6-xhBtgctZ",
        "colab_type": "code",
        "colab": {
          "base_uri": "https://localhost:8080/",
          "height": 69
        },
        "outputId": "a5d266c2-1658-44b4-fa08-79db38f081c2"
      },
      "source": [
        "f = open(\"output.txt\",'r',encoding = 'utf-8')\n",
        "\n",
        "# read the entire file\n",
        "\n",
        "print(f.read())"
      ],
      "execution_count": 64,
      "outputs": [
        {
          "output_type": "stream",
          "text": [
            "This here's the wattle,\n",
            "the emblem of our lands.\n",
            "52\n"
          ],
          "name": "stdout"
        }
      ]
    },
    {
      "cell_type": "code",
      "metadata": {
        "id": "p3xYIiGVg3iM",
        "colab_type": "code",
        "colab": {
          "base_uri": "https://localhost:8080/",
          "height": 35
        },
        "outputId": "d7d260e3-7dbd-442f-d840-d7b5a5d86619"
      },
      "source": [
        "f1 = open(\"output.txt\",'r',encoding = 'utf-8')\n",
        "\n",
        "# read the first 9 data\n",
        "print(f1.read(9))"
      ],
      "execution_count": 66,
      "outputs": [
        {
          "output_type": "stream",
          "text": [
            "This here\n"
          ],
          "name": "stdout"
        }
      ]
    },
    {
      "cell_type": "code",
      "metadata": {
        "id": "mWkzbut4htSg",
        "colab_type": "code",
        "colab": {
          "base_uri": "https://localhost:8080/",
          "height": 69
        },
        "outputId": "e6d7b098-50bb-4db4-9b09-5761616894ba"
      },
      "source": [
        "# We can read a file line-by-line using a for loop. This is both efficient and fast.\n",
        "\n",
        "f2 = open(\"output.txt\",'r',encoding = 'utf-8')\n",
        "\n",
        "for line in f2:\n",
        "  print(line, end = '')"
      ],
      "execution_count": 71,
      "outputs": [
        {
          "output_type": "stream",
          "text": [
            "This here's the wattle,\n",
            "the emblem of our lands.\n",
            "52"
          ],
          "name": "stdout"
        }
      ]
    },
    {
      "cell_type": "code",
      "metadata": {
        "id": "pr4xwqFeiAkM",
        "colab_type": "code",
        "colab": {
          "base_uri": "https://localhost:8080/",
          "height": 35
        },
        "outputId": "4eccd390-cf88-4077-c79b-1a4701b0ee1e"
      },
      "source": [
        "# The readlines() method returns a list of remaining lines of the entire file\n",
        "f3 = open(\"output.txt\",'r',encoding = 'utf-8')\n",
        "\n",
        "print(f3.readlines())"
      ],
      "execution_count": 72,
      "outputs": [
        {
          "output_type": "stream",
          "text": [
            "[\"This here's the wattle,\\n\", 'the emblem of our lands.\\n', '52']\n"
          ],
          "name": "stdout"
        }
      ]
    },
    {
      "cell_type": "markdown",
      "metadata": {
        "id": "T6p2xPGtGxxw",
        "colab_type": "text"
      },
      "source": [
        "**3.3 Format operator**\n",
        "\n",
        "(1) The argument of write has to be a string, so if we want to put other values in a file, we have to convert them to strings. The easiest way to do that is with str:"
      ]
    },
    {
      "cell_type": "code",
      "metadata": {
        "id": "Zt-84N1lVeZn",
        "colab_type": "code",
        "colab": {
          "base_uri": "https://localhost:8080/",
          "height": 35
        },
        "outputId": "e3052683-e7d8-4a07-efa3-df6755d4ce9c"
      },
      "source": [
        "x = 52\n",
        "fout.write(str(x))"
      ],
      "execution_count": 23,
      "outputs": [
        {
          "output_type": "execute_result",
          "data": {
            "text/plain": [
              "2"
            ]
          },
          "metadata": {
            "tags": []
          },
          "execution_count": 23
        }
      ]
    },
    {
      "cell_type": "markdown",
      "metadata": {
        "id": "wqv-3sN8V8Yy",
        "colab_type": "text"
      },
      "source": [
        "(2) An alternative is to use the **format operator**, %. When applied to integers, % is the modulus operator. But when the first operand is a string, % is the format operator.\n",
        "\n",
        "The first operand is the **format string**, which contains one or more **format sequences**, which specify how the second operand is formatted. The result is a string.\n",
        "\n",
        "For example, the format sequence '%d' means that the second operand should be formatted as an integer (d stands for “decimal”):"
      ]
    },
    {
      "cell_type": "code",
      "metadata": {
        "id": "sLn3WW_hWGl8",
        "colab_type": "code",
        "colab": {
          "base_uri": "https://localhost:8080/",
          "height": 69
        },
        "outputId": "9a61f16c-bdc5-40e8-e776-73e068b185d4"
      },
      "source": [
        "camels = 42\n",
        "\n",
        "print(type(camels))\n",
        "\n",
        "new_camels = '%d' % camels\n",
        "\n",
        "print(new_camels)\n",
        "\n",
        "print(type(new_camels))"
      ],
      "execution_count": 27,
      "outputs": [
        {
          "output_type": "stream",
          "text": [
            "<class 'int'>\n",
            "42\n",
            "<class 'str'>\n"
          ],
          "name": "stdout"
        }
      ]
    },
    {
      "cell_type": "markdown",
      "metadata": {
        "id": "D-nNz6i_Wg6m",
        "colab_type": "text"
      },
      "source": [
        "(3) A format sequence can appear anywhere in the string, so you can embed a value in a sentence:\n"
      ]
    },
    {
      "cell_type": "code",
      "metadata": {
        "id": "e_Qre-bsWiQY",
        "colab_type": "code",
        "colab": {}
      },
      "source": [
        "camels = 42\n",
        "'I have spotted %d camels.' % camels"
      ],
      "execution_count": 0,
      "outputs": []
    },
    {
      "cell_type": "markdown",
      "metadata": {
        "id": "8S4AA1EyWt_t",
        "colab_type": "text"
      },
      "source": [
        "(4) If there is more than one format sequence in the string, the second argument has to be a tuple. Each format sequence is matched with an element of the tuple, in order.\n",
        "\n",
        "The following example uses '%d' to format an integer, '%g' to format a floating-point number (don’t ask why), and '%s' to format a string:"
      ]
    },
    {
      "cell_type": "code",
      "metadata": {
        "id": "BmgXwsuJW3oK",
        "colab_type": "code",
        "colab": {
          "base_uri": "https://localhost:8080/",
          "height": 35
        },
        "outputId": "731dafbe-0ab9-4c62-95e7-96810d522dd7"
      },
      "source": [
        "'In %d years I have spotted %g %s.' % (3, 0.1, 'camels')"
      ],
      "execution_count": 29,
      "outputs": [
        {
          "output_type": "execute_result",
          "data": {
            "text/plain": [
              "'In 3 years I have spotted 0.1 camels.'"
            ]
          },
          "metadata": {
            "tags": []
          },
          "execution_count": 29
        }
      ]
    },
    {
      "cell_type": "markdown",
      "metadata": {
        "id": "yXSh7dSbXLxZ",
        "colab_type": "text"
      },
      "source": [
        "(5) The number of elements in the tuple has to match the number of format sequences in the string. Also, the types of the elements have to match the format sequences:"
      ]
    },
    {
      "cell_type": "code",
      "metadata": {
        "id": "ViRVEuEVXOG0",
        "colab_type": "code",
        "colab": {
          "base_uri": "https://localhost:8080/",
          "height": 166
        },
        "outputId": "4c921b55-f0ae-449e-ad74-2ee85eb0745b"
      },
      "source": [
        "'%d %d %d' % (1, 2)"
      ],
      "execution_count": 30,
      "outputs": [
        {
          "output_type": "error",
          "ename": "TypeError",
          "evalue": "ignored",
          "traceback": [
            "\u001b[0;31m---------------------------------------------------------------------------\u001b[0m",
            "\u001b[0;31mTypeError\u001b[0m                                 Traceback (most recent call last)",
            "\u001b[0;32m<ipython-input-30-4a97654d37a9>\u001b[0m in \u001b[0;36m<module>\u001b[0;34m()\u001b[0m\n\u001b[0;32m----> 1\u001b[0;31m \u001b[0;34m'%d %d %d'\u001b[0m \u001b[0;34m%\u001b[0m \u001b[0;34m(\u001b[0m\u001b[0;36m1\u001b[0m\u001b[0;34m,\u001b[0m \u001b[0;36m2\u001b[0m\u001b[0;34m)\u001b[0m\u001b[0;34m\u001b[0m\u001b[0;34m\u001b[0m\u001b[0m\n\u001b[0m",
            "\u001b[0;31mTypeError\u001b[0m: not enough arguments for format string"
          ]
        }
      ]
    },
    {
      "cell_type": "code",
      "metadata": {
        "id": "I8vqatpSYYs0",
        "colab_type": "code",
        "colab": {
          "base_uri": "https://localhost:8080/",
          "height": 166
        },
        "outputId": "67f745e7-9e70-43f7-cb22-2b01ea319c83"
      },
      "source": [
        "'%d' % 'dollars'"
      ],
      "execution_count": 31,
      "outputs": [
        {
          "output_type": "error",
          "ename": "TypeError",
          "evalue": "ignored",
          "traceback": [
            "\u001b[0;31m---------------------------------------------------------------------------\u001b[0m",
            "\u001b[0;31mTypeError\u001b[0m                                 Traceback (most recent call last)",
            "\u001b[0;32m<ipython-input-31-f60b471c8eff>\u001b[0m in \u001b[0;36m<module>\u001b[0;34m()\u001b[0m\n\u001b[0;32m----> 1\u001b[0;31m \u001b[0;34m'%d'\u001b[0m \u001b[0;34m%\u001b[0m \u001b[0;34m'dollars'\u001b[0m\u001b[0;34m\u001b[0m\u001b[0;34m\u001b[0m\u001b[0m\n\u001b[0m",
            "\u001b[0;31mTypeError\u001b[0m: %d format: a number is required, not str"
          ]
        }
      ]
    },
    {
      "cell_type": "markdown",
      "metadata": {
        "id": "mL2J0meXYiIP",
        "colab_type": "text"
      },
      "source": [
        "In the first example, there aren’t enough elements; in the second, the element is the wrong type.\n",
        "\n",
        "The format operator is powerful, but it can be difficult to use. You can read more about it at: https://docs.python.org/2/library/stdtypes.html#string-formatting "
      ]
    },
    {
      "cell_type": "markdown",
      "metadata": {
        "id": "Tb-FKbVYYx9C",
        "colab_type": "text"
      },
      "source": [
        "**3.4 Filenames and paths**\n",
        "\n",
        "Files are organized into **directories** (also called “folders”). Every running program has a “current directory,” which is the default directory for most operations. For example, when you open a file for reading, Python looks for it in the current directory.\n",
        "\n",
        "The os module provides functions for working with files and directories (“os” stands for “operating system”). os.getcwd returns the name of the current directory:\n"
      ]
    },
    {
      "cell_type": "code",
      "metadata": {
        "id": "8WLbA9qBZHMW",
        "colab_type": "code",
        "colab": {
          "base_uri": "https://localhost:8080/",
          "height": 35
        },
        "outputId": "c9376a3a-3a67-423f-b50a-a97fb7aadfc8"
      },
      "source": [
        "import os\n",
        "cwd = os.getcwd()\n",
        "print (cwd)"
      ],
      "execution_count": 32,
      "outputs": [
        {
          "output_type": "stream",
          "text": [
            "/content\n"
          ],
          "name": "stdout"
        }
      ]
    },
    {
      "cell_type": "markdown",
      "metadata": {
        "id": "DbHIh_nkZYdO",
        "colab_type": "text"
      },
      "source": [
        "A string like cwd that identifies a file is called a path. A relative path starts from the current directory; an absolute path starts from the topmost directory in the file system.\n",
        "\n",
        "The paths we have seen so far are simple filenames, so they are relative to the current directory. To find the absolute path to a file, you can use os.path.abspath:"
      ]
    },
    {
      "cell_type": "code",
      "metadata": {
        "id": "Lu6dzQgGZc1n",
        "colab_type": "code",
        "colab": {
          "base_uri": "https://localhost:8080/",
          "height": 35
        },
        "outputId": "36c86a35-ce50-4ed4-95c2-82584d0f830a"
      },
      "source": [
        "os.path.abspath('output.txt')"
      ],
      "execution_count": 33,
      "outputs": [
        {
          "output_type": "execute_result",
          "data": {
            "text/plain": [
              "'/content/output.txt'"
            ]
          },
          "metadata": {
            "tags": []
          },
          "execution_count": 33
        }
      ]
    },
    {
      "cell_type": "code",
      "metadata": {
        "id": "BF5fmBzWZhB5",
        "colab_type": "code",
        "colab": {
          "base_uri": "https://localhost:8080/",
          "height": 35
        },
        "outputId": "a8c8519a-9b13-441b-e240-7ef5f09f6251"
      },
      "source": [
        "os.path.abspath('mnist_train_small.csv')"
      ],
      "execution_count": 34,
      "outputs": [
        {
          "output_type": "execute_result",
          "data": {
            "text/plain": [
              "'/content/mnist_train_small.csv'"
            ]
          },
          "metadata": {
            "tags": []
          },
          "execution_count": 34
        }
      ]
    },
    {
      "cell_type": "markdown",
      "metadata": {
        "id": "_cKxxPFvcnpy",
        "colab_type": "text"
      },
      "source": [
        "os.path.exists checks whether a file or directory exists:"
      ]
    },
    {
      "cell_type": "code",
      "metadata": {
        "id": "NT7UnlMucrmo",
        "colab_type": "code",
        "colab": {
          "base_uri": "https://localhost:8080/",
          "height": 35
        },
        "outputId": "9a4a1d06-48a8-41d7-8b4c-4cda419c8828"
      },
      "source": [
        "os.path.exists('output.txt')"
      ],
      "execution_count": 35,
      "outputs": [
        {
          "output_type": "execute_result",
          "data": {
            "text/plain": [
              "True"
            ]
          },
          "metadata": {
            "tags": []
          },
          "execution_count": 35
        }
      ]
    },
    {
      "cell_type": "markdown",
      "metadata": {
        "id": "6TxoYdudc4j_",
        "colab_type": "text"
      },
      "source": [
        "If it exists, os.path.isdir checks whether it’s a directory:"
      ]
    },
    {
      "cell_type": "code",
      "metadata": {
        "id": "2PE64qqOc6DZ",
        "colab_type": "code",
        "colab": {
          "base_uri": "https://localhost:8080/",
          "height": 35
        },
        "outputId": "ce084d18-fc47-40f9-b7d3-9caacd8c6f34"
      },
      "source": [
        "os.path.isdir('output.txt')"
      ],
      "execution_count": 36,
      "outputs": [
        {
          "output_type": "execute_result",
          "data": {
            "text/plain": [
              "False"
            ]
          },
          "metadata": {
            "tags": []
          },
          "execution_count": 36
        }
      ]
    },
    {
      "cell_type": "code",
      "metadata": {
        "id": "937tE_GndQKf",
        "colab_type": "code",
        "colab": {
          "base_uri": "https://localhost:8080/",
          "height": 35
        },
        "outputId": "d9e8cc65-d729-4b23-a252-854e282533d5"
      },
      "source": [
        "os.path.isdir('sample_data')"
      ],
      "execution_count": 37,
      "outputs": [
        {
          "output_type": "execute_result",
          "data": {
            "text/plain": [
              "True"
            ]
          },
          "metadata": {
            "tags": []
          },
          "execution_count": 37
        }
      ]
    },
    {
      "cell_type": "markdown",
      "metadata": {
        "id": "Y1Kf3Lkrd4Xm",
        "colab_type": "text"
      },
      "source": [
        "Similarly, os.path.isfile checks whether it’s a file.\n"
      ]
    },
    {
      "cell_type": "markdown",
      "metadata": {
        "id": "TPG3NJT5d5sQ",
        "colab_type": "text"
      },
      "source": [
        "os.listdir returns a list of the files (and other directories) in the given directory:"
      ]
    },
    {
      "cell_type": "code",
      "metadata": {
        "id": "qn3MpEkFd9nh",
        "colab_type": "code",
        "colab": {
          "base_uri": "https://localhost:8080/",
          "height": 35
        },
        "outputId": "125e74a2-1b83-40b2-8148-c0a32ee11316"
      },
      "source": [
        "os.listdir(cwd)"
      ],
      "execution_count": 38,
      "outputs": [
        {
          "output_type": "execute_result",
          "data": {
            "text/plain": [
              "['.config', 'output.txt', '.ipynb_checkpoints', 'sample_data']"
            ]
          },
          "metadata": {
            "tags": []
          },
          "execution_count": 38
        }
      ]
    },
    {
      "cell_type": "markdown",
      "metadata": {
        "id": "GOlfSAX-ePX0",
        "colab_type": "text"
      },
      "source": [
        "To demonstrate these functions, the following example “walks” through a directory, prints the names of all the files, and calls itself recursively on all the directories."
      ]
    },
    {
      "cell_type": "markdown",
      "metadata": {
        "id": "KbSMtUXUed0b",
        "colab_type": "text"
      },
      "source": [
        "**3.5 Catching exceptions**\n",
        "\n",
        "A lot of things can go wrong when you try to read and write files. If you try to open a file that doesn’t exist, you get an IOError:"
      ]
    },
    {
      "cell_type": "code",
      "metadata": {
        "id": "82ydZJy8erDE",
        "colab_type": "code",
        "colab": {
          "base_uri": "https://localhost:8080/",
          "height": 166
        },
        "outputId": "019e410a-a909-42c7-9235-e2314040199b"
      },
      "source": [
        "fin = open('bad_file')"
      ],
      "execution_count": 41,
      "outputs": [
        {
          "output_type": "error",
          "ename": "FileNotFoundError",
          "evalue": "ignored",
          "traceback": [
            "\u001b[0;31m---------------------------------------------------------------------------\u001b[0m",
            "\u001b[0;31mFileNotFoundError\u001b[0m                         Traceback (most recent call last)",
            "\u001b[0;32m<ipython-input-41-a7d7d7ad396b>\u001b[0m in \u001b[0;36m<module>\u001b[0;34m()\u001b[0m\n\u001b[0;32m----> 1\u001b[0;31m \u001b[0mfin\u001b[0m \u001b[0;34m=\u001b[0m \u001b[0mopen\u001b[0m\u001b[0;34m(\u001b[0m\u001b[0;34m'bad_file'\u001b[0m\u001b[0;34m)\u001b[0m\u001b[0;34m\u001b[0m\u001b[0;34m\u001b[0m\u001b[0m\n\u001b[0m",
            "\u001b[0;31mFileNotFoundError\u001b[0m: [Errno 2] No such file or directory: 'bad_file'"
          ]
        }
      ]
    },
    {
      "cell_type": "markdown",
      "metadata": {
        "id": "zzXoC6rSe1pk",
        "colab_type": "text"
      },
      "source": [
        "Aif you try to open a directory for reading, you get"
      ]
    },
    {
      "cell_type": "code",
      "metadata": {
        "id": "TpEfX7NDe5nX",
        "colab_type": "code",
        "colab": {
          "base_uri": "https://localhost:8080/",
          "height": 166
        },
        "outputId": "512019aa-91ec-4c37-aeb9-f77df440fe41"
      },
      "source": [
        "fout = open('/content', 'w')"
      ],
      "execution_count": 44,
      "outputs": [
        {
          "output_type": "error",
          "ename": "IsADirectoryError",
          "evalue": "ignored",
          "traceback": [
            "\u001b[0;31m---------------------------------------------------------------------------\u001b[0m",
            "\u001b[0;31mIsADirectoryError\u001b[0m                         Traceback (most recent call last)",
            "\u001b[0;32m<ipython-input-44-4feab252b2ad>\u001b[0m in \u001b[0;36m<module>\u001b[0;34m()\u001b[0m\n\u001b[0;32m----> 1\u001b[0;31m \u001b[0mfout\u001b[0m \u001b[0;34m=\u001b[0m \u001b[0mopen\u001b[0m\u001b[0;34m(\u001b[0m\u001b[0;34m'/content'\u001b[0m\u001b[0;34m,\u001b[0m \u001b[0;34m'w'\u001b[0m\u001b[0;34m)\u001b[0m\u001b[0;34m\u001b[0m\u001b[0;34m\u001b[0m\u001b[0m\n\u001b[0m",
            "\u001b[0;31mIsADirectoryError\u001b[0m: [Errno 21] Is a directory: '/content'"
          ]
        }
      ]
    },
    {
      "cell_type": "markdown",
      "metadata": {
        "id": "W-wmfjbMfMnR",
        "colab_type": "text"
      },
      "source": [
        "To avoid these errors, you could use functions like os.path.exists and os.path.isfile, but it would take a lot of time and code to check all the possibilities (if “Errno 21” is any indication, there are at least 21 things that can go wrong).\n",
        "\n",
        "It is better to go ahead and try—and deal with problems if they happen—which is exactly what the try statement does. The syntax is similar to an if statement:"
      ]
    },
    {
      "cell_type": "code",
      "metadata": {
        "id": "eFV00uumfOGc",
        "colab_type": "code",
        "colab": {
          "base_uri": "https://localhost:8080/",
          "height": 35
        },
        "outputId": "af8b2a4e-fc57-4b38-dad1-1d7c3895797b"
      },
      "source": [
        "try:    \n",
        "    fin = open('bad_file')\n",
        "    for line in fin:\n",
        "        print (line)\n",
        "    fin.close()\n",
        "except:\n",
        "    print ('Something went wrong.')"
      ],
      "execution_count": 46,
      "outputs": [
        {
          "output_type": "stream",
          "text": [
            "Something went wrong.\n"
          ],
          "name": "stdout"
        }
      ]
    },
    {
      "cell_type": "markdown",
      "metadata": {
        "id": "N4NcvvNeffEK",
        "colab_type": "text"
      },
      "source": [
        "Python starts by executing the try clause. If all goes well, it skips the except clause and proceeds. If an exception occurs, it jumps out of the try clause and executes the except clause.\n",
        "\n",
        "Handling an exception with a try statement is called catching an exception. In this example, the except clause prints an error message that is not very helpful. In general, catching an exception gives you a chance to fix the problem, or try again, or at least end the program gracefully."
      ]
    },
    {
      "cell_type": "markdown",
      "metadata": {
        "id": "ogAaV_gOfgT-",
        "colab_type": "text"
      },
      "source": [
        "# Summary: Python File Methods\n",
        "\n",
        "https://www.programiz.com/python-programming/file-operation"
      ]
    }
  ]
}