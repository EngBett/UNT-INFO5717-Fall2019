{
  "nbformat": 4,
  "nbformat_minor": 0,
  "metadata": {
    "colab": {
      "name": "Lesson_three.ipynb",
      "version": "0.3.2",
      "provenance": [],
      "toc_visible": true,
      "include_colab_link": true
    },
    "kernelspec": {
      "name": "python3",
      "display_name": "Python 3"
    }
  },
  "cells": [
    {
      "cell_type": "markdown",
      "metadata": {
        "id": "view-in-github",
        "colab_type": "text"
      },
      "source": [
        "<a href=\"https://colab.research.google.com/github/unt-iialab/UNT-INFO5717-Fall2019/blob/master/Lesson%203/Lesson_three.ipynb\" target=\"_parent\"><img src=\"https://colab.research.google.com/assets/colab-badge.svg\" alt=\"Open In Colab\"/></a>"
      ]
    },
    {
      "cell_type": "markdown",
      "metadata": {
        "id": "AwKbYo2HPEBw",
        "colab_type": "text"
      },
      "source": [
        "This file introduces the core content and gives some examples for Lesson 3"
      ]
    },
    {
      "cell_type": "markdown",
      "metadata": {
        "id": "vamlOckw_nuK",
        "colab_type": "text"
      },
      "source": [
        "...tips before this lesson...\n",
        "\n",
        "# Programming with style\n",
        "Readability is very important to programmers, since in practice programs are read and modified far more often then they are written.\n",
        "\n",
        "\n",
        "*   use 4 spaces (instead of tabs) for indentation\n",
        "*   limit line length to 78 characters\n",
        "*   when naming identifiers, use CamelCase for classes (we’ll get to those) and lowercase_with_underscores for functons and variables\n",
        "*   place imports at the top of the file\n",
        "*   keep function definitions together\n",
        "*   use docstrings to document functions\n",
        "*   use two blank lines to separate function definitions from each other\n",
        "*   keep top level statements, including function calls, together at the bottom of the program\n",
        "\n",
        "\n",
        "\n",
        "\n",
        "\n",
        "\n",
        "\n"
      ]
    },
    {
      "cell_type": "markdown",
      "metadata": {
        "id": "lni9oskRxYSR",
        "colab_type": "text"
      },
      "source": [
        "# 1. Conditionals and recursion"
      ]
    },
    {
      "cell_type": "markdown",
      "metadata": {
        "id": "Bnzrl55Ezwgf",
        "colab_type": "text"
      },
      "source": [
        "**Glossary**\n",
        "\n",
        "**(1) modulus operator:**\n",
        "\n",
        "An operator, denoted with a percent sign (%), that works on integers and yields the remainder when one number is divided by another.\n",
        "\n",
        "**(2) boolean expression:**\n",
        "\n",
        "An expression whose value is either True or False.\n",
        "\n",
        "**(3) relational operator:**\n",
        "\n",
        "One of the operators that compares its operands: ==, !=, >, <, >=, and <=.\n",
        "\n",
        "**(4) logical operator:**\n",
        "\n",
        "One of the operators that combines boolean expressions: and, or, and not.\n",
        "\n",
        "**(5) conditional statement:**\n",
        "\n",
        "A statement that controls the flow of execution depending on some condition.\n",
        "\n",
        "**(6) condition:**\n",
        "\n",
        "The boolean expression in a conditional statement that determines which branch is executed.\n",
        "\n",
        "**(7) compound statement:**\n",
        "\n",
        "A statement that consists of a header and a body. The header ends with a colon (:). The body is indented relative to the header.\n",
        "\n",
        "**(8) branch:**\n",
        "\n",
        "One of the alternative sequences of statements in a conditional statement.\n",
        "\n",
        "**(9) chained conditional:**\n",
        "\n",
        "A conditional statement with a series of alternative branches.\n",
        "\n",
        "**(10) nested conditional:**\n",
        "\n",
        "A conditional statement that appears in one of the branches of another conditional statement.\n",
        "\n",
        "**(11) recursion:**\n",
        "\n",
        "The process of calling the function that is currently executing.\n",
        "\n",
        "**(12) base case:**\n",
        "\n",
        "A conditional branch in a recursive function that does not make a recursive call.\n",
        "\n",
        "**(13) infinite recursion:**\n",
        "\n",
        "A recursion that doesn’t have a base case, or never reaches it. Eventually, an infinite recursion causes a runtime error."
      ]
    },
    {
      "cell_type": "markdown",
      "metadata": {
        "id": "7P0d5Nac1R2Y",
        "colab_type": "text"
      },
      "source": [
        "1.1 Modulus operator"
      ]
    },
    {
      "cell_type": "code",
      "metadata": {
        "id": "CY4rAZhb2g9B",
        "colab_type": "code",
        "outputId": "a7c82998-aa78-46a9-9cf5-1cc555cb0a82",
        "colab": {
          "base_uri": "https://localhost:8080/",
          "height": 69
        }
      },
      "source": [
        "# Example 1:\n",
        "\n",
        "quotient = 7 / 3\n",
        "print (quotient)\n",
        "print(\"__________________________\")\n",
        "\n",
        "remainder = 7 % 3\n",
        "print (remainder)"
      ],
      "execution_count": 0,
      "outputs": [
        {
          "output_type": "stream",
          "text": [
            "2.3333333333333335\n",
            "__________________________\n",
            "1\n"
          ],
          "name": "stdout"
        }
      ]
    },
    {
      "cell_type": "markdown",
      "metadata": {
        "id": "UKPwTjJ73DQS",
        "colab_type": "text"
      },
      "source": [
        "1.2 Boolean expressions\n",
        "\n",
        "\n",
        "\n",
        "```\n",
        "x == y               # x is not equal to y\n",
        "x != y               # x is not equal to y\n",
        "x > y                # x is greater than y\n",
        "x < y                # x is less than y\n",
        "x >= y               # x is greater than or equal to y\n",
        "x <= y               # x is less than or equal to y\n",
        "```\n",
        "\n"
      ]
    },
    {
      "cell_type": "code",
      "metadata": {
        "id": "4Reke75a3Ezs",
        "colab_type": "code",
        "outputId": "b9be5f0f-6f4b-41f6-8fcc-cc205de63261",
        "colab": {
          "base_uri": "https://localhost:8080/",
          "height": 156
        }
      },
      "source": [
        "# Example 2:\n",
        "print(5 == 5)\n",
        "print(\"______________________________________\")\n",
        "\n",
        "print(5 == 6)\n",
        "print(\"______________________________________\")\n",
        "\n",
        "print(type(True))\n",
        "print(\"______________________________________\")\n",
        "\n",
        "print(type(False))\n",
        "print(\"______________________________________\")"
      ],
      "execution_count": 0,
      "outputs": [
        {
          "output_type": "stream",
          "text": [
            "True\n",
            "______________________________________\n",
            "False\n",
            "______________________________________\n",
            "<class 'bool'>\n",
            "______________________________________\n",
            "<class 'bool'>\n",
            "______________________________________\n"
          ],
          "name": "stdout"
        }
      ]
    },
    {
      "cell_type": "markdown",
      "metadata": {
        "id": "vQOdEVMS5Fjy",
        "colab_type": "text"
      },
      "source": [
        "1.3 Logical operators\n",
        "Logical operators are the and, or, not operators.\n",
        "\n",
        "and: True if both the operands are true\n",
        "\n",
        "or: True if either of the operands is true\t\n",
        "\n",
        "not: True if operand is false (complements the operand)\t"
      ]
    },
    {
      "cell_type": "code",
      "metadata": {
        "id": "_Zf-h00E5Mtl",
        "colab_type": "code",
        "outputId": "09c4d254-40a0-4c79-d1bf-d87397ba6b06",
        "colab": {
          "base_uri": "https://localhost:8080/",
          "height": 69
        }
      },
      "source": [
        "# Example 3\n",
        "x = True\n",
        "y = False\n",
        "# Output: x and y is False\n",
        "print('x and y is',x and y)\n",
        "# Output: x or y is True\n",
        "print('x or y is',x or y)\n",
        "# Output: not x is False\n",
        "print('not x is',not x)"
      ],
      "execution_count": 0,
      "outputs": [
        {
          "output_type": "stream",
          "text": [
            "x and y is False\n",
            "x or y is True\n",
            "not x is False\n"
          ],
          "name": "stdout"
        }
      ]
    },
    {
      "cell_type": "markdown",
      "metadata": {
        "id": "wzMVcL1R56gc",
        "colab_type": "text"
      },
      "source": [
        "1.4 Conditional execution"
      ]
    },
    {
      "cell_type": "code",
      "metadata": {
        "id": "oNYeIOxB6COp",
        "colab_type": "code",
        "outputId": "dd5ffc13-3cc8-4f80-8436-c513dbb070f0",
        "colab": {
          "base_uri": "https://localhost:8080/",
          "height": 35
        }
      },
      "source": [
        "# Example 4\n",
        "\n",
        "x = 5\n",
        "\n",
        "if x > 0:\n",
        "    print ('x is positive')\n",
        "\n",
        "if x < 0:\n",
        "    pass          # need to handle negative values!"
      ],
      "execution_count": 0,
      "outputs": [
        {
          "output_type": "stream",
          "text": [
            "x is positive\n"
          ],
          "name": "stdout"
        }
      ]
    },
    {
      "cell_type": "markdown",
      "metadata": {
        "id": "4aoYmLGa6dGP",
        "colab_type": "text"
      },
      "source": [
        "1.5 Alternative execution"
      ]
    },
    {
      "cell_type": "code",
      "metadata": {
        "id": "CAChZC2O6Pz9",
        "colab_type": "code",
        "outputId": "589cc95d-fc9c-4ba2-bfd2-b2721f061453",
        "colab": {
          "base_uri": "https://localhost:8080/",
          "height": 35
        }
      },
      "source": [
        "# Example 5\n",
        "\n",
        "x = 9\n",
        "\n",
        "if (x%2 == 0):\n",
        "    print ('x is even')\n",
        "else:\n",
        "    print ('x is odd')"
      ],
      "execution_count": 0,
      "outputs": [
        {
          "output_type": "stream",
          "text": [
            "x is odd\n"
          ],
          "name": "stdout"
        }
      ]
    },
    {
      "cell_type": "markdown",
      "metadata": {
        "id": "BKLecnVo67M4",
        "colab_type": "text"
      },
      "source": [
        "1.6 Chained conditionals"
      ]
    },
    {
      "cell_type": "code",
      "metadata": {
        "id": "zDSlkdeg68cw",
        "colab_type": "code",
        "outputId": "1b7d9363-5bb6-4d86-b07b-6cb0a0ca7196",
        "colab": {
          "base_uri": "https://localhost:8080/",
          "height": 35
        }
      },
      "source": [
        "# Example 6\n",
        "x = 5\n",
        "y = 7\n",
        "\n",
        "if x < y:\n",
        "    print ('x is less than y')\n",
        "elif x > y:\n",
        "    print ('x is greater than y')\n",
        "else:\n",
        "    print ('x and y are equal')"
      ],
      "execution_count": 0,
      "outputs": [
        {
          "output_type": "stream",
          "text": [
            "x is less than y\n"
          ],
          "name": "stdout"
        }
      ]
    },
    {
      "cell_type": "markdown",
      "metadata": {
        "id": "x86rrkpx7dDZ",
        "colab_type": "text"
      },
      "source": [
        "1.7 Nested conditionals"
      ]
    },
    {
      "cell_type": "code",
      "metadata": {
        "id": "78cJECK-7eu8",
        "colab_type": "code",
        "outputId": "7f2fa37d-7b25-4a30-a76a-8bdc25965384",
        "colab": {
          "base_uri": "https://localhost:8080/",
          "height": 35
        }
      },
      "source": [
        "# Example 7\n",
        "\n",
        "x = 11\n",
        "y = 4\n",
        "\n",
        "if x == y:\n",
        "    print ('x and y are equal')\n",
        "else:\n",
        "    if x < y:\n",
        "        print ('x is less than y')\n",
        "    else:\n",
        "        print ('x is greater than y')"
      ],
      "execution_count": 0,
      "outputs": [
        {
          "output_type": "stream",
          "text": [
            "x is greater than y\n"
          ],
          "name": "stdout"
        }
      ]
    },
    {
      "cell_type": "markdown",
      "metadata": {
        "id": "UHXkkqjs78ls",
        "colab_type": "text"
      },
      "source": [
        "1.8 Recursion\n",
        "\n",
        "![alt text](http://www.greenteapress.com/thinkpython/html/book007.png)\n",
        "\n",
        "Stack diagrams for recursive functions"
      ]
    },
    {
      "cell_type": "code",
      "metadata": {
        "id": "HHdqFnbO797l",
        "colab_type": "code",
        "outputId": "a88aa2a9-36e7-4172-e06f-ee0247dce531",
        "colab": {
          "base_uri": "https://localhost:8080/",
          "height": 87
        }
      },
      "source": [
        "# Example 7\n",
        "\n",
        "def countdown(n):\n",
        "    if n <= 0:\n",
        "        print ('Blastoff!')\n",
        "    else:\n",
        "        print (n)\n",
        "        countdown(n-1)\n",
        "\n",
        "countdown(3)"
      ],
      "execution_count": 0,
      "outputs": [
        {
          "output_type": "stream",
          "text": [
            "3\n",
            "2\n",
            "1\n",
            "Blastoff!\n"
          ],
          "name": "stdout"
        }
      ]
    },
    {
      "cell_type": "markdown",
      "metadata": {
        "id": "VhOdi-Lx81NR",
        "colab_type": "text"
      },
      "source": [
        "1.9 Infinite recursion\n",
        "\n",
        "If a recursion never reaches a base case, it goes on making recursive calls forever, and the program never terminates. This is known as infinite recursion, and it is generally not a good idea. "
      ]
    },
    {
      "cell_type": "markdown",
      "metadata": {
        "id": "hX4Zxw7d9Rvw",
        "colab_type": "text"
      },
      "source": [
        "# 2. Fruitful functions\n",
        "**Glossary**\n",
        "\n",
        "**Boolean function**\n",
        "\n",
        "A function that returns a Boolean value. The only possible values of the bool type are False and True.\n",
        "\n",
        "**chatterbox function**\n",
        "\n",
        "A function which interacts with the user (using input or print) when it should not. Silent functions that just convert their input arguments into their output results are usually the most useful ones.\n",
        "\n",
        "**composition (of functions)**\n",
        "\n",
        "Calling one function from within the body of another, or using the return value of one function as an argument to the call of another.\n",
        "\n",
        "**dead code**\n",
        "Part of a program that can never be executed, often because it appears after a return statement.\n",
        "\n",
        "**fruitful function**\n",
        "A function that yields a return value instead of None.\n",
        "\n",
        "**incremental development**\n",
        "\n",
        "A program development plan intended to simplify debugging by adding and testing only a small amount of code at a time.\n",
        "\n",
        "**None**\n",
        "A special Python value. One use in Python is that it is returned by functions that do not execute a return statement with a return argument.\n",
        "\n",
        "**return value**\n",
        "The value provided as the result of a function call.\n",
        "\n",
        "**scaffolding**\n",
        "\n",
        "Code that is used during program development to assist with development and debugging. The unit test code that we added in this chapter are examples of scaffolding.\n",
        "\n",
        "**temporary variable**\n",
        "\n",
        "A variable used to store an intermediate value in a complex calculation.\n",
        "\n",
        "**test suite**\n",
        "\n",
        "A collection of tests for some code you have written.\n",
        "\n",
        "**unit testing**\n",
        "\n",
        "An automatic procedure used to validate that individual units of code are working properly. Having a test suite is extremely useful when somebody modifies or extends the code: it provides a safety net against going backwards by putting new bugs into previously working code. The term regression testing is often used to capture this idea that we don’t want to go backwards!"
      ]
    },
    {
      "cell_type": "markdown",
      "metadata": {
        "id": "iecRMQ58AqDF",
        "colab_type": "text"
      },
      "source": [
        "2.1 Return values"
      ]
    },
    {
      "cell_type": "markdown",
      "metadata": {
        "id": "EvT3dZZ0kHF7",
        "colab_type": "text"
      },
      "source": [
        "(1) The built-in functions we have used, such as **abs, pow, int, max, and range, have produced results**. Calling each of these functions generates a value, which we usually assign to a variable or use as part of an expression."
      ]
    },
    {
      "cell_type": "code",
      "metadata": {
        "id": "36aySOh8CIQD",
        "colab_type": "code",
        "outputId": "3eac6d61-4cb7-4eb2-f9f5-090efa71b9fd",
        "colab": {
          "base_uri": "https://localhost:8080/",
          "height": 52
        }
      },
      "source": [
        "# Example 1\n",
        "\n",
        "biggest = max(3, 7, 2, 5)\n",
        "print(biggest)\n",
        "x = abs(3 - 11) + 10\n",
        "print(x)"
      ],
      "execution_count": 0,
      "outputs": [
        {
          "output_type": "stream",
          "text": [
            "7\n",
            "18\n"
          ],
          "name": "stdout"
        }
      ]
    },
    {
      "cell_type": "markdown",
      "metadata": {
        "id": "ElRGiRFfkYY7",
        "colab_type": "text"
      },
      "source": [
        "(2) We also wrote our own function to return the final amount for a compound interest calculation."
      ]
    },
    {
      "cell_type": "code",
      "metadata": {
        "id": "P0eFa0g3kiZl",
        "colab_type": "code",
        "colab": {}
      },
      "source": [
        "# Example 2\n",
        "\n",
        "# returns the area of a circle with the given radius\n",
        "\n",
        "def area(radius):\n",
        "    b = 3.14159 * radius**2\n",
        "    return b\n",
        "\n",
        "# evaluate the return expression, and then return it immediately as the result (the fruit) of this function\n",
        "\n",
        "def area(radius):\n",
        "    return 3.14159 * radius * radius"
      ],
      "execution_count": 0,
      "outputs": []
    },
    {
      "cell_type": "markdown",
      "metadata": {
        "id": "7UhHC77ElIjC",
        "colab_type": "text"
      },
      "source": [
        "(3) Sometimes it is useful to have multiple return statements, one in each branch of a conditional. "
      ]
    },
    {
      "cell_type": "code",
      "metadata": {
        "id": "j8XaY2Aelc6m",
        "colab_type": "code",
        "colab": {}
      },
      "source": [
        "# Example 3\n",
        "\n",
        "# if...else...\n",
        "\n",
        "def absolute_value(x):\n",
        "    if x < 0:\n",
        "        return -x\n",
        "    else:\n",
        "        return x\n",
        "\n",
        "# leave out the else and just follow the if condition by the second return statement \n",
        "\n",
        "def absolute_value(x):\n",
        "    if x < 0:\n",
        "        return -x\n",
        "    return x"
      ],
      "execution_count": 0,
      "outputs": []
    },
    {
      "cell_type": "markdown",
      "metadata": {
        "id": "i_sXkvo-mKdA",
        "colab_type": "text"
      },
      "source": [
        "(4) Code that appears after a return statement, or any other place the flow of execution can never reach, is called dead code, or unreachable code."
      ]
    },
    {
      "cell_type": "code",
      "metadata": {
        "id": "JC1K2E2GmMT2",
        "colab_type": "code",
        "colab": {
          "base_uri": "https://localhost:8080/",
          "height": 35
        },
        "outputId": "7a375c80-d5d5-4c9f-eb1a-e3593a705ebb"
      },
      "source": [
        "# Example 4\n",
        "\n",
        "# In a fruitful function, it is a good idea to ensure that every possible path through the program hits a return statement\n",
        "\n",
        "def bad_absolute_value(x):\n",
        "    if x < 0:\n",
        "        return -x\n",
        "    elif x > 0:\n",
        "        return x\n",
        "\n",
        "print(bad_absolute_value(0))\n",
        "\n",
        "# All Python functions return None whenever they do not return another value."
      ],
      "execution_count": 3,
      "outputs": [
        {
          "output_type": "stream",
          "text": [
            "None\n"
          ],
          "name": "stdout"
        }
      ]
    }
  ]
}