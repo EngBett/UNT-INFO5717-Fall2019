{
  "nbformat": 4,
  "nbformat_minor": 0,
  "metadata": {
    "colab": {
      "name": "Lesson_three.ipynb",
      "version": "0.3.2",
      "provenance": [],
      "toc_visible": true,
      "include_colab_link": true
    },
    "kernelspec": {
      "name": "python3",
      "display_name": "Python 3"
    }
  },
  "cells": [
    {
      "cell_type": "markdown",
      "metadata": {
        "id": "view-in-github",
        "colab_type": "text"
      },
      "source": [
        "<a href=\"https://colab.research.google.com/github/unt-iialab/UNT-INFO5717-Fall2019/blob/master/Lesson%203/Lesson_three.ipynb\" target=\"_parent\"><img src=\"https://colab.research.google.com/assets/colab-badge.svg\" alt=\"Open In Colab\"/></a>"
      ]
    },
    {
      "cell_type": "markdown",
      "metadata": {
        "id": "AwKbYo2HPEBw",
        "colab_type": "text"
      },
      "source": [
        "This file introduces the core content and gives some examples for Lesson 3"
      ]
    },
    {
      "cell_type": "markdown",
      "metadata": {
        "id": "vamlOckw_nuK",
        "colab_type": "text"
      },
      "source": [
        "...tips before this lesson...\n",
        "\n",
        "# Programming with style\n",
        "Readability is very important to programmers, since in practice programs are read and modified far more often then they are written.\n",
        "\n",
        "\n",
        "*   use 4 spaces (instead of tabs) for indentation\n",
        "*   limit line length to 78 characters\n",
        "*   when naming identifiers, use CamelCase for classes (we’ll get to those) and lowercase_with_underscores for functons and variables\n",
        "*   place imports at the top of the file\n",
        "*   keep function definitions together\n",
        "*   use docstrings to document functions\n",
        "*   use two blank lines to separate function definitions from each other\n",
        "*   keep top level statements, including function calls, together at the bottom of the program\n",
        "\n",
        "\n",
        "\n",
        "\n",
        "\n",
        "\n",
        "\n"
      ]
    },
    {
      "cell_type": "markdown",
      "metadata": {
        "id": "lni9oskRxYSR",
        "colab_type": "text"
      },
      "source": [
        "# 1. Conditionals and recursion"
      ]
    },
    {
      "cell_type": "markdown",
      "metadata": {
        "id": "Bnzrl55Ezwgf",
        "colab_type": "text"
      },
      "source": [
        "**Glossary**\n",
        "\n",
        "**(1) modulus operator:**\n",
        "\n",
        "An operator, denoted with a percent sign (%), that works on integers and yields the remainder when one number is divided by another.\n",
        "\n",
        "**(2) boolean expression:**\n",
        "\n",
        "An expression whose value is either True or False.\n",
        "\n",
        "**(3) relational operator:**\n",
        "\n",
        "One of the operators that compares its operands: ==, !=, >, <, >=, and <=.\n",
        "\n",
        "**(4) logical operator:**\n",
        "\n",
        "One of the operators that combines boolean expressions: and, or, and not.\n",
        "\n",
        "**(5) conditional statement:**\n",
        "\n",
        "A statement that controls the flow of execution depending on some condition.\n",
        "\n",
        "**(6) condition:**\n",
        "\n",
        "The boolean expression in a conditional statement that determines which branch is executed.\n",
        "\n",
        "**(7) compound statement:**\n",
        "\n",
        "A statement that consists of a header and a body. The header ends with a colon (:). The body is indented relative to the header.\n",
        "\n",
        "**(8) branch:**\n",
        "\n",
        "One of the alternative sequences of statements in a conditional statement.\n",
        "\n",
        "**(9) chained conditional:**\n",
        "\n",
        "A conditional statement with a series of alternative branches.\n",
        "\n",
        "**(10) nested conditional:**\n",
        "\n",
        "A conditional statement that appears in one of the branches of another conditional statement.\n",
        "\n",
        "**(11) recursion:**\n",
        "\n",
        "The process of calling the function that is currently executing.\n",
        "\n",
        "**(12) base case:**\n",
        "\n",
        "A conditional branch in a recursive function that does not make a recursive call.\n",
        "\n",
        "**(13) infinite recursion:**\n",
        "\n",
        "A recursion that doesn’t have a base case, or never reaches it. Eventually, an infinite recursion causes a runtime error."
      ]
    },
    {
      "cell_type": "markdown",
      "metadata": {
        "id": "7P0d5Nac1R2Y",
        "colab_type": "text"
      },
      "source": [
        "1.1 Modulus operator"
      ]
    },
    {
      "cell_type": "code",
      "metadata": {
        "id": "CY4rAZhb2g9B",
        "colab_type": "code",
        "outputId": "a7c82998-aa78-46a9-9cf5-1cc555cb0a82",
        "colab": {
          "base_uri": "https://localhost:8080/",
          "height": 69
        }
      },
      "source": [
        "# Example 1:\n",
        "\n",
        "quotient = 7 / 3\n",
        "print (quotient)\n",
        "print(\"__________________________\")\n",
        "\n",
        "remainder = 7 % 3\n",
        "print (remainder)"
      ],
      "execution_count": 0,
      "outputs": [
        {
          "output_type": "stream",
          "text": [
            "2.3333333333333335\n",
            "__________________________\n",
            "1\n"
          ],
          "name": "stdout"
        }
      ]
    },
    {
      "cell_type": "markdown",
      "metadata": {
        "id": "UKPwTjJ73DQS",
        "colab_type": "text"
      },
      "source": [
        "1.2 Boolean expressions\n",
        "\n",
        "\n",
        "\n",
        "```\n",
        "x == y               # x is not equal to y\n",
        "x != y               # x is not equal to y\n",
        "x > y                # x is greater than y\n",
        "x < y                # x is less than y\n",
        "x >= y               # x is greater than or equal to y\n",
        "x <= y               # x is less than or equal to y\n",
        "```\n",
        "\n"
      ]
    },
    {
      "cell_type": "code",
      "metadata": {
        "id": "4Reke75a3Ezs",
        "colab_type": "code",
        "outputId": "b9be5f0f-6f4b-41f6-8fcc-cc205de63261",
        "colab": {
          "base_uri": "https://localhost:8080/",
          "height": 156
        }
      },
      "source": [
        "# Example 2:\n",
        "print(5 == 5)\n",
        "print(\"______________________________________\")\n",
        "\n",
        "print(5 == 6)\n",
        "print(\"______________________________________\")\n",
        "\n",
        "print(type(True))\n",
        "print(\"______________________________________\")\n",
        "\n",
        "print(type(False))\n",
        "print(\"______________________________________\")"
      ],
      "execution_count": 0,
      "outputs": [
        {
          "output_type": "stream",
          "text": [
            "True\n",
            "______________________________________\n",
            "False\n",
            "______________________________________\n",
            "<class 'bool'>\n",
            "______________________________________\n",
            "<class 'bool'>\n",
            "______________________________________\n"
          ],
          "name": "stdout"
        }
      ]
    },
    {
      "cell_type": "markdown",
      "metadata": {
        "id": "vQOdEVMS5Fjy",
        "colab_type": "text"
      },
      "source": [
        "1.3 Logical operators\n",
        "Logical operators are the and, or, not operators.\n",
        "\n",
        "and: True if both the operands are true\n",
        "\n",
        "or: True if either of the operands is true\t\n",
        "\n",
        "not: True if operand is false (complements the operand)\t"
      ]
    },
    {
      "cell_type": "code",
      "metadata": {
        "id": "_Zf-h00E5Mtl",
        "colab_type": "code",
        "outputId": "09c4d254-40a0-4c79-d1bf-d87397ba6b06",
        "colab": {
          "base_uri": "https://localhost:8080/",
          "height": 69
        }
      },
      "source": [
        "# Example 3\n",
        "x = True\n",
        "y = False\n",
        "# Output: x and y is False\n",
        "print('x and y is',x and y)\n",
        "# Output: x or y is True\n",
        "print('x or y is',x or y)\n",
        "# Output: not x is False\n",
        "print('not x is',not x)"
      ],
      "execution_count": 0,
      "outputs": [
        {
          "output_type": "stream",
          "text": [
            "x and y is False\n",
            "x or y is True\n",
            "not x is False\n"
          ],
          "name": "stdout"
        }
      ]
    },
    {
      "cell_type": "markdown",
      "metadata": {
        "id": "wzMVcL1R56gc",
        "colab_type": "text"
      },
      "source": [
        "1.4 Conditional execution"
      ]
    },
    {
      "cell_type": "code",
      "metadata": {
        "id": "oNYeIOxB6COp",
        "colab_type": "code",
        "outputId": "dd5ffc13-3cc8-4f80-8436-c513dbb070f0",
        "colab": {
          "base_uri": "https://localhost:8080/",
          "height": 35
        }
      },
      "source": [
        "# Example 4\n",
        "\n",
        "x = 5\n",
        "\n",
        "if x > 0:\n",
        "    print ('x is positive')\n",
        "\n",
        "if x < 0:\n",
        "    pass          # need to handle negative values!"
      ],
      "execution_count": 0,
      "outputs": [
        {
          "output_type": "stream",
          "text": [
            "x is positive\n"
          ],
          "name": "stdout"
        }
      ]
    },
    {
      "cell_type": "markdown",
      "metadata": {
        "id": "4aoYmLGa6dGP",
        "colab_type": "text"
      },
      "source": [
        "1.5 Alternative execution"
      ]
    },
    {
      "cell_type": "code",
      "metadata": {
        "id": "CAChZC2O6Pz9",
        "colab_type": "code",
        "outputId": "589cc95d-fc9c-4ba2-bfd2-b2721f061453",
        "colab": {
          "base_uri": "https://localhost:8080/",
          "height": 35
        }
      },
      "source": [
        "# Example 5\n",
        "\n",
        "x = 9\n",
        "\n",
        "if (x%2 == 0):\n",
        "    print ('x is even')\n",
        "else:\n",
        "    print ('x is odd')"
      ],
      "execution_count": 0,
      "outputs": [
        {
          "output_type": "stream",
          "text": [
            "x is odd\n"
          ],
          "name": "stdout"
        }
      ]
    },
    {
      "cell_type": "markdown",
      "metadata": {
        "id": "BKLecnVo67M4",
        "colab_type": "text"
      },
      "source": [
        "1.6 Chained conditionals"
      ]
    },
    {
      "cell_type": "code",
      "metadata": {
        "id": "zDSlkdeg68cw",
        "colab_type": "code",
        "outputId": "1b7d9363-5bb6-4d86-b07b-6cb0a0ca7196",
        "colab": {
          "base_uri": "https://localhost:8080/",
          "height": 35
        }
      },
      "source": [
        "# Example 6\n",
        "x = 5\n",
        "y = 7\n",
        "\n",
        "if x < y:\n",
        "    print ('x is less than y')\n",
        "elif x > y:\n",
        "    print ('x is greater than y')\n",
        "else:\n",
        "    print ('x and y are equal')"
      ],
      "execution_count": 0,
      "outputs": [
        {
          "output_type": "stream",
          "text": [
            "x is less than y\n"
          ],
          "name": "stdout"
        }
      ]
    },
    {
      "cell_type": "markdown",
      "metadata": {
        "id": "x86rrkpx7dDZ",
        "colab_type": "text"
      },
      "source": [
        "1.7 Nested conditionals"
      ]
    },
    {
      "cell_type": "code",
      "metadata": {
        "id": "78cJECK-7eu8",
        "colab_type": "code",
        "outputId": "7f2fa37d-7b25-4a30-a76a-8bdc25965384",
        "colab": {
          "base_uri": "https://localhost:8080/",
          "height": 35
        }
      },
      "source": [
        "# Example 7\n",
        "\n",
        "x = 11\n",
        "y = 4\n",
        "\n",
        "if x == y:\n",
        "    print ('x and y are equal')\n",
        "else:\n",
        "    if x < y:\n",
        "        print ('x is less than y')\n",
        "    else:\n",
        "        print ('x is greater than y')"
      ],
      "execution_count": 0,
      "outputs": [
        {
          "output_type": "stream",
          "text": [
            "x is greater than y\n"
          ],
          "name": "stdout"
        }
      ]
    },
    {
      "cell_type": "markdown",
      "metadata": {
        "id": "UHXkkqjs78ls",
        "colab_type": "text"
      },
      "source": [
        "1.8 Recursion\n",
        "\n",
        "![alt text](http://www.greenteapress.com/thinkpython/html/book007.png)\n",
        "\n",
        "Stack diagrams for recursive functions"
      ]
    },
    {
      "cell_type": "code",
      "metadata": {
        "id": "HHdqFnbO797l",
        "colab_type": "code",
        "outputId": "a88aa2a9-36e7-4172-e06f-ee0247dce531",
        "colab": {
          "base_uri": "https://localhost:8080/",
          "height": 87
        }
      },
      "source": [
        "# Example 7\n",
        "\n",
        "def countdown(n):\n",
        "    if n <= 0:\n",
        "        print ('Blastoff!')\n",
        "    else:\n",
        "        print (n)\n",
        "        countdown(n-1)\n",
        "\n",
        "countdown(3)"
      ],
      "execution_count": 0,
      "outputs": [
        {
          "output_type": "stream",
          "text": [
            "3\n",
            "2\n",
            "1\n",
            "Blastoff!\n"
          ],
          "name": "stdout"
        }
      ]
    },
    {
      "cell_type": "markdown",
      "metadata": {
        "id": "VhOdi-Lx81NR",
        "colab_type": "text"
      },
      "source": [
        "1.9 Infinite recursion\n",
        "\n",
        "If a recursion never reaches a base case, it goes on making recursive calls forever, and the program never terminates. This is known as infinite recursion, and it is generally not a good idea. "
      ]
    },
    {
      "cell_type": "markdown",
      "metadata": {
        "id": "hX4Zxw7d9Rvw",
        "colab_type": "text"
      },
      "source": [
        "# 2. Fruitful functions\n",
        "**Glossary**\n",
        "\n",
        "**Boolean function**\n",
        "\n",
        "A function that returns a Boolean value. The only possible values of the bool type are False and True.\n",
        "\n",
        "**chatterbox function**\n",
        "\n",
        "A function which interacts with the user (using input or print) when it should not. Silent functions that just convert their input arguments into their output results are usually the most useful ones.\n",
        "\n",
        "**composition (of functions)**\n",
        "\n",
        "Calling one function from within the body of another, or using the return value of one function as an argument to the call of another.\n",
        "\n",
        "**dead code**\n",
        "Part of a program that can never be executed, often because it appears after a return statement.\n",
        "\n",
        "**fruitful function**\n",
        "A function that yields a return value instead of None.\n",
        "\n",
        "**incremental development**\n",
        "\n",
        "A program development plan intended to simplify debugging by adding and testing only a small amount of code at a time.\n",
        "\n",
        "**None**\n",
        "A special Python value. One use in Python is that it is returned by functions that do not execute a return statement with a return argument.\n",
        "\n",
        "**return value**\n",
        "The value provided as the result of a function call.\n",
        "\n",
        "**scaffolding**\n",
        "\n",
        "Code that is used during program development to assist with development and debugging. The unit test code that we added in this chapter are examples of scaffolding.\n",
        "\n",
        "**temporary variable**\n",
        "\n",
        "A variable used to store an intermediate value in a complex calculation.\n",
        "\n",
        "**test suite**\n",
        "\n",
        "A collection of tests for some code you have written.\n",
        "\n",
        "**unit testing**\n",
        "\n",
        "An automatic procedure used to validate that individual units of code are working properly. Having a test suite is extremely useful when somebody modifies or extends the code: it provides a safety net against going backwards by putting new bugs into previously working code. The term regression testing is often used to capture this idea that we don’t want to go backwards!"
      ]
    },
    {
      "cell_type": "markdown",
      "metadata": {
        "id": "iecRMQ58AqDF",
        "colab_type": "text"
      },
      "source": [
        "2.1 Return values"
      ]
    },
    {
      "cell_type": "markdown",
      "metadata": {
        "id": "EvT3dZZ0kHF7",
        "colab_type": "text"
      },
      "source": [
        "(1) The built-in functions we have used, such as **abs, pow, int, max, and range, have produced results**. Calling each of these functions generates a value, which we usually assign to a variable or use as part of an expression."
      ]
    },
    {
      "cell_type": "code",
      "metadata": {
        "id": "36aySOh8CIQD",
        "colab_type": "code",
        "outputId": "3eac6d61-4cb7-4eb2-f9f5-090efa71b9fd",
        "colab": {
          "base_uri": "https://localhost:8080/",
          "height": 52
        }
      },
      "source": [
        "# Example 1\n",
        "\n",
        "biggest = max(3, 7, 2, 5)\n",
        "print(biggest)\n",
        "x = abs(3 - 11) + 10\n",
        "print(x)"
      ],
      "execution_count": 0,
      "outputs": [
        {
          "output_type": "stream",
          "text": [
            "7\n",
            "18\n"
          ],
          "name": "stdout"
        }
      ]
    },
    {
      "cell_type": "markdown",
      "metadata": {
        "id": "ElRGiRFfkYY7",
        "colab_type": "text"
      },
      "source": [
        "(2) We also wrote our own function to return the final amount for a compound interest calculation."
      ]
    },
    {
      "cell_type": "code",
      "metadata": {
        "id": "P0eFa0g3kiZl",
        "colab_type": "code",
        "colab": {}
      },
      "source": [
        "# Example 2\n",
        "\n",
        "# returns the area of a circle with the given radius\n",
        "\n",
        "def area(radius):\n",
        "    b = 3.14159 * radius**2\n",
        "    return b\n",
        "\n",
        "# evaluate the return expression, and then return it immediately as the result (the fruit) of this function\n",
        "\n",
        "def area(radius):\n",
        "    return 3.14159 * radius * radius"
      ],
      "execution_count": 0,
      "outputs": []
    },
    {
      "cell_type": "markdown",
      "metadata": {
        "id": "7UhHC77ElIjC",
        "colab_type": "text"
      },
      "source": [
        "(3) Sometimes it is useful to have multiple return statements, one in each branch of a conditional. "
      ]
    },
    {
      "cell_type": "code",
      "metadata": {
        "id": "j8XaY2Aelc6m",
        "colab_type": "code",
        "colab": {}
      },
      "source": [
        "# Example 3\n",
        "\n",
        "# if...else...\n",
        "\n",
        "def absolute_value(x):\n",
        "    if x < 0:\n",
        "        return -x\n",
        "    else:\n",
        "        return x\n",
        "\n",
        "# leave out the else and just follow the if condition by the second return statement \n",
        "\n",
        "def absolute_value(x):\n",
        "    if x < 0:\n",
        "        return -x\n",
        "    return x"
      ],
      "execution_count": 0,
      "outputs": []
    },
    {
      "cell_type": "markdown",
      "metadata": {
        "id": "i_sXkvo-mKdA",
        "colab_type": "text"
      },
      "source": [
        "(4) Code that appears after a return statement, or any other place the flow of execution can never reach, is called dead code, or unreachable code."
      ]
    },
    {
      "cell_type": "code",
      "metadata": {
        "id": "JC1K2E2GmMT2",
        "colab_type": "code",
        "outputId": "7a375c80-d5d5-4c9f-eb1a-e3593a705ebb",
        "colab": {
          "base_uri": "https://localhost:8080/",
          "height": 35
        }
      },
      "source": [
        "# Example 4\n",
        "\n",
        "# In a fruitful function, it is a good idea to ensure that every possible path through the program hits a return statement\n",
        "\n",
        "def bad_absolute_value(x):\n",
        "    if x < 0:\n",
        "        return -x\n",
        "    elif x > 0:\n",
        "        return x\n",
        "\n",
        "print(bad_absolute_value(0))\n",
        "\n",
        "# All Python functions return None whenever they do not return another value."
      ],
      "execution_count": 0,
      "outputs": [
        {
          "output_type": "stream",
          "text": [
            "None\n"
          ],
          "name": "stdout"
        }
      ]
    },
    {
      "cell_type": "markdown",
      "metadata": {
        "id": "Knu8jGzSu4Mc",
        "colab_type": "text"
      },
      "source": [
        "(5) Use a return statement in the middle of a for loop, in which case control immediately returns from the function"
      ]
    },
    {
      "cell_type": "code",
      "metadata": {
        "id": "A__utgUlws1F",
        "colab_type": "code",
        "outputId": "c055f06f-e600-4ed8-8d0a-2ffe707e885a",
        "colab": {
          "base_uri": "https://localhost:8080/",
          "height": 35
        }
      },
      "source": [
        "# Example 5\n",
        "\n",
        "def find_first_2_letter_word(xs):\n",
        "    for wd in xs:\n",
        "        if len(wd) == 2:\n",
        "           return wd\n",
        "    return \"\"\n",
        "\n",
        "find_first_2_letter_word([\"This\",  \"is\", \"a\", \"dead\", \"parrot\"])\n"
      ],
      "execution_count": 0,
      "outputs": [
        {
          "output_type": "execute_result",
          "data": {
            "text/plain": [
              "'is'"
            ]
          },
          "metadata": {
            "tags": []
          },
          "execution_count": 8
        }
      ]
    },
    {
      "cell_type": "code",
      "metadata": {
        "id": "ZK6NeqPsxUvY",
        "colab_type": "code",
        "outputId": "1ce2f081-0ed5-4551-e14d-469e3e9cca3d",
        "colab": {
          "base_uri": "https://localhost:8080/",
          "height": 35
        }
      },
      "source": [
        "find_first_2_letter_word([\"I\",  \"like\",  \"cheese\"])"
      ],
      "execution_count": 0,
      "outputs": [
        {
          "output_type": "execute_result",
          "data": {
            "text/plain": [
              "''"
            ]
          },
          "metadata": {
            "tags": []
          },
          "execution_count": 9
        }
      ]
    },
    {
      "cell_type": "markdown",
      "metadata": {
        "id": "mp50josHxi9j",
        "colab_type": "text"
      },
      "source": [
        "2.2 Program development\n",
        "\n",
        "As you write larger functions, you might start to have more difficulty, especially with runtime and semantic errors.\n",
        "\n",
        "To deal with increasingly complex programs, we are going to suggest a technique called incremental development. \n",
        "\n",
        "The goal of incremental development is to avoid long debugging sessions by adding and testing only a small amount of code at a time.\n",
        "\n",
        "we want to find the distance between two points, given by the coordinates (x1, y1) and (x2, y2). By the Pythagorean theorem, the distance is:\n",
        "\n",
        "![alt text](http://openbookproject.net/thinkcs/python/english3e/_images/distance_formula.png)"
      ]
    },
    {
      "cell_type": "code",
      "metadata": {
        "id": "STse3P1KywTb",
        "colab_type": "code",
        "colab": {}
      },
      "source": [
        "# Example 1: divided a complex function into several steps \n",
        "\n",
        "# Step 1: write an outline of the function that captures our thinking\n",
        "\n",
        "def distance(x1, y1, x2, y2):\n",
        "    return 0.0\n",
        "  \n",
        "# Step 2: find the differences x2- x1 and y2- y1\n",
        "\n",
        "def distance(x1, y1, x2, y2):\n",
        "    dx = x2 - x1\n",
        "    dy = y2 - y1\n",
        "    return 0.0\n",
        "\n",
        "# Step 3: compute the sum of squares of dx and dy\n",
        "\n",
        "def distance(x1, y1, x2, y2):\n",
        "    dx = x2 - x1\n",
        "    dy = y2 - y1\n",
        "    dsquared = dx*dx + dy*dy\n",
        "    return 0.0\n",
        "\n",
        "# Step 4: use the fractional exponent 0.5 to find the square root\n",
        "\n",
        "def distance(x1, y1, x2, y2):\n",
        "    dx = x2 - x1\n",
        "    dy = y2 - y1\n",
        "    dsquared = dx*dx + dy*dy\n",
        "    result = dsquared**0.5\n",
        "    return result\n",
        "\n",
        "# Alternative method is to use a square root function that is in the math module\n",
        "\n",
        "import math\n",
        "\n",
        "def distance(x1, y1, x2, y2):\n",
        "    return math.sqrt( (x2-x1)**2 + (y2-y1)**2 )"
      ],
      "execution_count": 0,
      "outputs": []
    },
    {
      "cell_type": "markdown",
      "metadata": {
        "id": "dcOBVnQt0W67",
        "colab_type": "text"
      },
      "source": [
        "The key aspects of the process are:\n",
        "\n",
        "\n",
        "\n",
        "*   Start with a working skeleton program and make small incremental changes. At any point, if there is an error, you will know exactly where it is.\n",
        "*   Use temporary variables to refer to intermediate values so that you can easily inspect and check them.\n",
        "*   Once the program is working, relax, sit back, and play around with your options. You might want to consolidate multiple statements into one bigger compound expression, or rename the variables you’ve used, or see if you can make the function shorter. A good guideline is to aim for making code as easy as possible for others to read.\n",
        "\n",
        "\n",
        "\n"
      ]
    },
    {
      "cell_type": "markdown",
      "metadata": {
        "id": "oJLaRmdZ0wSJ",
        "colab_type": "text"
      },
      "source": [
        "2.3 Composition\n",
        "\n",
        "As you should expect by now, you can call one function from within another. This ability is called **composition**.\n"
      ]
    },
    {
      "cell_type": "code",
      "metadata": {
        "id": "W9CR3H2_1lU4",
        "colab_type": "code",
        "colab": {}
      },
      "source": [
        "# Example: computes the area of the circle\n",
        "\n",
        "# Step 1: find the radius of the circle, which is the distance between the two points\n",
        "\n",
        "radius = distance(xc, yc, xp, yp)\n",
        "\n",
        "# Step 2: find the area of a circle with that radius and return it\n",
        "\n",
        "result = area(radius)\n",
        "return result\n",
        "\n",
        "# Step 3: Wrap that up in a function\n",
        "\n",
        "def area2(xc, yc, xp, yp):\n",
        "    radius = distance(xc, yc, xp, yp)\n",
        "    result = area(radius)\n",
        "    return result\n",
        "  \n",
        "# Step 4: make it more concise by composing the function calls (simple and easy to read)\n",
        "\n",
        "def area2(xc, yc, xp, yp):\n",
        "    return area(distance(xc, yc, xp, yp))"
      ],
      "execution_count": 0,
      "outputs": []
    },
    {
      "cell_type": "markdown",
      "metadata": {
        "id": "HdXNm01N202s",
        "colab_type": "text"
      },
      "source": [
        "2.4 Boolean functions\n",
        "\n",
        "Functions can return Boolean values, which is often convenient for hiding complicated tests inside functions."
      ]
    },
    {
      "cell_type": "code",
      "metadata": {
        "id": "cEraO7uw3HlQ",
        "colab_type": "code",
        "colab": {}
      },
      "source": [
        "# Example: \n",
        "\n",
        "def is_divisible(x, y):\n",
        "    \"\"\" Test if x is exactly divisible by y \"\"\"\n",
        "    if x % y == 0:\n",
        "        return True\n",
        "    else:\n",
        "        return False\n",
        "\n",
        "# More concise and easy to read\n",
        "\n",
        "def is_divisible(x, y):\n",
        "    return x % y == 0\n",
        "  \n",
        "# The boolean functions can be very useful in conditional statements\n",
        "\n",
        "if is_divisible(x, y):\n",
        "    ... # Do something ...\n",
        "else:\n",
        "    ... # Do something else ..."
      ],
      "execution_count": 0,
      "outputs": []
    },
    {
      "cell_type": "markdown",
      "metadata": {
        "id": "FXaQdfbC3tmr",
        "colab_type": "text"
      },
      "source": [
        "2.5 Unit testing\n",
        "\n",
        "It is a common best practice in software development to include automatic unit testing of source code. Unit testing provides a way to automatically verify that individual pieces of code, such as functions, are working properly. This makes it possible to change the implementation of a function at a later time and quickly test that it still does what it was intended to do."
      ]
    },
    {
      "cell_type": "code",
      "metadata": {
        "id": "6HsORjw252j3",
        "colab_type": "code",
        "colab": {}
      },
      "source": [
        "# This function is correct\n",
        "\n",
        "def absolute_value(x):\n",
        "    if x < 0:\n",
        "        return -x\n",
        "    else:\n",
        "        return x"
      ],
      "execution_count": 0,
      "outputs": []
    },
    {
      "cell_type": "code",
      "metadata": {
        "id": "6mpZS5uM5iL4",
        "colab_type": "code",
        "colab": {}
      },
      "source": [
        "import sys\n",
        "\n",
        "def test(did_pass):\n",
        "    \"\"\"  Print the result of a test.  \"\"\"\n",
        "    linenum = sys._getframe(1).f_lineno   # Get the caller's line number.\n",
        "    if did_pass:\n",
        "        msg = \"Test at line {0} ok.\".format(linenum)\n",
        "    else:\n",
        "        msg = (\"Test at line {0} FAILED.\".format(linenum))\n",
        "    print(msg)"
      ],
      "execution_count": 0,
      "outputs": []
    },
    {
      "cell_type": "code",
      "metadata": {
        "id": "yrc34wdz5lU7",
        "colab_type": "code",
        "outputId": "ffd3d966-7e1d-442e-e36e-329171de4d45",
        "colab": {
          "base_uri": "https://localhost:8080/",
          "height": 104
        }
      },
      "source": [
        "def test_suite():\n",
        "    \"\"\" Run the suite of tests for code in this module (this file).\n",
        "    \"\"\"\n",
        "    test(absolute_value(17) == 17)\n",
        "    test(absolute_value(-17) == 17)\n",
        "    test(absolute_value(0) == 0)\n",
        "    test(absolute_value(3.14) == 3.14)\n",
        "    test(absolute_value(-3.14) == 3.14)\n",
        "\n",
        "test_suite()        # Here is the call to run the tests"
      ],
      "execution_count": 0,
      "outputs": [
        {
          "output_type": "stream",
          "text": [
            "Test at line 4 ok.\n",
            "Test at line 5 ok.\n",
            "Test at line 6 ok.\n",
            "Test at line 7 ok.\n",
            "Test at line 8 ok.\n"
          ],
          "name": "stdout"
        }
      ]
    },
    {
      "cell_type": "code",
      "metadata": {
        "id": "RUlx8f0n5-jM",
        "colab_type": "code",
        "colab": {}
      },
      "source": [
        "# This function is incorrect\n",
        "\n",
        "def absolute_value(n):   # Buggy version\n",
        "    \"\"\" Compute the absolute value of n \"\"\"\n",
        "    if n < 0:\n",
        "        return 1\n",
        "    elif n > 0:\n",
        "        return n"
      ],
      "execution_count": 0,
      "outputs": []
    },
    {
      "cell_type": "code",
      "metadata": {
        "id": "7S_LeaC16CU_",
        "colab_type": "code",
        "colab": {}
      },
      "source": [
        "import sys\n",
        "\n",
        "def test(did_pass):\n",
        "    \"\"\"  Print the result of a test.  \"\"\"\n",
        "    linenum = sys._getframe(1).f_lineno   # Get the caller's line number.\n",
        "    if did_pass:\n",
        "        msg = \"Test at line {0} ok.\".format(linenum)\n",
        "    else:\n",
        "        msg = (\"Test at line {0} FAILED.\".format(linenum))\n",
        "    print(msg)"
      ],
      "execution_count": 0,
      "outputs": []
    },
    {
      "cell_type": "code",
      "metadata": {
        "id": "pS7Qotgr6FS2",
        "colab_type": "code",
        "outputId": "ed272c43-d9bc-4d4b-c284-c7c5d610115a",
        "colab": {
          "base_uri": "https://localhost:8080/",
          "height": 104
        }
      },
      "source": [
        "def test_suite():\n",
        "    \"\"\" Run the suite of tests for code in this module (this file).\n",
        "    \"\"\"\n",
        "    test(absolute_value(17) == 17)\n",
        "    test(absolute_value(-17) == 17)\n",
        "    test(absolute_value(0) == 0)\n",
        "    test(absolute_value(3.14) == 3.14)\n",
        "    test(absolute_value(-3.14) == 3.14)\n",
        "\n",
        "test_suite()        # Here is the call to run the tests"
      ],
      "execution_count": 0,
      "outputs": [
        {
          "output_type": "stream",
          "text": [
            "Test at line 4 ok.\n",
            "Test at line 5 FAILED.\n",
            "Test at line 6 FAILED.\n",
            "Test at line 7 ok.\n",
            "Test at line 8 FAILED.\n"
          ],
          "name": "stdout"
        }
      ]
    },
    {
      "cell_type": "markdown",
      "metadata": {
        "id": "yQFkAzdq6dvN",
        "colab_type": "text"
      },
      "source": [
        "# 3. Iteration\n",
        "\n",
        "**Repeated execution of a set of statements is called iteration.** \n",
        "\n",
        "**Glossary**\n",
        "\n",
        "**(1) algorithm**\n",
        "\n",
        "A step-by-step process for solving a category of problems.\n",
        "\n",
        "**(2) body**\n",
        "\n",
        "The statements inside a loop.\n",
        "\n",
        "**(3) breakpoint**\n",
        "\n",
        "A place in your program code where program execution will pause (or break), allowing you to inspect the state of the program’s variables, or single-step through individual statements, executing them one at a time.\n",
        "\n",
        "**(4) bump**\n",
        "\n",
        "Programmer slang. Synonym for increment.\n",
        "\n",
        "**(5) continue statement**\n",
        "\n",
        "A statement that causes the remainder of the current iteration of a loop to be skipped. The flow of execution goes back to the top of the loop, evaluates the condition, and if this is true the next iteration of the loop will begin.\n",
        "\n",
        "**(6) counter**\n",
        "\n",
        "A variable used to count something, usually initialized to zero and incremented in the body of a loop.\n",
        "\n",
        "**(7) cursor**\n",
        "\n",
        "An invisible marker that keeps track of where the next character will be printed.\n",
        "\n",
        "**(8) decrement**\n",
        "\n",
        "Decrease by 1.\n",
        "\n",
        "**(9) definite iteration**\n",
        "\n",
        "A loop where we have an upper bound on the number of times the body will be executed. Definite iteration is usually best coded as a for loop.\n",
        "\n",
        "**(10) development plan**\n",
        "\n",
        "A process for developing a program. In this chapter, we demonstrated a style of development based on developing code to do simple, specific things and then encapsulating and generalizing.\n",
        "\n",
        "**(11) encapsulate**\n",
        "\n",
        "To divide a large complex program into components (like functions) and isolate the components from each other (by using local variables, for example).\n",
        "\n",
        "**(12) escape sequence**\n",
        "\n",
        "An escape character, \\, followed by one or more printable characters used to designate a nonprintable character.\n",
        "\n",
        "**(13) generalize**\n",
        "\n",
        "To replace something unnecessarily specific (like a constant value) with something appropriately general (like a variable or parameter). Generalization makes code more versatile, more likely to be reused, and sometimes even easier to write.\n",
        "\n",
        "**(14) increment**\n",
        "\n",
        "Both as a noun and as a verb, increment means to increase by 1.\n",
        "\n",
        "**(15) infinite loop**\n",
        "\n",
        "A loop in which the terminating condition is never satisfied.\n",
        "\n",
        "**(16) indefinite iteration**\n",
        "\n",
        "A loop where we just need to keep going until some condition is met. A while statement is used for this case.\n",
        "\n",
        "**(17) initialization (of a variable)**\n",
        "\n",
        "To initialize a variable is to give it an initial value. Since in Python variables don’t exist until they are assigned values, they are initialized when they are created. In other programming languages this is not the case, and variables can be created without being initialized, in which case they have either default or garbage values.\n",
        "\n",
        "**(18) iteration**\n",
        "\n",
        "Repeated execution of a set of programming statements.\n",
        "\n",
        "**(19) loop**\n",
        "\n",
        "The construct that allows allows us to repeatedly execute a statement or a group of statements until a terminating condition is satisfied.\n",
        "\n",
        "**(20) loop variable**\n",
        "\n",
        "A variable used as part of the terminating condition of a loop.\n",
        "\n",
        "**(21) meta-notation**\n",
        "\n",
        "Extra symbols or notation that helps describe other notation. Here we introduced square brackets, ellipses, italics, and bold as meta-notation to help describe optional, repeatable, substitutable and fixed parts of the Python syntax.\n",
        "\n",
        "**(22) middle-test loop**\n",
        "\n",
        "A loop that executes some of the body, then tests for the exit condition, and then may execute some more of the body. We don’t have a special Python construct for this case, but can use while and break together.\n",
        "\n",
        "**(23) nested loop**\n",
        "\n",
        "A loop inside the body of another loop.\n",
        "\n",
        "**(24) newline**\n",
        "\n",
        "A special character that causes the cursor to move to the beginning of the next line.\n",
        "\n",
        "**(25) post-test loop**\n",
        "\n",
        "A loop that executes the body, then tests for the exit condition. We don’t have a special Python construct for this, but can use while and break together.\n",
        "\n",
        "**(26) pre-test loop**\n",
        "\n",
        "A loop that tests before deciding whether the execute its body. for and while are both pre-test loops.\n",
        "\n",
        "**(27) single-step**\n",
        "A mode of interpreter execution where you are able to execute your program one step at a time, and inspect the consequences of that step. Useful for debugging and building your internal mental model of what is going on.\n",
        "\n",
        "**(28) tab**\n",
        "\n",
        "A special character that causes the cursor to move to the next tab stop on the current line.\n",
        "\n",
        "**(29) trichotomy**\n",
        "\n",
        "Given any real numbers a and b, exactly one of the following relations holds: a < b, a > b, or a == b. Thus when you can establish that two of the relations are false, you can assume the remaining one is true.\n",
        "\n",
        "**(30) trace**\n",
        "\n",
        "To follow the flow of execution of a program by hand, recording the change of state of the variables and any output produced."
      ]
    },
    {
      "cell_type": "markdown",
      "metadata": {
        "id": "HM7e9005Cg7t",
        "colab_type": "text"
      },
      "source": [
        "3.1 Reassignment\n",
        "\n",
        "It is legal to make more than one assignment to the same variable. A new assignment makes an existing variable refer to a new value (and stop referring to the old value)"
      ]
    },
    {
      "cell_type": "code",
      "metadata": {
        "id": "MNiXgNWYC_Nx",
        "colab_type": "code",
        "outputId": "1edd070e-00ce-48ca-cb9a-102adf8b1e4a",
        "colab": {
          "base_uri": "https://localhost:8080/",
          "height": 52
        }
      },
      "source": [
        "airtime_remaining = 15\n",
        "print(airtime_remaining)\n",
        "airtime_remaining = 7\n",
        "print(airtime_remaining)"
      ],
      "execution_count": 0,
      "outputs": [
        {
          "output_type": "stream",
          "text": [
            "15\n",
            "7\n"
          ],
          "name": "stdout"
        }
      ]
    },
    {
      "cell_type": "code",
      "metadata": {
        "id": "PEpNc-EHDUjQ",
        "colab_type": "code",
        "outputId": "ea8ba5d1-c53e-4052-8c70-b5b39edb567f",
        "colab": {
          "base_uri": "https://localhost:8080/",
          "height": 69
        }
      },
      "source": [
        "a = 5\n",
        "print(a)\n",
        "b = a    # After executing this line, a and b are now equal\n",
        "print(b)\n",
        "a = 3    # After executing this line, a and b are no longer equal\n",
        "print(a)"
      ],
      "execution_count": 0,
      "outputs": [
        {
          "output_type": "stream",
          "text": [
            "5\n",
            "5\n",
            "3\n"
          ],
          "name": "stdout"
        }
      ]
    },
    {
      "cell_type": "markdown",
      "metadata": {
        "id": "aWaDLFCjDgI1",
        "colab_type": "text"
      },
      "source": [
        "3.2 Updating variables\n",
        "\n",
        "One of the most common forms of assignment is an update, where the new value of the variable depends on its old value"
      ]
    },
    {
      "cell_type": "code",
      "metadata": {
        "id": "UXqwCRJcEBXf",
        "colab_type": "code",
        "outputId": "30e27f20-539f-47c9-9a1b-63ff073848eb",
        "colab": {
          "base_uri": "https://localhost:8080/",
          "height": 35
        }
      },
      "source": [
        "n = 5\n",
        "n = 3 * n + 1\n",
        "print(n)"
      ],
      "execution_count": 0,
      "outputs": [
        {
          "output_type": "stream",
          "text": [
            "16\n"
          ],
          "name": "stdout"
        }
      ]
    },
    {
      "cell_type": "code",
      "metadata": {
        "id": "yoNpkMo9EMwc",
        "colab_type": "code",
        "colab": {}
      },
      "source": [
        "# Before you can update a variable, you have to initialize it to some starting value, usually with a simple assignment:\n",
        "\n",
        "runs_scored = 0\n",
        "...\n",
        "runs_scored = runs_scored + 1"
      ],
      "execution_count": 0,
      "outputs": []
    },
    {
      "cell_type": "markdown",
      "metadata": {
        "id": "LnkINPC4ESQ9",
        "colab_type": "text"
      },
      "source": [
        "3.3 The for loop revisited\n",
        "\n",
        "The for loop processes each item in a list. Each item in turn is (re-)assigned to the loop variable, and the body of the loop is executed."
      ]
    },
    {
      "cell_type": "code",
      "metadata": {
        "id": "Tii7b1eQEimC",
        "colab_type": "code",
        "outputId": "6edd01b2-9d2b-4b6f-f9b3-fcf98554573d",
        "colab": {
          "base_uri": "https://localhost:8080/",
          "height": 139
        }
      },
      "source": [
        "# Example 1: \n",
        "\n",
        "for f in [\"Joe\", \"Zoe\", \"Brad\", \"Angelina\", \"Zuki\", \"Thandi\", \"Paris\"]:\n",
        "    invitation = \"Hi \" + f + \".  Please come to my party on Saturday!\"\n",
        "    print(invitation)\n",
        "    \n",
        "# Running through all the items in a list is called traversing the list, or traversal."
      ],
      "execution_count": 0,
      "outputs": [
        {
          "output_type": "stream",
          "text": [
            "Hi Joe.  Please come to my party on Saturday!\n",
            "Hi Zoe.  Please come to my party on Saturday!\n",
            "Hi Brad.  Please come to my party on Saturday!\n",
            "Hi Angelina.  Please come to my party on Saturday!\n",
            "Hi Zuki.  Please come to my party on Saturday!\n",
            "Hi Thandi.  Please come to my party on Saturday!\n",
            "Hi Paris.  Please come to my party on Saturday!\n"
          ],
          "name": "stdout"
        }
      ]
    },
    {
      "cell_type": "code",
      "metadata": {
        "id": "KF9gNE6dE1h4",
        "colab_type": "code",
        "outputId": "12f18d50-8021-4fbd-e057-7be8198bd427",
        "colab": {
          "base_uri": "https://localhost:8080/",
          "height": 104
        }
      },
      "source": [
        "# Example 2:\n",
        "\n",
        "def mysum(xs):\n",
        "    \"\"\" Sum all the numbers in the list xs, and return the total. \"\"\"\n",
        "    running_total = 0\n",
        "    for x in xs:\n",
        "        running_total = running_total + x\n",
        "    return running_total\n",
        "\n",
        "# Add tests like these to your test suite ...\n",
        "test(mysum([1, 2, 3, 4]) == 10)\n",
        "test(mysum([1.25, 2.5, 1.75]) == 5.5)\n",
        "test(mysum([1, -2, 3]) == 2)\n",
        "test(mysum([ ]) == 0)\n",
        "test(mysum(range(11)) == 55)  # 11 is not included in the list."
      ],
      "execution_count": 0,
      "outputs": [
        {
          "output_type": "stream",
          "text": [
            "Test at line 10 ok.\n",
            "Test at line 11 ok.\n",
            "Test at line 12 ok.\n",
            "Test at line 13 ok.\n",
            "Test at line 14 ok.\n"
          ],
          "name": "stdout"
        }
      ]
    },
    {
      "cell_type": "markdown",
      "metadata": {
        "id": "jlzS8qv4Fdcu",
        "colab_type": "text"
      },
      "source": [
        "3.4 The while statement\n",
        "\n",
        "The flow of execution for a while statement:\n",
        "\n",
        "\n",
        "*   Evaluate the condition at line 5, yielding a value which is either False or True.\n",
        "*   If the value is False, exit the while statement and continue execution at the next statement (line 8 in this case).\n",
        "*   If the value is True, execute each of the statements in the body (lines 6 and 7) and then go back to the while statement at line 5.\n",
        "\n",
        "\n",
        "\n"
      ]
    },
    {
      "cell_type": "code",
      "metadata": {
        "id": "pXQpOmUFF60E",
        "colab_type": "code",
        "outputId": "013951b9-6dea-4e4c-840a-9e5fd2cbaee4",
        "colab": {
          "base_uri": "https://localhost:8080/",
          "height": 52
        }
      },
      "source": [
        "# An example:The Collatz 3n + 1 sequence\n",
        "\n",
        "def sum_to(n):\n",
        "    \"\"\" Return the sum of 1+2+3 ... n \"\"\"\n",
        "    ss  = 0\n",
        "    v = 1\n",
        "    while v <= n:\n",
        "        ss = ss + v\n",
        "        v = v + 1\n",
        "    return ss\n",
        "\n",
        "# For your test suite\n",
        "test(sum_to(4) == 10)\n",
        "test(sum_to(1000) == 500500)\n",
        "\n",
        "# If the loop condition is False the first time we get loop, the statements in the body of the loop are never executed"
      ],
      "execution_count": 0,
      "outputs": [
        {
          "output_type": "stream",
          "text": [
            "Test at line 11 ok.\n",
            "Test at line 12 ok.\n"
          ],
          "name": "stdout"
        }
      ]
    },
    {
      "cell_type": "code",
      "metadata": {
        "id": "6JLY5jqHG0cQ",
        "colab_type": "code",
        "outputId": "8b74fa0b-2388-4c9c-f76a-2409c824b38f",
        "colab": {
          "base_uri": "https://localhost:8080/",
          "height": 35
        }
      },
      "source": [
        "# Another example: \n",
        "\n",
        "def seq3np1(n):\n",
        "    \"\"\" Print the 3n+1 sequence from n,\n",
        "        terminating when it reaches 1.\n",
        "    \"\"\"\n",
        "    while n != 1:\n",
        "        print(n, end=\", \")\n",
        "        if n % 2 == 0:        # n is even\n",
        "            n = n // 2\n",
        "        else:                 # n is odd\n",
        "            n = n * 3 + 1\n",
        "    print(n, end=\".\\n\")\n",
        "\n",
        "seq3np1(3)"
      ],
      "execution_count": 0,
      "outputs": [
        {
          "output_type": "stream",
          "text": [
            "3, 10, 5, 16, 8, 4, 2, 1.\n"
          ],
          "name": "stdout"
        }
      ]
    },
    {
      "cell_type": "markdown",
      "metadata": {
        "id": "J1N-8Yc-JkCd",
        "colab_type": "text"
      },
      "source": [
        "3.5 The for loop\n",
        "\n",
        "Using for loop to print tables"
      ]
    },
    {
      "cell_type": "code",
      "metadata": {
        "id": "_y9w9uy2JvzZ",
        "colab_type": "code",
        "outputId": "2c7d45d6-4445-46be-fbd1-55e6d47e1a65",
        "colab": {
          "base_uri": "https://localhost:8080/",
          "height": 243
        }
      },
      "source": [
        "# Example:\n",
        "\n",
        "for x in range(13):   # Generate numbers 0 to 12\n",
        "    print(x, \"\\t\", 2**x)"
      ],
      "execution_count": 0,
      "outputs": [
        {
          "output_type": "stream",
          "text": [
            "0 \t 1\n",
            "1 \t 2\n",
            "2 \t 4\n",
            "3 \t 8\n",
            "4 \t 16\n",
            "5 \t 32\n",
            "6 \t 64\n",
            "7 \t 128\n",
            "8 \t 256\n",
            "9 \t 512\n",
            "10 \t 1024\n",
            "11 \t 2048\n",
            "12 \t 4096\n"
          ],
          "name": "stdout"
        }
      ]
    },
    {
      "cell_type": "code",
      "metadata": {
        "id": "xH9XMe36KvRs",
        "colab_type": "code",
        "outputId": "d86855d6-8a5c-4006-ee49-519754de2db4",
        "colab": {
          "base_uri": "https://localhost:8080/",
          "height": 121
        }
      },
      "source": [
        "# Another example: Two-dimensional tables\n",
        "\n",
        "def print_multiples(n):\n",
        "    for i in range(1, 7):\n",
        "        print(n * i, end=\"   \")\n",
        "    print()\n",
        "\n",
        "for i in range(1, 7):\n",
        "    print_multiples(i)"
      ],
      "execution_count": 0,
      "outputs": [
        {
          "output_type": "stream",
          "text": [
            "1   2   3   4   5   6   \n",
            "2   4   6   8   10   12   \n",
            "3   6   9   12   15   18   \n",
            "4   8   12   16   20   24   \n",
            "5   10   15   20   25   30   \n",
            "6   12   18   24   30   36   \n"
          ],
          "name": "stdout"
        }
      ]
    },
    {
      "cell_type": "markdown",
      "metadata": {
        "id": "gVqOcfYbHNGP",
        "colab_type": "text"
      },
      "source": [
        "# Question: how to choose between **for** and **while**?\n",
        "\n"
      ]
    },
    {
      "cell_type": "markdown",
      "metadata": {
        "id": "Dct9BW0XI0uO",
        "colab_type": "text"
      },
      "source": [
        "Use a for loop if you know, before you start looping, the maximum number of times that you’ll need to execute the body. For example, if you’re traversing a list of elements, you know that the maximum number of loop iterations you can possibly need is “all the elements in the list”. Or if you need to print the 12 times table, we know right away how many times the loop will need to run.\n",
        "\n",
        "So any problem like “iterate this weather model for 1000 cycles”, or “search this list of words”, “find all prime numbers up to 10000” suggest that a for loop is best.\n",
        "\n",
        "By contrast, if you are required to repeat some computation until some condition is met, and you cannot calculate in advance when (of if) this will happen, as we did in this 3n + 1 problem, you’ll need a while loop.\n",
        "\n",
        "We call the first case definite iteration — we know ahead of time some definite bounds for what is needed. The latter case is called indefinite iteration — we’re not sure how many iterations we’ll need — we cannot even establish an upper bound!"
      ]
    },
    {
      "cell_type": "markdown",
      "metadata": {
        "id": "rg5OpT3qJBM3",
        "colab_type": "text"
      },
      "source": [
        "3.6 The break statement\n",
        "\n",
        "The break statement is used to immediately leave the body of its loop. "
      ]
    },
    {
      "cell_type": "code",
      "metadata": {
        "id": "5V8ys_5ZL_06",
        "colab_type": "code",
        "outputId": "75196918-091c-4bd4-d8eb-9fda50364c49",
        "colab": {
          "base_uri": "https://localhost:8080/",
          "height": 69
        }
      },
      "source": [
        "# Example:\n",
        "\n",
        "for i in [12, 16, 17, 24, 29]:\n",
        "    if i % 2 == 1:  # If the number is odd\n",
        "       break        #  ... immediately exit the loop\n",
        "    print(i)\n",
        "print(\"done\")"
      ],
      "execution_count": 0,
      "outputs": [
        {
          "output_type": "stream",
          "text": [
            "12\n",
            "16\n",
            "done\n"
          ],
          "name": "stdout"
        }
      ]
    },
    {
      "cell_type": "markdown",
      "metadata": {
        "id": "UBJsbjOBML7m",
        "colab_type": "text"
      },
      "source": [
        "Workflow:\n",
        "![alt text](http://openbookproject.net/thinkcs/python/english3e/_images/pre_test_loop.png)"
      ]
    },
    {
      "cell_type": "markdown",
      "metadata": {
        "id": "YKGP-G-JMhJV",
        "colab_type": "text"
      },
      "source": [
        "3.7 The continue statement\n",
        "\n",
        "This is a control flow statement that causes the program to immediately skip the processing of the rest of the body of the loop, for the current iteration. But the loop still carries on running for its remaining iterations:"
      ]
    },
    {
      "cell_type": "code",
      "metadata": {
        "id": "kHMxxakxMsUK",
        "colab_type": "code",
        "outputId": "a8b98d6a-6bb3-4c9e-c989-56beba61bdb1",
        "colab": {
          "base_uri": "https://localhost:8080/",
          "height": 104
        }
      },
      "source": [
        "# Example:\n",
        "\n",
        "for i in [12, 16, 17, 24, 29, 30]:\n",
        "    if i % 2 == 1:      # If the number is odd\n",
        "       continue         # Don't process it\n",
        "    print(i)\n",
        "print(\"done\")"
      ],
      "execution_count": 0,
      "outputs": [
        {
          "output_type": "stream",
          "text": [
            "12\n",
            "16\n",
            "24\n",
            "30\n",
            "done\n"
          ],
          "name": "stdout"
        }
      ]
    },
    {
      "cell_type": "markdown",
      "metadata": {
        "id": "guROAy5dNAZq",
        "colab_type": "text"
      },
      "source": [
        "# Question: What's the difference between \"break\" and \"continue\" in Python?"
      ]
    },
    {
      "cell_type": "markdown",
      "metadata": {
        "id": "YDttppDGNEaq",
        "colab_type": "text"
      },
      "source": [
        "(1) The function of break and continue\n",
        "\n",
        "Break: Jumps out of the closest enclosing loop (past the entire loop statement)\n",
        "\n",
        "Continue: Jumps to the top of the closest enclosing loop (to the loop’s header line)\n",
        "\n",
        "(2) More details:\n",
        "\n",
        "Break statement: The break statement terminates the loop containing it. Control of the program flows to the statement immediately after the body of the loop. If it is inside a nested loop (loop inside another loop), break will terminate the innermost loop.\n",
        "\n",
        "![alt text](https://qph.fs.quoracdn.net/main-qimg-259c5b7282a03acf01b325fe39083025.webp)\n",
        "\n",
        "![alt text](https://qph.fs.quoracdn.net/main-qimg-df21341d4069d486c31823a02f56b630.webp)\n",
        "\n",
        "Continue statement: The continue statement is used to skip the rest of the code inside a loop for the current iteration only. Loop does not terminate but continues on with the next iteration.\n",
        "\n",
        "![alt text](https://qph.fs.quoracdn.net/main-qimg-9ca8de4dac14bf9dff338c08bf9b5e25.webp)\n",
        "\n",
        "![alt text](https://qph.fs.quoracdn.net/main-qimg-fe4d9328990ba4c2ba8f7a36a995580b.webp)\n",
        "\n"
      ]
    },
    {
      "cell_type": "markdown",
      "metadata": {
        "id": "Q_wwy5KIOrPc",
        "colab_type": "text"
      },
      "source": [
        "3.8 Nested Loops for Nested Data\n",
        "\n",
        "More complex structure data"
      ]
    },
    {
      "cell_type": "code",
      "metadata": {
        "id": "5FYIo1M8PVEP",
        "colab_type": "code",
        "outputId": "50fe71ef-b996-4c95-fc1c-e53850b1d26c",
        "colab": {
          "base_uri": "https://localhost:8080/",
          "height": 139
        }
      },
      "source": [
        "students = [\n",
        "    (\"John\", [\"CompSci\", \"Physics\"]),\n",
        "    (\"Vusi\", [\"Maths\", \"CompSci\", \"Stats\"]),\n",
        "    (\"Jess\", [\"CompSci\", \"Accounting\", \"Economics\", \"Management\"]),\n",
        "    (\"Sarah\", [\"InfSys\", \"Accounting\", \"Economics\", \"CommLaw\"]),\n",
        "    (\"Zuki\", [\"Sociology\", \"Economics\", \"Law\", \"Stats\", \"Music\"])]\n",
        "\n",
        "# Print all students with a count of their courses.\n",
        "for (name, subjects) in students:\n",
        "    print(name, \"takes\", len(subjects), \"courses\")\n",
        "\n",
        "print(\"________________________________________________________\")\n",
        "    \n",
        "# Count how many students are taking CompSci\n",
        "counter = 0\n",
        "for (name, subjects) in students:\n",
        "    for s in subjects:                 # A nested loop!\n",
        "        if s == \"CompSci\":\n",
        "           counter += 1\n",
        "\n",
        "print(\"The number of students taking CompSci is\", counter)"
      ],
      "execution_count": 0,
      "outputs": [
        {
          "output_type": "stream",
          "text": [
            "John takes 2 courses\n",
            "Vusi takes 3 courses\n",
            "Jess takes 4 courses\n",
            "Sarah takes 4 courses\n",
            "Zuki takes 5 courses\n",
            "________________________________________________________\n",
            "The number of students taking CompSci is 3\n"
          ],
          "name": "stdout"
        }
      ]
    },
    {
      "cell_type": "markdown",
      "metadata": {
        "id": "8nOguvWRQNaz",
        "colab_type": "text"
      },
      "source": [
        "3.9 Newton’s method for finding square roots\n",
        "\n",
        "**Loops are often used in programs that compute numerical results by starting with an approximate answer and iteratively improving it.**\n",
        "\n",
        "For example, before we had calculators or computers, people needed to calculate square roots manually. Newton used a particularly good method (there is some evidence that this method was known many years before). Suppose that you want to know the square root of n. If you start with almost any approximation, you can compute a better approximation (closer to the actual answer) with the following formula:\n",
        "\n",
        "`better = (approx + n/approx)/2`\n",
        "\n",
        "Repeat this calculation a few times using your calculator. Can you see why each iteration brings your estimate a little closer? One of the amazing properties of this particular algorithm is how quickly it converges to an accurate answer — a great advantage for doing it manually.\n",
        "\n",
        "By using a loop and repeating this formula until the better approximation gets close enough to the previous one, we can write a function for computing the square root. (In fact, this is how your calculator finds square roots — it may have a slightly different formula and method, but it is also based on repeatedly improving its guesses.)\n",
        "\n",
        "This is an example of an indefinite iteration problem: we cannot predict in advance how many times we’ll want to improve our guess — we just want to keep getting closer and closer. Our stopping condition for the loop will be when our old guess and our improved guess are “close enough” to each other.\n",
        "\n",
        "Ideally, we’d like the old and new guess to be exactly equal to each other when we stop. But exact equality is a tricky notion in computer arithmetic when real numbers are involved. Because real numbers are not represented absolutely accurately (after all, a number like pi or the square root of two has an infinite number of decimal places because it is irrational), we need to formulate the stopping test for the loop by asking “is a close enough to b”? This stopping condition can be coded like this:\n",
        "\n",
        "\n",
        "\n",
        "```\n",
        "# Make this smaller for better accuracy\n",
        "if abs(a-b) < 0.001:  \n",
        "  break\n",
        "```\n",
        "\n"
      ]
    },
    {
      "cell_type": "code",
      "metadata": {
        "id": "lvxJ5rQdRbBb",
        "colab_type": "code",
        "outputId": "fa41d071-d9b6-4c8d-b78d-4ed05702a6ba",
        "colab": {
          "base_uri": "https://localhost:8080/",
          "height": 69
        }
      },
      "source": [
        "def sqrt(n):\n",
        "    approx = n/2.0     # Start with some or other guess at the answer\n",
        "    while True:\n",
        "        better = (approx + n/approx)/2.0\n",
        "        if abs(approx - better) < 0.001:\n",
        "            return better\n",
        "        approx = better\n",
        "\n",
        "# Test cases\n",
        "print(sqrt(25.0))\n",
        "print(sqrt(49.0))\n",
        "print(sqrt(81.0))"
      ],
      "execution_count": 0,
      "outputs": [
        {
          "output_type": "stream",
          "text": [
            "5.000000000016778\n",
            "7.0\n",
            "9.000000000004924\n"
          ],
          "name": "stdout"
        }
      ]
    },
    {
      "cell_type": "markdown",
      "metadata": {
        "id": "VQ_sw1r8RnFO",
        "colab_type": "text"
      },
      "source": [
        "See if you can improve the approximations by changing the stopping condition. Also, step through the algorithm (perhaps by hand, using your calculator) to see how many iterations were needed before it achieved this level of accuracy for sqrt(25).\n"
      ]
    },
    {
      "cell_type": "markdown",
      "metadata": {
        "id": "ra_TSNUkRp6k",
        "colab_type": "text"
      },
      "source": [
        "3.10 Algorithms\n",
        "\n",
        "**Newton’s method** is an example of an algorithm: it is a mechanical process for solving a category of problems (in this case, computing square roots).\n",
        "\n",
        "Some kinds of knowledge are not algorithmic. For example, learning dates from history or your multiplication tables involves memorization of specific solutions.\n",
        "\n",
        "But the techniques you learned for addition with carrying, subtraction with borrowing, and long division are all algorithms.\n",
        "\n",
        "One of the characteristics of algorithms is that they do not require any intelligence to carry out.\n",
        "\n",
        "Hard problems can be solved by step-by-step algorithmic processes is one of the major breakthroughs that has had enormous benefits."
      ]
    },
    {
      "cell_type": "markdown",
      "metadata": {
        "id": "cnh5CQTkXfyP",
        "colab_type": "text"
      },
      "source": [
        "# Exercises"
      ]
    },
    {
      "cell_type": "markdown",
      "metadata": {
        "id": "e1VTcknhXmmg",
        "colab_type": "text"
      },
      "source": [
        "**Exercise 5.1.** The time module provides a function, also named time, that returns the current\n",
        "Greenwich Mean Time in “the epoch”, which is an arbitrary time used as a reference point. On\n",
        "UNIX systems, the epoch is 1 January 1970.\n",
        "\n",
        "\n",
        "\n",
        "```\n",
        "import time\n",
        "time.time()\n",
        "```\n",
        "\n",
        "Write a script that reads the current time and converts it to a time of day in hours, minutes, and\n",
        "seconds, plus the number of days since the epoch.\n",
        "\n"
      ]
    },
    {
      "cell_type": "code",
      "metadata": {
        "id": "9hzu5fVm0zpW",
        "colab_type": "code",
        "colab": {
          "base_uri": "https://localhost:8080/",
          "height": 87
        },
        "outputId": "7d1cf8e7-3455-4b12-a2ac-9e76a91ac23b"
      },
      "source": [
        "import time\n",
        "# time.time() return the time in seconds since the epoch as a floating point number\n",
        "\n",
        "def chour(t):\n",
        "\thour = t / 3600\n",
        "\tprint(\"The number of hours has passed since epoch is %f\" % hour)\n",
        "\n",
        "def cminute(t):\n",
        "\tminute = t / 60\n",
        "\tprint(\"The number of minutes has passed since epoch is %f\" % minute)\n",
        "\t\n",
        "def cseconds(t):\n",
        "\tseconds = t\n",
        "\tprint(\"The number of seconds has passed since epoch is %f\" % seconds)\n",
        "\t\n",
        "def num_day():\n",
        "\tsec = time.time()\n",
        "\tnum_day = sec / (60*60*24)\n",
        "\tprint(\"The number of days has passed since epoch is %f\" % num_day)\n",
        "\n",
        "num_day()\n",
        "chour(time.time())\n",
        "cminute(time.time())\n",
        "cseconds(time.time())"
      ],
      "execution_count": 49,
      "outputs": [
        {
          "output_type": "stream",
          "text": [
            "The number of days has passed since epoch is 18148.680683\n",
            "The number of hours has passed since epoch is 435568.336394\n",
            "The number of minutes has passed since epoch is 26134100.183643\n",
            "The number of seconds has passed since epoch is 1568046011.018676\n"
          ],
          "name": "stdout"
        }
      ]
    },
    {
      "cell_type": "markdown",
      "metadata": {
        "id": "Wb4zgg8NZ9UA",
        "colab_type": "text"
      },
      "source": [
        "**Exercise 5.2.** Fermat’s Last Theorem says that there are no positive integers a, b, and c such that\n",
        "\n",
        ">$a^n+b^n=c^n$\n",
        "\n",
        "\n",
        "for any values of n greater than 2.\n",
        "\n",
        "1. Write a function named check_fermat that takes four parameters—a, b, c and n—and checks to see if Fermat’s theorem holds. If n is greater than 2 and\n",
        "\n",
        ">$a^n+b^n=c^n$\n",
        "\n",
        "the program should print, “Holy smokes, Fermat was wrong!” Otherwise the program should\n",
        "print, “No, that doesn’t work.”\n",
        "\n",
        "2. Write a function that prompts the user to input values for a, b, c and n, converts them to integers, and uses check_fermat to check whether they violate Fermat’s theorem."
      ]
    },
    {
      "cell_type": "code",
      "metadata": {
        "id": "3D05bXIsbLVR",
        "colab_type": "code",
        "colab": {
          "base_uri": "https://localhost:8080/",
          "height": 173
        },
        "outputId": "01dee5b7-2c42-4643-f1ab-eb543dae7a80"
      },
      "source": [
        "import sys\n",
        "import os\n",
        "import math\n",
        "\n",
        "\n",
        "def check_fermat(a, b, c, n):\n",
        "    '''This function does the actual checking of Fermat's last theorem.\n",
        "    There should be no such integers such that\n",
        "    a^n + b^n = c^n\n",
        "    for n values greater than 2.\n",
        "    '''\n",
        "    left_side = pow(a, n) + pow(b, n)\n",
        "    right_side = pow(c, n)\n",
        "    if (n > 2) and (left_side == right_side):\n",
        "        print (\"Holy Smokes, Fermat was wrong!\")\n",
        "    else:\n",
        "        print (\"No, that doesn't work.\")\n",
        "\n",
        "\n",
        "def prompt_user():\n",
        "    '''Prompt the user to input the required values\n",
        "    for Fermat's last theorem\n",
        "    Use a for loop to avoid repeated prompts\n",
        "    '''\n",
        "    parameters = []\n",
        "    # create general prompt\n",
        "    prompt = \"Please enter \"\n",
        "    for value in ['a', 'b', 'c', 'n']:\n",
        "        new_prompt = prompt + value + '\\n'  # modify prompt for value in loop\n",
        "        my_input = input(new_prompt)  # get input\n",
        "        float_input = float(my_input)  # convert the entered value to float\n",
        "        parameters.append(float_input)\n",
        "    # call check_fermat function\n",
        "    a,b,c,n = parameters[0],parameters[1],parameters[2],parameters[3]\n",
        "    check_fermat(a, b, c, n)\n",
        "\n",
        "\n",
        "def main():\n",
        "    prompt_user()\n",
        "\n",
        "\n",
        "if __name__ == '__main__':\n",
        "    main()"
      ],
      "execution_count": 32,
      "outputs": [
        {
          "output_type": "stream",
          "text": [
            "Please enter a\n",
            "2\n",
            "Please enter b\n",
            "3\n",
            "Please enter c\n",
            "4\n",
            "Please enter n\n",
            "2\n",
            "No, that doesn't work.\n"
          ],
          "name": "stdout"
        }
      ]
    },
    {
      "cell_type": "markdown",
      "metadata": {
        "id": "PiAJiFrSnVBD",
        "colab_type": "text"
      },
      "source": [
        "**Exercise 5.3.** If you are given three sticks, you may or may not be able to arrange them in a triangle.\n",
        "For example, if one of the sticks is 12 inches long and the other two are one inch long, you will not\n",
        "be able to get the short sticks to meet in the middle. For any three lengths, there is a simple test to\n",
        "see if it is possible to form a triangle:\n",
        "\n",
        "\n",
        "If any of the three lengths is greater than the sum of the other two, then you cannot form a triangle. Otherwise, you can. (If the sum of two lengths equals the third, they form what is called a “degenerate” triangle.)\n",
        "\n",
        "\n",
        "1. Write a function named is_triangle that takes three integers as arguments, and that prints either “Yes” or “No”, depending on whether you can or cannot form a triangle from sticks with the given lengths.\n",
        "\n",
        "2. Write a function that prompts the user to input three stick lengths, converts them to integers,\n",
        "and uses is_triangle to check whether sticks with the given lengths can form a triangle."
      ]
    },
    {
      "cell_type": "code",
      "metadata": {
        "id": "sZudt8ughxDb",
        "colab_type": "code",
        "colab": {
          "base_uri": "https://localhost:8080/",
          "height": 104
        },
        "outputId": "3c88d18d-ac12-44fa-89d8-b2d58e92fcd3"
      },
      "source": [
        "import sys\n",
        "import os\n",
        "\n",
        "def is_triangle(a,b,c):\n",
        "    if (a + b > c) and (a + c > b) and (b + c > a):\n",
        "        print (\"Yes\")\n",
        "    else:\n",
        "        print (\"No\")\n",
        "\n",
        "def prompt_user():\n",
        "    parameter_sides = []\n",
        "    prompt = \"Please enter side \"\n",
        "    for value in ['a', 'b', 'c']:\n",
        "        new_prompt = prompt + value +': ' # modify prompt for value in loop\n",
        "        my_input = input(new_prompt)   # get input\n",
        "        float_input = float(my_input)      # convert the entered value to float\n",
        "        parameter_sides.append(float_input)\n",
        "    print(parameter_sides)\n",
        "    x,y,z = int(parameter_sides[0]),int(parameter_sides[1]),int(parameter_sides[2])\n",
        "    is_triangle(x,y,z)\n",
        "\n",
        "def results():\n",
        "#     is_triangle(5,3,4)\n",
        "    # is_triangle(5,3,12)\n",
        "    prompt_user()\n",
        "\n",
        "if __name__ == '__main__':\n",
        "    results()"
      ],
      "execution_count": 28,
      "outputs": [
        {
          "output_type": "stream",
          "text": [
            "Please enter side a: 6\n",
            "Please enter side b: 7\n",
            "Please enter side c: 8\n",
            "[6.0, 7.0, 8.0]\n",
            "Yes\n"
          ],
          "name": "stdout"
        }
      ]
    },
    {
      "cell_type": "markdown",
      "metadata": {
        "id": "2OG_2DeAnxqD",
        "colab_type": "text"
      },
      "source": [
        "**Exercise 5.4.** What is the output of the following program? Draw a stack diagram that shows the\n",
        "state of the program when it prints the result.\n",
        "\n",
        "\n",
        "\n",
        "```\n",
        "def recurse(n, s):\n",
        "  if n == 0:\n",
        "     print(s)\n",
        "  else:\n",
        "    recurse(n-1, n+s)\n",
        "recurse(3, 0)\n",
        "```\n",
        "\n",
        "\n",
        "1. What would happen if you called this function like this: recurse(-1, 0)?\n",
        "\n",
        "2. Write a docstring that explains everything someone would need to know in order to use this\n",
        "function (and nothing else)."
      ]
    },
    {
      "cell_type": "code",
      "metadata": {
        "id": "T0nAhkWFosSG",
        "colab_type": "code",
        "colab": {
          "base_uri": "https://localhost:8080/",
          "height": 211
        },
        "outputId": "3478e988-f83a-46f6-9429-2404f1b8b313"
      },
      "source": [
        "pip install swampy"
      ],
      "execution_count": 34,
      "outputs": [
        {
          "output_type": "stream",
          "text": [
            "Collecting swampy\n",
            "\u001b[?25l  Downloading https://files.pythonhosted.org/packages/be/24/f86d800c1b38747b8451ac73eaf317d8aa2a70b94708e8140ee288b5e170/swampy-3.0.1.tar.gz (802kB)\n",
            "\u001b[K     |████████████████████████████████| 808kB 4.9MB/s \n",
            "\u001b[?25hBuilding wheels for collected packages: swampy\n",
            "  Building wheel for swampy (setup.py) ... \u001b[?25l\u001b[?25hdone\n",
            "  Created wheel for swampy: filename=swampy-3.0.1-cp36-none-any.whl size=343864 sha256=6483ebd658d41ffb93c6e81d21a59fd891e7b75b6eb625207e1045f3d5e5e351\n",
            "  Stored in directory: /root/.cache/pip/wheels/4d/57/4c/8349247b6372b9217a7be43d9399ca5f8968378e24210d1059\n",
            "Successfully built swampy\n",
            "Installing collected packages: swampy\n",
            "Successfully installed swampy-3.0.1\n"
          ],
          "name": "stdout"
        }
      ]
    },
    {
      "cell_type": "code",
      "metadata": {
        "id": "I7z9_NBDonR1",
        "colab_type": "code",
        "colab": {
          "base_uri": "https://localhost:8080/",
          "height": 35
        },
        "outputId": "c32ab791-1525-4a2b-8347-35a5f89f8372"
      },
      "source": [
        "def recurse(n, s):\n",
        "  if n == 0:\n",
        "     print(s)\n",
        "  else:\n",
        "    recurse(n-1, n+s)\n",
        "recurse(3, 0)"
      ],
      "execution_count": 36,
      "outputs": [
        {
          "output_type": "stream",
          "text": [
            "6\n"
          ],
          "name": "stdout"
        }
      ]
    },
    {
      "cell_type": "code",
      "metadata": {
        "id": "vPBdinU_pgIe",
        "colab_type": "code",
        "colab": {
          "base_uri": "https://localhost:8080/",
          "height": 398
        },
        "outputId": "63818bec-c48a-4895-d7cf-e14c555fac0b"
      },
      "source": [
        "recurse(-1, 0) #Runtime error: maxmimum recursion depth exceeded\n",
        "\n",
        "'''\n",
        "input n (n>0) since n need to approach 0\n",
        "'''"
      ],
      "execution_count": 38,
      "outputs": [
        {
          "output_type": "error",
          "ename": "RecursionError",
          "evalue": "ignored",
          "traceback": [
            "\u001b[0;31m---------------------------------------------------------------------------\u001b[0m",
            "\u001b[0;31mRecursionError\u001b[0m                            Traceback (most recent call last)",
            "\u001b[0;32m<ipython-input-38-bba6f9146da6>\u001b[0m in \u001b[0;36m<module>\u001b[0;34m()\u001b[0m\n\u001b[0;32m----> 1\u001b[0;31m \u001b[0mrecurse\u001b[0m\u001b[0;34m(\u001b[0m\u001b[0;34m-\u001b[0m\u001b[0;36m1\u001b[0m\u001b[0;34m,\u001b[0m \u001b[0;36m0\u001b[0m\u001b[0;34m)\u001b[0m \u001b[0;31m#Runtime error: maxmimum recursion depth exceeded\u001b[0m\u001b[0;34m\u001b[0m\u001b[0;34m\u001b[0m\u001b[0m\n\u001b[0m\u001b[1;32m      2\u001b[0m \u001b[0;34m\u001b[0m\u001b[0m\n\u001b[1;32m      3\u001b[0m '''\n\u001b[1;32m      4\u001b[0m \u001b[0minput\u001b[0m \u001b[0mn\u001b[0m \u001b[0;34m(\u001b[0m\u001b[0mn\u001b[0m\u001b[0;34m>\u001b[0m\u001b[0;36m0\u001b[0m\u001b[0;34m)\u001b[0m \u001b[0msince\u001b[0m \u001b[0mn\u001b[0m \u001b[0mneed\u001b[0m \u001b[0mto\u001b[0m \u001b[0mapproach\u001b[0m \u001b[0;36m0\u001b[0m\u001b[0;34m\u001b[0m\u001b[0;34m\u001b[0m\u001b[0m\n\u001b[1;32m      5\u001b[0m '''\n",
            "\u001b[0;32m<ipython-input-36-c6ba53da41ab>\u001b[0m in \u001b[0;36mrecurse\u001b[0;34m(n, s)\u001b[0m\n\u001b[1;32m      3\u001b[0m      \u001b[0mprint\u001b[0m\u001b[0;34m(\u001b[0m\u001b[0ms\u001b[0m\u001b[0;34m)\u001b[0m\u001b[0;34m\u001b[0m\u001b[0;34m\u001b[0m\u001b[0m\n\u001b[1;32m      4\u001b[0m   \u001b[0;32melse\u001b[0m\u001b[0;34m:\u001b[0m\u001b[0;34m\u001b[0m\u001b[0;34m\u001b[0m\u001b[0m\n\u001b[0;32m----> 5\u001b[0;31m     \u001b[0mrecurse\u001b[0m\u001b[0;34m(\u001b[0m\u001b[0mn\u001b[0m\u001b[0;34m-\u001b[0m\u001b[0;36m1\u001b[0m\u001b[0;34m,\u001b[0m \u001b[0mn\u001b[0m\u001b[0;34m+\u001b[0m\u001b[0ms\u001b[0m\u001b[0;34m)\u001b[0m\u001b[0;34m\u001b[0m\u001b[0;34m\u001b[0m\u001b[0m\n\u001b[0m\u001b[1;32m      6\u001b[0m \u001b[0mrecurse\u001b[0m\u001b[0;34m(\u001b[0m\u001b[0;36m3\u001b[0m\u001b[0;34m,\u001b[0m \u001b[0;36m0\u001b[0m\u001b[0;34m)\u001b[0m\u001b[0;34m\u001b[0m\u001b[0;34m\u001b[0m\u001b[0m\n",
            "... last 1 frames repeated, from the frame below ...\n",
            "\u001b[0;32m<ipython-input-36-c6ba53da41ab>\u001b[0m in \u001b[0;36mrecurse\u001b[0;34m(n, s)\u001b[0m\n\u001b[1;32m      3\u001b[0m      \u001b[0mprint\u001b[0m\u001b[0;34m(\u001b[0m\u001b[0ms\u001b[0m\u001b[0;34m)\u001b[0m\u001b[0;34m\u001b[0m\u001b[0;34m\u001b[0m\u001b[0m\n\u001b[1;32m      4\u001b[0m   \u001b[0;32melse\u001b[0m\u001b[0;34m:\u001b[0m\u001b[0;34m\u001b[0m\u001b[0;34m\u001b[0m\u001b[0m\n\u001b[0;32m----> 5\u001b[0;31m     \u001b[0mrecurse\u001b[0m\u001b[0;34m(\u001b[0m\u001b[0mn\u001b[0m\u001b[0;34m-\u001b[0m\u001b[0;36m1\u001b[0m\u001b[0;34m,\u001b[0m \u001b[0mn\u001b[0m\u001b[0;34m+\u001b[0m\u001b[0ms\u001b[0m\u001b[0;34m)\u001b[0m\u001b[0;34m\u001b[0m\u001b[0;34m\u001b[0m\u001b[0m\n\u001b[0m\u001b[1;32m      6\u001b[0m \u001b[0mrecurse\u001b[0m\u001b[0;34m(\u001b[0m\u001b[0;36m3\u001b[0m\u001b[0;34m,\u001b[0m \u001b[0;36m0\u001b[0m\u001b[0;34m)\u001b[0m\u001b[0;34m\u001b[0m\u001b[0;34m\u001b[0m\u001b[0m\n",
            "\u001b[0;31mRecursionError\u001b[0m: maximum recursion depth exceeded in comparison"
          ]
        }
      ]
    },
    {
      "cell_type": "markdown",
      "metadata": {
        "id": "l-UjHYDcqBZP",
        "colab_type": "text"
      },
      "source": [
        "**Exercise 5.5.** Read the following function and see if you can figure out what it does (see the examples in Chapter 4). Then run it and see if you got it right.\n",
        "\n"
      ]
    },
    {
      "cell_type": "code",
      "metadata": {
        "id": "0dwYw9LEtN9Z",
        "colab_type": "code",
        "colab": {}
      },
      "source": [
        "def draw(t, length, n):\n",
        "\tif n == 0:\n",
        "\t\treturn\n",
        "\tangle = 50 # initialize angle\n",
        "\tt.fd(length * n)\n",
        "\tt.lt(angle)\n",
        "\tdraw(t, length, n-1)  #recursive call\n",
        "\tt.rt(2*angle)\n",
        "\tdraw(t, length, n-1)\n",
        "\tt.lt(angle)\n",
        "\tt.bk(length*n)\n",
        "\n",
        "from swampy.TurtleWorld import *\n",
        "import math\n",
        "\n",
        "if __name__ == '__main__':\n",
        "\tworld = TurtleWorld()    \n",
        "\tbob = Turtle()\n",
        "\tbob.delay = 0.001\n",
        "\tdraw(bob, 3, 30)\n",
        "\twait_for_user()\n",
        "  \n",
        "  # no display name and no $DISPLAY environment variable"
      ],
      "execution_count": 0,
      "outputs": []
    },
    {
      "cell_type": "markdown",
      "metadata": {
        "id": "13IZA3Nhx-Ml",
        "colab_type": "text"
      },
      "source": [
        "Google colab do not have GUI, so\n",
        "\n",
        "**This code will be showed on my labtop.**"
      ]
    }
  ]
}