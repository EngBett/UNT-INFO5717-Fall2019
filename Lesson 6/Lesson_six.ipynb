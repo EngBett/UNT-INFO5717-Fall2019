{
  "nbformat": 4,
  "nbformat_minor": 0,
  "metadata": {
    "colab": {
      "name": "Lesson_six.ipynb",
      "provenance": [],
      "toc_visible": true,
      "include_colab_link": true
    },
    "kernelspec": {
      "name": "python3",
      "display_name": "Python 3"
    }
  },
  "cells": [
    {
      "cell_type": "markdown",
      "metadata": {
        "id": "view-in-github",
        "colab_type": "text"
      },
      "source": [
        "<a href=\"https://colab.research.google.com/github/unt-iialab/UNT-INFO5717-Fall2019/blob/master/Lesson%206/Lesson_six.ipynb\" target=\"_parent\"><img src=\"https://colab.research.google.com/assets/colab-badge.svg\" alt=\"Open In Colab\"/></a>"
      ]
    },
    {
      "cell_type": "markdown",
      "metadata": {
        "id": "olyBK5-1vXwg",
        "colab_type": "text"
      },
      "source": [
        "# Lesson Six: Classes and Objects"
      ]
    },
    {
      "cell_type": "markdown",
      "metadata": {
        "id": "xJtBrNYt502G",
        "colab_type": "text"
      },
      "source": [
        "http://www.greenteapress.com/thinkpython/html/thinkpython019.html\n",
        "\n",
        "15, 16, 17, and 18"
      ]
    },
    {
      "cell_type": "markdown",
      "metadata": {
        "id": "vRvYrWS0vuKW",
        "colab_type": "text"
      },
      "source": [
        "# Python Object Oriented Programming (OOP)\n"
      ]
    },
    {
      "cell_type": "markdown",
      "metadata": {
        "id": "Z3DFfLzMv8Jq",
        "colab_type": "text"
      },
      "source": [
        "Python is a multi-paradigm programming language. Meaning, it supports different programming approach.\n",
        "\n",
        "One of the popular approach to solve a programming problem is by creating objects. This is known as Object-Oriented Programming (OOP).\n",
        "\n",
        "An object has two characteristics:\n",
        "\n",
        "*   attributes\n",
        "*   behavior\n",
        "\n",
        "**Let's take an example:**\n",
        "\n",
        "Parrot is an object,\n",
        "\n",
        "*   name, age, color are attributes\n",
        "*   singing, dancing are behavior\n",
        "\n",
        "\n",
        "\n",
        "\n",
        "\n"
      ]
    },
    {
      "cell_type": "markdown",
      "metadata": {
        "id": "83_NiTmqyjGX",
        "colab_type": "text"
      },
      "source": [
        "The concept of OOP in Python focuses on creating reusable code. This concept is also known as DRY (Don't Repeat Yourself).\n",
        "\n",
        "In Python, the concept of OOP follows some basic principles:\n",
        "\n",
        "| Principles   |      Description      |\n",
        "|----------|:-------------:|\n",
        "| Inheritance |  A process of using details from a new class without modifying existing class. | \n",
        "| Encapsulation |    Hiding the private details of a class from other objects. |\n",
        "| Polymorphism | A concept of using common operation in different ways for different data input. |  \n",
        "\n"
      ]
    },
    {
      "cell_type": "markdown",
      "metadata": {
        "id": "XJKoIupF2ZW3",
        "colab_type": "text"
      },
      "source": [
        "# What are classes and objects in Python?"
      ]
    },
    {
      "cell_type": "markdown",
      "metadata": {
        "id": "JThGbmGd2bws",
        "colab_type": "text"
      },
      "source": [
        "As mentioned above, Python is an object oriented programming language. Unlike procedure oriented programming, where the main emphasis is on functions, object oriented programming stress on objects.\n",
        "\n",
        "Object is simply a collection of data (variables) and methods (functions) that act on those data. And, class is a blueprint for the object.\n",
        "\n",
        "We can think of **class as a sketch (prototype) of a house**. It contains all the details about the floors, doors, windows etc. Based on these descriptions we build the house. House is the object.\n",
        "\n",
        "As, many houses can be made from a description, **we can create many objects from a class**. An object is also called an instance of a class and the process of creating this object is called instantiation."
      ]
    },
    {
      "cell_type": "markdown",
      "metadata": {
        "id": "yNQpNY971oAs",
        "colab_type": "text"
      },
      "source": [
        "**Example 1: Creating Class and Object in Python**\n"
      ]
    },
    {
      "cell_type": "code",
      "metadata": {
        "id": "bGNpYUAJ1s5F",
        "colab_type": "code",
        "colab": {
          "base_uri": "https://localhost:8080/",
          "height": 87
        },
        "outputId": "438f2f47-a580-426a-f86e-96a8a50d9273"
      },
      "source": [
        "class Parrot:\n",
        "\n",
        "    # class attribute\n",
        "    species = \"bird\"\n",
        "\n",
        "    # instance attribute\n",
        "    def __init__(self, name, age):\n",
        "        self.name = name\n",
        "        self.age = age\n",
        "\n",
        "# instantiate the Parrot class\n",
        "blu = Parrot(\"Blu\", 10)\n",
        "woo = Parrot(\"Woo\", 15)\n",
        "\n",
        "# access the class attributes\n",
        "print(\"Blu is a {}\".format(blu.__class__.species))\n",
        "print(\"Woo is also a {}\".format(woo.__class__.species))\n",
        "\n",
        "# access the instance attributes\n",
        "print(\"{} is {} years old\".format( blu.name, blu.age))\n",
        "print(\"{} is {} years old\".format( woo.name, woo.age))"
      ],
      "execution_count": 3,
      "outputs": [
        {
          "output_type": "stream",
          "text": [
            "Blu is a bird\n",
            "Woo is also a bird\n",
            "Blu is 10 years old\n",
            "Woo is 15 years old\n"
          ],
          "name": "stdout"
        }
      ]
    },
    {
      "cell_type": "markdown",
      "metadata": {
        "id": "xMvYwPT80VSw",
        "colab_type": "text"
      },
      "source": [
        "# Defining a Class in Python"
      ]
    },
    {
      "cell_type": "markdown",
      "metadata": {
        "id": "QqOYgPxp0WmW",
        "colab_type": "text"
      },
      "source": [
        "Like function definitions begin with the keyword **def**, in Python, we define a class using the keyword **class**.\n",
        "\n",
        "The first string is called docstring and has a brief description about the class. Although not mandatory, this is recommended.\n",
        "\n",
        "Here is a simple class definition.\n"
      ]
    },
    {
      "cell_type": "code",
      "metadata": {
        "id": "mHJZJKi-03o6",
        "colab_type": "code",
        "colab": {}
      },
      "source": [
        "class MyNewClass:\n",
        "    '''This is a docstring. I have created a new class'''\n",
        "    pass"
      ],
      "execution_count": 0,
      "outputs": []
    },
    {
      "cell_type": "markdown",
      "metadata": {
        "id": "pzh5rs9707XN",
        "colab_type": "text"
      },
      "source": [
        "A class creates a new local namespace where all its attributes are defined. Attributes may be data or functions.\n",
        "\n",
        "There are also special attributes in it that begins with double underscores (__). For example, __doc__ gives us the docstring of that class.\n",
        "\n",
        "As soon as we define a class, a new class object is created with the same name. This class object allows us to access the different attributes as well as to instantiate new objects of that class.\n",
        "\n"
      ]
    },
    {
      "cell_type": "markdown",
      "metadata": {
        "id": "yb9DQCZj36P8",
        "colab_type": "text"
      },
      "source": [
        "**Example 2: Creating Class in Python**"
      ]
    },
    {
      "cell_type": "code",
      "metadata": {
        "id": "4WAaxA0130wK",
        "colab_type": "code",
        "colab": {
          "base_uri": "https://localhost:8080/",
          "height": 69
        },
        "outputId": "eb930466-6caa-42a4-8941-44c85ad8cf72"
      },
      "source": [
        "class MyClass:\n",
        "\t\"This is my second class\"\n",
        "\ta = 10\n",
        "\tdef func(self):\n",
        "\t\tprint('Hello')\n",
        "\n",
        "# Output: 10\n",
        "print(MyClass.a)\n",
        "\n",
        "# Output: <function MyClass.func at 0x0000000003079BF8>\n",
        "print(MyClass.func)\n",
        "\n",
        "# Output: 'This is my second class'\n",
        "print(MyClass.__doc__)"
      ],
      "execution_count": 5,
      "outputs": [
        {
          "output_type": "stream",
          "text": [
            "10\n",
            "<function MyClass.func at 0x7fbfef212f28>\n",
            "This is my second class\n"
          ],
          "name": "stdout"
        }
      ]
    },
    {
      "cell_type": "markdown",
      "metadata": {
        "id": "OXynZkwO1BdM",
        "colab_type": "text"
      },
      "source": [
        "# Creating an Object in Python"
      ]
    },
    {
      "cell_type": "markdown",
      "metadata": {
        "id": "jZn6XldW1Dbn",
        "colab_type": "text"
      },
      "source": [
        "We saw that the class object could be used to access different attributes.\n",
        "\n",
        "It can also be used to create new object instances (instantiation) of that class. The procedure to create an object is similar to a *function* call.\n"
      ]
    },
    {
      "cell_type": "code",
      "metadata": {
        "id": "ZebM3JTx1b03",
        "colab_type": "code",
        "colab": {}
      },
      "source": [
        "ob = MyClass()"
      ],
      "execution_count": 0,
      "outputs": []
    },
    {
      "cell_type": "markdown",
      "metadata": {
        "id": "Dj_imj441fFZ",
        "colab_type": "text"
      },
      "source": [
        "This will create a new instance object named *ob*. We can access attributes of objects using the object name prefix.\n",
        "\n",
        "Attributes may be data or method. Method of an object are corresponding functions of that class. Any function object that is a class attribute defines a method for objects of that class.\n",
        "\n",
        "This means to say, since *MyClass.func* is a function object (attribute of class), *ob.func* will be a method object.\n",
        "\n"
      ]
    },
    {
      "cell_type": "markdown",
      "metadata": {
        "id": "0yN8meEa1jxX",
        "colab_type": "text"
      },
      "source": [
        "**Example 3: Creating Object in Python**"
      ]
    },
    {
      "cell_type": "code",
      "metadata": {
        "id": "5o19rKwh4sAe",
        "colab_type": "code",
        "colab": {
          "base_uri": "https://localhost:8080/",
          "height": 69
        },
        "outputId": "40552d56-008a-4387-a80c-ce1c5de35c07"
      },
      "source": [
        "class MyClass:\n",
        "\t\"This is my second class\"\n",
        "\ta = 10\n",
        "\tdef func(self):\n",
        "\t\tprint('Hello')\n",
        "\n",
        "# create a new MyClass\n",
        "ob = MyClass()\n",
        "\n",
        "# Output: <function MyClass.func at 0x000000000335B0D0>\n",
        "print(MyClass.func)\n",
        "\n",
        "# Output: <bound method MyClass.func of <__main__.MyClass object at 0x000000000332DEF0>>\n",
        "print(ob.func)\n",
        "\n",
        "# Calling function func()\n",
        "# Output: Hello\n",
        "ob.func()"
      ],
      "execution_count": 7,
      "outputs": [
        {
          "output_type": "stream",
          "text": [
            "<function MyClass.func at 0x7fbfee9b3488>\n",
            "<bound method MyClass.func of <__main__.MyClass object at 0x7fbfee9bf710>>\n",
            "Hello\n"
          ],
          "name": "stdout"
        }
      ]
    },
    {
      "cell_type": "markdown",
      "metadata": {
        "id": "BQlSXww-5L2U",
        "colab_type": "text"
      },
      "source": [
        "You may have noticed the *self* parameter in function definition inside the class but, we called the method simply as *ob.func()* without any arguments. It still worked.\n",
        "\n",
        "This is because, whenever an object calls its method, the object itself is passed as the first argument. So, *ob.func()* translates into *MyClass.func(ob)*."
      ]
    },
    {
      "cell_type": "markdown",
      "metadata": {
        "id": "wLMUnr8U5M_U",
        "colab_type": "text"
      },
      "source": [
        "# Methods in Python"
      ]
    },
    {
      "cell_type": "markdown",
      "metadata": {
        "id": "17eidZmD5cSp",
        "colab_type": "text"
      },
      "source": [
        "Methods are functions defined inside the body of a class. They are used to define the behaviors of an object."
      ]
    },
    {
      "cell_type": "markdown",
      "metadata": {
        "id": "JBDIT2Hu5dVc",
        "colab_type": "text"
      },
      "source": [
        "**Example 4: Creating Methods in Python**"
      ]
    },
    {
      "cell_type": "code",
      "metadata": {
        "id": "icFoE1ac5mXu",
        "colab_type": "code",
        "colab": {
          "base_uri": "https://localhost:8080/",
          "height": 52
        },
        "outputId": "e0c9fc5a-063a-410a-d29f-fcfefc933735"
      },
      "source": [
        "class Parrot:\n",
        "    \n",
        "    # instance attributes\n",
        "    def __init__(self, name, age):\n",
        "        self.name = name\n",
        "        self.age = age\n",
        "    \n",
        "    # instance method\n",
        "    def sing(self, song):\n",
        "        return \"{} sings {}\".format(self.name, song)\n",
        "\n",
        "    def dance(self):\n",
        "        return \"{} is now dancing\".format(self.name)\n",
        "\n",
        "# instantiate the object\n",
        "blu = Parrot(\"Blu\", 10)\n",
        "\n",
        "# call our instance methods\n",
        "print(blu.sing(\"'Happy'\"))\n",
        "print(blu.dance())"
      ],
      "execution_count": 8,
      "outputs": [
        {
          "output_type": "stream",
          "text": [
            "Blu sings 'Happy'\n",
            "Blu is now dancing\n"
          ],
          "name": "stdout"
        }
      ]
    },
    {
      "cell_type": "markdown",
      "metadata": {
        "id": "bOnUF2H-5vWw",
        "colab_type": "text"
      },
      "source": [
        "In general, calling a method with a list of n arguments is equivalent to calling the corresponding function with an argument list that is created by inserting the method's object before the first argument.\n",
        "\n",
        "For these reasons, the first argument of the function in class must be the object itself. This is conventionally called self. It can be named otherwise but we highly recommend to follow the convention.\n",
        "\n",
        "Now you must be familiar with class object, instance object, function object, method object and their differences."
      ]
    },
    {
      "cell_type": "markdown",
      "metadata": {
        "id": "1dn2kFnP5yiI",
        "colab_type": "text"
      },
      "source": [
        "# Constructors in Python"
      ]
    },
    {
      "cell_type": "markdown",
      "metadata": {
        "id": "Q24qNd8I6D4I",
        "colab_type": "text"
      },
      "source": [
        "Class functions that begins with double underscore **(__)** are called special functions as they have special meaning.\n",
        "\n",
        "Of one particular interest is the **__init__()** function. This special function gets called whenever a new object of that class is instantiated.\n",
        "\n",
        "This type of function is also called constructors in Object Oriented Programming (OOP). We normally use it to initialize all the variables."
      ]
    },
    {
      "cell_type": "markdown",
      "metadata": {
        "id": "vNr8yb5S6Ydb",
        "colab_type": "text"
      },
      "source": [
        "**Example 5: Creating constructors** "
      ]
    },
    {
      "cell_type": "code",
      "metadata": {
        "id": "KKW4iBup6gG5",
        "colab_type": "code",
        "colab": {
          "base_uri": "https://localhost:8080/",
          "height": 235
        },
        "outputId": "ae623bc9-e2cf-4432-9dd2-185deaa37183"
      },
      "source": [
        "class ComplexNumber:\n",
        "    def __init__(self,r = 0,i = 0):\n",
        "        self.real = r\n",
        "        self.imag = i\n",
        "\n",
        "    def getData(self):\n",
        "        print(\"{0}+{1}j\".format(self.real,self.imag))\n",
        "\n",
        "# Create a new ComplexNumber object\n",
        "c1 = ComplexNumber(2,3)\n",
        "\n",
        "# Call getData() function\n",
        "# Output: 2+3j\n",
        "c1.getData()\n",
        "\n",
        "# Create another ComplexNumber object\n",
        "# and create a new attribute 'attr'\n",
        "c2 = ComplexNumber(5)\n",
        "c2.attr = 10\n",
        "\n",
        "# Output: (5, 0, 10)\n",
        "print((c2.real, c2.imag, c2.attr))\n",
        "\n",
        "# but c1 object doesn't have attribute 'attr'\n",
        "# AttributeError: 'ComplexNumber' object has no attribute 'attr'\n",
        "c1.attr"
      ],
      "execution_count": 9,
      "outputs": [
        {
          "output_type": "stream",
          "text": [
            "2+3j\n",
            "(5, 0, 10)\n"
          ],
          "name": "stdout"
        },
        {
          "output_type": "error",
          "ename": "AttributeError",
          "evalue": "ignored",
          "traceback": [
            "\u001b[0;31m---------------------------------------------------------------------------\u001b[0m",
            "\u001b[0;31mAttributeError\u001b[0m                            Traceback (most recent call last)",
            "\u001b[0;32m<ipython-input-9-9d3ecdd4b177>\u001b[0m in \u001b[0;36m<module>\u001b[0;34m()\u001b[0m\n\u001b[1;32m     24\u001b[0m \u001b[0;31m# but c1 object doesn't have attribute 'attr'\u001b[0m\u001b[0;34m\u001b[0m\u001b[0;34m\u001b[0m\u001b[0;34m\u001b[0m\u001b[0m\n\u001b[1;32m     25\u001b[0m \u001b[0;31m# AttributeError: 'ComplexNumber' object has no attribute 'attr'\u001b[0m\u001b[0;34m\u001b[0m\u001b[0;34m\u001b[0m\u001b[0;34m\u001b[0m\u001b[0m\n\u001b[0;32m---> 26\u001b[0;31m \u001b[0mc1\u001b[0m\u001b[0;34m.\u001b[0m\u001b[0mattr\u001b[0m\u001b[0;34m\u001b[0m\u001b[0;34m\u001b[0m\u001b[0m\n\u001b[0m",
            "\u001b[0;31mAttributeError\u001b[0m: 'ComplexNumber' object has no attribute 'attr'"
          ]
        }
      ]
    },
    {
      "cell_type": "markdown",
      "metadata": {
        "id": "celMQUAr6xWP",
        "colab_type": "text"
      },
      "source": [
        "In the above example, we define a new class to represent complex numbers. It has two functions, **__init__()** to initialize the variables (defaults to zero) and **getData()** to display the number properly.\n",
        "\n",
        "An interesting thing to note in the above step is that attributes of an object can be created on the fly. We created a new attribute **attr** for object **c2** and we read it as well. But this did not create that attribute for object **c1**."
      ]
    },
    {
      "cell_type": "markdown",
      "metadata": {
        "id": "O_4JemGC67Ui",
        "colab_type": "text"
      },
      "source": [
        "# Deleting Attributes and Objects"
      ]
    },
    {
      "cell_type": "markdown",
      "metadata": {
        "id": "R8cf-7yKFYMl",
        "colab_type": "text"
      },
      "source": [
        "Any attribute of an object can be deleted anytime, using the del statement. Try the following on the Python shell to see the output.\n",
        "\n"
      ]
    },
    {
      "cell_type": "code",
      "metadata": {
        "id": "QFQWoU9wFZjm",
        "colab_type": "code",
        "colab": {
          "base_uri": "https://localhost:8080/",
          "height": 357
        },
        "outputId": "1fdf7d64-9a8d-4654-9c14-6447e9a5d6ad"
      },
      "source": [
        "c1 = ComplexNumber(2,3)\n",
        "del c1.imag\n",
        "c1.getData()"
      ],
      "execution_count": 12,
      "outputs": [
        {
          "output_type": "error",
          "ename": "AttributeError",
          "evalue": "ignored",
          "traceback": [
            "\u001b[0;31m---------------------------------------------------------------------------\u001b[0m",
            "\u001b[0;31mAttributeError\u001b[0m                            Traceback (most recent call last)",
            "\u001b[0;32m<ipython-input-12-9443b172eb84>\u001b[0m in \u001b[0;36m<module>\u001b[0;34m()\u001b[0m\n\u001b[1;32m      1\u001b[0m \u001b[0mc1\u001b[0m \u001b[0;34m=\u001b[0m \u001b[0mComplexNumber\u001b[0m\u001b[0;34m(\u001b[0m\u001b[0;36m2\u001b[0m\u001b[0;34m,\u001b[0m\u001b[0;36m3\u001b[0m\u001b[0;34m)\u001b[0m\u001b[0;34m\u001b[0m\u001b[0;34m\u001b[0m\u001b[0m\n\u001b[1;32m      2\u001b[0m \u001b[0;32mdel\u001b[0m \u001b[0mc1\u001b[0m\u001b[0;34m.\u001b[0m\u001b[0mimag\u001b[0m\u001b[0;34m\u001b[0m\u001b[0;34m\u001b[0m\u001b[0m\n\u001b[0;32m----> 3\u001b[0;31m \u001b[0mc1\u001b[0m\u001b[0;34m.\u001b[0m\u001b[0mgetData\u001b[0m\u001b[0;34m(\u001b[0m\u001b[0;34m)\u001b[0m\u001b[0;34m\u001b[0m\u001b[0;34m\u001b[0m\u001b[0m\n\u001b[0m\u001b[1;32m      4\u001b[0m \u001b[0;34m\u001b[0m\u001b[0m\n\u001b[1;32m      5\u001b[0m \u001b[0;34m\u001b[0m\u001b[0m\n",
            "\u001b[0;32m<ipython-input-9-9d3ecdd4b177>\u001b[0m in \u001b[0;36mgetData\u001b[0;34m(self)\u001b[0m\n\u001b[1;32m      5\u001b[0m \u001b[0;34m\u001b[0m\u001b[0m\n\u001b[1;32m      6\u001b[0m     \u001b[0;32mdef\u001b[0m \u001b[0mgetData\u001b[0m\u001b[0;34m(\u001b[0m\u001b[0mself\u001b[0m\u001b[0;34m)\u001b[0m\u001b[0;34m:\u001b[0m\u001b[0;34m\u001b[0m\u001b[0;34m\u001b[0m\u001b[0m\n\u001b[0;32m----> 7\u001b[0;31m         \u001b[0mprint\u001b[0m\u001b[0;34m(\u001b[0m\u001b[0;34m\"{0}+{1}j\"\u001b[0m\u001b[0;34m.\u001b[0m\u001b[0mformat\u001b[0m\u001b[0;34m(\u001b[0m\u001b[0mself\u001b[0m\u001b[0;34m.\u001b[0m\u001b[0mreal\u001b[0m\u001b[0;34m,\u001b[0m\u001b[0mself\u001b[0m\u001b[0;34m.\u001b[0m\u001b[0mimag\u001b[0m\u001b[0;34m)\u001b[0m\u001b[0;34m)\u001b[0m\u001b[0;34m\u001b[0m\u001b[0;34m\u001b[0m\u001b[0m\n\u001b[0m\u001b[1;32m      8\u001b[0m \u001b[0;34m\u001b[0m\u001b[0m\n\u001b[1;32m      9\u001b[0m \u001b[0;31m# Create a new ComplexNumber object\u001b[0m\u001b[0;34m\u001b[0m\u001b[0;34m\u001b[0m\u001b[0;34m\u001b[0m\u001b[0m\n",
            "\u001b[0;31mAttributeError\u001b[0m: 'ComplexNumber' object has no attribute 'imag'"
          ]
        }
      ]
    },
    {
      "cell_type": "code",
      "metadata": {
        "id": "8DyiFokmFzXq",
        "colab_type": "code",
        "colab": {
          "base_uri": "https://localhost:8080/",
          "height": 183
        },
        "outputId": "d2167499-03e1-4370-b94c-7f73db4a8c2d"
      },
      "source": [
        "del ComplexNumber.getData\n",
        "c1.getData()"
      ],
      "execution_count": 13,
      "outputs": [
        {
          "output_type": "error",
          "ename": "AttributeError",
          "evalue": "ignored",
          "traceback": [
            "\u001b[0;31m---------------------------------------------------------------------------\u001b[0m",
            "\u001b[0;31mAttributeError\u001b[0m                            Traceback (most recent call last)",
            "\u001b[0;32m<ipython-input-13-c4de84fef393>\u001b[0m in \u001b[0;36m<module>\u001b[0;34m()\u001b[0m\n\u001b[1;32m      1\u001b[0m \u001b[0;32mdel\u001b[0m \u001b[0mComplexNumber\u001b[0m\u001b[0;34m.\u001b[0m\u001b[0mgetData\u001b[0m\u001b[0;34m\u001b[0m\u001b[0;34m\u001b[0m\u001b[0m\n\u001b[0;32m----> 2\u001b[0;31m \u001b[0mc1\u001b[0m\u001b[0;34m.\u001b[0m\u001b[0mgetData\u001b[0m\u001b[0;34m(\u001b[0m\u001b[0;34m)\u001b[0m\u001b[0;34m\u001b[0m\u001b[0;34m\u001b[0m\u001b[0m\n\u001b[0m",
            "\u001b[0;31mAttributeError\u001b[0m: 'ComplexNumber' object has no attribute 'getData'"
          ]
        }
      ]
    },
    {
      "cell_type": "markdown",
      "metadata": {
        "id": "bhIEZgoBF2Kv",
        "colab_type": "text"
      },
      "source": [
        "We can even delete the object itself, using the del statement."
      ]
    },
    {
      "cell_type": "code",
      "metadata": {
        "id": "9sXhnLTKF5AT",
        "colab_type": "code",
        "colab": {
          "base_uri": "https://localhost:8080/",
          "height": 201
        },
        "outputId": "4f009d29-4f7d-4a51-beb2-29880793c36c"
      },
      "source": [
        "c1 = ComplexNumber(1,3)\n",
        "del c1\n",
        "c1"
      ],
      "execution_count": 14,
      "outputs": [
        {
          "output_type": "error",
          "ename": "NameError",
          "evalue": "ignored",
          "traceback": [
            "\u001b[0;31m---------------------------------------------------------------------------\u001b[0m",
            "\u001b[0;31mNameError\u001b[0m                                 Traceback (most recent call last)",
            "\u001b[0;32m<ipython-input-14-85081af54bce>\u001b[0m in \u001b[0;36m<module>\u001b[0;34m()\u001b[0m\n\u001b[1;32m      1\u001b[0m \u001b[0mc1\u001b[0m \u001b[0;34m=\u001b[0m \u001b[0mComplexNumber\u001b[0m\u001b[0;34m(\u001b[0m\u001b[0;36m1\u001b[0m\u001b[0;34m,\u001b[0m\u001b[0;36m3\u001b[0m\u001b[0;34m)\u001b[0m\u001b[0;34m\u001b[0m\u001b[0;34m\u001b[0m\u001b[0m\n\u001b[1;32m      2\u001b[0m \u001b[0;32mdel\u001b[0m \u001b[0mc1\u001b[0m\u001b[0;34m\u001b[0m\u001b[0;34m\u001b[0m\u001b[0m\n\u001b[0;32m----> 3\u001b[0;31m \u001b[0mc1\u001b[0m\u001b[0;34m\u001b[0m\u001b[0;34m\u001b[0m\u001b[0m\n\u001b[0m",
            "\u001b[0;31mNameError\u001b[0m: name 'c1' is not defined"
          ]
        }
      ]
    },
    {
      "cell_type": "markdown",
      "metadata": {
        "id": "MpqRWl76F-xo",
        "colab_type": "text"
      },
      "source": [
        "Actually, it is more complicated than that. When we do *c1 = ComplexNumber(1,3)*, a new instance object is created in memory and the name *c1* binds with it.\n",
        "\n",
        "On the command del c1, this binding is removed and the name *c1* is deleted from the corresponding namespace. The object however continues to exist in memory and if no other name is bound to it, it is later automatically destroyed.\n",
        "\n",
        "This automatic destruction of unreferenced objects in Python is also called garbage collection.\n",
        "\n",
        "![alt text](https://cdn.programiz.com/sites/tutorial2program/files/objectReference.jpg)"
      ]
    },
    {
      "cell_type": "markdown",
      "metadata": {
        "id": "T59QlqO_GWAK",
        "colab_type": "text"
      },
      "source": [
        "# Inheritance in Python "
      ]
    },
    {
      "cell_type": "markdown",
      "metadata": {
        "id": "n-btX5aWGZBX",
        "colab_type": "text"
      },
      "source": [
        "Inheritance is a way of creating new class for using details of existing class without modifying it. The newly formed class is a derived class (or child class). Similarly, the existing class is a base class (or parent class)."
      ]
    },
    {
      "cell_type": "markdown",
      "metadata": {
        "id": "jK515AyrGgeh",
        "colab_type": "text"
      },
      "source": [
        "**Example 6: Use of Inheritance in Python**\n"
      ]
    },
    {
      "cell_type": "code",
      "metadata": {
        "id": "mLTt25soGshe",
        "colab_type": "code",
        "colab": {
          "base_uri": "https://localhost:8080/",
          "height": 104
        },
        "outputId": "0b2ef01a-0d86-41de-8849-c29bb462b35d"
      },
      "source": [
        "# parent class\n",
        "class Bird:\n",
        "    \n",
        "    def __init__(self):\n",
        "        print(\"Bird is ready\")\n",
        "\n",
        "    def whoisThis(self):\n",
        "        print(\"Bird\")\n",
        "\n",
        "    def swim(self):\n",
        "        print(\"Swim faster\")\n",
        "\n",
        "# child class\n",
        "class Penguin(Bird):\n",
        "\n",
        "    def __init__(self):\n",
        "        # call super() function\n",
        "        super().__init__()\n",
        "        print(\"Penguin is ready\")\n",
        "\n",
        "    def whoisThis(self):\n",
        "        print(\"Penguin\")\n",
        "\n",
        "    def run(self):\n",
        "        print(\"Run faster\")\n",
        "\n",
        "peggy = Penguin()\n",
        "peggy.whoisThis()\n",
        "peggy.swim()\n",
        "peggy.run()"
      ],
      "execution_count": 15,
      "outputs": [
        {
          "output_type": "stream",
          "text": [
            "Bird is ready\n",
            "Penguin is ready\n",
            "Penguin\n",
            "Swim faster\n",
            "Run faster\n"
          ],
          "name": "stdout"
        }
      ]
    },
    {
      "cell_type": "markdown",
      "metadata": {
        "id": "Ok4HSvdLGx1e",
        "colab_type": "text"
      },
      "source": [
        "In the above program, we created two classes i.e. *Bird* (parent class) and *Penguin* (child class). The child class inherits the functions of parent class. We can see this from *swim()* method. Again, the child class modified the behavior of parent class. We can see this from whoisThis() method. Furthermore, we extend the functions of parent class, by creating a new *run()* method.\n",
        "\n",
        "Additionally, we use *super()* function before *__init__()* method. This is because we want to pull the content of *__init__()* method from the parent class into the child class."
      ]
    },
    {
      "cell_type": "markdown",
      "metadata": {
        "id": "mH-KYsGjG_IO",
        "colab_type": "text"
      },
      "source": [
        "# Encapsulation in Python "
      ]
    },
    {
      "cell_type": "markdown",
      "metadata": {
        "id": "W-i0bplyHECM",
        "colab_type": "text"
      },
      "source": [
        "Using OOP in Python, we can restrict access to methods and variables. This prevent data from direct modification which is called encapsulation. In Python, we denote private attribute using underscore as prefix i.e single “ _ “ or double “ __“."
      ]
    },
    {
      "cell_type": "markdown",
      "metadata": {
        "id": "tVlXfI5YHGc2",
        "colab_type": "text"
      },
      "source": [
        "**Example 7: Data Encapsulation in Python**"
      ]
    },
    {
      "cell_type": "code",
      "metadata": {
        "id": "K7Rn4h3THI53",
        "colab_type": "code",
        "colab": {
          "base_uri": "https://localhost:8080/",
          "height": 69
        },
        "outputId": "69e8bf9c-44f0-4aa8-ce8c-9f0f893bd74d"
      },
      "source": [
        "class Computer:\n",
        "\n",
        "    def __init__(self):\n",
        "        self.__maxprice = 900\n",
        "\n",
        "    def sell(self):\n",
        "        print(\"Selling Price: {}\".format(self.__maxprice))\n",
        "\n",
        "    def setMaxPrice(self, price):\n",
        "        self.__maxprice = price\n",
        "\n",
        "c = Computer()\n",
        "c.sell()\n",
        "\n",
        "# change the price\n",
        "c.__maxprice = 1000\n",
        "c.sell()\n",
        "\n",
        "# using setter function\n",
        "c.setMaxPrice(1000)\n",
        "c.sell()"
      ],
      "execution_count": 16,
      "outputs": [
        {
          "output_type": "stream",
          "text": [
            "Selling Price: 900\n",
            "Selling Price: 900\n",
            "Selling Price: 1000\n"
          ],
          "name": "stdout"
        }
      ]
    },
    {
      "cell_type": "markdown",
      "metadata": {
        "id": "cUOhlGg5HOJC",
        "colab_type": "text"
      },
      "source": [
        "In the above program, we defined a class Computer. We use __init__() method to store the maximum selling price of computer. We tried to modify the price. However, we can’t change it because Python treats the __maxprice as private attributes. To change the value, we used a setter function i.e setMaxPrice() which takes price as parameter."
      ]
    },
    {
      "cell_type": "markdown",
      "metadata": {
        "id": "lxt7qlFSHTHm",
        "colab_type": "text"
      },
      "source": [
        "# Polymorphism in Python "
      ]
    },
    {
      "cell_type": "markdown",
      "metadata": {
        "id": "modQ3kOCHX-F",
        "colab_type": "text"
      },
      "source": [
        "Polymorphism is an ability (in OOP) to use common interface for multiple form (data types).\n",
        "\n",
        "Suppose, we need to color a shape, there are multiple shape option (rectangle, square, circle). However we could use same method to color any shape. This concept is called Polymorphism."
      ]
    },
    {
      "cell_type": "code",
      "metadata": {
        "id": "WvUR1hI7He1A",
        "colab_type": "code",
        "colab": {
          "base_uri": "https://localhost:8080/",
          "height": 52
        },
        "outputId": "29e5b754-68f4-424a-ab14-7e288a8cf1b4"
      },
      "source": [
        "class Parrot:\n",
        "\n",
        "    def fly(self):\n",
        "        print(\"Parrot can fly\")\n",
        "    \n",
        "    def swim(self):\n",
        "        print(\"Parrot can't swim\")\n",
        "\n",
        "class Penguin:\n",
        "\n",
        "    def fly(self):\n",
        "        print(\"Penguin can't fly\")\n",
        "    \n",
        "    def swim(self):\n",
        "        print(\"Penguin can swim\")\n",
        "\n",
        "# common interface\n",
        "def flying_test(bird):\n",
        "    bird.fly()\n",
        "\n",
        "#instantiate objects\n",
        "blu = Parrot()\n",
        "peggy = Penguin()\n",
        "\n",
        "# passing the object\n",
        "flying_test(blu)\n",
        "flying_test(peggy)"
      ],
      "execution_count": 17,
      "outputs": [
        {
          "output_type": "stream",
          "text": [
            "Parrot can fly\n",
            "Penguin can't fly\n"
          ],
          "name": "stdout"
        }
      ]
    },
    {
      "cell_type": "markdown",
      "metadata": {
        "id": "l_zT_r3EHipW",
        "colab_type": "text"
      },
      "source": [
        "In the above program, we defined two classes *Parrot* and *Penguin*. Each of them have common method *fly()* method. However, their functions are different. To allow polymorphism, we created common interface i.e *flying_test()* function that can take any object. Then, we passed the objects *blu* and *peggy* in the *flying_test()* function, it ran effectively."
      ]
    },
    {
      "cell_type": "markdown",
      "metadata": {
        "id": "IwJKxWA5H2va",
        "colab_type": "text"
      },
      "source": [
        "# Advantages of Object Oriented Programming (OOP)\n",
        "\n",
        "\n",
        "*   The programming gets easy and efficient.\n",
        "*   The class is sharable, so codes can be reused.\n",
        "*   The productivity of programmars increases.\n",
        "*   Data is safe and secure with data abstraction.\n",
        "\n",
        "\n",
        "\n"
      ]
    },
    {
      "cell_type": "markdown",
      "metadata": {
        "id": "lY64JJq7Il3p",
        "colab_type": "text"
      },
      "source": [
        "# Examples from the textbook"
      ]
    },
    {
      "cell_type": "markdown",
      "metadata": {
        "id": "Twfugo5pIqn3",
        "colab_type": "text"
      },
      "source": [
        "**Code examples from this chapter 15**"
      ]
    },
    {
      "cell_type": "code",
      "metadata": {
        "id": "3JPBGc3zJayF",
        "colab_type": "code",
        "colab": {
          "base_uri": "https://localhost:8080/",
          "height": 173
        },
        "outputId": "34046c5e-abaa-4e62-da06-30b7228f7afd"
      },
      "source": [
        "\"\"\"\n",
        "\n",
        "Code example from Think Python, by Allen B. Downey.\n",
        "Available from http://thinkpython.com\n",
        "\n",
        "Copyright 2012 Allen B. Downey.\n",
        "Distributed under the GNU General Public License at gnu.org/licenses/gpl.html.\n",
        "\n",
        "\"\"\"\n",
        "\n",
        "class Point(object):\n",
        "    \"\"\"Represents a point in 2-D space.\"\"\"\n",
        "\n",
        "\n",
        "def print_point(p):\n",
        "    \"\"\"Print a Point object in human-readable format.\"\"\"\n",
        "    print ('(%g, %g)' % (p.x, p.y))\n",
        "\n",
        "\n",
        "class Rectangle(object):\n",
        "    \"\"\"Represents a rectangle. \n",
        "\n",
        "    attributes: width, height, corner.\n",
        "    \"\"\"\n",
        "\n",
        "\n",
        "def find_center(rect):\n",
        "    \"\"\"Returns a Point at the center of a Rectangle.\"\"\"\n",
        "    p = Point()\n",
        "    p.x = rect.corner.x + rect.width/2.0\n",
        "    p.y = rect.corner.y + rect.height/2.0\n",
        "    return p\n",
        "\n",
        "\n",
        "def grow_rectangle(rect, dwidth, dheight):\n",
        "    \"\"\"Modify the Rectangle by adding to its width and height.\n",
        "\n",
        "    rect: Rectangle object.\n",
        "    dwidth: change in width (can be negative).\n",
        "    dheight: change in height (can be negative).\n",
        "    \"\"\"\n",
        "    rect.width += dwidth\n",
        "    rect.height += dheight\n",
        "\n",
        "\n",
        "def main():\n",
        "    blank = Point()\n",
        "    blank.x = 3\n",
        "    blank.y = 4\n",
        "    print ('blank',)\n",
        "    print_point(blank)\n",
        "\n",
        "    box = Rectangle()\n",
        "    box.width = 100.0\n",
        "    box.height = 200.0\n",
        "    box.corner = Point()\n",
        "    box.corner.x = 0.0\n",
        "    box.corner.y = 0.0\n",
        "\n",
        "    center = find_center(box)\n",
        "    print ('center',)\n",
        "    print_point(center)\n",
        "\n",
        "    print (box.width)\n",
        "    print (box.height)\n",
        "    print ('grow')\n",
        "    grow_rectangle(box, 50, 100)\n",
        "    print (box.width)\n",
        "    print (box.height)\n",
        "\n",
        "\n",
        "if __name__ == '__main__':\n",
        "    main()\n"
      ],
      "execution_count": 22,
      "outputs": [
        {
          "output_type": "stream",
          "text": [
            "blank\n",
            "(3, 4)\n",
            "center\n",
            "(50, 100)\n",
            "100.0\n",
            "200.0\n",
            "grow\n",
            "150.0\n",
            "300.0\n"
          ],
          "name": "stdout"
        }
      ]
    },
    {
      "cell_type": "code",
      "metadata": {
        "id": "HsGNYMcNIyyj",
        "colab_type": "code",
        "colab": {
          "base_uri": "https://localhost:8080/",
          "height": 173
        },
        "outputId": "dc0504f0-6090-4366-c3cc-913656e80ee2"
      },
      "source": [
        "\"\"\"This module contains code from\n",
        "Think Python by Allen B. Downey\n",
        "http://thinkpython.com\n",
        "\n",
        "Copyright 2012 Allen B. Downey\n",
        "License: GNU GPLv3 http://www.gnu.org/licenses/gpl.html\n",
        "\n",
        "\"\"\"\n",
        "\n",
        "import copy\n",
        "import math\n",
        "\n",
        "# to avoid duplicating code, I'm importing everything from Point1 \n",
        "from Point1 import *\n",
        "\n",
        "\n",
        "def distance_between_points(p1, p2):\n",
        "    \"\"\"Computes the distance between two Point objects.\"\"\"\n",
        "    dx = p1.x - p2.x\n",
        "    dy = p1.y - p2.y\n",
        "    dist = math.sqrt(dx**2 + dy**2)\n",
        "    return dist\n",
        "\n",
        "\n",
        "def move_rectangle(rect, dx, dy):\n",
        "    \"\"\"Move the Rectangle by modifying its corner object.\n",
        "\n",
        "    rect: Rectangle object.\n",
        "    dx: change in x coordinate (can be negative).\n",
        "    dy: change in y coordinate (can be negative).\n",
        "    \"\"\"\n",
        "    rect.corner.x += dx\n",
        "    rect.corner.y += dy\n",
        "\n",
        "\n",
        "def move_rectangle_copy(rect, dx, dy):\n",
        "    \"\"\"Move the Rectangle and return a new Rectangle object.\n",
        "\n",
        "    rect: Rectangle object.\n",
        "    dx: change in x coordinate (can be negative).\n",
        "    dy: change in y coordinate (can be negative).\n",
        "    \"\"\"\n",
        "    new = copy.deepcopy(rect)\n",
        "    move_rectangle(new, dx, dy)\n",
        "    return new\n",
        "\n",
        "\n",
        "def main():\n",
        "    blank = Point()\n",
        "    blank.x = 0\n",
        "    blank.y = 0\n",
        "\n",
        "    grosse = Point()\n",
        "    grosse.x = 3\n",
        "    grosse.y = 4\n",
        "\n",
        "    print ('distance'+',')\n",
        "    print (distance_between_points(grosse, blank))\n",
        "\n",
        "\n",
        "    box = Rectangle()\n",
        "    box.width = 100.0\n",
        "    box.height = 200.0\n",
        "    box.corner = Point()\n",
        "    box.corner.x = 50.0\n",
        "    box.corner.y = 50.0\n",
        "\n",
        "    print (box.corner.x)\n",
        "    print (box.corner.y)\n",
        "    print ('move')\n",
        "    move_rectangle(box, 50, 100)\n",
        "    print (box.corner.x)\n",
        "    print (box.corner.y)\n",
        "\n",
        "    new_box = move_rectangle_copy(box, 50, 100)\n",
        "    print (box.corner.x)\n",
        "    print (box.corner.y)\n",
        "\n",
        "if __name__ == '__main__':\n",
        "    main()\n"
      ],
      "execution_count": 23,
      "outputs": [
        {
          "output_type": "stream",
          "text": [
            "distance,\n",
            "5.0\n",
            "50.0\n",
            "50.0\n",
            "move\n",
            "100.0\n",
            "150.0\n",
            "100.0\n",
            "150.0\n"
          ],
          "name": "stdout"
        }
      ]
    },
    {
      "cell_type": "code",
      "metadata": {
        "id": "aJbBtEJvJNoV",
        "colab_type": "code",
        "colab": {}
      },
      "source": [
        ""
      ],
      "execution_count": 0,
      "outputs": []
    }
  ]
}