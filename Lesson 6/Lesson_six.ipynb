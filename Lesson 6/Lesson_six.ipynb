{
  "nbformat": 4,
  "nbformat_minor": 0,
  "metadata": {
    "colab": {
      "name": "Lesson_six.ipynb",
      "provenance": [],
      "toc_visible": true,
      "include_colab_link": true
    },
    "kernelspec": {
      "name": "python3",
      "display_name": "Python 3"
    }
  },
  "cells": [
    {
      "cell_type": "markdown",
      "metadata": {
        "id": "view-in-github",
        "colab_type": "text"
      },
      "source": [
        "<a href=\"https://colab.research.google.com/github/unt-iialab/UNT-INFO5717-Fall2019/blob/master/Lesson%206/Lesson_six.ipynb\" target=\"_parent\"><img src=\"https://colab.research.google.com/assets/colab-badge.svg\" alt=\"Open In Colab\"/></a>"
      ]
    },
    {
      "cell_type": "markdown",
      "metadata": {
        "id": "olyBK5-1vXwg",
        "colab_type": "text"
      },
      "source": [
        "# Lesson Six: Classes and Objects"
      ]
    },
    {
      "cell_type": "markdown",
      "metadata": {
        "id": "vRvYrWS0vuKW",
        "colab_type": "text"
      },
      "source": [
        "# Python Object Oriented Programming (OOP)\n"
      ]
    },
    {
      "cell_type": "markdown",
      "metadata": {
        "id": "Z3DFfLzMv8Jq",
        "colab_type": "text"
      },
      "source": [
        "Python is a multi-paradigm programming language. Meaning, it supports different programming approach.\n",
        "\n",
        "One of the popular approach to solve a programming problem is by creating objects. This is known as Object-Oriented Programming (OOP).\n",
        "\n",
        "An object has two characteristics:\n",
        "\n",
        "*   attributes\n",
        "*   behavior\n",
        "\n",
        "**Let's take an example:**\n",
        "\n",
        "Parrot is an object,\n",
        "\n",
        "*   name, age, color are attributes\n",
        "*   singing, dancing are behavior\n",
        "\n",
        "\n",
        "\n",
        "\n",
        "\n"
      ]
    },
    {
      "cell_type": "markdown",
      "metadata": {
        "id": "83_NiTmqyjGX",
        "colab_type": "text"
      },
      "source": [
        "The concept of OOP in Python focuses on creating reusable code. This concept is also known as DRY (Don't Repeat Yourself).\n",
        "\n",
        "In Python, the concept of OOP follows some basic principles:\n",
        "\n",
        "| Principles   |      Description      |\n",
        "|----------|:-------------:|\n",
        "| Inheritance |  A process of using details from a new class without modifying existing class. | \n",
        "| Encapsulation |    Hiding the private details of a class from other objects. |\n",
        "| Polymorphism | A concept of using common operation in different ways for different data input. |  \n",
        "\n"
      ]
    },
    {
      "cell_type": "markdown",
      "metadata": {
        "id": "XJKoIupF2ZW3",
        "colab_type": "text"
      },
      "source": [
        "# What are classes and objects in Python?"
      ]
    },
    {
      "cell_type": "markdown",
      "metadata": {
        "id": "JThGbmGd2bws",
        "colab_type": "text"
      },
      "source": [
        "As mentioned above, Python is an object oriented programming language. Unlike procedure oriented programming, where the main emphasis is on functions, object oriented programming stress on objects.\n",
        "\n",
        "Object is simply a collection of data (variables) and methods (functions) that act on those data. And, class is a blueprint for the object.\n",
        "\n",
        "We can think of **class as a sketch (prototype) of a house**. It contains all the details about the floors, doors, windows etc. Based on these descriptions we build the house. House is the object.\n",
        "\n",
        "As, many houses can be made from a description, **we can create many objects from a class**. An object is also called an instance of a class and the process of creating this object is called instantiation."
      ]
    },
    {
      "cell_type": "markdown",
      "metadata": {
        "id": "yNQpNY971oAs",
        "colab_type": "text"
      },
      "source": [
        "**Example 1: Creating Class and Object in Python**\n"
      ]
    },
    {
      "cell_type": "code",
      "metadata": {
        "id": "bGNpYUAJ1s5F",
        "colab_type": "code",
        "colab": {
          "base_uri": "https://localhost:8080/",
          "height": 87
        },
        "outputId": "438f2f47-a580-426a-f86e-96a8a50d9273"
      },
      "source": [
        "class Parrot:\n",
        "\n",
        "    # class attribute\n",
        "    species = \"bird\"\n",
        "\n",
        "    # instance attribute\n",
        "    def __init__(self, name, age):\n",
        "        self.name = name\n",
        "        self.age = age\n",
        "\n",
        "# instantiate the Parrot class\n",
        "blu = Parrot(\"Blu\", 10)\n",
        "woo = Parrot(\"Woo\", 15)\n",
        "\n",
        "# access the class attributes\n",
        "print(\"Blu is a {}\".format(blu.__class__.species))\n",
        "print(\"Woo is also a {}\".format(woo.__class__.species))\n",
        "\n",
        "# access the instance attributes\n",
        "print(\"{} is {} years old\".format( blu.name, blu.age))\n",
        "print(\"{} is {} years old\".format( woo.name, woo.age))"
      ],
      "execution_count": 3,
      "outputs": [
        {
          "output_type": "stream",
          "text": [
            "Blu is a bird\n",
            "Woo is also a bird\n",
            "Blu is 10 years old\n",
            "Woo is 15 years old\n"
          ],
          "name": "stdout"
        }
      ]
    },
    {
      "cell_type": "markdown",
      "metadata": {
        "id": "xMvYwPT80VSw",
        "colab_type": "text"
      },
      "source": [
        "# Defining a Class in Python"
      ]
    },
    {
      "cell_type": "markdown",
      "metadata": {
        "id": "QqOYgPxp0WmW",
        "colab_type": "text"
      },
      "source": [
        "Like function definitions begin with the keyword **def**, in Python, we define a class using the keyword **class**.\n",
        "\n",
        "The first string is called docstring and has a brief description about the class. Although not mandatory, this is recommended.\n",
        "\n",
        "Here is a simple class definition.\n"
      ]
    },
    {
      "cell_type": "code",
      "metadata": {
        "id": "mHJZJKi-03o6",
        "colab_type": "code",
        "colab": {}
      },
      "source": [
        "class MyNewClass:\n",
        "    '''This is a docstring. I have created a new class'''\n",
        "    pass"
      ],
      "execution_count": 0,
      "outputs": []
    },
    {
      "cell_type": "markdown",
      "metadata": {
        "id": "pzh5rs9707XN",
        "colab_type": "text"
      },
      "source": [
        "A class creates a new local namespace where all its attributes are defined. Attributes may be data or functions.\n",
        "\n",
        "There are also special attributes in it that begins with double underscores (__). For example, __doc__ gives us the docstring of that class.\n",
        "\n",
        "As soon as we define a class, a new class object is created with the same name. This class object allows us to access the different attributes as well as to instantiate new objects of that class.\n",
        "\n"
      ]
    },
    {
      "cell_type": "markdown",
      "metadata": {
        "id": "yb9DQCZj36P8",
        "colab_type": "text"
      },
      "source": [
        "**Example 2: Creating Class in Python**"
      ]
    },
    {
      "cell_type": "code",
      "metadata": {
        "id": "4WAaxA0130wK",
        "colab_type": "code",
        "colab": {
          "base_uri": "https://localhost:8080/",
          "height": 69
        },
        "outputId": "eb930466-6caa-42a4-8941-44c85ad8cf72"
      },
      "source": [
        "class MyClass:\n",
        "\t\"This is my second class\"\n",
        "\ta = 10\n",
        "\tdef func(self):\n",
        "\t\tprint('Hello')\n",
        "\n",
        "# Output: 10\n",
        "print(MyClass.a)\n",
        "\n",
        "# Output: <function MyClass.func at 0x0000000003079BF8>\n",
        "print(MyClass.func)\n",
        "\n",
        "# Output: 'This is my second class'\n",
        "print(MyClass.__doc__)"
      ],
      "execution_count": 5,
      "outputs": [
        {
          "output_type": "stream",
          "text": [
            "10\n",
            "<function MyClass.func at 0x7fbfef212f28>\n",
            "This is my second class\n"
          ],
          "name": "stdout"
        }
      ]
    },
    {
      "cell_type": "markdown",
      "metadata": {
        "id": "OXynZkwO1BdM",
        "colab_type": "text"
      },
      "source": [
        "# Creating an Object in Python"
      ]
    },
    {
      "cell_type": "markdown",
      "metadata": {
        "id": "jZn6XldW1Dbn",
        "colab_type": "text"
      },
      "source": [
        "We saw that the class object could be used to access different attributes.\n",
        "\n",
        "It can also be used to create new object instances (instantiation) of that class. The procedure to create an object is similar to a *function* call.\n"
      ]
    },
    {
      "cell_type": "code",
      "metadata": {
        "id": "ZebM3JTx1b03",
        "colab_type": "code",
        "colab": {}
      },
      "source": [
        "ob = MyClass()"
      ],
      "execution_count": 0,
      "outputs": []
    },
    {
      "cell_type": "markdown",
      "metadata": {
        "id": "Dj_imj441fFZ",
        "colab_type": "text"
      },
      "source": [
        "This will create a new instance object named *ob*. We can access attributes of objects using the object name prefix.\n",
        "\n",
        "Attributes may be data or method. Method of an object are corresponding functions of that class. Any function object that is a class attribute defines a method for objects of that class.\n",
        "\n",
        "This means to say, since *MyClass.func* is a function object (attribute of class), *ob.func* will be a method object.\n",
        "\n"
      ]
    },
    {
      "cell_type": "markdown",
      "metadata": {
        "id": "0yN8meEa1jxX",
        "colab_type": "text"
      },
      "source": [
        "**Example 3: Creating Object in Python**"
      ]
    },
    {
      "cell_type": "code",
      "metadata": {
        "id": "5o19rKwh4sAe",
        "colab_type": "code",
        "colab": {
          "base_uri": "https://localhost:8080/",
          "height": 69
        },
        "outputId": "40552d56-008a-4387-a80c-ce1c5de35c07"
      },
      "source": [
        "class MyClass:\n",
        "\t\"This is my second class\"\n",
        "\ta = 10\n",
        "\tdef func(self):\n",
        "\t\tprint('Hello')\n",
        "\n",
        "# create a new MyClass\n",
        "ob = MyClass()\n",
        "\n",
        "# Output: <function MyClass.func at 0x000000000335B0D0>\n",
        "print(MyClass.func)\n",
        "\n",
        "# Output: <bound method MyClass.func of <__main__.MyClass object at 0x000000000332DEF0>>\n",
        "print(ob.func)\n",
        "\n",
        "# Calling function func()\n",
        "# Output: Hello\n",
        "ob.func()"
      ],
      "execution_count": 7,
      "outputs": [
        {
          "output_type": "stream",
          "text": [
            "<function MyClass.func at 0x7fbfee9b3488>\n",
            "<bound method MyClass.func of <__main__.MyClass object at 0x7fbfee9bf710>>\n",
            "Hello\n"
          ],
          "name": "stdout"
        }
      ]
    },
    {
      "cell_type": "markdown",
      "metadata": {
        "id": "BQlSXww-5L2U",
        "colab_type": "text"
      },
      "source": [
        "You may have noticed the *self* parameter in function definition inside the class but, we called the method simply as *ob.func()* without any arguments. It still worked.\n",
        "\n",
        "This is because, whenever an object calls its method, the object itself is passed as the first argument. So, *ob.func()* translates into *MyClass.func(ob)*."
      ]
    },
    {
      "cell_type": "markdown",
      "metadata": {
        "id": "wLMUnr8U5M_U",
        "colab_type": "text"
      },
      "source": [
        "# Methods in Python"
      ]
    },
    {
      "cell_type": "markdown",
      "metadata": {
        "id": "17eidZmD5cSp",
        "colab_type": "text"
      },
      "source": [
        "Methods are functions defined inside the body of a class. They are used to define the behaviors of an object."
      ]
    },
    {
      "cell_type": "markdown",
      "metadata": {
        "id": "JBDIT2Hu5dVc",
        "colab_type": "text"
      },
      "source": [
        "**Example 4: Creating Methods in Python**"
      ]
    },
    {
      "cell_type": "code",
      "metadata": {
        "id": "icFoE1ac5mXu",
        "colab_type": "code",
        "colab": {
          "base_uri": "https://localhost:8080/",
          "height": 52
        },
        "outputId": "e0c9fc5a-063a-410a-d29f-fcfefc933735"
      },
      "source": [
        "class Parrot:\n",
        "    \n",
        "    # instance attributes\n",
        "    def __init__(self, name, age):\n",
        "        self.name = name\n",
        "        self.age = age\n",
        "    \n",
        "    # instance method\n",
        "    def sing(self, song):\n",
        "        return \"{} sings {}\".format(self.name, song)\n",
        "\n",
        "    def dance(self):\n",
        "        return \"{} is now dancing\".format(self.name)\n",
        "\n",
        "# instantiate the object\n",
        "blu = Parrot(\"Blu\", 10)\n",
        "\n",
        "# call our instance methods\n",
        "print(blu.sing(\"'Happy'\"))\n",
        "print(blu.dance())"
      ],
      "execution_count": 8,
      "outputs": [
        {
          "output_type": "stream",
          "text": [
            "Blu sings 'Happy'\n",
            "Blu is now dancing\n"
          ],
          "name": "stdout"
        }
      ]
    },
    {
      "cell_type": "markdown",
      "metadata": {
        "id": "bOnUF2H-5vWw",
        "colab_type": "text"
      },
      "source": [
        "In general, calling a method with a list of n arguments is equivalent to calling the corresponding function with an argument list that is created by inserting the method's object before the first argument.\n",
        "\n",
        "For these reasons, the first argument of the function in class must be the object itself. This is conventionally called self. It can be named otherwise but we highly recommend to follow the convention.\n",
        "\n",
        "Now you must be familiar with class object, instance object, function object, method object and their differences."
      ]
    },
    {
      "cell_type": "markdown",
      "metadata": {
        "id": "1dn2kFnP5yiI",
        "colab_type": "text"
      },
      "source": [
        "# Constructors in Python"
      ]
    },
    {
      "cell_type": "markdown",
      "metadata": {
        "id": "Q24qNd8I6D4I",
        "colab_type": "text"
      },
      "source": [
        "Class functions that begins with double underscore **(__)** are called special functions as they have special meaning.\n",
        "\n",
        "Of one particular interest is the **__init__()** function. This special function gets called whenever a new object of that class is instantiated.\n",
        "\n",
        "This type of function is also called constructors in Object Oriented Programming (OOP). We normally use it to initialize all the variables."
      ]
    },
    {
      "cell_type": "markdown",
      "metadata": {
        "id": "vNr8yb5S6Ydb",
        "colab_type": "text"
      },
      "source": [
        "**Example 5: Creating constructors** "
      ]
    },
    {
      "cell_type": "code",
      "metadata": {
        "id": "KKW4iBup6gG5",
        "colab_type": "code",
        "colab": {
          "base_uri": "https://localhost:8080/",
          "height": 235
        },
        "outputId": "ae623bc9-e2cf-4432-9dd2-185deaa37183"
      },
      "source": [
        "class ComplexNumber:\n",
        "    def __init__(self,r = 0,i = 0):\n",
        "        self.real = r\n",
        "        self.imag = i\n",
        "\n",
        "    def getData(self):\n",
        "        print(\"{0}+{1}j\".format(self.real,self.imag))\n",
        "\n",
        "# Create a new ComplexNumber object\n",
        "c1 = ComplexNumber(2,3)\n",
        "\n",
        "# Call getData() function\n",
        "# Output: 2+3j\n",
        "c1.getData()\n",
        "\n",
        "# Create another ComplexNumber object\n",
        "# and create a new attribute 'attr'\n",
        "c2 = ComplexNumber(5)\n",
        "c2.attr = 10\n",
        "\n",
        "# Output: (5, 0, 10)\n",
        "print((c2.real, c2.imag, c2.attr))\n",
        "\n",
        "# but c1 object doesn't have attribute 'attr'\n",
        "# AttributeError: 'ComplexNumber' object has no attribute 'attr'\n",
        "c1.attr"
      ],
      "execution_count": 9,
      "outputs": [
        {
          "output_type": "stream",
          "text": [
            "2+3j\n",
            "(5, 0, 10)\n"
          ],
          "name": "stdout"
        },
        {
          "output_type": "error",
          "ename": "AttributeError",
          "evalue": "ignored",
          "traceback": [
            "\u001b[0;31m---------------------------------------------------------------------------\u001b[0m",
            "\u001b[0;31mAttributeError\u001b[0m                            Traceback (most recent call last)",
            "\u001b[0;32m<ipython-input-9-9d3ecdd4b177>\u001b[0m in \u001b[0;36m<module>\u001b[0;34m()\u001b[0m\n\u001b[1;32m     24\u001b[0m \u001b[0;31m# but c1 object doesn't have attribute 'attr'\u001b[0m\u001b[0;34m\u001b[0m\u001b[0;34m\u001b[0m\u001b[0;34m\u001b[0m\u001b[0m\n\u001b[1;32m     25\u001b[0m \u001b[0;31m# AttributeError: 'ComplexNumber' object has no attribute 'attr'\u001b[0m\u001b[0;34m\u001b[0m\u001b[0;34m\u001b[0m\u001b[0;34m\u001b[0m\u001b[0m\n\u001b[0;32m---> 26\u001b[0;31m \u001b[0mc1\u001b[0m\u001b[0;34m.\u001b[0m\u001b[0mattr\u001b[0m\u001b[0;34m\u001b[0m\u001b[0;34m\u001b[0m\u001b[0m\n\u001b[0m",
            "\u001b[0;31mAttributeError\u001b[0m: 'ComplexNumber' object has no attribute 'attr'"
          ]
        }
      ]
    },
    {
      "cell_type": "markdown",
      "metadata": {
        "id": "celMQUAr6xWP",
        "colab_type": "text"
      },
      "source": [
        "In the above example, we define a new class to represent complex numbers. It has two functions, **__init__()** to initialize the variables (defaults to zero) and **getData()** to display the number properly.\n",
        "\n",
        "An interesting thing to note in the above step is that attributes of an object can be created on the fly. We created a new attribute **attr** for object **c2** and we read it as well. But this did not create that attribute for object **c1**."
      ]
    },
    {
      "cell_type": "markdown",
      "metadata": {
        "id": "O_4JemGC67Ui",
        "colab_type": "text"
      },
      "source": [
        "# Deleting Attributes and Objects"
      ]
    },
    {
      "cell_type": "markdown",
      "metadata": {
        "id": "R8cf-7yKFYMl",
        "colab_type": "text"
      },
      "source": [
        "Any attribute of an object can be deleted anytime, using the del statement. Try the following on the Python shell to see the output.\n",
        "\n"
      ]
    },
    {
      "cell_type": "code",
      "metadata": {
        "id": "QFQWoU9wFZjm",
        "colab_type": "code",
        "colab": {
          "base_uri": "https://localhost:8080/",
          "height": 357
        },
        "outputId": "1fdf7d64-9a8d-4654-9c14-6447e9a5d6ad"
      },
      "source": [
        "c1 = ComplexNumber(2,3)\n",
        "del c1.imag\n",
        "c1.getData()"
      ],
      "execution_count": 12,
      "outputs": [
        {
          "output_type": "error",
          "ename": "AttributeError",
          "evalue": "ignored",
          "traceback": [
            "\u001b[0;31m---------------------------------------------------------------------------\u001b[0m",
            "\u001b[0;31mAttributeError\u001b[0m                            Traceback (most recent call last)",
            "\u001b[0;32m<ipython-input-12-9443b172eb84>\u001b[0m in \u001b[0;36m<module>\u001b[0;34m()\u001b[0m\n\u001b[1;32m      1\u001b[0m \u001b[0mc1\u001b[0m \u001b[0;34m=\u001b[0m \u001b[0mComplexNumber\u001b[0m\u001b[0;34m(\u001b[0m\u001b[0;36m2\u001b[0m\u001b[0;34m,\u001b[0m\u001b[0;36m3\u001b[0m\u001b[0;34m)\u001b[0m\u001b[0;34m\u001b[0m\u001b[0;34m\u001b[0m\u001b[0m\n\u001b[1;32m      2\u001b[0m \u001b[0;32mdel\u001b[0m \u001b[0mc1\u001b[0m\u001b[0;34m.\u001b[0m\u001b[0mimag\u001b[0m\u001b[0;34m\u001b[0m\u001b[0;34m\u001b[0m\u001b[0m\n\u001b[0;32m----> 3\u001b[0;31m \u001b[0mc1\u001b[0m\u001b[0;34m.\u001b[0m\u001b[0mgetData\u001b[0m\u001b[0;34m(\u001b[0m\u001b[0;34m)\u001b[0m\u001b[0;34m\u001b[0m\u001b[0;34m\u001b[0m\u001b[0m\n\u001b[0m\u001b[1;32m      4\u001b[0m \u001b[0;34m\u001b[0m\u001b[0m\n\u001b[1;32m      5\u001b[0m \u001b[0;34m\u001b[0m\u001b[0m\n",
            "\u001b[0;32m<ipython-input-9-9d3ecdd4b177>\u001b[0m in \u001b[0;36mgetData\u001b[0;34m(self)\u001b[0m\n\u001b[1;32m      5\u001b[0m \u001b[0;34m\u001b[0m\u001b[0m\n\u001b[1;32m      6\u001b[0m     \u001b[0;32mdef\u001b[0m \u001b[0mgetData\u001b[0m\u001b[0;34m(\u001b[0m\u001b[0mself\u001b[0m\u001b[0;34m)\u001b[0m\u001b[0;34m:\u001b[0m\u001b[0;34m\u001b[0m\u001b[0;34m\u001b[0m\u001b[0m\n\u001b[0;32m----> 7\u001b[0;31m         \u001b[0mprint\u001b[0m\u001b[0;34m(\u001b[0m\u001b[0;34m\"{0}+{1}j\"\u001b[0m\u001b[0;34m.\u001b[0m\u001b[0mformat\u001b[0m\u001b[0;34m(\u001b[0m\u001b[0mself\u001b[0m\u001b[0;34m.\u001b[0m\u001b[0mreal\u001b[0m\u001b[0;34m,\u001b[0m\u001b[0mself\u001b[0m\u001b[0;34m.\u001b[0m\u001b[0mimag\u001b[0m\u001b[0;34m)\u001b[0m\u001b[0;34m)\u001b[0m\u001b[0;34m\u001b[0m\u001b[0;34m\u001b[0m\u001b[0m\n\u001b[0m\u001b[1;32m      8\u001b[0m \u001b[0;34m\u001b[0m\u001b[0m\n\u001b[1;32m      9\u001b[0m \u001b[0;31m# Create a new ComplexNumber object\u001b[0m\u001b[0;34m\u001b[0m\u001b[0;34m\u001b[0m\u001b[0;34m\u001b[0m\u001b[0m\n",
            "\u001b[0;31mAttributeError\u001b[0m: 'ComplexNumber' object has no attribute 'imag'"
          ]
        }
      ]
    },
    {
      "cell_type": "code",
      "metadata": {
        "id": "8DyiFokmFzXq",
        "colab_type": "code",
        "colab": {
          "base_uri": "https://localhost:8080/",
          "height": 183
        },
        "outputId": "d2167499-03e1-4370-b94c-7f73db4a8c2d"
      },
      "source": [
        "del ComplexNumber.getData\n",
        "c1.getData()"
      ],
      "execution_count": 13,
      "outputs": [
        {
          "output_type": "error",
          "ename": "AttributeError",
          "evalue": "ignored",
          "traceback": [
            "\u001b[0;31m---------------------------------------------------------------------------\u001b[0m",
            "\u001b[0;31mAttributeError\u001b[0m                            Traceback (most recent call last)",
            "\u001b[0;32m<ipython-input-13-c4de84fef393>\u001b[0m in \u001b[0;36m<module>\u001b[0;34m()\u001b[0m\n\u001b[1;32m      1\u001b[0m \u001b[0;32mdel\u001b[0m \u001b[0mComplexNumber\u001b[0m\u001b[0;34m.\u001b[0m\u001b[0mgetData\u001b[0m\u001b[0;34m\u001b[0m\u001b[0;34m\u001b[0m\u001b[0m\n\u001b[0;32m----> 2\u001b[0;31m \u001b[0mc1\u001b[0m\u001b[0;34m.\u001b[0m\u001b[0mgetData\u001b[0m\u001b[0;34m(\u001b[0m\u001b[0;34m)\u001b[0m\u001b[0;34m\u001b[0m\u001b[0;34m\u001b[0m\u001b[0m\n\u001b[0m",
            "\u001b[0;31mAttributeError\u001b[0m: 'ComplexNumber' object has no attribute 'getData'"
          ]
        }
      ]
    },
    {
      "cell_type": "markdown",
      "metadata": {
        "id": "bhIEZgoBF2Kv",
        "colab_type": "text"
      },
      "source": [
        "We can even delete the object itself, using the del statement."
      ]
    },
    {
      "cell_type": "code",
      "metadata": {
        "id": "9sXhnLTKF5AT",
        "colab_type": "code",
        "colab": {
          "base_uri": "https://localhost:8080/",
          "height": 201
        },
        "outputId": "4f009d29-4f7d-4a51-beb2-29880793c36c"
      },
      "source": [
        "c1 = ComplexNumber(1,3)\n",
        "del c1\n",
        "c1"
      ],
      "execution_count": 14,
      "outputs": [
        {
          "output_type": "error",
          "ename": "NameError",
          "evalue": "ignored",
          "traceback": [
            "\u001b[0;31m---------------------------------------------------------------------------\u001b[0m",
            "\u001b[0;31mNameError\u001b[0m                                 Traceback (most recent call last)",
            "\u001b[0;32m<ipython-input-14-85081af54bce>\u001b[0m in \u001b[0;36m<module>\u001b[0;34m()\u001b[0m\n\u001b[1;32m      1\u001b[0m \u001b[0mc1\u001b[0m \u001b[0;34m=\u001b[0m \u001b[0mComplexNumber\u001b[0m\u001b[0;34m(\u001b[0m\u001b[0;36m1\u001b[0m\u001b[0;34m,\u001b[0m\u001b[0;36m3\u001b[0m\u001b[0;34m)\u001b[0m\u001b[0;34m\u001b[0m\u001b[0;34m\u001b[0m\u001b[0m\n\u001b[1;32m      2\u001b[0m \u001b[0;32mdel\u001b[0m \u001b[0mc1\u001b[0m\u001b[0;34m\u001b[0m\u001b[0;34m\u001b[0m\u001b[0m\n\u001b[0;32m----> 3\u001b[0;31m \u001b[0mc1\u001b[0m\u001b[0;34m\u001b[0m\u001b[0;34m\u001b[0m\u001b[0m\n\u001b[0m",
            "\u001b[0;31mNameError\u001b[0m: name 'c1' is not defined"
          ]
        }
      ]
    },
    {
      "cell_type": "markdown",
      "metadata": {
        "id": "MpqRWl76F-xo",
        "colab_type": "text"
      },
      "source": [
        "Actually, it is more complicated than that. When we do *c1 = ComplexNumber(1,3)*, a new instance object is created in memory and the name *c1* binds with it.\n",
        "\n",
        "On the command del c1, this binding is removed and the name *c1* is deleted from the corresponding namespace. The object however continues to exist in memory and if no other name is bound to it, it is later automatically destroyed.\n",
        "\n",
        "This automatic destruction of unreferenced objects in Python is also called garbage collection.\n",
        "\n",
        "![alt text](https://cdn.programiz.com/sites/tutorial2program/files/objectReference.jpg)"
      ]
    },
    {
      "cell_type": "markdown",
      "metadata": {
        "id": "T59QlqO_GWAK",
        "colab_type": "text"
      },
      "source": [
        "# Inheritance in Python "
      ]
    },
    {
      "cell_type": "markdown",
      "metadata": {
        "id": "n-btX5aWGZBX",
        "colab_type": "text"
      },
      "source": [
        "Inheritance is a way of creating new class for using details of existing class without modifying it. The newly formed class is a derived class (or child class). Similarly, the existing class is a base class (or parent class)."
      ]
    },
    {
      "cell_type": "markdown",
      "metadata": {
        "id": "jK515AyrGgeh",
        "colab_type": "text"
      },
      "source": [
        "**Example 6: Use of Inheritance in Python**\n"
      ]
    },
    {
      "cell_type": "code",
      "metadata": {
        "id": "mLTt25soGshe",
        "colab_type": "code",
        "colab": {
          "base_uri": "https://localhost:8080/",
          "height": 104
        },
        "outputId": "0b2ef01a-0d86-41de-8849-c29bb462b35d"
      },
      "source": [
        "# parent class\n",
        "class Bird:\n",
        "    \n",
        "    def __init__(self):\n",
        "        print(\"Bird is ready\")\n",
        "\n",
        "    def whoisThis(self):\n",
        "        print(\"Bird\")\n",
        "\n",
        "    def swim(self):\n",
        "        print(\"Swim faster\")\n",
        "\n",
        "# child class\n",
        "class Penguin(Bird):\n",
        "\n",
        "    def __init__(self):\n",
        "        # call super() function\n",
        "        super().__init__()\n",
        "        print(\"Penguin is ready\")\n",
        "\n",
        "    def whoisThis(self):\n",
        "        print(\"Penguin\")\n",
        "\n",
        "    def run(self):\n",
        "        print(\"Run faster\")\n",
        "\n",
        "peggy = Penguin()\n",
        "peggy.whoisThis()\n",
        "peggy.swim()\n",
        "peggy.run()"
      ],
      "execution_count": 15,
      "outputs": [
        {
          "output_type": "stream",
          "text": [
            "Bird is ready\n",
            "Penguin is ready\n",
            "Penguin\n",
            "Swim faster\n",
            "Run faster\n"
          ],
          "name": "stdout"
        }
      ]
    },
    {
      "cell_type": "markdown",
      "metadata": {
        "id": "Ok4HSvdLGx1e",
        "colab_type": "text"
      },
      "source": [
        "In the above program, we created two classes i.e. *Bird* (parent class) and *Penguin* (child class). The child class inherits the functions of parent class. We can see this from *swim()* method. Again, the child class modified the behavior of parent class. We can see this from whoisThis() method. Furthermore, we extend the functions of parent class, by creating a new *run()* method.\n",
        "\n",
        "Additionally, we use *super()* function before *__init__()* method. This is because we want to pull the content of *__init__()* method from the parent class into the child class."
      ]
    },
    {
      "cell_type": "markdown",
      "metadata": {
        "id": "mH-KYsGjG_IO",
        "colab_type": "text"
      },
      "source": [
        "# Encapsulation in Python "
      ]
    },
    {
      "cell_type": "markdown",
      "metadata": {
        "id": "W-i0bplyHECM",
        "colab_type": "text"
      },
      "source": [
        "Using OOP in Python, we can restrict access to methods and variables. This prevent data from direct modification which is called encapsulation. In Python, we denote private attribute using underscore as prefix i.e single “ _ “ or double “ __“."
      ]
    },
    {
      "cell_type": "markdown",
      "metadata": {
        "id": "tVlXfI5YHGc2",
        "colab_type": "text"
      },
      "source": [
        "**Example 7: Data Encapsulation in Python**"
      ]
    },
    {
      "cell_type": "code",
      "metadata": {
        "id": "K7Rn4h3THI53",
        "colab_type": "code",
        "colab": {
          "base_uri": "https://localhost:8080/",
          "height": 69
        },
        "outputId": "69e8bf9c-44f0-4aa8-ce8c-9f0f893bd74d"
      },
      "source": [
        "class Computer:\n",
        "\n",
        "    def __init__(self):\n",
        "        self.__maxprice = 900\n",
        "\n",
        "    def sell(self):\n",
        "        print(\"Selling Price: {}\".format(self.__maxprice))\n",
        "\n",
        "    def setMaxPrice(self, price):\n",
        "        self.__maxprice = price\n",
        "\n",
        "c = Computer()\n",
        "c.sell()\n",
        "\n",
        "# change the price\n",
        "c.__maxprice = 1000\n",
        "c.sell()\n",
        "\n",
        "# using setter function\n",
        "c.setMaxPrice(1000)\n",
        "c.sell()"
      ],
      "execution_count": 16,
      "outputs": [
        {
          "output_type": "stream",
          "text": [
            "Selling Price: 900\n",
            "Selling Price: 900\n",
            "Selling Price: 1000\n"
          ],
          "name": "stdout"
        }
      ]
    },
    {
      "cell_type": "markdown",
      "metadata": {
        "id": "cUOhlGg5HOJC",
        "colab_type": "text"
      },
      "source": [
        "In the above program, we defined a class Computer. We use __init__() method to store the maximum selling price of computer. We tried to modify the price. However, we can’t change it because Python treats the __maxprice as private attributes. To change the value, we used a setter function i.e setMaxPrice() which takes price as parameter."
      ]
    },
    {
      "cell_type": "markdown",
      "metadata": {
        "id": "lxt7qlFSHTHm",
        "colab_type": "text"
      },
      "source": [
        "# Polymorphism in Python "
      ]
    },
    {
      "cell_type": "markdown",
      "metadata": {
        "id": "modQ3kOCHX-F",
        "colab_type": "text"
      },
      "source": [
        "Polymorphism is an ability (in OOP) to use common interface for multiple form (data types).\n",
        "\n",
        "Suppose, we need to color a shape, there are multiple shape option (rectangle, square, circle). However we could use same method to color any shape. This concept is called Polymorphism."
      ]
    },
    {
      "cell_type": "code",
      "metadata": {
        "id": "WvUR1hI7He1A",
        "colab_type": "code",
        "colab": {
          "base_uri": "https://localhost:8080/",
          "height": 52
        },
        "outputId": "29e5b754-68f4-424a-ab14-7e288a8cf1b4"
      },
      "source": [
        "class Parrot:\n",
        "\n",
        "    def fly(self):\n",
        "        print(\"Parrot can fly\")\n",
        "    \n",
        "    def swim(self):\n",
        "        print(\"Parrot can't swim\")\n",
        "\n",
        "class Penguin:\n",
        "\n",
        "    def fly(self):\n",
        "        print(\"Penguin can't fly\")\n",
        "    \n",
        "    def swim(self):\n",
        "        print(\"Penguin can swim\")\n",
        "\n",
        "# common interface\n",
        "def flying_test(bird):\n",
        "    bird.fly()\n",
        "\n",
        "#instantiate objects\n",
        "blu = Parrot()\n",
        "peggy = Penguin()\n",
        "\n",
        "# passing the object\n",
        "flying_test(blu)\n",
        "flying_test(peggy)"
      ],
      "execution_count": 17,
      "outputs": [
        {
          "output_type": "stream",
          "text": [
            "Parrot can fly\n",
            "Penguin can't fly\n"
          ],
          "name": "stdout"
        }
      ]
    },
    {
      "cell_type": "markdown",
      "metadata": {
        "id": "l_zT_r3EHipW",
        "colab_type": "text"
      },
      "source": [
        "In the above program, we defined two classes *Parrot* and *Penguin*. Each of them have common method *fly()* method. However, their functions are different. To allow polymorphism, we created common interface i.e *flying_test()* function that can take any object. Then, we passed the objects *blu* and *peggy* in the *flying_test()* function, it ran effectively."
      ]
    },
    {
      "cell_type": "markdown",
      "metadata": {
        "id": "IwJKxWA5H2va",
        "colab_type": "text"
      },
      "source": [
        "# Advantages of Object Oriented Programming (OOP)\n",
        "\n",
        "\n",
        "*   The programming gets easy and efficient.\n",
        "*   The class is sharable, so codes can be reused.\n",
        "*   The productivity of programmars increases.\n",
        "*   Data is safe and secure with data abstraction.\n",
        "\n",
        "\n",
        "\n"
      ]
    },
    {
      "cell_type": "markdown",
      "metadata": {
        "id": "lY64JJq7Il3p",
        "colab_type": "text"
      },
      "source": [
        "# Examples from the textbook"
      ]
    },
    {
      "cell_type": "markdown",
      "metadata": {
        "id": "Twfugo5pIqn3",
        "colab_type": "text"
      },
      "source": [
        "**`Code examples from this chapter 15`**"
      ]
    },
    {
      "cell_type": "code",
      "metadata": {
        "id": "3JPBGc3zJayF",
        "colab_type": "code",
        "colab": {
          "base_uri": "https://localhost:8080/",
          "height": 173
        },
        "outputId": "34046c5e-abaa-4e62-da06-30b7228f7afd"
      },
      "source": [
        "\"\"\"\n",
        "\n",
        "Code example from Think Python, by Allen B. Downey.\n",
        "Available from http://thinkpython.com\n",
        "\n",
        "Copyright 2012 Allen B. Downey.\n",
        "Distributed under the GNU General Public License at gnu.org/licenses/gpl.html.\n",
        "\n",
        "\"\"\"\n",
        "\n",
        "class Point(object):\n",
        "    \"\"\"Represents a point in 2-D space.\"\"\"\n",
        "\n",
        "\n",
        "def print_point(p):\n",
        "    \"\"\"Print a Point object in human-readable format.\"\"\"\n",
        "    print ('(%g, %g)' % (p.x, p.y))\n",
        "\n",
        "\n",
        "class Rectangle(object):\n",
        "    \"\"\"Represents a rectangle. \n",
        "\n",
        "    attributes: width, height, corner.\n",
        "    \"\"\"\n",
        "\n",
        "\n",
        "def find_center(rect):\n",
        "    \"\"\"Returns a Point at the center of a Rectangle.\"\"\"\n",
        "    p = Point()\n",
        "    p.x = rect.corner.x + rect.width/2.0\n",
        "    p.y = rect.corner.y + rect.height/2.0\n",
        "    return p\n",
        "\n",
        "\n",
        "def grow_rectangle(rect, dwidth, dheight):\n",
        "    \"\"\"Modify the Rectangle by adding to its width and height.\n",
        "\n",
        "    rect: Rectangle object.\n",
        "    dwidth: change in width (can be negative).\n",
        "    dheight: change in height (can be negative).\n",
        "    \"\"\"\n",
        "    rect.width += dwidth\n",
        "    rect.height += dheight\n",
        "\n",
        "\n",
        "def main():\n",
        "    blank = Point()\n",
        "    blank.x = 3\n",
        "    blank.y = 4\n",
        "    print ('blank',)\n",
        "    print_point(blank)\n",
        "\n",
        "    box = Rectangle()\n",
        "    box.width = 100.0\n",
        "    box.height = 200.0\n",
        "    box.corner = Point()\n",
        "    box.corner.x = 0.0\n",
        "    box.corner.y = 0.0\n",
        "\n",
        "    center = find_center(box)\n",
        "    print ('center',)\n",
        "    print_point(center)\n",
        "\n",
        "    print (box.width)\n",
        "    print (box.height)\n",
        "    print ('grow')\n",
        "    grow_rectangle(box, 50, 100)\n",
        "    print (box.width)\n",
        "    print (box.height)\n",
        "\n",
        "\n",
        "if __name__ == '__main__':\n",
        "    main()\n"
      ],
      "execution_count": 22,
      "outputs": [
        {
          "output_type": "stream",
          "text": [
            "blank\n",
            "(3, 4)\n",
            "center\n",
            "(50, 100)\n",
            "100.0\n",
            "200.0\n",
            "grow\n",
            "150.0\n",
            "300.0\n"
          ],
          "name": "stdout"
        }
      ]
    },
    {
      "cell_type": "code",
      "metadata": {
        "id": "HsGNYMcNIyyj",
        "colab_type": "code",
        "colab": {
          "base_uri": "https://localhost:8080/",
          "height": 173
        },
        "outputId": "dc0504f0-6090-4366-c3cc-913656e80ee2"
      },
      "source": [
        "\"\"\"This module contains code from\n",
        "Think Python by Allen B. Downey\n",
        "http://thinkpython.com\n",
        "\n",
        "Copyright 2012 Allen B. Downey\n",
        "License: GNU GPLv3 http://www.gnu.org/licenses/gpl.html\n",
        "\n",
        "\"\"\"\n",
        "\n",
        "import copy\n",
        "import math\n",
        "\n",
        "# to avoid duplicating code, I'm importing everything from Point1 \n",
        "from Point1 import *\n",
        "\n",
        "\n",
        "def distance_between_points(p1, p2):\n",
        "    \"\"\"Computes the distance between two Point objects.\"\"\"\n",
        "    dx = p1.x - p2.x\n",
        "    dy = p1.y - p2.y\n",
        "    dist = math.sqrt(dx**2 + dy**2)\n",
        "    return dist\n",
        "\n",
        "\n",
        "def move_rectangle(rect, dx, dy):\n",
        "    \"\"\"Move the Rectangle by modifying its corner object.\n",
        "\n",
        "    rect: Rectangle object.\n",
        "    dx: change in x coordinate (can be negative).\n",
        "    dy: change in y coordinate (can be negative).\n",
        "    \"\"\"\n",
        "    rect.corner.x += dx\n",
        "    rect.corner.y += dy\n",
        "\n",
        "\n",
        "def move_rectangle_copy(rect, dx, dy):\n",
        "    \"\"\"Move the Rectangle and return a new Rectangle object.\n",
        "\n",
        "    rect: Rectangle object.\n",
        "    dx: change in x coordinate (can be negative).\n",
        "    dy: change in y coordinate (can be negative).\n",
        "    \"\"\"\n",
        "    new = copy.deepcopy(rect)\n",
        "    move_rectangle(new, dx, dy)\n",
        "    return new\n",
        "\n",
        "\n",
        "def main():\n",
        "    blank = Point()\n",
        "    blank.x = 0\n",
        "    blank.y = 0\n",
        "\n",
        "    grosse = Point()\n",
        "    grosse.x = 3\n",
        "    grosse.y = 4\n",
        "\n",
        "    print ('distance'+',')\n",
        "    print (distance_between_points(grosse, blank))\n",
        "\n",
        "\n",
        "    box = Rectangle()\n",
        "    box.width = 100.0\n",
        "    box.height = 200.0\n",
        "    box.corner = Point()\n",
        "    box.corner.x = 50.0\n",
        "    box.corner.y = 50.0\n",
        "\n",
        "    print (box.corner.x)\n",
        "    print (box.corner.y)\n",
        "    print ('move')\n",
        "    move_rectangle(box, 50, 100)\n",
        "    print (box.corner.x)\n",
        "    print (box.corner.y)\n",
        "\n",
        "    new_box = move_rectangle_copy(box, 50, 100)\n",
        "    print (box.corner.x)\n",
        "    print (box.corner.y)\n",
        "\n",
        "if __name__ == '__main__':\n",
        "    main()\n"
      ],
      "execution_count": 23,
      "outputs": [
        {
          "output_type": "stream",
          "text": [
            "distance,\n",
            "5.0\n",
            "50.0\n",
            "50.0\n",
            "move\n",
            "100.0\n",
            "150.0\n",
            "100.0\n",
            "150.0\n"
          ],
          "name": "stdout"
        }
      ]
    },
    {
      "cell_type": "markdown",
      "metadata": {
        "id": "8bY0axblegDz",
        "colab_type": "text"
      },
      "source": [
        "**Exercise 15.1.** \n",
        "\n",
        "Write a definition for a class named Circle with attributes center and radius,\n",
        "where center is a Point object and radius is a number.\n",
        "\n",
        "Instantiate a Circle object that represents a circle with its center at (150, 100) and radius 75.\n",
        "\n",
        "Write a function named point_in_circle that takes a Circle and a Point and returns True if the\n",
        "Point lies in or on the boundary of the circle.\n",
        "\n",
        "Write a function named rect_in_circle that takes a Circle and a Rectangle and returns True if\n",
        "the Rectangle lies entirely in or on the boundary of the circle.\n",
        "\n",
        "Write a function named rect_circle_overlap that takes a Circle and a Rectangle and returns\n",
        "True if any of the corners of the Rectangle fall inside the circle. Or as a more challenging version,\n",
        "return True if any part of the Rectangle falls inside the circle."
      ]
    },
    {
      "cell_type": "code",
      "metadata": {
        "id": "Hk13MdeddsJ-",
        "colab_type": "code",
        "colab": {
          "base_uri": "https://localhost:8080/",
          "height": 277
        },
        "outputId": "03a9862d-4222-4782-f7d4-3ea166bc171d"
      },
      "source": [
        "\"\"\"This module contains a code example related to\n",
        "\n",
        "Think Python, 2nd Edition\n",
        "by Allen Downey\n",
        "http://thinkpython2.com\n",
        "\n",
        "Copyright 2015 Allen Downey\n",
        "\n",
        "License: http://creativecommons.org/licenses/by/4.0/\n",
        "\"\"\"\n",
        "\n",
        "from __future__ import print_function, division\n",
        "\n",
        "import copy\n",
        "\n",
        "from Point1 import Point, Rectangle, print_point\n",
        "from Point1_soln import distance_between_points\n",
        "\n",
        "\n",
        "class Circle:\n",
        "    \"\"\"Represents a circle.\n",
        "\n",
        "    Attributes: center, radius\n",
        "    \"\"\"\n",
        "\n",
        "\n",
        "def point_in_circle(point, circle):\n",
        "    \"\"\"Checks whether a point lies inside a circle (or on the boundary).\n",
        "\n",
        "    point: Point object\n",
        "    circle: Circle object\n",
        "    \"\"\"\n",
        "    d = distance_between_points(point, circle.center)\n",
        "    print(d)\n",
        "    return d <= circle.radius\n",
        "\n",
        "\n",
        "def rect_in_circle(rect, circle):\n",
        "    \"\"\"Checks whether the corners of a rect fall in/on a circle.\n",
        "\n",
        "    rect: Rectangle object\n",
        "    circle: Circle object\n",
        "    \"\"\"\n",
        "    p = copy.copy(rect.corner)\n",
        "    print_point(p)\n",
        "    if not point_in_circle(p, circle):\n",
        "        return False\n",
        "\n",
        "    p.x += rect.width\n",
        "    print_point(p)\n",
        "    if not point_in_circle(p, circle):\n",
        "        return False\n",
        "\n",
        "    p.y -= rect.height\n",
        "    print_point(p)\n",
        "    if not point_in_circle(p, circle):\n",
        "        return False\n",
        "\n",
        "    p.x -= rect.width\n",
        "    print_point(p)\n",
        "    if not point_in_circle(p, circle):\n",
        "        return False\n",
        "\n",
        "    return True\n",
        "\n",
        "\n",
        "def rect_circle_overlap(rect, circle):\n",
        "    \"\"\"Checks whether any corners of a rect fall in/on a circle.\n",
        "\n",
        "    rect: Rectangle object\n",
        "    circle: Circle object\n",
        "    \"\"\"\n",
        "    p = copy.copy(rect.corner)\n",
        "    print_point(p)\n",
        "    if point_in_circle(p, circle):\n",
        "        return True\n",
        "\n",
        "    p.x += rect.width\n",
        "    print_point(p)\n",
        "    if point_in_circle(p, circle):\n",
        "        return True\n",
        "\n",
        "    p.y -= rect.height\n",
        "    print_point(p)\n",
        "    if point_in_circle(p, circle):\n",
        "        return True\n",
        "\n",
        "    p.x -= rect.width\n",
        "    print_point(p)\n",
        "    if point_in_circle(p, circle):\n",
        "        return True\n",
        "\n",
        "    return False\n",
        "\n",
        "\n",
        "def main():\n",
        "    box = Rectangle()\n",
        "    box.width = 100.0\n",
        "    box.height = 200.0\n",
        "    box.corner = Point()\n",
        "    box.corner.x = 50.0\n",
        "    box.corner.y = 50.0\n",
        "\n",
        "    print(box.corner.x)\n",
        "    print(box.corner.y)\n",
        "\n",
        "    circle = Circle\n",
        "    circle.center = Point()\n",
        "    circle.center.x = 150.0\n",
        "    circle.center.y = 100.0\n",
        "    circle.radius = 75.0\n",
        "\n",
        "    print(circle.center.x)\n",
        "    print(circle.center.y)\n",
        "    print(circle.radius)\n",
        "\n",
        "    print(point_in_circle(box.corner, circle))\n",
        "    print(rect_in_circle(box, circle))\n",
        "    print(rect_circle_overlap(box, circle))\n",
        "\n",
        "\n",
        "if __name__ == '__main__':\n",
        "    main()"
      ],
      "execution_count": 25,
      "outputs": [
        {
          "output_type": "stream",
          "text": [
            "50.0\n",
            "50.0\n",
            "150.0\n",
            "100.0\n",
            "75.0\n",
            "111.80339887498948\n",
            "False\n",
            "(50, 50)\n",
            "111.80339887498948\n",
            "False\n",
            "(50, 50)\n",
            "111.80339887498948\n",
            "(150, 50)\n",
            "50.0\n",
            "True\n"
          ],
          "name": "stdout"
        }
      ]
    },
    {
      "cell_type": "markdown",
      "metadata": {
        "id": "dWTkuko_hcgI",
        "colab_type": "text"
      },
      "source": [
        "**Code examples from this chapter 16**"
      ]
    },
    {
      "cell_type": "code",
      "metadata": {
        "id": "IjBnJSIohvb3",
        "colab_type": "code",
        "colab": {
          "base_uri": "https://localhost:8080/",
          "height": 121
        },
        "outputId": "0c60a18a-8df4-4e8f-f7d2-c1bccbecee8f"
      },
      "source": [
        "\"\"\"\n",
        "\n",
        "Code example from Think Python, by Allen B. Downey.\n",
        "Available from http://thinkpython.com\n",
        "\n",
        "Copyright 2012 Allen B. Downey.\n",
        "Distributed under the GNU General Public License at gnu.org/licenses/gpl.html.\n",
        "\n",
        "\"\"\"\n",
        "\n",
        "class Time(object):\n",
        "    \"\"\"Represents the time of day.\n",
        "       \n",
        "    attributes: hour, minute, second\n",
        "    \"\"\"\n",
        "\n",
        "def print_time(t):\n",
        "    print ('%.2d:%.2d:%.2d' % (t.hour, t.minute, t.second))\n",
        "\n",
        "\n",
        "def int_to_time(seconds):\n",
        "    \"\"\"Makes a new Time object.\n",
        "\n",
        "    seconds: int seconds since midnight.\n",
        "    \"\"\"\n",
        "    time = Time()\n",
        "    minutes, time.second = divmod(seconds, 60)\n",
        "    time.hour, time.minute = divmod(minutes, 60)\n",
        "    return time\n",
        "\n",
        "\n",
        "def time_to_int(time):\n",
        "    \"\"\"Computes the number of seconds since midnight.\n",
        "\n",
        "    time: Time object.\n",
        "    \"\"\"\n",
        "    minutes = time.hour * 60 + time.minute\n",
        "    seconds = minutes * 60 + time.second\n",
        "    return seconds\n",
        "\n",
        "\n",
        "def add_times(t1, t2):\n",
        "    \"\"\"Adds two time objects.\"\"\"\n",
        "    assert valid_time(t1) and valid_time(t2)\n",
        "    seconds = time_to_int(t1) + time_to_int(t2)\n",
        "    return int_to_time(seconds)\n",
        "\n",
        "\n",
        "def valid_time(time):\n",
        "    \"\"\"Checks whether a Time object satisfies the invariants.\"\"\"\n",
        "    if time.hour < 0 or time.minute < 0 or time.second < 0:\n",
        "        return False\n",
        "    if time.minute >= 60 or time.second >= 60:\n",
        "        return False\n",
        "    return True\n",
        "\n",
        "\n",
        "def main():\n",
        "    # if a movie starts at noon...\n",
        "    noon_time = Time()\n",
        "    noon_time.hour = 12\n",
        "    noon_time.minute = 0\n",
        "    noon_time.second = 0\n",
        "\n",
        "    print ('Starts at',)\n",
        "    print_time(noon_time)\n",
        "\n",
        "    # and the run time of the movie is 109 minutes...\n",
        "    movie_minutes = 109\n",
        "    run_time = int_to_time(movie_minutes * 60)\n",
        "    print ('Run time',)\n",
        "    print_time(run_time)\n",
        "\n",
        "    # what time does the movie end?\n",
        "    end_time = add_times(noon_time, run_time)\n",
        "    print ('Ends at',)\n",
        "    print_time(end_time)\n",
        "\n",
        "if __name__ == '__main__':\n",
        "    main()"
      ],
      "execution_count": 37,
      "outputs": [
        {
          "output_type": "stream",
          "text": [
            "Starts at\n",
            "12:00:00\n",
            "Run time\n",
            "01:49:00\n",
            "Ends at\n",
            "13:49:00\n"
          ],
          "name": "stdout"
        }
      ]
    },
    {
      "cell_type": "markdown",
      "metadata": {
        "id": "YWdnPJuGlKLm",
        "colab_type": "text"
      },
      "source": [
        "**Exercise 16.1.** \n",
        "\n",
        "Write a function called **mul_time** that takes *a Time object* and *a number* and *returns*\n",
        "*a new Time object that contains the product of the original Time and the number*.\n",
        "Then use mul_time to write a function that takes a Time object that represents the finishing time\n",
        "in a race, and a number that represents the distance, and returns a Time object that represents the\n",
        "average pace (time per mile)."
      ]
    },
    {
      "cell_type": "code",
      "metadata": {
        "id": "OAvbN0a1lhV8",
        "colab_type": "code",
        "colab": {
          "base_uri": "https://localhost:8080/",
          "height": 52
        },
        "outputId": "8b2d412a-d137-4515-c89a-b6fa9108d030"
      },
      "source": [
        "def mul_time(t1, factor):\n",
        "    \"\"\"Multiplies a Time object by a factor.\"\"\"\n",
        "    assert valid_time(t1)\n",
        "    seconds = time_to_int(t1) * factor\n",
        "    return int_to_time(seconds)\n",
        "\n",
        "race_time = Time()\n",
        "race_time.hour = 1\n",
        "race_time.minute = 34\n",
        "race_time.second = 5\n",
        "\n",
        "print('Half marathon time', end=' ')\n",
        "print_time(race_time)\n",
        "\n",
        "distance = 13.1       # miles\n",
        "pace = mul_time(race_time, 1/distance)\n",
        "\n",
        "print('Time per mile', end=' ')\n",
        "print_time(pace)"
      ],
      "execution_count": 41,
      "outputs": [
        {
          "output_type": "stream",
          "text": [
            "Half marathon time 01:34:05\n",
            "Time per mile 00:07:10\n"
          ],
          "name": "stdout"
        }
      ]
    },
    {
      "cell_type": "markdown",
      "metadata": {
        "id": "trRjnbCblA9F",
        "colab_type": "text"
      },
      "source": [
        "**Exercise 16.2.** \n",
        "\n",
        "The datetime module provides time objects that are similar to the Time objects\n",
        "in this chapter, but they provide a rich set of methods and operators. \n",
        "\n",
        "1. Use the datetime module to write a program that gets the current date and prints the day of\n",
        "the week.\n",
        "2. Write a program that takes a birthday as input and prints the user’s age and the number of\n",
        "days, hours, minutes and seconds until their next birthday.\n",
        "3. For two people born on different days, there is a day when one is twice as old as the other.\n",
        "That’s their Double Day. Write a program that takes two birth dates and computes their\n",
        "Double Day.\n",
        "4. For a little more challenge, write the more general version that computes the day when one\n",
        "person is n times older than the other"
      ]
    },
    {
      "cell_type": "code",
      "metadata": {
        "id": "QO8509BykzfL",
        "colab_type": "code",
        "colab": {
          "base_uri": "https://localhost:8080/",
          "height": 243
        },
        "outputId": "3493cb14-d79c-4273-9fdb-90159497cb89"
      },
      "source": [
        "\"\"\"This module contains a code example related to\n",
        "\n",
        "Think Python, 2nd Edition\n",
        "by Allen Downey\n",
        "http://thinkpython2.com\n",
        "\n",
        "Copyright 2015 Allen Downey\n",
        "\n",
        "License: http://creativecommons.org/licenses/by/4.0/\n",
        "\"\"\"\n",
        "\n",
        "from __future__ import print_function, division\n",
        "\n",
        "from datetime import datetime\n",
        "\n",
        "\n",
        "def main():\n",
        "    print(\"Today's date and the day of the week:\")\n",
        "    today = datetime.today()\n",
        "    print(today)\n",
        "    print(today.strftime(\"%A\"))\n",
        "\n",
        "    print(\"Your next birthday and how far away it is:\")\n",
        "    #s = input('Enter your birthday in mm/dd/yyyy format: ')\n",
        "    s = '5/11/1967'\n",
        "    bday = datetime.strptime(s, '%m/%d/%Y')\n",
        "\n",
        "    next_bday = bday.replace(year=today.year)\n",
        "    if next_bday < today:\n",
        "        next_bday = next_bday.replace(year=today.year+1)\n",
        "    print(next_bday)\n",
        "\n",
        "    until_next_bday = next_bday - today\n",
        "    print(until_next_bday)\n",
        "\n",
        "    print(\"Your current age:\")\n",
        "    last_bday = next_bday.replace(year=next_bday.year-1)\n",
        "    age = last_bday.year - bday.year\n",
        "    print(age)\n",
        "\n",
        "    print(\"For people born on these dates:\")\n",
        "    bday1 = datetime(day=11, month=5, year=1967)\n",
        "    bday2 = datetime(day=11, month=10, year=2003)\n",
        "    print(bday1)\n",
        "    print(bday2)\n",
        "\n",
        "    print(\"Double Day is\")\n",
        "    d1 = min(bday1, bday2)\n",
        "    d2 = max(bday1, bday2)\n",
        "    dd = d2 + (d2 - d1)\n",
        "    print(dd)\n",
        "\n",
        "\n",
        "if __name__ == '__main__':\n",
        "    main()"
      ],
      "execution_count": 38,
      "outputs": [
        {
          "output_type": "stream",
          "text": [
            "Today's date and the day of the week:\n",
            "2019-09-28 20:32:39.583470\n",
            "Saturday\n",
            "Your next birthday and how far away it is:\n",
            "2020-05-11 00:00:00\n",
            "225 days, 3:27:20.416530\n",
            "Your current age:\n",
            "52\n",
            "For people born on these dates:\n",
            "1967-05-11 00:00:00\n",
            "2003-10-11 00:00:00\n",
            "Double Day is\n",
            "2040-03-12 00:00:00\n"
          ],
          "name": "stdout"
        }
      ]
    },
    {
      "cell_type": "markdown",
      "metadata": {
        "id": "wvv8PJF_mu6R",
        "colab_type": "text"
      },
      "source": [
        "**Code examples from this chapter 16**"
      ]
    },
    {
      "cell_type": "code",
      "metadata": {
        "id": "AeQHJu3DmkVH",
        "colab_type": "code",
        "colab": {
          "base_uri": "https://localhost:8080/",
          "height": 208
        },
        "outputId": "48a4adfc-4f91-4367-ebb2-a4fdca160749"
      },
      "source": [
        "\"\"\"This module contains a code example related to\n",
        "\n",
        "Think Python, 2nd Edition\n",
        "by Allen Downey\n",
        "http://thinkpython2.com\n",
        "\n",
        "Copyright 2015 Allen Downey\n",
        "\n",
        "License: http://creativecommons.org/licenses/by/4.0/\n",
        "\"\"\"\n",
        "\n",
        "from __future__ import print_function, division\n",
        "\n",
        "\n",
        "class Time:\n",
        "    \"\"\"Represents the time of day.\n",
        "       \n",
        "    attributes: hour, minute, second\n",
        "    \"\"\"\n",
        "    def __init__(self, hour=0, minute=0, second=0):\n",
        "        \"\"\"Initializes a time object.\n",
        "\n",
        "        hour: int\n",
        "        minute: int\n",
        "        second: int or float\n",
        "        \"\"\"\n",
        "        self.hour = hour\n",
        "        self.minute = minute\n",
        "        self.second = second\n",
        "\n",
        "    def __str__(self):\n",
        "        \"\"\"Returns a string representation of the time.\"\"\"\n",
        "        return '%.2d:%.2d:%.2d' % (self.hour, self.minute, self.second)\n",
        "\n",
        "    def print_time(self):\n",
        "        \"\"\"Prints a string representation of the time.\"\"\"\n",
        "        print(str(self))\n",
        "\n",
        "    def time_to_int(self):\n",
        "        \"\"\"Computes the number of seconds since midnight.\"\"\"\n",
        "        minutes = self.hour * 60 + self.minute\n",
        "        seconds = minutes * 60 + self.second\n",
        "        return seconds\n",
        "\n",
        "    def is_after(self, other):\n",
        "        \"\"\"Returns True if t1 is after t2; false otherwise.\"\"\"\n",
        "        return self.time_to_int() > other.time_to_int()\n",
        "\n",
        "    def __add__(self, other):\n",
        "        \"\"\"Adds two Time objects or a Time object and a number.\n",
        "\n",
        "        other: Time object or number of seconds\n",
        "        \"\"\"\n",
        "        if isinstance(other, Time):\n",
        "            return self.add_time(other)\n",
        "        else:\n",
        "            return self.increment(other)\n",
        "\n",
        "    def __radd__(self, other):\n",
        "        \"\"\"Adds two Time objects or a Time object and a number.\"\"\"\n",
        "        return self.__add__(other)\n",
        "\n",
        "    def add_time(self, other):\n",
        "        \"\"\"Adds two time objects.\"\"\"\n",
        "        assert self.is_valid() and other.is_valid()\n",
        "        seconds = self.time_to_int() + other.time_to_int()\n",
        "        return int_to_time(seconds)\n",
        "\n",
        "    def increment(self, seconds):\n",
        "        \"\"\"Returns a new Time that is the sum of this time and seconds.\"\"\"\n",
        "        seconds += self.time_to_int()\n",
        "        return int_to_time(seconds)\n",
        "\n",
        "    def is_valid(self):\n",
        "        \"\"\"Checks whether a Time object satisfies the invariants.\"\"\"\n",
        "        if self.hour < 0 or self.minute < 0 or self.second < 0:\n",
        "            return False\n",
        "        if self.minute >= 60 or self.second >= 60:\n",
        "            return False\n",
        "        return True\n",
        "\n",
        "\n",
        "def int_to_time(seconds):\n",
        "    \"\"\"Makes a new Time object.\n",
        "\n",
        "    seconds: int seconds since midnight.\n",
        "    \"\"\"\n",
        "    minutes, second = divmod(seconds, 60)\n",
        "    hour, minute = divmod(minutes, 60)\n",
        "    time = Time(hour, minute, second)\n",
        "    return time\n",
        "\n",
        "\n",
        "def main():\n",
        "    start = Time(9, 45, 00)\n",
        "    start.print_time()\n",
        "\n",
        "    end = start.increment(1337)\n",
        "    #end = start.increment(1337, 460)\n",
        "    end.print_time()\n",
        "\n",
        "    print('Is end after start?')\n",
        "    print(end.is_after(start))\n",
        "\n",
        "    print('Using __str__')\n",
        "    print(start, end)\n",
        "\n",
        "    start = Time(9, 45)\n",
        "    duration = Time(1, 35)\n",
        "    print(start + duration)\n",
        "    print(start + 1337)\n",
        "    print(1337 + start)\n",
        "\n",
        "    print('Example of polymorphism')\n",
        "    t1 = Time(7, 43)\n",
        "    t2 = Time(7, 41)\n",
        "    t3 = Time(7, 37)\n",
        "    total = sum([t1, t2, t3])\n",
        "    print(total)\n",
        "\n",
        "\n",
        "if __name__ == '__main__':\n",
        "    main()"
      ],
      "execution_count": 42,
      "outputs": [
        {
          "output_type": "stream",
          "text": [
            "09:45:00\n",
            "10:07:17\n",
            "Is end after start?\n",
            "True\n",
            "Using __str__\n",
            "09:45:00 10:07:17\n",
            "11:20:00\n",
            "10:07:17\n",
            "10:07:17\n",
            "Example of polymorphism\n",
            "23:01:00\n"
          ],
          "name": "stdout"
        }
      ]
    },
    {
      "cell_type": "markdown",
      "metadata": {
        "id": "aQM6cWo-pbEN",
        "colab_type": "text"
      },
      "source": [
        "**Exercise 18.2.** \n",
        "\n",
        "Write a Deck method called deal_hands that takes two parameters, the number of\n",
        "hands and the number of cards per hand. It should create the appropriate number of Hand objects,\n",
        "deal the appropriate number of cards per hand, and return a list of Hands."
      ]
    },
    {
      "cell_type": "code",
      "metadata": {
        "id": "Pm8VzduvpVbQ",
        "colab_type": "code",
        "colab": {
          "base_uri": "https://localhost:8080/",
          "height": 1000
        },
        "outputId": "e9d3b68b-9a2c-4c14-8cf8-974210c336f6"
      },
      "source": [
        "import random\n",
        "\n",
        "class Card:\n",
        "\t''' class represents suit of cars, encoding with numbers \n",
        "\t\n",
        "\tAttributes:\n",
        "\t\tsuit;\n",
        "\t\trank;\n",
        "\t\n",
        "\tsapdes -> 3\n",
        "\thearts -> 2\n",
        "\tdiamonds -> 1\n",
        "\tclubs -> 0\n",
        "\t\n",
        "\tjack -> 11\n",
        "\tqueen -> 12\n",
        "\tking -> 13\n",
        "\t\n",
        "\t\n",
        "\t'''\n",
        "\t# Attribute\n",
        "\tsuit_names = ['Clubs', 'Diamonds', 'Hearts', 'Spades']\n",
        "\trank_names = [None, 'Ace', '2', '3', '4', '5', '6', '7', '8', '9', '10', 'Jack', 'Queen', 'King']\n",
        "\t\n",
        "\tdef __init__(self, suit=0, rank=2):\n",
        "\t\tself.suit = suit\n",
        "\t\tself.rank = rank\n",
        "\t\t\n",
        "\tdef __str__(self):\n",
        "\t\treturn '%s of %s' % (Card.rank_names[self.rank], Card.suit_names[self.suit])\n",
        "\t\n",
        "\tdef __lt__(self, other):\n",
        "\t\t# first compare suit\n",
        "\t\tif self.suit < other.suit: return True\n",
        "\t\tif self.suit > other.suit: return False\n",
        "\t\t\n",
        "\t\t# if suit is the same then compare rank\n",
        "\t\treturn self.rank < other.rank\n",
        "\t\t\n",
        "\t\t\n",
        "class Deck:\n",
        "\t'''class represents deck\n",
        "\t\n",
        "\tAttributes:\n",
        "\t\tcards: list\n",
        "\t'''\n",
        "\t\n",
        "\tdef __init__(self):\n",
        "\t\tself.cards = []\n",
        "\t\tfor suit in range(4):\n",
        "\t\t\tfor rank in range(1, 14):\n",
        "\t\t\t\tcard = Card(suit, rank)\n",
        "\t\t\t\tself.cards.append(card)\n",
        "\t\n",
        "\tdef __str__(self):\n",
        "\t\tres = []\n",
        "\t\tfor card in self.cards:\n",
        "\t\t\tres.append(str(card))\n",
        "\t\treturn '\\n'.join(res)\n",
        "\t\t\n",
        "\tdef pop_card(self):\n",
        "\t\t'''remove the last card from the deck'''\n",
        "\t\treturn self.cards.pop()\n",
        "\t\t\n",
        "\tdef add_card(self, card):\n",
        "\t\t''' add a card to the last position of deck (using veneer methods)'''\n",
        "\t\tself.cards.append(card)\n",
        "\t\t\n",
        "\tdef shuffle(self):\n",
        "\t\t'''shuffle the deck randomly'''\n",
        "\t\trandom.shuffle(self.cards)\n",
        "\t\t\n",
        "\tdef sort(self):\n",
        "\t\t'''sort the deck in descending ordoer'''\n",
        "\t\tself.cards.sort()\n",
        "\t\t\n",
        "\tdef move_card(self, hand, num):\n",
        "\t\t'''move card(s) to another Hand or Deck'''\n",
        "\t\tfor i in range(num):\n",
        "\t\t\thand.add_card(self.pop_card())\n",
        "\t\t\t\n",
        "\tdef deal_hands(self, num_of_hands, num_of_cards_per_hand):\n",
        "\t\t'''deal hands\n",
        "\t\t\n",
        "\t\tnum_of_hands: int\n",
        "\t\tnum_of_cards_per_hand: list\n",
        "\t\t\n",
        "\t\t'''\n",
        "\t\thand_list = []\n",
        "\t\tfor i in range(num_of_hands):\n",
        "\t\t\th = Hand(\"Hand No. %d\" % i)\n",
        "\t\t\tself.move_card(h, num_of_cards_per_hand)\n",
        "\t\t\thand_list.append(h)\n",
        "\t\treturn hand_list\n",
        "\t\t\n",
        "\t\t\n",
        "class Hand(Deck):\n",
        "\t'''class represents cards on hand, inherited from deck '''\n",
        "\t\n",
        "\tdef __init__(self, label=''):\n",
        "\t\t'''initialize cards on hand, and label which hand is using'''\n",
        "\t\tself.cards = []\n",
        "\t\tself.label = label\n",
        "\t\t\n",
        "if __name__ == '__main__':\n",
        "\tking_of_spades = Card(3, 13) # test\n",
        "\tprint(king_of_spades)\n",
        "\td = Deck() #test\n",
        "\tprint('\\n---initial result---')\n",
        "\tprint(d)\n",
        "\td.shuffle()\n",
        "\tprint('\\n---shuffle result---')\n",
        "\tprint(d)\n",
        "\td.sort()\n",
        "\tprint('\\n---sort result---')\n",
        "\tprint(d)\n",
        "\tprint('\\n---deal_hand test result---')\n",
        "\tli = d.deal_hands(5,4)\n",
        "\tfor h in li:\n",
        "\t\tprint (h.label)\n",
        "\t\tprint (h)"
      ],
      "execution_count": 51,
      "outputs": [
        {
          "output_type": "stream",
          "text": [
            "King of Spades\n",
            "\n",
            "---initial result---\n",
            "Ace of Clubs\n",
            "2 of Clubs\n",
            "3 of Clubs\n",
            "4 of Clubs\n",
            "5 of Clubs\n",
            "6 of Clubs\n",
            "7 of Clubs\n",
            "8 of Clubs\n",
            "9 of Clubs\n",
            "10 of Clubs\n",
            "Jack of Clubs\n",
            "Queen of Clubs\n",
            "King of Clubs\n",
            "Ace of Diamonds\n",
            "2 of Diamonds\n",
            "3 of Diamonds\n",
            "4 of Diamonds\n",
            "5 of Diamonds\n",
            "6 of Diamonds\n",
            "7 of Diamonds\n",
            "8 of Diamonds\n",
            "9 of Diamonds\n",
            "10 of Diamonds\n",
            "Jack of Diamonds\n",
            "Queen of Diamonds\n",
            "King of Diamonds\n",
            "Ace of Hearts\n",
            "2 of Hearts\n",
            "3 of Hearts\n",
            "4 of Hearts\n",
            "5 of Hearts\n",
            "6 of Hearts\n",
            "7 of Hearts\n",
            "8 of Hearts\n",
            "9 of Hearts\n",
            "10 of Hearts\n",
            "Jack of Hearts\n",
            "Queen of Hearts\n",
            "King of Hearts\n",
            "Ace of Spades\n",
            "2 of Spades\n",
            "3 of Spades\n",
            "4 of Spades\n",
            "5 of Spades\n",
            "6 of Spades\n",
            "7 of Spades\n",
            "8 of Spades\n",
            "9 of Spades\n",
            "10 of Spades\n",
            "Jack of Spades\n",
            "Queen of Spades\n",
            "King of Spades\n",
            "\n",
            "---shuffle result---\n",
            "8 of Clubs\n",
            "2 of Spades\n",
            "2 of Diamonds\n",
            "4 of Hearts\n",
            "Ace of Diamonds\n",
            "7 of Diamonds\n",
            "6 of Diamonds\n",
            "10 of Clubs\n",
            "10 of Hearts\n",
            "Jack of Clubs\n",
            "Jack of Hearts\n",
            "7 of Clubs\n",
            "10 of Spades\n",
            "5 of Hearts\n",
            "King of Spades\n",
            "Queen of Spades\n",
            "3 of Hearts\n",
            "Jack of Diamonds\n",
            "2 of Clubs\n",
            "7 of Spades\n",
            "7 of Hearts\n",
            "6 of Spades\n",
            "6 of Clubs\n",
            "Jack of Spades\n",
            "2 of Hearts\n",
            "4 of Diamonds\n",
            "4 of Clubs\n",
            "9 of Diamonds\n",
            "10 of Diamonds\n",
            "6 of Hearts\n",
            "5 of Diamonds\n",
            "4 of Spades\n",
            "3 of Diamonds\n",
            "8 of Spades\n",
            "8 of Hearts\n",
            "9 of Hearts\n",
            "5 of Clubs\n",
            "Ace of Spades\n",
            "9 of Spades\n",
            "Queen of Diamonds\n",
            "3 of Spades\n",
            "Queen of Clubs\n",
            "8 of Diamonds\n",
            "3 of Clubs\n",
            "Ace of Clubs\n",
            "King of Hearts\n",
            "Ace of Hearts\n",
            "5 of Spades\n",
            "9 of Clubs\n",
            "Queen of Hearts\n",
            "King of Clubs\n",
            "King of Diamonds\n",
            "\n",
            "---sort result---\n",
            "Ace of Clubs\n",
            "2 of Clubs\n",
            "3 of Clubs\n",
            "4 of Clubs\n",
            "5 of Clubs\n",
            "6 of Clubs\n",
            "7 of Clubs\n",
            "8 of Clubs\n",
            "9 of Clubs\n",
            "10 of Clubs\n",
            "Jack of Clubs\n",
            "Queen of Clubs\n",
            "King of Clubs\n",
            "Ace of Diamonds\n",
            "2 of Diamonds\n",
            "3 of Diamonds\n",
            "4 of Diamonds\n",
            "5 of Diamonds\n",
            "6 of Diamonds\n",
            "7 of Diamonds\n",
            "8 of Diamonds\n",
            "9 of Diamonds\n",
            "10 of Diamonds\n",
            "Jack of Diamonds\n",
            "Queen of Diamonds\n",
            "King of Diamonds\n",
            "Ace of Hearts\n",
            "2 of Hearts\n",
            "3 of Hearts\n",
            "4 of Hearts\n",
            "5 of Hearts\n",
            "6 of Hearts\n",
            "7 of Hearts\n",
            "8 of Hearts\n",
            "9 of Hearts\n",
            "10 of Hearts\n",
            "Jack of Hearts\n",
            "Queen of Hearts\n",
            "King of Hearts\n",
            "Ace of Spades\n",
            "2 of Spades\n",
            "3 of Spades\n",
            "4 of Spades\n",
            "5 of Spades\n",
            "6 of Spades\n",
            "7 of Spades\n",
            "8 of Spades\n",
            "9 of Spades\n",
            "10 of Spades\n",
            "Jack of Spades\n",
            "Queen of Spades\n",
            "King of Spades\n",
            "\n",
            "---deal_hand test result---\n",
            "Hand No. 0\n",
            "King of Spades\n",
            "Queen of Spades\n",
            "Jack of Spades\n",
            "10 of Spades\n",
            "Hand No. 1\n",
            "9 of Spades\n",
            "8 of Spades\n",
            "7 of Spades\n",
            "6 of Spades\n",
            "Hand No. 2\n",
            "5 of Spades\n",
            "4 of Spades\n",
            "3 of Spades\n",
            "2 of Spades\n",
            "Hand No. 3\n",
            "Ace of Spades\n",
            "King of Hearts\n",
            "Queen of Hearts\n",
            "Jack of Hearts\n",
            "Hand No. 4\n",
            "10 of Hearts\n",
            "9 of Hearts\n",
            "8 of Hearts\n",
            "7 of Hearts\n"
          ],
          "name": "stdout"
        }
      ]
    },
    {
      "cell_type": "markdown",
      "metadata": {
        "id": "5d_Tjv0NqqqI",
        "colab_type": "text"
      },
      "source": [
        "**Exercise 18.3.** \n",
        "\n",
        "The following are the possible hands in poker, in increasing order of value and\n",
        "decreasing order of probability:\n",
        "\n",
        "**pair:** two cards with the same rank\n",
        "\n",
        "**two pair:** two pairs of cards with the same rank\n",
        "\n",
        "**three of a kind:** three cards with the same rank\n",
        "\n",
        "**straight:** five cards with ranks in sequence (aces can be high or low, so Ace-2-3-4-5 is a straight\n",
        "and so is 10-Jack-Queen-King-Ace, but Queen-King-Ace-2-3 is not.)\n",
        "\n",
        "**flush:** five cards with the same suit\n",
        "\n",
        "**full house:** three cards with one rank, two cards with another\n",
        "\n",
        "**four of a kind:** four cards with the same rank\n",
        "\n",
        "**straight flush:** five cards in sequence (as defined above) and with the same suit"
      ]
    },
    {
      "cell_type": "code",
      "metadata": {
        "id": "4gt4qfcgpWJ1",
        "colab_type": "code",
        "colab": {
          "base_uri": "https://localhost:8080/",
          "height": 208
        },
        "outputId": "63a20970-25ba-4341-c201-9cae09f2676c"
      },
      "source": [
        "\"\"\"Adapeted from Think Python website\n",
        "Copyright 2017 Dex D. Hunter\n",
        "License: http://creativecommons.org/licenses/by/4.0/\n",
        "\"\"\"\n",
        "\n",
        "from __future__ import print_function, division\n",
        "\n",
        "from Card import Hand, Deck\n",
        "\n",
        "\n",
        "class PokerHand(Hand):\n",
        "\t\"\"\"Represents a poker hand.\n",
        "\t\n",
        "\tInherited from Hand\n",
        "\t\"\"\"\n",
        "\n",
        "\tdef suit_hist(self):\n",
        "\t\t\"\"\"Builds a histogram of the suits that appear in the hand.\n",
        "\t\tStores the result in attribute suits.\n",
        "\t\t\"\"\"\n",
        "\t\tself.suits = {}\n",
        "\t\tfor card in self.cards:\n",
        "\t\t\tself.suits[card.suit] = self.suits.get(card.suit, 0) + 1\n",
        "\t\tprint(self.suits)\n",
        "\t\t\n",
        "\tdef rank_hist(self):\n",
        "\t\t\"\"\"Builds a histogram of the rank that appear in the hand.\n",
        "\t\tStores the result in attribute rank.\n",
        "\t\t\"\"\"\n",
        "\t\tself.ranks = {}\n",
        "\t\tfor card in self.cards:\n",
        "\t\t\tself.ranks[card.rank] = self.ranks.get(card.rank, 0) + 1\n",
        "\t\tprint(self.ranks)\n",
        "\n",
        "\tdef has_flush(self):\n",
        "\t\t\"\"\"Returns True if the hand has a flush, False otherwise.\n",
        "\t  \n",
        "\t\tNote that this works correctly for hands with more than 5 cards.\n",
        "\t\t\n",
        "\t\tflush: 5 cards with the same suit\n",
        "\t\t\"\"\"\n",
        "\t\tself.suit_hist()\n",
        "\t\tfor val in self.suits.values():\n",
        "\t\t\tif val >= 5:\n",
        "\t\t\t\treturn True\n",
        "\t\treturn False\n",
        "\t\t\n",
        "\tdef has_pair(self, other):\n",
        "\t\t'''pair: two cards with the same rank'''\n",
        "\t\tself.rank_hist()\n",
        "\t\tfor val in self.ranks.values():\n",
        "\t\t\tif val >= 2:\n",
        "\t\t\t\treturn True\n",
        "\t\treturn False\n",
        "\t\t\n",
        "\t\n",
        "\tdef has_twopair(self):\n",
        "\t\t''' has two pairs of cards with the same rank '''\n",
        "\t\tself.rank_hist()\n",
        "\t\tcount = 0\n",
        "\t\tfor val in self.ranks.values():\n",
        "\t\t\tif val >= 2:\n",
        "\t\t\t\tcount += 1\n",
        "\t\t\t\t\n",
        "\t\tif count >=2:\n",
        "\t\t\treturn True\n",
        "\t\treturn False\n",
        "\t\t\n",
        "\tdef classify(self):\n",
        "\t\t'''\n",
        "\t\tstraight: five cards with ranks in sequence\n",
        "\t\t\n",
        "\t\tflush: five cards with the same suit\n",
        "\t\t'''\n",
        "\t\tlabel = ['pair', 'two pair', 'three of a kind', 'striaght', 'flush', 'full house', 'four of a kind', 'straight flush']\n",
        "\t\t\n",
        "\n",
        "\n",
        "if __name__ == '__main__':\n",
        "\t# make a deck\n",
        "\tdeck = Deck()\n",
        "\tdeck.shuffle()\n",
        "\n",
        "\t# deal the cards and classify the hands\n",
        "\th = PokerHand()\n",
        "\tdeck.move_card(h, 10)\n",
        "\th.suit_hist()\n",
        "\tprint(h)\n",
        "\t'''\n",
        "\tfor i in range(7):\n",
        "\t\thand = PokerHand()\n",
        "\t\tdeck.move_cards(hand, 7)\n",
        "\t\thand.suit_hist\n",
        "\t\thand.sort()\n",
        "\t\tprint(hand)\n",
        "\t\tprint(hand.has_flush())\n",
        "\t\tprint('')\n",
        "\t'''"
      ],
      "execution_count": 53,
      "outputs": [
        {
          "output_type": "stream",
          "text": [
            "{1: 2, 2: 3, 0: 2, 3: 3}\n",
            "Queen of Diamonds\n",
            "9 of Hearts\n",
            "Ace of Hearts\n",
            "2 of Clubs\n",
            "9 of Spades\n",
            "5 of Clubs\n",
            "Ace of Spades\n",
            "8 of Diamonds\n",
            "Queen of Spades\n",
            "2 of Hearts\n"
          ],
          "name": "stdout"
        }
      ]
    }
  ]
}