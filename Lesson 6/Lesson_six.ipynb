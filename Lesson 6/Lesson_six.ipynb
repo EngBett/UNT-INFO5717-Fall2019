{
  "nbformat": 4,
  "nbformat_minor": 0,
  "metadata": {
    "colab": {
      "name": "Lesson_six.ipynb",
      "provenance": [],
      "include_colab_link": true
    },
    "kernelspec": {
      "name": "python3",
      "display_name": "Python 3"
    }
  },
  "cells": [
    {
      "cell_type": "markdown",
      "metadata": {
        "id": "view-in-github",
        "colab_type": "text"
      },
      "source": [
        "<a href=\"https://colab.research.google.com/github/unt-iialab/UNT-INFO5717-Fall2019/blob/master/Lesson%206/Lesson_six.ipynb\" target=\"_parent\"><img src=\"https://colab.research.google.com/assets/colab-badge.svg\" alt=\"Open In Colab\"/></a>"
      ]
    },
    {
      "cell_type": "markdown",
      "metadata": {
        "id": "olyBK5-1vXwg",
        "colab_type": "text"
      },
      "source": [
        "# Lesson Six: Classes and Objects"
      ]
    },
    {
      "cell_type": "markdown",
      "metadata": {
        "id": "xJtBrNYt502G",
        "colab_type": "text"
      },
      "source": [
        "http://www.greenteapress.com/thinkpython/html/thinkpython019.html\n",
        "\n",
        "15, 16, 17, and 18"
      ]
    },
    {
      "cell_type": "markdown",
      "metadata": {
        "id": "vRvYrWS0vuKW",
        "colab_type": "text"
      },
      "source": [
        "# Python Object Oriented Programming (OOP)\n"
      ]
    },
    {
      "cell_type": "markdown",
      "metadata": {
        "id": "Z3DFfLzMv8Jq",
        "colab_type": "text"
      },
      "source": [
        "Python is a multi-paradigm programming language. Meaning, it supports different programming approach.\n",
        "\n",
        "One of the popular approach to solve a programming problem is by creating objects. This is known as Object-Oriented Programming (OOP).\n",
        "\n",
        "An object has two characteristics:\n",
        "\n",
        "*   attributes\n",
        "*   behavior\n",
        "\n",
        "**Let's take an example:**\n",
        "\n",
        "Parrot is an object,\n",
        "\n",
        "*   name, age, color are attributes\n",
        "*   singing, dancing are behavior\n",
        "\n",
        "\n",
        "\n",
        "\n",
        "\n"
      ]
    },
    {
      "cell_type": "markdown",
      "metadata": {
        "id": "83_NiTmqyjGX",
        "colab_type": "text"
      },
      "source": [
        "The concept of OOP in Python focuses on creating reusable code. This concept is also known as DRY (Don't Repeat Yourself).\n",
        "\n",
        "In Python, the concept of OOP follows some basic principles:\n",
        "\n",
        "| Principles   |      Description      |\n",
        "|----------|:-------------:|\n",
        "| Inheritance |  A process of using details from a new class without modifying existing class. | \n",
        "| Encapsulation |    Hiding the private details of a class from other objects. |\n",
        "| Polymorphism | A concept of using common operation in different ways for different data input. |  \n",
        "\n"
      ]
    },
    {
      "cell_type": "markdown",
      "metadata": {
        "id": "XJKoIupF2ZW3",
        "colab_type": "text"
      },
      "source": [
        "# What are classes and objects in Python?"
      ]
    },
    {
      "cell_type": "markdown",
      "metadata": {
        "id": "JThGbmGd2bws",
        "colab_type": "text"
      },
      "source": [
        "As mentioned above, Python is an object oriented programming language. Unlike procedure oriented programming, where the main emphasis is on functions, object oriented programming stress on objects.\n",
        "\n",
        "Object is simply a collection of data (variables) and methods (functions) that act on those data. And, class is a blueprint for the object.\n",
        "\n",
        "We can think of **class as a sketch (prototype) of a house**. It contains all the details about the floors, doors, windows etc. Based on these descriptions we build the house. House is the object.\n",
        "\n",
        "As, many houses can be made from a description, **we can create many objects from a class**. An object is also called an instance of a class and the process of creating this object is called instantiation."
      ]
    },
    {
      "cell_type": "markdown",
      "metadata": {
        "id": "yNQpNY971oAs",
        "colab_type": "text"
      },
      "source": [
        "**Example 1: Creating Class and Object in Python**\n"
      ]
    },
    {
      "cell_type": "code",
      "metadata": {
        "id": "bGNpYUAJ1s5F",
        "colab_type": "code",
        "colab": {
          "base_uri": "https://localhost:8080/",
          "height": 87
        },
        "outputId": "438f2f47-a580-426a-f86e-96a8a50d9273"
      },
      "source": [
        "class Parrot:\n",
        "\n",
        "    # class attribute\n",
        "    species = \"bird\"\n",
        "\n",
        "    # instance attribute\n",
        "    def __init__(self, name, age):\n",
        "        self.name = name\n",
        "        self.age = age\n",
        "\n",
        "# instantiate the Parrot class\n",
        "blu = Parrot(\"Blu\", 10)\n",
        "woo = Parrot(\"Woo\", 15)\n",
        "\n",
        "# access the class attributes\n",
        "print(\"Blu is a {}\".format(blu.__class__.species))\n",
        "print(\"Woo is also a {}\".format(woo.__class__.species))\n",
        "\n",
        "# access the instance attributes\n",
        "print(\"{} is {} years old\".format( blu.name, blu.age))\n",
        "print(\"{} is {} years old\".format( woo.name, woo.age))"
      ],
      "execution_count": 3,
      "outputs": [
        {
          "output_type": "stream",
          "text": [
            "Blu is a bird\n",
            "Woo is also a bird\n",
            "Blu is 10 years old\n",
            "Woo is 15 years old\n"
          ],
          "name": "stdout"
        }
      ]
    },
    {
      "cell_type": "markdown",
      "metadata": {
        "id": "xMvYwPT80VSw",
        "colab_type": "text"
      },
      "source": [
        "# Defining a Class in Python"
      ]
    },
    {
      "cell_type": "markdown",
      "metadata": {
        "id": "QqOYgPxp0WmW",
        "colab_type": "text"
      },
      "source": [
        "Like function definitions begin with the keyword **def**, in Python, we define a class using the keyword **class**.\n",
        "\n",
        "The first string is called docstring and has a brief description about the class. Although not mandatory, this is recommended.\n",
        "\n",
        "Here is a simple class definition.\n"
      ]
    },
    {
      "cell_type": "code",
      "metadata": {
        "id": "mHJZJKi-03o6",
        "colab_type": "code",
        "colab": {}
      },
      "source": [
        "class MyNewClass:\n",
        "    '''This is a docstring. I have created a new class'''\n",
        "    pass"
      ],
      "execution_count": 0,
      "outputs": []
    },
    {
      "cell_type": "markdown",
      "metadata": {
        "id": "pzh5rs9707XN",
        "colab_type": "text"
      },
      "source": [
        "A class creates a new local namespace where all its attributes are defined. Attributes may be data or functions.\n",
        "\n",
        "There are also special attributes in it that begins with double underscores (__). For example, __doc__ gives us the docstring of that class.\n",
        "\n",
        "As soon as we define a class, a new class object is created with the same name. This class object allows us to access the different attributes as well as to instantiate new objects of that class.\n",
        "\n"
      ]
    },
    {
      "cell_type": "markdown",
      "metadata": {
        "id": "yb9DQCZj36P8",
        "colab_type": "text"
      },
      "source": [
        "**Example 2: Creating Class in Python**"
      ]
    },
    {
      "cell_type": "code",
      "metadata": {
        "id": "4WAaxA0130wK",
        "colab_type": "code",
        "colab": {
          "base_uri": "https://localhost:8080/",
          "height": 69
        },
        "outputId": "eb930466-6caa-42a4-8941-44c85ad8cf72"
      },
      "source": [
        "class MyClass:\n",
        "\t\"This is my second class\"\n",
        "\ta = 10\n",
        "\tdef func(self):\n",
        "\t\tprint('Hello')\n",
        "\n",
        "# Output: 10\n",
        "print(MyClass.a)\n",
        "\n",
        "# Output: <function MyClass.func at 0x0000000003079BF8>\n",
        "print(MyClass.func)\n",
        "\n",
        "# Output: 'This is my second class'\n",
        "print(MyClass.__doc__)"
      ],
      "execution_count": 5,
      "outputs": [
        {
          "output_type": "stream",
          "text": [
            "10\n",
            "<function MyClass.func at 0x7fbfef212f28>\n",
            "This is my second class\n"
          ],
          "name": "stdout"
        }
      ]
    },
    {
      "cell_type": "markdown",
      "metadata": {
        "id": "OXynZkwO1BdM",
        "colab_type": "text"
      },
      "source": [
        "# Creating an Object in Python"
      ]
    },
    {
      "cell_type": "markdown",
      "metadata": {
        "id": "jZn6XldW1Dbn",
        "colab_type": "text"
      },
      "source": [
        "We saw that the class object could be used to access different attributes.\n",
        "\n",
        "It can also be used to create new object instances (instantiation) of that class. The procedure to create an object is similar to a *function* call.\n"
      ]
    },
    {
      "cell_type": "code",
      "metadata": {
        "id": "ZebM3JTx1b03",
        "colab_type": "code",
        "colab": {}
      },
      "source": [
        "ob = MyClass()"
      ],
      "execution_count": 0,
      "outputs": []
    },
    {
      "cell_type": "markdown",
      "metadata": {
        "id": "Dj_imj441fFZ",
        "colab_type": "text"
      },
      "source": [
        "This will create a new instance object named *ob*. We can access attributes of objects using the object name prefix.\n",
        "\n",
        "Attributes may be data or method. Method of an object are corresponding functions of that class. Any function object that is a class attribute defines a method for objects of that class.\n",
        "\n",
        "This means to say, since *MyClass.func* is a function object (attribute of class), *ob.func* will be a method object.\n",
        "\n"
      ]
    },
    {
      "cell_type": "markdown",
      "metadata": {
        "id": "0yN8meEa1jxX",
        "colab_type": "text"
      },
      "source": [
        "**Example 3: Creating Object in Python**"
      ]
    },
    {
      "cell_type": "code",
      "metadata": {
        "id": "5o19rKwh4sAe",
        "colab_type": "code",
        "colab": {
          "base_uri": "https://localhost:8080/",
          "height": 69
        },
        "outputId": "40552d56-008a-4387-a80c-ce1c5de35c07"
      },
      "source": [
        "class MyClass:\n",
        "\t\"This is my second class\"\n",
        "\ta = 10\n",
        "\tdef func(self):\n",
        "\t\tprint('Hello')\n",
        "\n",
        "# create a new MyClass\n",
        "ob = MyClass()\n",
        "\n",
        "# Output: <function MyClass.func at 0x000000000335B0D0>\n",
        "print(MyClass.func)\n",
        "\n",
        "# Output: <bound method MyClass.func of <__main__.MyClass object at 0x000000000332DEF0>>\n",
        "print(ob.func)\n",
        "\n",
        "# Calling function func()\n",
        "# Output: Hello\n",
        "ob.func()"
      ],
      "execution_count": 7,
      "outputs": [
        {
          "output_type": "stream",
          "text": [
            "<function MyClass.func at 0x7fbfee9b3488>\n",
            "<bound method MyClass.func of <__main__.MyClass object at 0x7fbfee9bf710>>\n",
            "Hello\n"
          ],
          "name": "stdout"
        }
      ]
    },
    {
      "cell_type": "markdown",
      "metadata": {
        "id": "BQlSXww-5L2U",
        "colab_type": "text"
      },
      "source": [
        "You may have noticed the *self* parameter in function definition inside the class but, we called the method simply as *ob.func()* without any arguments. It still worked.\n",
        "\n",
        "This is because, whenever an object calls its method, the object itself is passed as the first argument. So, *ob.func()* translates into *MyClass.func(ob)*."
      ]
    },
    {
      "cell_type": "markdown",
      "metadata": {
        "id": "wLMUnr8U5M_U",
        "colab_type": "text"
      },
      "source": [
        "# Methods in Python"
      ]
    },
    {
      "cell_type": "markdown",
      "metadata": {
        "id": "17eidZmD5cSp",
        "colab_type": "text"
      },
      "source": [
        "Methods are functions defined inside the body of a class. They are used to define the behaviors of an object."
      ]
    },
    {
      "cell_type": "markdown",
      "metadata": {
        "id": "JBDIT2Hu5dVc",
        "colab_type": "text"
      },
      "source": [
        "**Example 4: Creating Methods in Python**"
      ]
    },
    {
      "cell_type": "code",
      "metadata": {
        "id": "icFoE1ac5mXu",
        "colab_type": "code",
        "colab": {
          "base_uri": "https://localhost:8080/",
          "height": 52
        },
        "outputId": "e0c9fc5a-063a-410a-d29f-fcfefc933735"
      },
      "source": [
        "class Parrot:\n",
        "    \n",
        "    # instance attributes\n",
        "    def __init__(self, name, age):\n",
        "        self.name = name\n",
        "        self.age = age\n",
        "    \n",
        "    # instance method\n",
        "    def sing(self, song):\n",
        "        return \"{} sings {}\".format(self.name, song)\n",
        "\n",
        "    def dance(self):\n",
        "        return \"{} is now dancing\".format(self.name)\n",
        "\n",
        "# instantiate the object\n",
        "blu = Parrot(\"Blu\", 10)\n",
        "\n",
        "# call our instance methods\n",
        "print(blu.sing(\"'Happy'\"))\n",
        "print(blu.dance())"
      ],
      "execution_count": 8,
      "outputs": [
        {
          "output_type": "stream",
          "text": [
            "Blu sings 'Happy'\n",
            "Blu is now dancing\n"
          ],
          "name": "stdout"
        }
      ]
    },
    {
      "cell_type": "markdown",
      "metadata": {
        "id": "bOnUF2H-5vWw",
        "colab_type": "text"
      },
      "source": [
        "In general, calling a method with a list of n arguments is equivalent to calling the corresponding function with an argument list that is created by inserting the method's object before the first argument.\n",
        "\n",
        "For these reasons, the first argument of the function in class must be the object itself. This is conventionally called self. It can be named otherwise but we highly recommend to follow the convention.\n",
        "\n",
        "Now you must be familiar with class object, instance object, function object, method object and their differences."
      ]
    },
    {
      "cell_type": "markdown",
      "metadata": {
        "id": "1dn2kFnP5yiI",
        "colab_type": "text"
      },
      "source": [
        "# Constructors in Python"
      ]
    },
    {
      "cell_type": "markdown",
      "metadata": {
        "id": "Q24qNd8I6D4I",
        "colab_type": "text"
      },
      "source": [
        "Class functions that begins with double underscore **(__)** are called special functions as they have special meaning.\n",
        "\n",
        "Of one particular interest is the **__init__()** function. This special function gets called whenever a new object of that class is instantiated.\n",
        "\n",
        "This type of function is also called constructors in Object Oriented Programming (OOP). We normally use it to initialize all the variables."
      ]
    },
    {
      "cell_type": "markdown",
      "metadata": {
        "id": "vNr8yb5S6Ydb",
        "colab_type": "text"
      },
      "source": [
        "**Example 4: Creating constructors** "
      ]
    },
    {
      "cell_type": "code",
      "metadata": {
        "id": "KKW4iBup6gG5",
        "colab_type": "code",
        "colab": {
          "base_uri": "https://localhost:8080/",
          "height": 235
        },
        "outputId": "ae623bc9-e2cf-4432-9dd2-185deaa37183"
      },
      "source": [
        "class ComplexNumber:\n",
        "    def __init__(self,r = 0,i = 0):\n",
        "        self.real = r\n",
        "        self.imag = i\n",
        "\n",
        "    def getData(self):\n",
        "        print(\"{0}+{1}j\".format(self.real,self.imag))\n",
        "\n",
        "# Create a new ComplexNumber object\n",
        "c1 = ComplexNumber(2,3)\n",
        "\n",
        "# Call getData() function\n",
        "# Output: 2+3j\n",
        "c1.getData()\n",
        "\n",
        "# Create another ComplexNumber object\n",
        "# and create a new attribute 'attr'\n",
        "c2 = ComplexNumber(5)\n",
        "c2.attr = 10\n",
        "\n",
        "# Output: (5, 0, 10)\n",
        "print((c2.real, c2.imag, c2.attr))\n",
        "\n",
        "# but c1 object doesn't have attribute 'attr'\n",
        "# AttributeError: 'ComplexNumber' object has no attribute 'attr'\n",
        "c1.attr"
      ],
      "execution_count": 9,
      "outputs": [
        {
          "output_type": "stream",
          "text": [
            "2+3j\n",
            "(5, 0, 10)\n"
          ],
          "name": "stdout"
        },
        {
          "output_type": "error",
          "ename": "AttributeError",
          "evalue": "ignored",
          "traceback": [
            "\u001b[0;31m---------------------------------------------------------------------------\u001b[0m",
            "\u001b[0;31mAttributeError\u001b[0m                            Traceback (most recent call last)",
            "\u001b[0;32m<ipython-input-9-9d3ecdd4b177>\u001b[0m in \u001b[0;36m<module>\u001b[0;34m()\u001b[0m\n\u001b[1;32m     24\u001b[0m \u001b[0;31m# but c1 object doesn't have attribute 'attr'\u001b[0m\u001b[0;34m\u001b[0m\u001b[0;34m\u001b[0m\u001b[0;34m\u001b[0m\u001b[0m\n\u001b[1;32m     25\u001b[0m \u001b[0;31m# AttributeError: 'ComplexNumber' object has no attribute 'attr'\u001b[0m\u001b[0;34m\u001b[0m\u001b[0;34m\u001b[0m\u001b[0;34m\u001b[0m\u001b[0m\n\u001b[0;32m---> 26\u001b[0;31m \u001b[0mc1\u001b[0m\u001b[0;34m.\u001b[0m\u001b[0mattr\u001b[0m\u001b[0;34m\u001b[0m\u001b[0;34m\u001b[0m\u001b[0m\n\u001b[0m",
            "\u001b[0;31mAttributeError\u001b[0m: 'ComplexNumber' object has no attribute 'attr'"
          ]
        }
      ]
    },
    {
      "cell_type": "markdown",
      "metadata": {
        "id": "celMQUAr6xWP",
        "colab_type": "text"
      },
      "source": [
        "In the above example, we define a new class to represent complex numbers. It has two functions, **__init__()** to initialize the variables (defaults to zero) and **getData()** to display the number properly.\n",
        "\n",
        "An interesting thing to note in the above step is that attributes of an object can be created on the fly. We created a new attribute **attr** for object **c2** and we read it as well. But this did not create that attribute for object **c1**."
      ]
    },
    {
      "cell_type": "markdown",
      "metadata": {
        "id": "O_4JemGC67Ui",
        "colab_type": "text"
      },
      "source": [
        "# Deleting Attributes and Objects"
      ]
    }
  ]
}