{
  "nbformat": 4,
  "nbformat_minor": 0,
  "metadata": {
    "colab": {
      "name": "Lesson_two.ipynb",
      "version": "0.3.2",
      "provenance": [],
      "collapsed_sections": [],
      "include_colab_link": true
    },
    "kernelspec": {
      "name": "python3",
      "display_name": "Python 3"
    }
  },
  "cells": [
    {
      "cell_type": "markdown",
      "metadata": {
        "id": "view-in-github",
        "colab_type": "text"
      },
      "source": [
        "<a href=\"https://colab.research.google.com/github/unt-iialab/UNT-INFO5717-Fall2019/blob/master/Lesson%202/Lesson_two.ipynb\" target=\"_parent\"><img src=\"https://colab.research.google.com/assets/colab-badge.svg\" alt=\"Open In Colab\"/></a>"
      ]
    },
    {
      "cell_type": "markdown",
      "metadata": {
        "id": "P3AwudSkUK2Q",
        "colab_type": "text"
      },
      "source": [
        "This file give some examples for Lesson 2 "
      ]
    },
    {
      "cell_type": "markdown",
      "metadata": {
        "id": "eNnIWKTKVHpg",
        "colab_type": "text"
      },
      "source": [
        "# Execute Python Syntax\n",
        "print(\"Hello, World!\")\n",
        "Hello, World!\n",
        "\n",
        "C:\\Users\\Your Name>python myfile.py\n"
      ]
    },
    {
      "cell_type": "code",
      "metadata": {
        "id": "EEJwNx_0UYRt",
        "colab_type": "code",
        "outputId": "be4a950b-122f-467a-a888-75daaa40bd53",
        "colab": {
          "base_uri": "https://localhost:8080/",
          "height": 34
        }
      },
      "source": [
        "# Python Indentations: Where in other programming languages the indentation in code is for readability only, in Python the indentation is very important. Python uses indentation to indicate a block of code.\n",
        "if 5 > 2:\n",
        "  print(\"Five is greater than two!\")"
      ],
      "execution_count": 0,
      "outputs": [
        {
          "output_type": "stream",
          "text": [
            "Five is greater than two!\n"
          ],
          "name": "stdout"
        }
      ]
    },
    {
      "cell_type": "markdown",
      "metadata": {
        "id": "aWiQv0KBZCXW",
        "colab_type": "text"
      },
      "source": [
        "(1) Python Variables: integer, floats, booleans, strings "
      ]
    },
    {
      "cell_type": "code",
      "metadata": {
        "id": "3DYgtNDvaMut",
        "colab_type": "code",
        "outputId": "3b1a5a58-1de8-4f46-8fd6-c160bd585afd",
        "colab": {
          "base_uri": "https://localhost:8080/",
          "height": 153
        }
      },
      "source": [
        "### Define variables\n",
        "x = 5\n",
        "y = \"John\"\n",
        "z = 1000.0\n",
        "m = True\n",
        "print(x)\n",
        "print(type(x))\n",
        "print(y)\n",
        "print(type(y))\n",
        "print(z)\n",
        "print(type(z))\n",
        "print(m)\n",
        "print(type(m))"
      ],
      "execution_count": 0,
      "outputs": [
        {
          "output_type": "stream",
          "text": [
            "5\n",
            "<class 'int'>\n",
            "John\n",
            "<class 'str'>\n",
            "1000.0\n",
            "<class 'float'>\n",
            "True\n",
            "<class 'bool'>\n"
          ],
          "name": "stdout"
        }
      ]
    },
    {
      "cell_type": "code",
      "metadata": {
        "id": "iiMHHhjoemuz",
        "colab_type": "code",
        "outputId": "a73bc51e-ce1b-4e4c-beac-59fbcb148954",
        "colab": {
          "base_uri": "https://localhost:8080/",
          "height": 68
        }
      },
      "source": [
        "x = 4 # x is of type int\n",
        "print(type(x))\n",
        "x = \"Sally\" # x is now of type str\n",
        "print(x)\n",
        "print(type(x))"
      ],
      "execution_count": 0,
      "outputs": [
        {
          "output_type": "stream",
          "text": [
            "<class 'int'>\n",
            "Sally\n",
            "<class 'str'>\n"
          ],
          "name": "stdout"
        }
      ]
    },
    {
      "cell_type": "code",
      "metadata": {
        "id": "HfnlTcide2do",
        "colab_type": "code",
        "outputId": "b9ef922d-1c2a-4057-b054-d4e5fcca419e",
        "colab": {
          "base_uri": "https://localhost:8080/",
          "height": 51
        }
      },
      "source": [
        "x = \"John\"\n",
        "print(x)\n",
        "# is the same as\n",
        "x = 'John'\n",
        "print(x)"
      ],
      "execution_count": 0,
      "outputs": [
        {
          "output_type": "stream",
          "text": [
            "John\n",
            "John\n"
          ],
          "name": "stdout"
        }
      ]
    },
    {
      "cell_type": "markdown",
      "metadata": {
        "id": "m_u2j4x8ff1g",
        "colab_type": "text"
      },
      "source": [
        "# **Variable Names**\n",
        "\n",
        "A variable can have a short name (like x and y) or a more descriptive name (age, carname, total_volume). Rules for Python variables:\n",
        "\n",
        "*   A variable name must start with a letter or the underscore character\n",
        "*   A variable name cannot start with a number\n",
        "*   A variable name can only contain alpha-numeric characters and underscores (A-z, 0-9, and _ )\n",
        "*   Variable names are case-sensitive (age, Age and AGE are three different variables)\n",
        "\n"
      ]
    },
    {
      "cell_type": "markdown",
      "metadata": {
        "id": "HLSYNkVzgLrP",
        "colab_type": "text"
      },
      "source": [
        "Assign Value to Multiple Variables\n"
      ]
    },
    {
      "cell_type": "code",
      "metadata": {
        "id": "biUaz-UcfWiS",
        "colab_type": "code",
        "outputId": "84d0ce1d-fdc3-4b83-9201-3a7ec41031c1",
        "colab": {
          "base_uri": "https://localhost:8080/",
          "height": 136
        }
      },
      "source": [
        "x, y, z = \"Orange\", \"Banana\", \"Cherry\"\n",
        "print(x)\n",
        "print(y)\n",
        "print(z)\n",
        "\n",
        "print(\"--------------------------\")\n",
        "a = b = c = \"Orange\"\n",
        "print(a)\n",
        "print(b)\n",
        "print(c)"
      ],
      "execution_count": 0,
      "outputs": [
        {
          "output_type": "stream",
          "text": [
            "Orange\n",
            "Banana\n",
            "Cherry\n",
            "--------------------------\n",
            "Orange\n",
            "Orange\n",
            "Orange\n"
          ],
          "name": "stdout"
        }
      ]
    },
    {
      "cell_type": "markdown",
      "metadata": {
        "id": "Rfb_UiR3hOL-",
        "colab_type": "text"
      },
      "source": [
        "# Python Numbers\n",
        "There are three numeric types in Python:\n",
        "\n",
        "*   int\n",
        "*   float\n",
        "*   complex\n",
        "\n",
        "Variables of numeric types are created when you assign a value to them:\n",
        "\n",
        "\n",
        "\n"
      ]
    },
    {
      "cell_type": "code",
      "metadata": {
        "id": "ZPI130BshjDH",
        "colab_type": "code",
        "outputId": "c3f55ef9-b2c1-424b-b368-737f2a846087",
        "colab": {
          "base_uri": "https://localhost:8080/",
          "height": 272
        }
      },
      "source": [
        "# Example 1:\n",
        "\n",
        "x = 1    # int\n",
        "y = 2.8  # float\n",
        "z = 1j   # complex\n",
        "\n",
        "print(type(x))\n",
        "print(type(y))\n",
        "print(type(z))\n",
        "\n",
        "print(\"-------------------------------------\")\n",
        "\n",
        "\n",
        "# Example 2:\n",
        "\n",
        "x = 1\n",
        "y = 35656222554887711\n",
        "z = -3255522\n",
        "\n",
        "print(type(x))\n",
        "print(type(y))\n",
        "print(type(z))\n",
        "\n",
        "print(\"-------------------------------------\")\n",
        "\n",
        "# Example 3:\n",
        "\n",
        "\n",
        "x = 1.10\n",
        "y = 12E4\n",
        "z = -35.59\n",
        "\n",
        "print(type(x))\n",
        "print(type(y))\n",
        "print(type(z))\n",
        "\n",
        "print(\"-------------------------------------\")\n",
        "\n",
        "# Example 4:\n",
        "\n",
        "x = 3+5j\n",
        "y = 5j\n",
        "z = -5j\n",
        "\n",
        "print(type(x))\n",
        "print(type(y))\n",
        "print(type(z))\n"
      ],
      "execution_count": 0,
      "outputs": [
        {
          "output_type": "stream",
          "text": [
            "<class 'int'>\n",
            "<class 'float'>\n",
            "<class 'complex'>\n",
            "-------------------------------------\n",
            "<class 'int'>\n",
            "<class 'int'>\n",
            "<class 'int'>\n",
            "-------------------------------------\n",
            "<class 'float'>\n",
            "<class 'float'>\n",
            "<class 'float'>\n",
            "-------------------------------------\n",
            "<class 'complex'>\n",
            "<class 'complex'>\n",
            "<class 'complex'>\n"
          ],
          "name": "stdout"
        }
      ]
    },
    {
      "cell_type": "markdown",
      "metadata": {
        "id": "nGkFD16H9v87",
        "colab_type": "text"
      },
      "source": [
        "# Type Conversion\n",
        "You can convert from one type to another with the int(), float(), and complex() methods:"
      ]
    },
    {
      "cell_type": "code",
      "metadata": {
        "id": "ZDOvo8Da9_2v",
        "colab_type": "code",
        "outputId": "072f8a43-5f35-4987-dfbf-50e2a990f45d",
        "colab": {
          "base_uri": "https://localhost:8080/",
          "height": 119
        }
      },
      "source": [
        "# Convert from one type to another:\n",
        "\n",
        "x = 1 # int\n",
        "y = 2.8 # float\n",
        "z = 1j # complex\n",
        "\n",
        "#convert from int to float:\n",
        "a = float(x)\n",
        "\n",
        "#convert from float to int:\n",
        "b = int(y)\n",
        "\n",
        "#convert from int to complex:\n",
        "c = complex(x)\n",
        "\n",
        "print(a)\n",
        "print(b)\n",
        "print(c)\n",
        "\n",
        "print(type(a))\n",
        "print(type(b))\n",
        "print(type(c))"
      ],
      "execution_count": 0,
      "outputs": [
        {
          "output_type": "stream",
          "text": [
            "1.0\n",
            "2\n",
            "(1+0j)\n",
            "<class 'float'>\n",
            "<class 'int'>\n",
            "<class 'complex'>\n"
          ],
          "name": "stdout"
        }
      ]
    },
    {
      "cell_type": "markdown",
      "metadata": {
        "id": "ojSc2ajs-fz_",
        "colab_type": "text"
      },
      "source": [
        "# Random Number\n",
        "Python does not have a random() function to make a random number, but Python has a built-in module called random that can be used to make random numbers:"
      ]
    },
    {
      "cell_type": "code",
      "metadata": {
        "id": "vTQqhnVf-dHf",
        "colab_type": "code",
        "outputId": "4f87686c-f70a-40db-cfe8-c2d98ce37bf9",
        "colab": {
          "base_uri": "https://localhost:8080/",
          "height": 34
        }
      },
      "source": [
        "# Import the random module, and display a random number between 1 and 9:\n",
        "\n",
        "import random\n",
        "\n",
        "print(random.randrange(1,10))"
      ],
      "execution_count": 0,
      "outputs": [
        {
          "output_type": "stream",
          "text": [
            "4\n"
          ],
          "name": "stdout"
        }
      ]
    },
    {
      "cell_type": "markdown",
      "metadata": {
        "id": "A_bi3LU4_Wbv",
        "colab_type": "text"
      },
      "source": [
        "# Python Strings\n",
        "String literals in python are surrounded by either single quotation marks, or double quotation marks.\n",
        "'hello' is the same as \"hello\"."
      ]
    },
    {
      "cell_type": "code",
      "metadata": {
        "id": "LzG0gRIV_gmu",
        "colab_type": "code",
        "outputId": "25d91ee6-c165-4e5b-edf6-a7271dd8227f",
        "colab": {
          "base_uri": "https://localhost:8080/",
          "height": 170
        }
      },
      "source": [
        "# Example 1\n",
        "# Assign String to a Variable: Assigning a string to a variable is done with the variable name followed by an equal sign and the string:\n",
        "\n",
        "a = \"Hello\"\n",
        "print(a)\n",
        "\n",
        "# Example 2\n",
        "# Multiline Strings: assign a multiline string to a variable by using three quotes (three double quotes or three single quotes)\n",
        "b= \"\"\"Lorem ipsum dolor sit amet,\n",
        "consectetur adipiscing elit,\n",
        "sed do eiusmod tempor incididunt\n",
        "ut labore et dolore magna aliqua.\"\"\"\n",
        "print(b)\n",
        "c= '''Lorem ipsum dolor sit amet,\n",
        "consectetur adipiscing elit,\n",
        "sed do eiusmod tempor incididunt\n",
        "ut labore et dolore magna aliqua.'''\n",
        "print(c)"
      ],
      "execution_count": 0,
      "outputs": [
        {
          "output_type": "stream",
          "text": [
            "Hello\n",
            "Lorem ipsum dolor sit amet,\n",
            "consectetur adipiscing elit,\n",
            "sed do eiusmod tempor incididunt\n",
            "ut labore et dolore magna aliqua.\n",
            "Lorem ipsum dolor sit amet,\n",
            "consectetur adipiscing elit,\n",
            "sed do eiusmod tempor incididunt\n",
            "ut labore et dolore magna aliqua.\n"
          ],
          "name": "stdout"
        }
      ]
    },
    {
      "cell_type": "markdown",
      "metadata": {
        "id": "B2tsSlijA5uF",
        "colab_type": "text"
      },
      "source": [
        "Strings are Arrays"
      ]
    },
    {
      "cell_type": "code",
      "metadata": {
        "id": "yk4p7kJ4APPl",
        "colab_type": "code",
        "outputId": "c1ad9698-d8b6-4124-c2dc-02d22e7df869",
        "colab": {
          "base_uri": "https://localhost:8080/",
          "height": 170
        }
      },
      "source": [
        "# Example 3\n",
        "# Get the character at position 1 (remember that the first character has the position 0):\n",
        "a = \"Hello, World!\"\n",
        "print(a[1])\n",
        "\n",
        "print(\"-------------------------------------\")\n",
        " \n",
        "# Example 4\n",
        "# Substring. Get the characters from position 2 to position 5 (not included):\n",
        "b = \"Hello, World!\"\n",
        "print(b[2:5])\n",
        "\n",
        "print(\"-------------------------------------\")\n",
        "\n",
        "\n",
        "# Example 5\n",
        "# The strip() method removes any whitespace from the beginning or the end:\n",
        "c = \" Hello, World! \"\n",
        "print(c.strip()) # returns \"Hello, World!\"\n",
        "\n",
        "print(\"-------------------------------------\")\n",
        "\n",
        "\n",
        "# Example 6\n",
        "# The len() method returns the length of a string:\n",
        "\n",
        "d = \" Hello, World! \"\n",
        "print(a.strip()) # returns \"Hello, World!\"\n",
        "print(\"-------------------------------------\")\n",
        "\n",
        "\n",
        "# Example 6\n",
        "# The lower() method returns the string in lower case:\n",
        "\n",
        "a = \"Hello, World!\"\n",
        "print(a.lower())\n",
        "\n"
      ],
      "execution_count": 0,
      "outputs": [
        {
          "output_type": "stream",
          "text": [
            "e\n",
            "-------------------------------------\n",
            "llo\n",
            "-------------------------------------\n",
            "Hello, World!\n",
            "-------------------------------------\n",
            "Hello, World!\n",
            "-------------------------------------\n",
            "hello, world!\n"
          ],
          "name": "stdout"
        }
      ]
    },
    {
      "cell_type": "markdown",
      "metadata": {
        "id": "RiLmWpPqtEJx",
        "colab_type": "text"
      },
      "source": [
        "# Python Functions\n",
        "In the context of programming, a function is a named sequence of statements that performs a computation. When you define a function, you specify the name and the sequence of statements. Later, you can “call” the function by name.\n",
        "\n",
        "A function is a block of code which only runs when it is called. You can pass data, known as parameters, into a function. A function can return data as a result.\n"
      ]
    },
    {
      "cell_type": "code",
      "metadata": {
        "id": "GyRekMWXt8AR",
        "colab_type": "code",
        "colab": {
          "base_uri": "https://localhost:8080/",
          "height": 52
        },
        "outputId": "ad2933f3-d012-407c-980a-3feec7dfacdb"
      },
      "source": [
        "# Example 1: Creating a Function\n",
        "# In Python a function is defined using the def keyword:\n",
        "\n",
        "def my_function():\n",
        "  print(\"Hello from a function\")\n",
        "  print(\"-------------------------------------\")\n",
        "\n",
        "# Example 2: Calling a Function\n",
        "# To call a function, use the function name followed by parenthesis:\n",
        "\n",
        "def my_function_1():\n",
        "  print(\"Hello from a function\")\n",
        "  print(\"*************************************\")\n",
        "\n",
        "my_function_1()\n",
        "\n"
      ],
      "execution_count": 3,
      "outputs": [
        {
          "output_type": "stream",
          "text": [
            "Hello from a function\n",
            "*************************************\n"
          ],
          "name": "stdout"
        }
      ]
    },
    {
      "cell_type": "markdown",
      "metadata": {
        "id": "CBKvoWsLpmwM",
        "colab_type": "text"
      },
      "source": [
        "# **Excise for assignent one (Exercise 8-5):**\n",
        "\n",
        "A Caesar cypher is a weak form of encryption that involves “rotating” each letter by a fixed number of places. To rotate a letter means to shift it through the alphabet, wrapping around to the beginning if necessary, so ’A’ rotated by 3 is ’D’ and ’Z’ rotated by 1 is ’A’.\n",
        "\n",
        "To rotate a word, rotate each letter by the same amount. For example, “cheer” rotated by 7 is “jolly” and “melon” rotated by -10 is “cubed”. In the movie 2001: A Space Odyssey, the ship computer is called HAL, which is IBM rotated by -1.\n",
        "\n",
        "Write a function called rotate_word that takes a string and an integer as parameters, and returns a new string that contains the letters from the original string rotated by the given amount.\n",
        "\n",
        "You might want to use the built-in function ord, which converts a character to a numeric code, and chr, which converts numeric codes to characters. Letters of the alphabet are encoded in alphabetical order, so for example:\n",
        "\n",
        "\\>>>ord('c') - ord('a')\n",
        "\n",
        "2\n",
        "\n",
        "Because 'c' is the two-eth letter of the alphabet. But beware: the numeric codes for upper case letters are different.\n",
        "\n",
        "Potentially offensive jokes on the Internet are sometimes encoded in ROT13, which is a Caesar cypher with rotation 13. If you are not easily offended, find and decode some of them.\n",
        "\n",
        "**Solution:**\n",
        "http://thinkpython2.com/code/rotate.py.\n"
      ]
    },
    {
      "cell_type": "code",
      "metadata": {
        "id": "Ytp-yHT6rQyl",
        "colab_type": "code",
        "colab": {
          "base_uri": "https://localhost:8080/",
          "height": 69
        },
        "outputId": "d2fd467f-edba-4c6c-fd8d-9ebaccc5b107"
      },
      "source": [
        "\"\"\"This module contains a code example related to\n",
        "\n",
        "Think Python, 2nd Edition\n",
        "by Allen Downey\n",
        "http://thinkpython2.com\n",
        "\n",
        "Copyright 2015 Allen Downey\n",
        "\n",
        "License: http://creativecommons.org/licenses/by/4.0/\n",
        "\"\"\"\n",
        "\n",
        "from __future__ import print_function, division\n",
        "\n",
        "\n",
        "def rotate_letter(letter, n):\n",
        "    \"\"\"Rotates a letter by n places.  Does not change other chars.\n",
        "\n",
        "    letter: single-letter string\n",
        "    n: int\n",
        "\n",
        "    Returns: single-letter string\n",
        "    \"\"\"\n",
        "    if letter.isupper():\n",
        "        start = ord('A')\n",
        "    elif letter.islower():\n",
        "        start = ord('a')\n",
        "    else:\n",
        "        return letter\n",
        "\n",
        "    c = ord(letter) - start\n",
        "    i = (c + n) % 26 + start\n",
        "    return chr(i)\n",
        "\n",
        "\n",
        "def rotate_word(word, n):\n",
        "    \"\"\"Rotates a word by n places.\n",
        "\n",
        "    word: string\n",
        "    n: integer\n",
        "\n",
        "    Returns: string\n",
        "    \"\"\"\n",
        "    res = ''\n",
        "    for letter in word:\n",
        "        res += rotate_letter(letter, n)\n",
        "    return res\n",
        "\n",
        "\n",
        "if __name__ == '__main__':\n",
        "    print(rotate_word('cheer', 7))\n",
        "    print(rotate_word('melon', -10))\n",
        "    print(rotate_word('sleep', 9))"
      ],
      "execution_count": 1,
      "outputs": [
        {
          "output_type": "stream",
          "text": [
            "jolly\n",
            "cubed\n",
            "bunny\n"
          ],
          "name": "stdout"
        }
      ]
    }
  ]
}