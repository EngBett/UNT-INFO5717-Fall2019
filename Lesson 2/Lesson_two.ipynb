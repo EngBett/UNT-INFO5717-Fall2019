{
  "nbformat": 4,
  "nbformat_minor": 0,
  "metadata": {
    "colab": {
      "name": "Lesson_two.ipynb",
      "version": "0.3.2",
      "provenance": [],
      "collapsed_sections": [],
      "include_colab_link": true
    },
    "kernelspec": {
      "name": "python3",
      "display_name": "Python 3"
    }
  },
  "cells": [
    {
      "cell_type": "markdown",
      "metadata": {
        "id": "view-in-github",
        "colab_type": "text"
      },
      "source": [
        "<a href=\"https://colab.research.google.com/github/unt-iialab/UNT-INFO5717-Fall2019/blob/master/Lesson%202/Lesson_two.ipynb\" target=\"_parent\"><img src=\"https://colab.research.google.com/assets/colab-badge.svg\" alt=\"Open In Colab\"/></a>"
      ]
    },
    {
      "cell_type": "markdown",
      "metadata": {
        "id": "P3AwudSkUK2Q",
        "colab_type": "text"
      },
      "source": [
        "This file give some examples for Lesson 2 "
      ]
    },
    {
      "cell_type": "markdown",
      "metadata": {
        "id": "eNnIWKTKVHpg",
        "colab_type": "text"
      },
      "source": [
        "Execute Python Syntax\n",
        "\n",
        "print(\"Hello, World!\")\n",
        "Hello, World!\n",
        "\n",
        "C:\\Users\\Your Name>python myfile.py\n"
      ]
    },
    {
      "cell_type": "code",
      "metadata": {
        "id": "EEJwNx_0UYRt",
        "colab_type": "code",
        "outputId": "be4a950b-122f-467a-a888-75daaa40bd53",
        "colab": {
          "base_uri": "https://localhost:8080/",
          "height": 34
        }
      },
      "source": [
        "# Python Indentations: Where in other programming languages the indentation in code is for readability only, in Python the indentation is very important. Python uses indentation to indicate a block of code.\n",
        "if 5 > 2:\n",
        "  print(\"Five is greater than two!\")"
      ],
      "execution_count": 0,
      "outputs": [
        {
          "output_type": "stream",
          "text": [
            "Five is greater than two!\n"
          ],
          "name": "stdout"
        }
      ]
    },
    {
      "cell_type": "markdown",
      "metadata": {
        "id": "aWiQv0KBZCXW",
        "colab_type": "text"
      },
      "source": [
        "(1) Python Variables: integer, floats, booleans, strings "
      ]
    },
    {
      "cell_type": "code",
      "metadata": {
        "id": "3DYgtNDvaMut",
        "colab_type": "code",
        "outputId": "3b1a5a58-1de8-4f46-8fd6-c160bd585afd",
        "colab": {
          "base_uri": "https://localhost:8080/",
          "height": 153
        }
      },
      "source": [
        "### Define variables\n",
        "x = 5\n",
        "y = \"John\"\n",
        "z = 1000.0\n",
        "m = True\n",
        "print(x)\n",
        "print(type(x))\n",
        "print(y)\n",
        "print(type(y))\n",
        "print(z)\n",
        "print(type(z))\n",
        "print(m)\n",
        "print(type(m))"
      ],
      "execution_count": 0,
      "outputs": [
        {
          "output_type": "stream",
          "text": [
            "5\n",
            "<class 'int'>\n",
            "John\n",
            "<class 'str'>\n",
            "1000.0\n",
            "<class 'float'>\n",
            "True\n",
            "<class 'bool'>\n"
          ],
          "name": "stdout"
        }
      ]
    },
    {
      "cell_type": "code",
      "metadata": {
        "id": "iiMHHhjoemuz",
        "colab_type": "code",
        "outputId": "a73bc51e-ce1b-4e4c-beac-59fbcb148954",
        "colab": {
          "base_uri": "https://localhost:8080/",
          "height": 68
        }
      },
      "source": [
        "x = 4 # x is of type int\n",
        "print(type(x))\n",
        "x = \"Sally\" # x is now of type str\n",
        "print(x)\n",
        "print(type(x))"
      ],
      "execution_count": 0,
      "outputs": [
        {
          "output_type": "stream",
          "text": [
            "<class 'int'>\n",
            "Sally\n",
            "<class 'str'>\n"
          ],
          "name": "stdout"
        }
      ]
    },
    {
      "cell_type": "code",
      "metadata": {
        "id": "HfnlTcide2do",
        "colab_type": "code",
        "outputId": "b9ef922d-1c2a-4057-b054-d4e5fcca419e",
        "colab": {
          "base_uri": "https://localhost:8080/",
          "height": 51
        }
      },
      "source": [
        "x = \"John\"\n",
        "print(x)\n",
        "# is the same as\n",
        "x = 'John'\n",
        "print(x)"
      ],
      "execution_count": 0,
      "outputs": [
        {
          "output_type": "stream",
          "text": [
            "John\n",
            "John\n"
          ],
          "name": "stdout"
        }
      ]
    }
  ]
}